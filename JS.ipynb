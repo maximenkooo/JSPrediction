{
 "cells": [
  {
   "cell_type": "markdown",
   "metadata": {},
   "source": [
    "# Fraud classification"
   ]
  },
  {
   "cell_type": "code",
   "execution_count": 177,
   "metadata": {},
   "outputs": [
    {
     "data": {
      "text/html": [
       "        <script type=\"text/javascript\">\n",
       "        window.PlotlyConfig = {MathJaxConfig: 'local'};\n",
       "        if (window.MathJax) {MathJax.Hub.Config({SVG: {font: \"STIX-Web\"}});}\n",
       "        if (typeof require !== 'undefined') {\n",
       "        require.undef(\"plotly\");\n",
       "        requirejs.config({\n",
       "            paths: {\n",
       "                'plotly': ['https://cdn.plot.ly/plotly-latest.min']\n",
       "            }\n",
       "        });\n",
       "        require(['plotly'], function(Plotly) {\n",
       "            window._Plotly = Plotly;\n",
       "        });\n",
       "        }\n",
       "        </script>\n",
       "        "
      ]
     },
     "metadata": {},
     "output_type": "display_data"
    }
   ],
   "source": [
    "import pandas as pd\n",
    "import pandas_profiling\n",
    "import numpy as np\n",
    "import seaborn as sns\n",
    "from sklearn.linear_model import LogisticRegression \n",
    "from sklearn.ensemble import RandomForestClassifier, AdaBoostClassifier,GradientBoostingClassifier\n",
    "from sklearn.model_selection import cross_val_score,KFold,cross_validate,train_test_split\n",
    "from sklearn.manifold import TSNE\n",
    "from sklearn.preprocessing import StandardScaler\n",
    "import matplotlib.pyplot as plt\n",
    "from sklearn.linear_model import LogisticRegression\n",
    "from sklearn.tree import export_graphviz,DecisionTreeClassifier\n",
    "from sklearn.neighbors import KNeighborsClassifier\n",
    "from sklearn.svm import SVC\n",
    "from sklearn.ensemble import BaggingClassifier,AdaBoostClassifier,RandomForestClassifier\n",
    "from lightgbm import LGBMClassifier\n",
    "from xgboost import XGBClassifier  \n",
    "from sklearn.cluster import KMeans\n",
    "from datetime import datetime\n",
    "from sklearn.metrics import confusion_matrix, roc_auc_score, roc_curve, auc, classification_report\n",
    "\n",
    "from sklearn.externals import joblib  \n",
    "import plotly.graph_objs as go#visualization\n",
    "from plotly.offline import download_plotlyjs, init_notebook_mode, plot, iplot\n",
    "import plotly\n",
    "init_notebook_mode(connected=True)\n",
    "\n",
    "import eli5\n",
    "from IPython.display import Image"
   ]
  },
  {
   "cell_type": "code",
   "execution_count": 2,
   "metadata": {},
   "outputs": [],
   "source": [
    "import sys\n",
    "import warnings\n",
    "\n",
    "if not sys.warnoptions:\n",
    "    warnings.simplefilter(\"ignore\")"
   ]
  },
  {
   "cell_type": "code",
   "execution_count": 212,
   "metadata": {},
   "outputs": [],
   "source": [
    "df = pd.read_csv('20170504_test_download.csv', sep='\\t',error_bad_lines=False)\n",
    "pd.options.display.max_columns = 200"
   ]
  },
  {
   "cell_type": "code",
   "execution_count": 4,
   "metadata": {},
   "outputs": [
    {
     "data": {
      "text/plain": [
       "(84130, 161)"
      ]
     },
     "execution_count": 4,
     "metadata": {},
     "output_type": "execute_result"
    }
   ],
   "source": [
    "df.shape"
   ]
  },
  {
   "cell_type": "code",
   "execution_count": 213,
   "metadata": {},
   "outputs": [
    {
     "data": {
      "text/html": [
       "<div>\n",
       "<style scoped>\n",
       "    .dataframe tbody tr th:only-of-type {\n",
       "        vertical-align: middle;\n",
       "    }\n",
       "\n",
       "    .dataframe tbody tr th {\n",
       "        vertical-align: top;\n",
       "    }\n",
       "\n",
       "    .dataframe thead th {\n",
       "        text-align: right;\n",
       "    }\n",
       "</style>\n",
       "<table border=\"1\" class=\"dataframe\">\n",
       "  <thead>\n",
       "    <tr style=\"text-align: right;\">\n",
       "      <th></th>\n",
       "      <th>account_id</th>\n",
       "      <th>client_id</th>\n",
       "      <th>time_msw</th>\n",
       "      <th>test_cr_decision</th>\n",
       "      <th>test_cr_performance</th>\n",
       "      <th>dep_var</th>\n",
       "      <th>month_verif</th>\n",
       "      <th>var1</th>\n",
       "      <th>var2</th>\n",
       "      <th>var3</th>\n",
       "      <th>var4</th>\n",
       "      <th>var5</th>\n",
       "      <th>var6</th>\n",
       "      <th>var7</th>\n",
       "      <th>var8</th>\n",
       "      <th>var9</th>\n",
       "      <th>var10</th>\n",
       "      <th>var11</th>\n",
       "      <th>var12</th>\n",
       "      <th>var13</th>\n",
       "      <th>var14</th>\n",
       "      <th>var15</th>\n",
       "      <th>var16</th>\n",
       "      <th>var17</th>\n",
       "      <th>var18</th>\n",
       "      <th>var19</th>\n",
       "      <th>var20</th>\n",
       "      <th>var21</th>\n",
       "      <th>var22</th>\n",
       "      <th>var23</th>\n",
       "      <th>var24</th>\n",
       "      <th>var25</th>\n",
       "      <th>var26</th>\n",
       "      <th>var27</th>\n",
       "      <th>var28</th>\n",
       "      <th>var29</th>\n",
       "      <th>var30</th>\n",
       "      <th>var31</th>\n",
       "      <th>var32</th>\n",
       "      <th>var33</th>\n",
       "      <th>var34</th>\n",
       "      <th>var35</th>\n",
       "      <th>var36</th>\n",
       "      <th>var37</th>\n",
       "      <th>var38</th>\n",
       "      <th>var39</th>\n",
       "      <th>var40</th>\n",
       "      <th>var41</th>\n",
       "      <th>var42</th>\n",
       "      <th>var43</th>\n",
       "      <th>var44</th>\n",
       "      <th>var45</th>\n",
       "      <th>var46</th>\n",
       "      <th>var47</th>\n",
       "      <th>var48</th>\n",
       "      <th>var49</th>\n",
       "      <th>var50</th>\n",
       "      <th>var51</th>\n",
       "      <th>var52</th>\n",
       "      <th>var53</th>\n",
       "      <th>var54</th>\n",
       "      <th>var55</th>\n",
       "      <th>var56</th>\n",
       "      <th>var57</th>\n",
       "      <th>var58</th>\n",
       "      <th>var59</th>\n",
       "      <th>var60</th>\n",
       "      <th>var61</th>\n",
       "      <th>var62</th>\n",
       "      <th>var63</th>\n",
       "      <th>var64</th>\n",
       "      <th>var65</th>\n",
       "      <th>var66</th>\n",
       "      <th>var67</th>\n",
       "      <th>var68</th>\n",
       "      <th>var69</th>\n",
       "      <th>var70</th>\n",
       "      <th>var71</th>\n",
       "      <th>var72</th>\n",
       "      <th>var73</th>\n",
       "      <th>var74</th>\n",
       "      <th>var75</th>\n",
       "      <th>var76</th>\n",
       "      <th>var77</th>\n",
       "      <th>var78</th>\n",
       "      <th>var79</th>\n",
       "      <th>var80</th>\n",
       "      <th>var81</th>\n",
       "      <th>var82</th>\n",
       "      <th>var83</th>\n",
       "      <th>var84</th>\n",
       "      <th>var85</th>\n",
       "      <th>var86</th>\n",
       "      <th>var87</th>\n",
       "      <th>var88</th>\n",
       "      <th>var89</th>\n",
       "      <th>var90</th>\n",
       "      <th>var91</th>\n",
       "      <th>var92</th>\n",
       "      <th>var93</th>\n",
       "      <th>var94</th>\n",
       "      <th>var95</th>\n",
       "      <th>var96</th>\n",
       "      <th>var97</th>\n",
       "      <th>var98</th>\n",
       "      <th>var99</th>\n",
       "      <th>var100</th>\n",
       "      <th>var101</th>\n",
       "      <th>var102</th>\n",
       "      <th>var103</th>\n",
       "      <th>var104</th>\n",
       "      <th>var105</th>\n",
       "      <th>var106</th>\n",
       "      <th>var107</th>\n",
       "      <th>var108</th>\n",
       "      <th>var109</th>\n",
       "      <th>var110</th>\n",
       "      <th>var111</th>\n",
       "      <th>var112</th>\n",
       "      <th>var113</th>\n",
       "      <th>var114</th>\n",
       "      <th>var115</th>\n",
       "      <th>var116</th>\n",
       "      <th>var117</th>\n",
       "      <th>var118</th>\n",
       "      <th>var119</th>\n",
       "      <th>var120</th>\n",
       "      <th>var121</th>\n",
       "      <th>var122</th>\n",
       "      <th>var123</th>\n",
       "      <th>var124</th>\n",
       "      <th>var125</th>\n",
       "      <th>var126</th>\n",
       "      <th>var127</th>\n",
       "      <th>var128</th>\n",
       "      <th>var129</th>\n",
       "      <th>var130</th>\n",
       "      <th>var131</th>\n",
       "      <th>var132</th>\n",
       "      <th>var133</th>\n",
       "      <th>var134</th>\n",
       "      <th>var135</th>\n",
       "      <th>var136</th>\n",
       "      <th>var137</th>\n",
       "      <th>var138</th>\n",
       "      <th>var139</th>\n",
       "      <th>var140</th>\n",
       "      <th>var141</th>\n",
       "      <th>var142</th>\n",
       "      <th>var143</th>\n",
       "      <th>var144</th>\n",
       "      <th>var145</th>\n",
       "      <th>var146</th>\n",
       "      <th>var147</th>\n",
       "      <th>var148</th>\n",
       "      <th>var149</th>\n",
       "      <th>var150</th>\n",
       "      <th>var151</th>\n",
       "      <th>var152</th>\n",
       "      <th>var153</th>\n",
       "      <th>var154</th>\n",
       "    </tr>\n",
       "  </thead>\n",
       "  <tbody>\n",
       "    <tr>\n",
       "      <th>0</th>\n",
       "      <td>Company2</td>\n",
       "      <td>211804</td>\n",
       "      <td>2016-09-01 00:11:59</td>\n",
       "      <td>RJC</td>\n",
       "      <td>NaN</td>\n",
       "      <td>NaN</td>\n",
       "      <td>201609</td>\n",
       "      <td>1.0</td>\n",
       "      <td>1</td>\n",
       "      <td>1.0</td>\n",
       "      <td>0.0</td>\n",
       "      <td>1</td>\n",
       "      <td>0</td>\n",
       "      <td>1</td>\n",
       "      <td>0</td>\n",
       "      <td>0</td>\n",
       "      <td>0</td>\n",
       "      <td>0</td>\n",
       "      <td>0</td>\n",
       "      <td>0</td>\n",
       "      <td>0</td>\n",
       "      <td>0</td>\n",
       "      <td>0</td>\n",
       "      <td>0</td>\n",
       "      <td>0</td>\n",
       "      <td>0</td>\n",
       "      <td>0</td>\n",
       "      <td>0</td>\n",
       "      <td>0</td>\n",
       "      <td>0</td>\n",
       "      <td>0</td>\n",
       "      <td>0</td>\n",
       "      <td>0</td>\n",
       "      <td>0</td>\n",
       "      <td>0</td>\n",
       "      <td>0</td>\n",
       "      <td>0</td>\n",
       "      <td>0</td>\n",
       "      <td>0</td>\n",
       "      <td>0</td>\n",
       "      <td>0</td>\n",
       "      <td>0</td>\n",
       "      <td>1</td>\n",
       "      <td>1</td>\n",
       "      <td>1</td>\n",
       "      <td>14</td>\n",
       "      <td>0</td>\n",
       "      <td>36.0</td>\n",
       "      <td>0.0</td>\n",
       "      <td>3.0</td>\n",
       "      <td>2.0</td>\n",
       "      <td>0.250</td>\n",
       "      <td>ISP</td>\n",
       "      <td>0</td>\n",
       "      <td>0</td>\n",
       "      <td>0</td>\n",
       "      <td>1</td>\n",
       "      <td>1</td>\n",
       "      <td>9</td>\n",
       "      <td>0</td>\n",
       "      <td>0</td>\n",
       "      <td>0</td>\n",
       "      <td>0</td>\n",
       "      <td>0</td>\n",
       "      <td>0</td>\n",
       "      <td>NaN</td>\n",
       "      <td>0</td>\n",
       "      <td>1.0</td>\n",
       "      <td>2015-12-31 00:00:00</td>\n",
       "      <td>NaN</td>\n",
       "      <td>f</td>\n",
       "      <td>f</td>\n",
       "      <td>f</td>\n",
       "      <td>f</td>\n",
       "      <td>f</td>\n",
       "      <td>f</td>\n",
       "      <td>f</td>\n",
       "      <td>NaN</td>\n",
       "      <td>NaN</td>\n",
       "      <td>Mobile Phone</td>\n",
       "      <td>Apple</td>\n",
       "      <td>iPhone</td>\n",
       "      <td>iPhone</td>\n",
       "      <td>Apple</td>\n",
       "      <td>2007.0</td>\n",
       "      <td>t</td>\n",
       "      <td>t</td>\n",
       "      <td>320.0</td>\n",
       "      <td>480.0</td>\n",
       "      <td>3.5</td>\n",
       "      <td>165.0</td>\n",
       "      <td>24.0</td>\n",
       "      <td>f</td>\n",
       "      <td>2.0</td>\n",
       "      <td>t</td>\n",
       "      <td>f</td>\n",
       "      <td>f</td>\n",
       "      <td>f</td>\n",
       "      <td>f</td>\n",
       "      <td>f</td>\n",
       "      <td>f</td>\n",
       "      <td>t</td>\n",
       "      <td>t</td>\n",
       "      <td>f</td>\n",
       "      <td>f</td>\n",
       "      <td>f</td>\n",
       "      <td>f</td>\n",
       "      <td>f</td>\n",
       "      <td>NaN</td>\n",
       "      <td>NaN</td>\n",
       "      <td>NaN</td>\n",
       "      <td>iOS</td>\n",
       "      <td>9_3_4</td>\n",
       "      <td>iPhone OS</td>\n",
       "      <td>NaN</td>\n",
       "      <td>Safari</td>\n",
       "      <td>9.0</td>\n",
       "      <td>WebKit</td>\n",
       "      <td>t</td>\n",
       "      <td>t</td>\n",
       "      <td>f</td>\n",
       "      <td>t</td>\n",
       "      <td>1</td>\n",
       "      <td>0</td>\n",
       "      <td>t</td>\n",
       "      <td>t</td>\n",
       "      <td>t</td>\n",
       "      <td>t</td>\n",
       "      <td>t</td>\n",
       "      <td>t</td>\n",
       "      <td>t</td>\n",
       "      <td>t</td>\n",
       "      <td>t</td>\n",
       "      <td>t</td>\n",
       "      <td>t</td>\n",
       "      <td>f</td>\n",
       "      <td>t</td>\n",
       "      <td>t</td>\n",
       "      <td>f</td>\n",
       "      <td>t</td>\n",
       "      <td>t</td>\n",
       "      <td>t</td>\n",
       "      <td>t</td>\n",
       "      <td>t</td>\n",
       "      <td>t</td>\n",
       "      <td>t</td>\n",
       "      <td>NaN</td>\n",
       "      <td>NaN</td>\n",
       "      <td>NaN</td>\n",
       "      <td>NaN</td>\n",
       "      <td>NaN</td>\n",
       "      <td>NaN</td>\n",
       "      <td>NaN</td>\n",
       "      <td>NaN</td>\n",
       "      <td>NaN</td>\n",
       "      <td>NaN</td>\n",
       "      <td>NaN</td>\n",
       "      <td>0</td>\n",
       "      <td>0</td>\n",
       "      <td>0</td>\n",
       "      <td>3</td>\n",
       "    </tr>\n",
       "    <tr>\n",
       "      <th>1</th>\n",
       "      <td>Company2</td>\n",
       "      <td>211807</td>\n",
       "      <td>2016-09-01 00:19:46</td>\n",
       "      <td>APR</td>\n",
       "      <td>OK</td>\n",
       "      <td>0.0</td>\n",
       "      <td>201609</td>\n",
       "      <td>1.0</td>\n",
       "      <td>1</td>\n",
       "      <td>1.0</td>\n",
       "      <td>1.0</td>\n",
       "      <td>1</td>\n",
       "      <td>0</td>\n",
       "      <td>1</td>\n",
       "      <td>0</td>\n",
       "      <td>0</td>\n",
       "      <td>0</td>\n",
       "      <td>0</td>\n",
       "      <td>0</td>\n",
       "      <td>0</td>\n",
       "      <td>0</td>\n",
       "      <td>0</td>\n",
       "      <td>0</td>\n",
       "      <td>1</td>\n",
       "      <td>3</td>\n",
       "      <td>2</td>\n",
       "      <td>0</td>\n",
       "      <td>1</td>\n",
       "      <td>1</td>\n",
       "      <td>0</td>\n",
       "      <td>0</td>\n",
       "      <td>0</td>\n",
       "      <td>0</td>\n",
       "      <td>0</td>\n",
       "      <td>0</td>\n",
       "      <td>0</td>\n",
       "      <td>0</td>\n",
       "      <td>0</td>\n",
       "      <td>1</td>\n",
       "      <td>0</td>\n",
       "      <td>0</td>\n",
       "      <td>0</td>\n",
       "      <td>1</td>\n",
       "      <td>0</td>\n",
       "      <td>0</td>\n",
       "      <td>9</td>\n",
       "      <td>0</td>\n",
       "      <td>19.0</td>\n",
       "      <td>0.0</td>\n",
       "      <td>1.0</td>\n",
       "      <td>2.0</td>\n",
       "      <td>0.400</td>\n",
       "      <td>ISP</td>\n",
       "      <td>0</td>\n",
       "      <td>0</td>\n",
       "      <td>0</td>\n",
       "      <td>1</td>\n",
       "      <td>0</td>\n",
       "      <td>4</td>\n",
       "      <td>0</td>\n",
       "      <td>0</td>\n",
       "      <td>0</td>\n",
       "      <td>0</td>\n",
       "      <td>1</td>\n",
       "      <td>2</td>\n",
       "      <td>NaN</td>\n",
       "      <td>0</td>\n",
       "      <td>NaN</td>\n",
       "      <td>2017-03-31 00:00:00</td>\n",
       "      <td>NaN</td>\n",
       "      <td>f</td>\n",
       "      <td>f</td>\n",
       "      <td>f</td>\n",
       "      <td>f</td>\n",
       "      <td>f</td>\n",
       "      <td>f</td>\n",
       "      <td>t</td>\n",
       "      <td>NaN</td>\n",
       "      <td>NaN</td>\n",
       "      <td>Desktop</td>\n",
       "      <td>Google</td>\n",
       "      <td>Chrome - Windows</td>\n",
       "      <td>NaN</td>\n",
       "      <td>NaN</td>\n",
       "      <td>NaN</td>\n",
       "      <td>f</td>\n",
       "      <td>f</td>\n",
       "      <td>NaN</td>\n",
       "      <td>NaN</td>\n",
       "      <td>NaN</td>\n",
       "      <td>NaN</td>\n",
       "      <td>NaN</td>\n",
       "      <td>NaN</td>\n",
       "      <td>NaN</td>\n",
       "      <td>f</td>\n",
       "      <td>f</td>\n",
       "      <td>f</td>\n",
       "      <td>f</td>\n",
       "      <td>f</td>\n",
       "      <td>f</td>\n",
       "      <td>f</td>\n",
       "      <td>NaN</td>\n",
       "      <td>NaN</td>\n",
       "      <td>NaN</td>\n",
       "      <td>NaN</td>\n",
       "      <td>NaN</td>\n",
       "      <td>NaN</td>\n",
       "      <td>NaN</td>\n",
       "      <td>NaN</td>\n",
       "      <td>NaN</td>\n",
       "      <td>NaN</td>\n",
       "      <td>Windows 8.1</td>\n",
       "      <td>NT 6.3</td>\n",
       "      <td>NaN</td>\n",
       "      <td>NaN</td>\n",
       "      <td>Chrome</td>\n",
       "      <td>52.0.2743.116</td>\n",
       "      <td>WebKit</td>\n",
       "      <td>NaN</td>\n",
       "      <td>NaN</td>\n",
       "      <td>NaN</td>\n",
       "      <td>NaN</td>\n",
       "      <td>1</td>\n",
       "      <td>1</td>\n",
       "      <td>NaN</td>\n",
       "      <td>NaN</td>\n",
       "      <td>NaN</td>\n",
       "      <td>NaN</td>\n",
       "      <td>NaN</td>\n",
       "      <td>NaN</td>\n",
       "      <td>NaN</td>\n",
       "      <td>NaN</td>\n",
       "      <td>NaN</td>\n",
       "      <td>NaN</td>\n",
       "      <td>NaN</td>\n",
       "      <td>NaN</td>\n",
       "      <td>NaN</td>\n",
       "      <td>NaN</td>\n",
       "      <td>NaN</td>\n",
       "      <td>NaN</td>\n",
       "      <td>NaN</td>\n",
       "      <td>NaN</td>\n",
       "      <td>NaN</td>\n",
       "      <td>NaN</td>\n",
       "      <td>NaN</td>\n",
       "      <td>NaN</td>\n",
       "      <td>NaN</td>\n",
       "      <td>NaN</td>\n",
       "      <td>NaN</td>\n",
       "      <td>NaN</td>\n",
       "      <td>NaN</td>\n",
       "      <td>NaN</td>\n",
       "      <td>NaN</td>\n",
       "      <td>NaN</td>\n",
       "      <td>NaN</td>\n",
       "      <td>NaN</td>\n",
       "      <td>NaN</td>\n",
       "      <td>0</td>\n",
       "      <td>0</td>\n",
       "      <td>0</td>\n",
       "      <td>7</td>\n",
       "    </tr>\n",
       "    <tr>\n",
       "      <th>2</th>\n",
       "      <td>Company2</td>\n",
       "      <td>211808</td>\n",
       "      <td>2016-09-01 00:25:44</td>\n",
       "      <td>RJC</td>\n",
       "      <td>NaN</td>\n",
       "      <td>NaN</td>\n",
       "      <td>201609</td>\n",
       "      <td>1.0</td>\n",
       "      <td>1</td>\n",
       "      <td>1.0</td>\n",
       "      <td>1.0</td>\n",
       "      <td>1</td>\n",
       "      <td>0</td>\n",
       "      <td>1</td>\n",
       "      <td>0</td>\n",
       "      <td>0</td>\n",
       "      <td>0</td>\n",
       "      <td>0</td>\n",
       "      <td>0</td>\n",
       "      <td>0</td>\n",
       "      <td>0</td>\n",
       "      <td>0</td>\n",
       "      <td>0</td>\n",
       "      <td>0</td>\n",
       "      <td>0</td>\n",
       "      <td>0</td>\n",
       "      <td>0</td>\n",
       "      <td>0</td>\n",
       "      <td>0</td>\n",
       "      <td>0</td>\n",
       "      <td>0</td>\n",
       "      <td>0</td>\n",
       "      <td>0</td>\n",
       "      <td>0</td>\n",
       "      <td>0</td>\n",
       "      <td>0</td>\n",
       "      <td>0</td>\n",
       "      <td>0</td>\n",
       "      <td>0</td>\n",
       "      <td>0</td>\n",
       "      <td>0</td>\n",
       "      <td>0</td>\n",
       "      <td>1</td>\n",
       "      <td>0</td>\n",
       "      <td>0</td>\n",
       "      <td>6</td>\n",
       "      <td>0</td>\n",
       "      <td>34.0</td>\n",
       "      <td>0.0</td>\n",
       "      <td>0.0</td>\n",
       "      <td>2.0</td>\n",
       "      <td>0.375</td>\n",
       "      <td>ISP</td>\n",
       "      <td>0</td>\n",
       "      <td>0</td>\n",
       "      <td>0</td>\n",
       "      <td>1</td>\n",
       "      <td>0</td>\n",
       "      <td>3</td>\n",
       "      <td>0</td>\n",
       "      <td>0</td>\n",
       "      <td>0</td>\n",
       "      <td>0</td>\n",
       "      <td>0</td>\n",
       "      <td>0</td>\n",
       "      <td>NaN</td>\n",
       "      <td>0</td>\n",
       "      <td>NaN</td>\n",
       "      <td>2016-06-30 00:00:00</td>\n",
       "      <td>NaN</td>\n",
       "      <td>f</td>\n",
       "      <td>f</td>\n",
       "      <td>f</td>\n",
       "      <td>f</td>\n",
       "      <td>f</td>\n",
       "      <td>f</td>\n",
       "      <td>t</td>\n",
       "      <td>NaN</td>\n",
       "      <td>NaN</td>\n",
       "      <td>Desktop</td>\n",
       "      <td>Yandex</td>\n",
       "      <td>Yandex.Browser - Windows</td>\n",
       "      <td>NaN</td>\n",
       "      <td>NaN</td>\n",
       "      <td>NaN</td>\n",
       "      <td>f</td>\n",
       "      <td>f</td>\n",
       "      <td>NaN</td>\n",
       "      <td>NaN</td>\n",
       "      <td>NaN</td>\n",
       "      <td>NaN</td>\n",
       "      <td>NaN</td>\n",
       "      <td>NaN</td>\n",
       "      <td>NaN</td>\n",
       "      <td>f</td>\n",
       "      <td>f</td>\n",
       "      <td>f</td>\n",
       "      <td>f</td>\n",
       "      <td>f</td>\n",
       "      <td>f</td>\n",
       "      <td>f</td>\n",
       "      <td>NaN</td>\n",
       "      <td>NaN</td>\n",
       "      <td>NaN</td>\n",
       "      <td>NaN</td>\n",
       "      <td>NaN</td>\n",
       "      <td>NaN</td>\n",
       "      <td>NaN</td>\n",
       "      <td>NaN</td>\n",
       "      <td>NaN</td>\n",
       "      <td>NaN</td>\n",
       "      <td>Windows 10</td>\n",
       "      <td>NT 10.0</td>\n",
       "      <td>NaN</td>\n",
       "      <td>NaN</td>\n",
       "      <td>Yandex.Browser</td>\n",
       "      <td>NaN</td>\n",
       "      <td>Blink</td>\n",
       "      <td>NaN</td>\n",
       "      <td>NaN</td>\n",
       "      <td>NaN</td>\n",
       "      <td>NaN</td>\n",
       "      <td>1</td>\n",
       "      <td>1</td>\n",
       "      <td>NaN</td>\n",
       "      <td>NaN</td>\n",
       "      <td>NaN</td>\n",
       "      <td>NaN</td>\n",
       "      <td>NaN</td>\n",
       "      <td>NaN</td>\n",
       "      <td>NaN</td>\n",
       "      <td>NaN</td>\n",
       "      <td>NaN</td>\n",
       "      <td>NaN</td>\n",
       "      <td>NaN</td>\n",
       "      <td>NaN</td>\n",
       "      <td>NaN</td>\n",
       "      <td>NaN</td>\n",
       "      <td>NaN</td>\n",
       "      <td>NaN</td>\n",
       "      <td>NaN</td>\n",
       "      <td>NaN</td>\n",
       "      <td>NaN</td>\n",
       "      <td>NaN</td>\n",
       "      <td>NaN</td>\n",
       "      <td>NaN</td>\n",
       "      <td>NaN</td>\n",
       "      <td>NaN</td>\n",
       "      <td>NaN</td>\n",
       "      <td>NaN</td>\n",
       "      <td>NaN</td>\n",
       "      <td>NaN</td>\n",
       "      <td>NaN</td>\n",
       "      <td>NaN</td>\n",
       "      <td>NaN</td>\n",
       "      <td>NaN</td>\n",
       "      <td>NaN</td>\n",
       "      <td>0</td>\n",
       "      <td>0</td>\n",
       "      <td>0</td>\n",
       "      <td>3</td>\n",
       "    </tr>\n",
       "    <tr>\n",
       "      <th>3</th>\n",
       "      <td>Company2</td>\n",
       "      <td>193611</td>\n",
       "      <td>2016-09-01 00:40:53</td>\n",
       "      <td>APR</td>\n",
       "      <td>OK</td>\n",
       "      <td>0.0</td>\n",
       "      <td>201609</td>\n",
       "      <td>NaN</td>\n",
       "      <td>1</td>\n",
       "      <td>NaN</td>\n",
       "      <td>NaN</td>\n",
       "      <td>1</td>\n",
       "      <td>0</td>\n",
       "      <td>1</td>\n",
       "      <td>0</td>\n",
       "      <td>0</td>\n",
       "      <td>0</td>\n",
       "      <td>0</td>\n",
       "      <td>0</td>\n",
       "      <td>0</td>\n",
       "      <td>0</td>\n",
       "      <td>0</td>\n",
       "      <td>0</td>\n",
       "      <td>0</td>\n",
       "      <td>0</td>\n",
       "      <td>0</td>\n",
       "      <td>0</td>\n",
       "      <td>0</td>\n",
       "      <td>0</td>\n",
       "      <td>0</td>\n",
       "      <td>0</td>\n",
       "      <td>0</td>\n",
       "      <td>0</td>\n",
       "      <td>0</td>\n",
       "      <td>0</td>\n",
       "      <td>0</td>\n",
       "      <td>0</td>\n",
       "      <td>0</td>\n",
       "      <td>0</td>\n",
       "      <td>0</td>\n",
       "      <td>0</td>\n",
       "      <td>0</td>\n",
       "      <td>1</td>\n",
       "      <td>0</td>\n",
       "      <td>0</td>\n",
       "      <td>7</td>\n",
       "      <td>0</td>\n",
       "      <td>NaN</td>\n",
       "      <td>NaN</td>\n",
       "      <td>NaN</td>\n",
       "      <td>NaN</td>\n",
       "      <td>0.300</td>\n",
       "      <td>ISP</td>\n",
       "      <td>0</td>\n",
       "      <td>0</td>\n",
       "      <td>0</td>\n",
       "      <td>1</td>\n",
       "      <td>0</td>\n",
       "      <td>3</td>\n",
       "      <td>0</td>\n",
       "      <td>0</td>\n",
       "      <td>0</td>\n",
       "      <td>0</td>\n",
       "      <td>0</td>\n",
       "      <td>0</td>\n",
       "      <td>NaN</td>\n",
       "      <td>0</td>\n",
       "      <td>NaN</td>\n",
       "      <td>2016-11-30 00:00:00</td>\n",
       "      <td>NaN</td>\n",
       "      <td>f</td>\n",
       "      <td>f</td>\n",
       "      <td>f</td>\n",
       "      <td>f</td>\n",
       "      <td>f</td>\n",
       "      <td>f</td>\n",
       "      <td>t</td>\n",
       "      <td>NaN</td>\n",
       "      <td>NaN</td>\n",
       "      <td>Desktop</td>\n",
       "      <td>Microsoft</td>\n",
       "      <td>Edge - Windows</td>\n",
       "      <td>NaN</td>\n",
       "      <td>Microsoft</td>\n",
       "      <td>NaN</td>\n",
       "      <td>f</td>\n",
       "      <td>f</td>\n",
       "      <td>NaN</td>\n",
       "      <td>NaN</td>\n",
       "      <td>NaN</td>\n",
       "      <td>NaN</td>\n",
       "      <td>NaN</td>\n",
       "      <td>NaN</td>\n",
       "      <td>NaN</td>\n",
       "      <td>f</td>\n",
       "      <td>f</td>\n",
       "      <td>f</td>\n",
       "      <td>f</td>\n",
       "      <td>f</td>\n",
       "      <td>f</td>\n",
       "      <td>f</td>\n",
       "      <td>f</td>\n",
       "      <td>f</td>\n",
       "      <td>f</td>\n",
       "      <td>f</td>\n",
       "      <td>f</td>\n",
       "      <td>f</td>\n",
       "      <td>f</td>\n",
       "      <td>NaN</td>\n",
       "      <td>NaN</td>\n",
       "      <td>f</td>\n",
       "      <td>Windows 10</td>\n",
       "      <td>NT 10.0</td>\n",
       "      <td>NaN</td>\n",
       "      <td>NaN</td>\n",
       "      <td>Edge</td>\n",
       "      <td>13.10586</td>\n",
       "      <td>EdgeHTML</td>\n",
       "      <td>NaN</td>\n",
       "      <td>NaN</td>\n",
       "      <td>NaN</td>\n",
       "      <td>NaN</td>\n",
       "      <td>0</td>\n",
       "      <td>0</td>\n",
       "      <td>NaN</td>\n",
       "      <td>NaN</td>\n",
       "      <td>NaN</td>\n",
       "      <td>NaN</td>\n",
       "      <td>NaN</td>\n",
       "      <td>NaN</td>\n",
       "      <td>NaN</td>\n",
       "      <td>NaN</td>\n",
       "      <td>NaN</td>\n",
       "      <td>NaN</td>\n",
       "      <td>NaN</td>\n",
       "      <td>NaN</td>\n",
       "      <td>NaN</td>\n",
       "      <td>NaN</td>\n",
       "      <td>NaN</td>\n",
       "      <td>NaN</td>\n",
       "      <td>NaN</td>\n",
       "      <td>NaN</td>\n",
       "      <td>NaN</td>\n",
       "      <td>NaN</td>\n",
       "      <td>NaN</td>\n",
       "      <td>NaN</td>\n",
       "      <td>NaN</td>\n",
       "      <td>NaN</td>\n",
       "      <td>NaN</td>\n",
       "      <td>NaN</td>\n",
       "      <td>NaN</td>\n",
       "      <td>NaN</td>\n",
       "      <td>NaN</td>\n",
       "      <td>NaN</td>\n",
       "      <td>NaN</td>\n",
       "      <td>NaN</td>\n",
       "      <td>NaN</td>\n",
       "      <td>0</td>\n",
       "      <td>0</td>\n",
       "      <td>0</td>\n",
       "      <td>3</td>\n",
       "    </tr>\n",
       "    <tr>\n",
       "      <th>4</th>\n",
       "      <td>Company2</td>\n",
       "      <td>7233</td>\n",
       "      <td>2016-09-01 00:49:33</td>\n",
       "      <td>RJC</td>\n",
       "      <td>NaN</td>\n",
       "      <td>NaN</td>\n",
       "      <td>201609</td>\n",
       "      <td>NaN</td>\n",
       "      <td>1</td>\n",
       "      <td>NaN</td>\n",
       "      <td>NaN</td>\n",
       "      <td>1</td>\n",
       "      <td>0</td>\n",
       "      <td>1</td>\n",
       "      <td>1</td>\n",
       "      <td>0</td>\n",
       "      <td>1</td>\n",
       "      <td>1</td>\n",
       "      <td>1</td>\n",
       "      <td>1</td>\n",
       "      <td>1</td>\n",
       "      <td>0</td>\n",
       "      <td>1</td>\n",
       "      <td>2</td>\n",
       "      <td>1</td>\n",
       "      <td>1</td>\n",
       "      <td>2</td>\n",
       "      <td>1</td>\n",
       "      <td>0</td>\n",
       "      <td>0</td>\n",
       "      <td>0</td>\n",
       "      <td>0</td>\n",
       "      <td>0</td>\n",
       "      <td>0</td>\n",
       "      <td>0</td>\n",
       "      <td>0</td>\n",
       "      <td>0</td>\n",
       "      <td>0</td>\n",
       "      <td>1</td>\n",
       "      <td>0</td>\n",
       "      <td>0</td>\n",
       "      <td>0</td>\n",
       "      <td>1</td>\n",
       "      <td>0</td>\n",
       "      <td>0</td>\n",
       "      <td>12</td>\n",
       "      <td>0</td>\n",
       "      <td>NaN</td>\n",
       "      <td>NaN</td>\n",
       "      <td>NaN</td>\n",
       "      <td>NaN</td>\n",
       "      <td>0.150</td>\n",
       "      <td>ISP</td>\n",
       "      <td>0</td>\n",
       "      <td>0</td>\n",
       "      <td>0</td>\n",
       "      <td>1</td>\n",
       "      <td>0</td>\n",
       "      <td>3</td>\n",
       "      <td>0</td>\n",
       "      <td>0</td>\n",
       "      <td>3</td>\n",
       "      <td>0</td>\n",
       "      <td>0</td>\n",
       "      <td>2</td>\n",
       "      <td>NaN</td>\n",
       "      <td>0</td>\n",
       "      <td>NaN</td>\n",
       "      <td>2016-11-30 00:00:00</td>\n",
       "      <td>NaN</td>\n",
       "      <td>f</td>\n",
       "      <td>f</td>\n",
       "      <td>f</td>\n",
       "      <td>f</td>\n",
       "      <td>f</td>\n",
       "      <td>f</td>\n",
       "      <td>t</td>\n",
       "      <td>NaN</td>\n",
       "      <td>NaN</td>\n",
       "      <td>Desktop</td>\n",
       "      <td>Mozilla</td>\n",
       "      <td>Firefox - Windows</td>\n",
       "      <td>NaN</td>\n",
       "      <td>NaN</td>\n",
       "      <td>NaN</td>\n",
       "      <td>f</td>\n",
       "      <td>f</td>\n",
       "      <td>NaN</td>\n",
       "      <td>NaN</td>\n",
       "      <td>NaN</td>\n",
       "      <td>NaN</td>\n",
       "      <td>NaN</td>\n",
       "      <td>NaN</td>\n",
       "      <td>NaN</td>\n",
       "      <td>f</td>\n",
       "      <td>f</td>\n",
       "      <td>f</td>\n",
       "      <td>f</td>\n",
       "      <td>f</td>\n",
       "      <td>f</td>\n",
       "      <td>f</td>\n",
       "      <td>NaN</td>\n",
       "      <td>NaN</td>\n",
       "      <td>NaN</td>\n",
       "      <td>NaN</td>\n",
       "      <td>NaN</td>\n",
       "      <td>NaN</td>\n",
       "      <td>NaN</td>\n",
       "      <td>NaN</td>\n",
       "      <td>NaN</td>\n",
       "      <td>NaN</td>\n",
       "      <td>Windows 8</td>\n",
       "      <td>NT 6.2</td>\n",
       "      <td>NaN</td>\n",
       "      <td>NaN</td>\n",
       "      <td>Firefox</td>\n",
       "      <td>48.0</td>\n",
       "      <td>Gecko</td>\n",
       "      <td>NaN</td>\n",
       "      <td>NaN</td>\n",
       "      <td>NaN</td>\n",
       "      <td>NaN</td>\n",
       "      <td>0</td>\n",
       "      <td>0</td>\n",
       "      <td>NaN</td>\n",
       "      <td>NaN</td>\n",
       "      <td>NaN</td>\n",
       "      <td>NaN</td>\n",
       "      <td>NaN</td>\n",
       "      <td>NaN</td>\n",
       "      <td>NaN</td>\n",
       "      <td>NaN</td>\n",
       "      <td>NaN</td>\n",
       "      <td>NaN</td>\n",
       "      <td>NaN</td>\n",
       "      <td>NaN</td>\n",
       "      <td>NaN</td>\n",
       "      <td>NaN</td>\n",
       "      <td>NaN</td>\n",
       "      <td>NaN</td>\n",
       "      <td>NaN</td>\n",
       "      <td>NaN</td>\n",
       "      <td>NaN</td>\n",
       "      <td>NaN</td>\n",
       "      <td>NaN</td>\n",
       "      <td>NaN</td>\n",
       "      <td>NaN</td>\n",
       "      <td>NaN</td>\n",
       "      <td>NaN</td>\n",
       "      <td>NaN</td>\n",
       "      <td>NaN</td>\n",
       "      <td>NaN</td>\n",
       "      <td>NaN</td>\n",
       "      <td>NaN</td>\n",
       "      <td>NaN</td>\n",
       "      <td>NaN</td>\n",
       "      <td>NaN</td>\n",
       "      <td>0</td>\n",
       "      <td>0</td>\n",
       "      <td>0</td>\n",
       "      <td>3</td>\n",
       "    </tr>\n",
       "  </tbody>\n",
       "</table>\n",
       "</div>"
      ],
      "text/plain": [
       "  account_id  client_id             time_msw test_cr_decision  \\\n",
       "0   Company2     211804  2016-09-01 00:11:59              RJC   \n",
       "1   Company2     211807  2016-09-01 00:19:46              APR   \n",
       "2   Company2     211808  2016-09-01 00:25:44              RJC   \n",
       "3   Company2     193611  2016-09-01 00:40:53              APR   \n",
       "4   Company2       7233  2016-09-01 00:49:33              RJC   \n",
       "\n",
       "  test_cr_performance  dep_var  month_verif  var1  var2  var3  var4  var5  \\\n",
       "0                 NaN      NaN       201609   1.0     1   1.0   0.0     1   \n",
       "1                  OK      0.0       201609   1.0     1   1.0   1.0     1   \n",
       "2                 NaN      NaN       201609   1.0     1   1.0   1.0     1   \n",
       "3                  OK      0.0       201609   NaN     1   NaN   NaN     1   \n",
       "4                 NaN      NaN       201609   NaN     1   NaN   NaN     1   \n",
       "\n",
       "   var6  var7  var8  var9  var10  var11  var12  var13  var14  var15  var16  \\\n",
       "0     0     1     0     0      0      0      0      0      0      0      0   \n",
       "1     0     1     0     0      0      0      0      0      0      0      0   \n",
       "2     0     1     0     0      0      0      0      0      0      0      0   \n",
       "3     0     1     0     0      0      0      0      0      0      0      0   \n",
       "4     0     1     1     0      1      1      1      1      1      0      1   \n",
       "\n",
       "   var17  var18  var19  var20  var21  var22  var23  var24  var25  var26  \\\n",
       "0      0      0      0      0      0      0      0      0      0      0   \n",
       "1      1      3      2      0      1      1      0      0      0      0   \n",
       "2      0      0      0      0      0      0      0      0      0      0   \n",
       "3      0      0      0      0      0      0      0      0      0      0   \n",
       "4      2      1      1      2      1      0      0      0      0      0   \n",
       "\n",
       "   var27  var28  var29  var30  var31  var32  var33  var34  var35  var36  \\\n",
       "0      0      0      0      0      0      0      0      0      0      1   \n",
       "1      0      0      0      0      0      1      0      0      0      1   \n",
       "2      0      0      0      0      0      0      0      0      0      1   \n",
       "3      0      0      0      0      0      0      0      0      0      1   \n",
       "4      0      0      0      0      0      1      0      0      0      1   \n",
       "\n",
       "   var37  var38  var39  var40  var41  var42  var43  var44  var45 var46  var47  \\\n",
       "0      1      1     14      0   36.0    0.0    3.0    2.0  0.250   ISP      0   \n",
       "1      0      0      9      0   19.0    0.0    1.0    2.0  0.400   ISP      0   \n",
       "2      0      0      6      0   34.0    0.0    0.0    2.0  0.375   ISP      0   \n",
       "3      0      0      7      0    NaN    NaN    NaN    NaN  0.300   ISP      0   \n",
       "4      0      0     12      0    NaN    NaN    NaN    NaN  0.150   ISP      0   \n",
       "\n",
       "   var48  var49  var50  var51  var52  var53  var54  var55  var56  var57  \\\n",
       "0      0      0      1      1      9      0      0      0      0      0   \n",
       "1      0      0      1      0      4      0      0      0      0      1   \n",
       "2      0      0      1      0      3      0      0      0      0      0   \n",
       "3      0      0      1      0      3      0      0      0      0      0   \n",
       "4      0      0      1      0      3      0      0      3      0      0   \n",
       "\n",
       "   var58  var59  var60  var61                var62 var63 var64 var65 var66  \\\n",
       "0      0    NaN      0    1.0  2015-12-31 00:00:00   NaN     f     f     f   \n",
       "1      2    NaN      0    NaN  2017-03-31 00:00:00   NaN     f     f     f   \n",
       "2      0    NaN      0    NaN  2016-06-30 00:00:00   NaN     f     f     f   \n",
       "3      0    NaN      0    NaN  2016-11-30 00:00:00   NaN     f     f     f   \n",
       "4      2    NaN      0    NaN  2016-11-30 00:00:00   NaN     f     f     f   \n",
       "\n",
       "  var67 var68 var69 var70 var71 var72         var73      var74  \\\n",
       "0     f     f     f     f   NaN   NaN  Mobile Phone      Apple   \n",
       "1     f     f     f     t   NaN   NaN       Desktop     Google   \n",
       "2     f     f     f     t   NaN   NaN       Desktop     Yandex   \n",
       "3     f     f     f     t   NaN   NaN       Desktop  Microsoft   \n",
       "4     f     f     f     t   NaN   NaN       Desktop    Mozilla   \n",
       "\n",
       "                      var75   var76      var77   var78 var79 var80  var81  \\\n",
       "0                    iPhone  iPhone      Apple  2007.0     t     t  320.0   \n",
       "1          Chrome - Windows     NaN        NaN     NaN     f     f    NaN   \n",
       "2  Yandex.Browser - Windows     NaN        NaN     NaN     f     f    NaN   \n",
       "3            Edge - Windows     NaN  Microsoft     NaN     f     f    NaN   \n",
       "4         Firefox - Windows     NaN        NaN     NaN     f     f    NaN   \n",
       "\n",
       "   var82  var83  var84  var85 var86  var87 var88 var89 var90 var91 var92  \\\n",
       "0  480.0    3.5  165.0   24.0     f    2.0     t     f     f     f     f   \n",
       "1    NaN    NaN    NaN    NaN   NaN    NaN     f     f     f     f     f   \n",
       "2    NaN    NaN    NaN    NaN   NaN    NaN     f     f     f     f     f   \n",
       "3    NaN    NaN    NaN    NaN   NaN    NaN     f     f     f     f     f   \n",
       "4    NaN    NaN    NaN    NaN   NaN    NaN     f     f     f     f     f   \n",
       "\n",
       "  var93 var94 var95 var96 var97 var98 var99 var100 var101  var102  var103  \\\n",
       "0     f     f     t     t     f     f     f      f      f     NaN     NaN   \n",
       "1     f     f   NaN   NaN   NaN   NaN   NaN    NaN    NaN     NaN     NaN   \n",
       "2     f     f   NaN   NaN   NaN   NaN   NaN    NaN    NaN     NaN     NaN   \n",
       "3     f     f     f     f     f     f     f      f      f     NaN     NaN   \n",
       "4     f     f   NaN   NaN   NaN   NaN   NaN    NaN    NaN     NaN     NaN   \n",
       "\n",
       "  var104       var105   var106     var107 var108          var109  \\\n",
       "0    NaN          iOS    9_3_4  iPhone OS    NaN          Safari   \n",
       "1    NaN  Windows 8.1   NT 6.3        NaN    NaN          Chrome   \n",
       "2    NaN   Windows 10  NT 10.0        NaN    NaN  Yandex.Browser   \n",
       "3      f   Windows 10  NT 10.0        NaN    NaN            Edge   \n",
       "4    NaN    Windows 8   NT 6.2        NaN    NaN         Firefox   \n",
       "\n",
       "          var110    var111 var112 var113 var114 var115  var116  var117 var118  \\\n",
       "0            9.0    WebKit      t      t      f      t       1       0      t   \n",
       "1  52.0.2743.116    WebKit    NaN    NaN    NaN    NaN       1       1    NaN   \n",
       "2            NaN     Blink    NaN    NaN    NaN    NaN       1       1    NaN   \n",
       "3       13.10586  EdgeHTML    NaN    NaN    NaN    NaN       0       0    NaN   \n",
       "4           48.0     Gecko    NaN    NaN    NaN    NaN       0       0    NaN   \n",
       "\n",
       "  var119 var120 var121 var122 var123 var124 var125 var126 var127 var128  \\\n",
       "0      t      t      t      t      t      t      t      t      t      t   \n",
       "1    NaN    NaN    NaN    NaN    NaN    NaN    NaN    NaN    NaN    NaN   \n",
       "2    NaN    NaN    NaN    NaN    NaN    NaN    NaN    NaN    NaN    NaN   \n",
       "3    NaN    NaN    NaN    NaN    NaN    NaN    NaN    NaN    NaN    NaN   \n",
       "4    NaN    NaN    NaN    NaN    NaN    NaN    NaN    NaN    NaN    NaN   \n",
       "\n",
       "  var129 var130 var131 var132 var133 var134 var135 var136 var137 var138  \\\n",
       "0      f      t      t      f      t      t      t      t      t      t   \n",
       "1    NaN    NaN    NaN    NaN    NaN    NaN    NaN    NaN    NaN    NaN   \n",
       "2    NaN    NaN    NaN    NaN    NaN    NaN    NaN    NaN    NaN    NaN   \n",
       "3    NaN    NaN    NaN    NaN    NaN    NaN    NaN    NaN    NaN    NaN   \n",
       "4    NaN    NaN    NaN    NaN    NaN    NaN    NaN    NaN    NaN    NaN   \n",
       "\n",
       "  var139 var140 var141 var142 var143 var144 var145 var146 var147 var148  \\\n",
       "0      t    NaN    NaN    NaN    NaN    NaN    NaN    NaN    NaN    NaN   \n",
       "1    NaN    NaN    NaN    NaN    NaN    NaN    NaN    NaN    NaN    NaN   \n",
       "2    NaN    NaN    NaN    NaN    NaN    NaN    NaN    NaN    NaN    NaN   \n",
       "3    NaN    NaN    NaN    NaN    NaN    NaN    NaN    NaN    NaN    NaN   \n",
       "4    NaN    NaN    NaN    NaN    NaN    NaN    NaN    NaN    NaN    NaN   \n",
       "\n",
       "  var149 var150  var151  var152  var153  var154  \n",
       "0    NaN    NaN       0       0       0       3  \n",
       "1    NaN    NaN       0       0       0       7  \n",
       "2    NaN    NaN       0       0       0       3  \n",
       "3    NaN    NaN       0       0       0       3  \n",
       "4    NaN    NaN       0       0       0       3  "
      ]
     },
     "execution_count": 213,
     "metadata": {},
     "output_type": "execute_result"
    }
   ],
   "source": [
    "df.head()"
   ]
  },
  {
   "cell_type": "markdown",
   "metadata": {},
   "source": [
    "Base analysis"
   ]
  },
  {
   "cell_type": "code",
   "execution_count": 218,
   "metadata": {},
   "outputs": [
    {
     "data": {
      "text/html": [
       "\n",
       "        <iframe\n",
       "            width=\"100%\"\n",
       "            height=\"800px\"\n",
       "            src=\"ipynb_tmp/profile_9699986820.html\"\n",
       "            frameborder=\"0\"\n",
       "            allowfullscreen\n",
       "        ></iframe>\n",
       "        "
      ],
      "text/plain": [
       "<IPython.lib.display.IFrame at 0x7f02c7b5cf98>"
      ]
     },
     "metadata": {},
     "output_type": "display_data"
    },
    {
     "data": {
      "text/plain": []
     },
     "execution_count": 218,
     "metadata": {},
     "output_type": "execute_result"
    }
   ],
   "source": [
    "pandas_profiling.ProfileReport(df.sample(1000))\n",
    "# this report doesn't display in git"
   ]
  },
  {
   "cell_type": "code",
   "execution_count": 9,
   "metadata": {},
   "outputs": [
    {
     "data": {
      "text/plain": [
       "(84130, 161)"
      ]
     },
     "execution_count": 9,
     "metadata": {},
     "output_type": "execute_result"
    }
   ],
   "source": [
    "df.drop_duplicates(subset=df.columns).shape"
   ]
  },
  {
   "cell_type": "code",
   "execution_count": 11,
   "metadata": {},
   "outputs": [
    {
     "data": {
      "image/png": "[encoded data removed]",
      "text/plain": [
       "<Figure size 1440x1080 with 81 Axes>"
      ]
     },
     "metadata": {
      "needs_background": "light"
     },
     "output_type": "display_data"
    }
   ],
   "source": [
    "%matplotlib inline\n",
    "df.hist(bins=50, figsize=(20,15))\n",
    "plt.show()"
   ]
  },
  {
   "cell_type": "markdown",
   "metadata": {},
   "source": [
    "Most of features is binary. Numerical have distribution differ from normal. One feature has only one unique value and var 48 has lognormal distribution (we can get the log function on it in future)."
   ]
  },
  {
   "cell_type": "code",
   "execution_count": 12,
   "metadata": {},
   "outputs": [
    {
     "data": {
      "text/plain": [
       "True     99\n",
       "False    62\n",
       "dtype: int64"
      ]
     },
     "execution_count": 12,
     "metadata": {},
     "output_type": "execute_result"
    }
   ],
   "source": [
    "# existence nan\n",
    "(df.isnull() == True).any().value_counts()"
   ]
  },
  {
   "cell_type": "code",
   "execution_count": 217,
   "metadata": {},
   "outputs": [
    {
     "name": "stdout",
     "output_type": "stream",
     "text": [
      "Feature account_id has 3 unique values\n",
      "Feature client_id has 71455 unique values\n",
      "Feature time_msw has 79375 unique values\n",
      "Feature test_cr_decision has 2 unique values\n",
      "Feature test_cr_performance has 4 unique values\n",
      "Feature dep_var has 3 unique values\n",
      "Feature month_verif has 4 unique values\n",
      "Feature var1 has 2 unique values\n",
      "Feature var2 has 1 unique values\n",
      "Feature var3 has 2 unique values\n",
      "Feature var4 has 3 unique values\n",
      "Feature var5 has 2 unique values\n",
      "Feature var6 has 2 unique values\n",
      "Feature var7 has 2 unique values\n",
      "Feature var8 has 2 unique values\n",
      "Feature var9 has 2 unique values\n",
      "Feature var10 has 2 unique values\n",
      "Feature var11 has 2 unique values\n",
      "Feature var12 has 2 unique values\n",
      "Feature var13 has 2 unique values\n",
      "Feature var14 has 2 unique values\n",
      "Feature var15 has 2 unique values\n",
      "Feature var16 has 2 unique values\n",
      "Feature var17 has 595 unique values\n",
      "Feature var18 has 623 unique values\n",
      "Feature var19 has 469 unique values\n",
      "Feature var20 has 9 unique values\n",
      "Feature var21 has 18 unique values\n",
      "Feature var22 has 382 unique values\n",
      "Feature var23 has 2 unique values\n",
      "Feature var24 has 2 unique values\n",
      "Feature var25 has 1 unique values\n",
      "Feature var26 has 2 unique values\n",
      "Feature var27 has 2 unique values\n",
      "Feature var28 has 2 unique values\n",
      "Feature var29 has 2 unique values\n",
      "Feature var30 has 2 unique values\n",
      "Feature var31 has 2 unique values\n",
      "Feature var32 has 2 unique values\n",
      "Feature var33 has 2 unique values\n",
      "Feature var34 has 2 unique values\n",
      "Feature var35 has 2 unique values\n",
      "Feature var36 has 2 unique values\n",
      "Feature var37 has 2 unique values\n",
      "Feature var38 has 2 unique values\n",
      "Feature var39 has 32 unique values\n",
      "Feature var40 has 2 unique values\n",
      "Feature var41 has 6711 unique values\n",
      "Feature var42 has 12 unique values\n",
      "Feature var43 has 162 unique values\n",
      "Feature var44 has 69 unique values\n",
      "Feature var45 has 147 unique values\n",
      "Feature var46 has 11 unique values\n",
      "Feature var47 has 2 unique values\n",
      "Feature var48 has 2 unique values\n",
      "Feature var49 has 2 unique values\n",
      "Feature var50 has 2 unique values\n",
      "Feature var51 has 2 unique values\n",
      "Feature var52 has 12 unique values\n",
      "Feature var53 has 104 unique values\n",
      "Feature var54 has 270 unique values\n",
      "Feature var55 has 419 unique values\n",
      "Feature var56 has 104 unique values\n",
      "Feature var57 has 276 unique values\n",
      "Feature var58 has 469 unique values\n",
      "Feature var59 has 2 unique values\n",
      "Feature var60 has 2 unique values\n",
      "Feature var61 has 85 unique values\n",
      "Feature var62 has 15 unique values\n",
      "Feature var63 has 2 unique values\n",
      "Feature var64 has 3 unique values\n",
      "Feature var65 has 2 unique values\n",
      "Feature var66 has 2 unique values\n",
      "Feature var67 has 2 unique values\n",
      "Feature var68 has 2 unique values\n",
      "Feature var69 has 2 unique values\n",
      "Feature var70 has 3 unique values\n",
      "Feature var71 has 2 unique values\n",
      "Feature var72 has 3 unique values\n",
      "Feature var73 has 8 unique values\n",
      "Feature var74 has 215 unique values\n",
      "Feature var75 has 1649 unique values\n",
      "Feature var76 has 1116 unique values\n",
      "Feature var77 has 145 unique values\n",
      "Feature var78 has 12 unique values\n",
      "Feature var79 has 3 unique values\n",
      "Feature var80 has 3 unique values\n",
      "Feature var81 has 28 unique values\n",
      "Feature var82 has 30 unique values\n",
      "Feature var83 has 89 unique values\n",
      "Feature var84 has 150 unique values\n",
      "Feature var85 has 6 unique values\n",
      "Feature var86 has 3 unique values\n",
      "Feature var87 has 40 unique values\n",
      "Feature var88 has 3 unique values\n",
      "Feature var89 has 3 unique values\n",
      "Feature var90 has 3 unique values\n",
      "Feature var91 has 3 unique values\n",
      "Feature var92 has 3 unique values\n",
      "Feature var93 has 3 unique values\n",
      "Feature var94 has 3 unique values\n",
      "Feature var95 has 3 unique values\n",
      "Feature var96 has 3 unique values\n",
      "Feature var97 has 3 unique values\n",
      "Feature var98 has 3 unique values\n",
      "Feature var99 has 3 unique values\n",
      "Feature var100 has 3 unique values\n",
      "Feature var101 has 3 unique values\n",
      "Feature var102 has 1 unique values\n",
      "Feature var103 has 1 unique values\n",
      "Feature var104 has 3 unique values\n",
      "Feature var105 has 26 unique values\n",
      "Feature var106 has 132 unique values\n",
      "Feature var107 has 11 unique values\n",
      "Feature var108 has 9 unique values\n",
      "Feature var109 has 28 unique values\n",
      "Feature var110 has 877 unique values\n",
      "Feature var111 has 8 unique values\n",
      "Feature var112 has 3 unique values\n",
      "Feature var113 has 2 unique values\n",
      "Feature var114 has 3 unique values\n",
      "Feature var115 has 3 unique values\n",
      "Feature var116 has 2 unique values\n",
      "Feature var117 has 2 unique values\n",
      "Feature var118 has 3 unique values\n",
      "Feature var119 has 3 unique values\n",
      "Feature var120 has 3 unique values\n",
      "Feature var121 has 3 unique values\n",
      "Feature var122 has 3 unique values\n",
      "Feature var123 has 3 unique values\n",
      "Feature var124 has 3 unique values\n",
      "Feature var125 has 3 unique values\n",
      "Feature var126 has 3 unique values\n",
      "Feature var127 has 3 unique values\n",
      "Feature var128 has 3 unique values\n",
      "Feature var129 has 3 unique values\n",
      "Feature var130 has 3 unique values\n",
      "Feature var131 has 3 unique values\n",
      "Feature var132 has 3 unique values\n",
      "Feature var133 has 3 unique values\n",
      "Feature var134 has 3 unique values\n",
      "Feature var135 has 3 unique values\n",
      "Feature var136 has 3 unique values\n",
      "Feature var137 has 3 unique values\n",
      "Feature var138 has 3 unique values\n",
      "Feature var139 has 3 unique values\n",
      "Feature var140 has 3 unique values\n",
      "Feature var141 has 3 unique values\n",
      "Feature var142 has 3 unique values\n",
      "Feature var143 has 3 unique values\n",
      "Feature var144 has 3 unique values\n",
      "Feature var145 has 3 unique values\n",
      "Feature var146 has 3 unique values\n",
      "Feature var147 has 3 unique values\n",
      "Feature var148 has 3 unique values\n",
      "Feature var149 has 3 unique values\n",
      "Feature var150 has 3 unique values\n",
      "Feature var151 has 147 unique values\n",
      "Feature var152 has 124 unique values\n",
      "Feature var153 has 6 unique values\n",
      "Feature var154 has 47 unique values\n"
     ]
    }
   ],
   "source": [
    "# number unique values in each column\n",
    "for i in df.columns:\n",
    "    print(\"Feature %s has %s unique values\" %(i,len(df[i].unique())))"
   ]
  },
  {
   "cell_type": "code",
   "execution_count": 14,
   "metadata": {},
   "outputs": [],
   "source": [
    "# delete columns with even one unique value\n",
    "for i in df.columns:\n",
    "    if len(df[i].unique()) == 1:\n",
    "        df = df.drop(columns=[i])"
   ]
  },
  {
   "cell_type": "code",
   "execution_count": 220,
   "metadata": {},
   "outputs": [
    {
     "name": "stdout",
     "output_type": "stream",
     "text": [
      "In column account_id: 0 unknown (0.0 perс.)\n",
      "In column client_id: 0 unknown (0.0 perс.)\n",
      "In column time_msw: 0 unknown (0.0 perс.)\n",
      "In column test_cr_decision: 0 unknown (0.0 perс.)\n",
      "In column test_cr_performance: 60679 unknown (0.72 perс.)\n",
      "In column dep_var: 60640 unknown (0.72 perс.)\n",
      "In column month_verif: 0 unknown (0.0 perс.)\n",
      "In column var1: 26675 unknown (0.32 perс.)\n",
      "In column var2: 0 unknown (0.0 perс.)\n",
      "In column var3: 26675 unknown (0.32 perс.)\n",
      "In column var4: 26675 unknown (0.32 perс.)\n",
      "In column var5: 0 unknown (0.0 perс.)\n",
      "In column var6: 0 unknown (0.0 perс.)\n",
      "In column var7: 0 unknown (0.0 perс.)\n",
      "In column var8: 0 unknown (0.0 perс.)\n",
      "In column var9: 0 unknown (0.0 perс.)\n",
      "In column var10: 0 unknown (0.0 perс.)\n",
      "In column var11: 0 unknown (0.0 perс.)\n",
      "In column var12: 0 unknown (0.0 perс.)\n",
      "In column var13: 0 unknown (0.0 perс.)\n",
      "In column var14: 0 unknown (0.0 perс.)\n",
      "In column var15: 0 unknown (0.0 perс.)\n",
      "In column var16: 0 unknown (0.0 perс.)\n",
      "In column var17: 0 unknown (0.0 perс.)\n",
      "In column var18: 0 unknown (0.0 perс.)\n",
      "In column var19: 0 unknown (0.0 perс.)\n",
      "In column var20: 0 unknown (0.0 perс.)\n",
      "In column var21: 0 unknown (0.0 perс.)\n",
      "In column var22: 0 unknown (0.0 perс.)\n",
      "In column var23: 0 unknown (0.0 perс.)\n",
      "In column var24: 0 unknown (0.0 perс.)\n",
      "In column var25: 0 unknown (0.0 perс.)\n",
      "In column var26: 0 unknown (0.0 perс.)\n",
      "In column var27: 0 unknown (0.0 perс.)\n",
      "In column var28: 0 unknown (0.0 perс.)\n",
      "In column var29: 0 unknown (0.0 perс.)\n",
      "In column var30: 0 unknown (0.0 perс.)\n",
      "In column var31: 0 unknown (0.0 perс.)\n",
      "In column var32: 0 unknown (0.0 perс.)\n",
      "In column var33: 0 unknown (0.0 perс.)\n",
      "In column var34: 0 unknown (0.0 perс.)\n",
      "In column var35: 0 unknown (0.0 perс.)\n",
      "In column var36: 0 unknown (0.0 perс.)\n",
      "In column var37: 0 unknown (0.0 perс.)\n",
      "In column var38: 0 unknown (0.0 perс.)\n",
      "In column var39: 0 unknown (0.0 perс.)\n",
      "In column var40: 0 unknown (0.0 perс.)\n",
      "In column var41: 27891 unknown (0.33 perс.)\n",
      "In column var42: 27490 unknown (0.33 perс.)\n",
      "In column var43: 27490 unknown (0.33 perс.)\n",
      "In column var44: 27484 unknown (0.33 perс.)\n",
      "In column var45: 0 unknown (0.0 perс.)\n",
      "In column var46: 551 unknown (0.01 perс.)\n",
      "In column var47: 0 unknown (0.0 perс.)\n",
      "In column var48: 0 unknown (0.0 perс.)\n",
      "In column var49: 0 unknown (0.0 perс.)\n",
      "In column var50: 0 unknown (0.0 perс.)\n",
      "In column var51: 0 unknown (0.0 perс.)\n",
      "In column var52: 0 unknown (0.0 perс.)\n",
      "In column var53: 0 unknown (0.0 perс.)\n",
      "In column var54: 0 unknown (0.0 perс.)\n",
      "In column var55: 0 unknown (0.0 perс.)\n",
      "In column var56: 0 unknown (0.0 perс.)\n",
      "In column var57: 0 unknown (0.0 perс.)\n",
      "In column var58: 0 unknown (0.0 perс.)\n",
      "In column var59: 83074 unknown (0.99 perс.)\n",
      "In column var60: 0 unknown (0.0 perс.)\n",
      "In column var61: 32098 unknown (0.38 perс.)\n",
      "In column var62: 551 unknown (0.01 perс.)\n",
      "In column var63: 84060 unknown (1.0 perс.)\n",
      "In column var64: 5 unknown (0.0 perс.)\n",
      "In column var65: 3 unknown (0.0 perс.)\n",
      "In column var66: 3 unknown (0.0 perс.)\n",
      "In column var67: 3 unknown (0.0 perс.)\n",
      "In column var68: 3 unknown (0.0 perс.)\n",
      "In column var69: 3 unknown (0.0 perс.)\n",
      "In column var70: 4 unknown (0.0 perс.)\n",
      "In column var71: 48290 unknown (0.57 perс.)\n",
      "In column var72: 84119 unknown (1.0 perс.)\n",
      "In column var73: 646 unknown (0.01 perс.)\n",
      "In column var74: 1834 unknown (0.02 perс.)\n",
      "In column var75: 3063 unknown (0.04 perс.)\n",
      "In column var76: 50998 unknown (0.61 perс.)\n",
      "In column var77: 46050 unknown (0.55 perс.)\n",
      "In column var78: 46376 unknown (0.55 perс.)\n",
      "In column var79: 10 unknown (0.0 perс.)\n",
      "In column var80: 276 unknown (0.0 perс.)\n",
      "In column var81: 46614 unknown (0.55 perс.)\n",
      "In column var82: 46667 unknown (0.55 perс.)\n",
      "In column var83: 46296 unknown (0.55 perс.)\n",
      "In column var84: 46703 unknown (0.56 perс.)\n",
      "In column var85: 46038 unknown (0.55 perс.)\n",
      "In column var86: 48239 unknown (0.57 perс.)\n",
      "In column var87: 48162 unknown (0.57 perс.)\n",
      "In column var88: 703 unknown (0.01 perс.)\n",
      "In column var89: 622 unknown (0.01 perс.)\n",
      "In column var90: 144 unknown (0.0 perс.)\n",
      "In column var91: 122 unknown (0.0 perс.)\n",
      "In column var92: 150 unknown (0.0 perс.)\n",
      "In column var93: 208 unknown (0.0 perс.)\n",
      "In column var94: 155 unknown (0.0 perс.)\n",
      "In column var95: 45406 unknown (0.54 perс.)\n",
      "In column var96: 45473 unknown (0.54 perс.)\n",
      "In column var97: 45707 unknown (0.54 perс.)\n",
      "In column var98: 45798 unknown (0.54 perс.)\n",
      "In column var99: 47185 unknown (0.56 perс.)\n",
      "In column var100: 46293 unknown (0.55 perс.)\n",
      "In column var101: 46758 unknown (0.56 perс.)\n",
      "In column var102: 84130 unknown (1.0 perс.)\n",
      "In column var103: 84130 unknown (1.0 perс.)\n",
      "In column var104: 75165 unknown (0.89 perс.)\n",
      "In column var105: 101 unknown (0.0 perс.)\n",
      "In column var106: 636 unknown (0.01 perс.)\n",
      "In column var107: 77044 unknown (0.92 perс.)\n",
      "In column var108: 83906 unknown (1.0 perс.)\n",
      "In column var109: 931 unknown (0.01 perс.)\n",
      "In column var110: 15492 unknown (0.18 perс.)\n",
      "In column var111: 998 unknown (0.01 perс.)\n",
      "In column var112: 44471 unknown (0.53 perс.)\n",
      "In column var113: 44490 unknown (0.53 perс.)\n",
      "In column var114: 45825 unknown (0.54 perс.)\n",
      "In column var115: 44472 unknown (0.53 perс.)\n",
      "In column var116: 0 unknown (0.0 perс.)\n",
      "In column var117: 0 unknown (0.0 perс.)\n",
      "In column var118: 48786 unknown (0.58 perс.)\n",
      "In column var119: 48839 unknown (0.58 perс.)\n",
      "In column var120: 50396 unknown (0.6 perс.)\n",
      "In column var121: 48261 unknown (0.57 perс.)\n",
      "In column var122: 48789 unknown (0.58 perс.)\n",
      "In column var123: 49198 unknown (0.58 perс.)\n",
      "In column var124: 58407 unknown (0.69 perс.)\n",
      "In column var125: 49194 unknown (0.58 perс.)\n",
      "In column var126: 49197 unknown (0.58 perс.)\n",
      "In column var127: 49182 unknown (0.58 perс.)\n",
      "In column var128: 49198 unknown (0.58 perс.)\n",
      "In column var129: 52943 unknown (0.63 perс.)\n",
      "In column var130: 50867 unknown (0.6 perс.)\n",
      "In column var131: 49420 unknown (0.59 perс.)\n",
      "In column var132: 50274 unknown (0.6 perс.)\n",
      "In column var133: 50175 unknown (0.6 perс.)\n",
      "In column var134: 53243 unknown (0.63 perс.)\n",
      "In column var135: 50796 unknown (0.6 perс.)\n",
      "In column var136: 55204 unknown (0.66 perс.)\n",
      "In column var137: 51868 unknown (0.62 perс.)\n",
      "In column var138: 49573 unknown (0.59 perс.)\n",
      "In column var139: 47662 unknown (0.57 perс.)\n",
      "In column var140: 82038 unknown (0.98 perс.)\n",
      "In column var141: 82112 unknown (0.98 perс.)\n",
      "In column var142: 82107 unknown (0.98 perс.)\n",
      "In column var143: 82112 unknown (0.98 perс.)\n",
      "In column var144: 82224 unknown (0.98 perс.)\n",
      "In column var145: 82225 unknown (0.98 perс.)\n",
      "In column var146: 82200 unknown (0.98 perс.)\n",
      "In column var147: 82148 unknown (0.98 perс.)\n",
      "In column var148: 77997 unknown (0.93 perс.)\n",
      "In column var149: 75866 unknown (0.9 perс.)\n",
      "In column var150: 76925 unknown (0.91 perс.)\n",
      "In column var151: 0 unknown (0.0 perс.)\n",
      "In column var152: 0 unknown (0.0 perс.)\n",
      "In column var153: 0 unknown (0.0 perс.)\n",
      "In column var154: 0 unknown (0.0 perс.)\n"
     ]
    }
   ],
   "source": [
    "# % nans of all size\n",
    "for i in df.columns:\n",
    "    count_nan = df[i].isna().sum()\n",
    "    print(\"In column %s: %s unknown (%s perс.)\" %(i,count_nan,round(count_nan/df.shape[0],2)))"
   ]
  },
  {
   "cell_type": "markdown",
   "metadata": {},
   "source": [
    "Analysis target variable **dep_var**"
   ]
  },
  {
   "cell_type": "code",
   "execution_count": 16,
   "metadata": {},
   "outputs": [
    {
     "data": {
      "text/plain": [
       "0.0    15177\n",
       "1.0     8313\n",
       "Name: dep_var, dtype: int64"
      ]
     },
     "execution_count": 16,
     "metadata": {},
     "output_type": "execute_result"
    }
   ],
   "source": [
    "df.dep_var.value_counts()"
   ]
  },
  {
   "cell_type": "markdown",
   "metadata": {},
   "source": [
    "count value 1 (fraud) doubled much than 0.\n"
   ]
  },
  {
   "cell_type": "code",
   "execution_count": 17,
   "metadata": {},
   "outputs": [
    {
     "data": {
      "text/plain": [
       "(23490, 60640)"
      ]
     },
     "execution_count": 17,
     "metadata": {},
     "output_type": "execute_result"
    }
   ],
   "source": [
    "len(df[df.dep_var.isna() == False ].index),len(df[df.dep_var.isna() == True ].index)"
   ]
  },
  {
   "cell_type": "markdown",
   "metadata": {},
   "source": [
    "In general, only quarter part of data have known labels."
   ]
  },
  {
   "cell_type": "code",
   "execution_count": 18,
   "metadata": {},
   "outputs": [],
   "source": [
    "ind = df[df.dep_var.isna() == False ].index\n",
    "# create df with known labels\n",
    "train = df.loc[ind]"
   ]
  },
  {
   "cell_type": "markdown",
   "metadata": {},
   "source": [
    "How many categorical features?"
   ]
  },
  {
   "cell_type": "code",
   "execution_count": 19,
   "metadata": {},
   "outputs": [
    {
     "data": {
      "text/plain": [
       "True     83\n",
       "False    74\n",
       "dtype: int64"
      ]
     },
     "execution_count": 19,
     "metadata": {},
     "output_type": "execute_result"
    }
   ],
   "source": [
    "((df.dtypes == object) == True).value_counts()"
   ]
  },
  {
   "cell_type": "code",
   "execution_count": 20,
   "metadata": {},
   "outputs": [],
   "source": [
    "object_feat = []\n",
    "for col in train.columns:\n",
    "    if (train[col].dtypes == object):\n",
    "        object_feat.append(col)"
   ]
  },
  {
   "cell_type": "markdown",
   "metadata": {},
   "source": [
    "### Base models"
   ]
  },
  {
   "cell_type": "code",
   "execution_count": 21,
   "metadata": {},
   "outputs": [],
   "source": [
    "X = train.drop(columns=['dep_var'])\n",
    "y = train.dep_var\n",
    "holdout = df.loc[df[df.dep_var.isna() == True ].index]"
   ]
  },
  {
   "cell_type": "code",
   "execution_count": 22,
   "metadata": {},
   "outputs": [],
   "source": [
    "X = X.fillna(0)"
   ]
  },
  {
   "cell_type": "code",
   "execution_count": 23,
   "metadata": {},
   "outputs": [],
   "source": [
    "for i in object_feat:\n",
    "    X[i] = pd.factorize(X[i])[0]"
   ]
  },
  {
   "cell_type": "code",
   "execution_count": 24,
   "metadata": {},
   "outputs": [],
   "source": [
    "def cv_with_scale(data,target,list_scale):\n",
    "    \"\"\"\n",
    "    Method of cross-validation with scaling features\n",
    "    Parameters\n",
    "    ----------\n",
    "    data : pd.DataFrame\n",
    "        Training set\n",
    "    target : pd.Series\n",
    "        Target variable **dep_var**\n",
    "    list_scale : list\n",
    "        The list of features which require scaling\n",
    "\n",
    "    Returns\n",
    "    -------\n",
    "    score : double\n",
    "            mean of roc_auc scores on cross-validation\n",
    "    \"\"\"\n",
    "    ss = StandardScaler()\n",
    "    cv = KFold(random_state=17,n_splits=5,shuffle=True)\n",
    "    cv_result = []\n",
    "    for train_ind, val_ind in cv.split(data, target):\n",
    "        X_train_ = data.iloc[train_ind]\n",
    "        y_train_ = target.iloc[train_ind]\n",
    "        X_val_ = data.iloc[val_ind]\n",
    "        y_val_ = target.iloc[val_ind]\n",
    "        \n",
    "        for feat in list_scale:\n",
    "            X_train_[feat] = ss.fit_transform(X_train_[feat].values.reshape(-1, 1))\n",
    "            X_val_[feat] = ss.transform(X_val_[feat].values.reshape(-1, 1))\n",
    "        \n",
    "        model = LGBMClassifier(n_estimators=30,max_depth=4)\n",
    "        model.fit(X_train_,y_train_)\n",
    "        y_pred = model.predict_proba(X_val_)\n",
    "        res = roc_auc_score(y_val_,y_pred)\n",
    "        cv_result.append(res)\n",
    "    return np.mean(cv_result)"
   ]
  },
  {
   "cell_type": "code",
   "execution_count": 25,
   "metadata": {},
   "outputs": [],
   "source": [
    "def cv_meth(X, y, model,cv=5, scoring='roc_auc',fillna=0,transform=[]):\n",
    "    \"\"\"\n",
    "    Method of cross-validation which is written by myself for given base score with simple \n",
    "    factorization categorical features and equel filling nan's.\n",
    "    Parameters\n",
    "    ----------\n",
    "    X : pd.DataFrame\n",
    "        Training set\n",
    "    y : pd.Series\n",
    "        Target variable **dep_var**\n",
    "    model : metod of model\n",
    "        Metod of model like LinearRegression()\n",
    "    scoring : str\n",
    "        The metric of score\n",
    "    fillna: int, str\n",
    "        The magnitude which is filling all nans\n",
    "    transform: bool\n",
    "        If using scaling = [list of featuresvfor scaling]\n",
    "    \n",
    "    Returns\n",
    "    -------\n",
    "    score : double\n",
    "            mean scores on cross-validation\n",
    "    \"\"\"\n",
    "    for i in object_feat:\n",
    "        X[i] = pd.factorize(X[i])[0]\n",
    "#     X = X.fillna(fillna)\n",
    "    for col in X.columns:\n",
    "        X[col] = X[col].fillna(fillna)\n",
    "    if len(transform) == 0:\n",
    "        cv_score = cross_val_score(model, X, y, cv=cv, scoring=scoring,n_jobs=-1) \n",
    "        cv_score = np.mean(cv_score)\n",
    "    else:\n",
    "        cv_score = cv_with_scale(X,y,transform)\n",
    "    return cv_score"
   ]
  },
  {
   "cell_type": "code",
   "execution_count": 26,
   "metadata": {},
   "outputs": [],
   "source": [
    "# create df for notices scores and data\n",
    "df_scores = pd.DataFrame(columns=['model','metric','score','parameters','commit','time','variables'])"
   ]
  },
  {
   "cell_type": "code",
   "execution_count": 27,
   "metadata": {},
   "outputs": [
    {
     "name": "stdout",
     "output_type": "stream",
     "text": [
      "LC roc_auc score:0.613130\n",
      "AdaBoostClassifier roc_auc score:1.000000\n",
      "KNN roc_auc score:0.535019\n",
      "CART roc_auc score:1.000000\n",
      "RandomForest roc_auc score:0.994848\n",
      "GB roc_auc score:1.000000\n",
      "LGBM roc_auc score:1.000000\n",
      "XGB roc_auc score:1.000000\n"
     ]
    }
   ],
   "source": [
    "# Spot Check Algorithms\n",
    "models = []\n",
    "models.append(('LC', LogisticRegression()))\n",
    "models.append(('AdaBoostClassifier', AdaBoostClassifier()))\n",
    "models.append(('KNN', KNeighborsClassifier()))\n",
    "models.append(('CART', DecisionTreeClassifier()))\n",
    "models.append(('RandomForest', RandomForestClassifier()))\n",
    "models.append(('GB' ,GradientBoostingClassifier()))\n",
    "models.append(('LGBM',LGBMClassifier()))\n",
    "models.append(('XGB', XGBClassifier()))\n",
    "\n",
    "results = []\n",
    "names = []\n",
    "for name, model in models:\n",
    "    kfold = KFold(n_splits=5, random_state=17)\n",
    "    cv_results = cross_val_score(model, X, y, cv=kfold, scoring='roc_auc')\n",
    "    results.append(cv_results)\n",
    "    names.append(name)\n",
    "    msg = \"%s roc_auc score:%f\" % (name, cv_results.mean())\n",
    "    df_scores = df_scores.append({'model':name,'score':cv_results.mean(), 'metric':'roc_auc',\n",
    "                                  'parameters':'raw','commit':'base model from the box; determinate labels;',\n",
    "                                  'time':datetime.now()}, ignore_index = True)\n",
    "    print(msg)"
   ]
  },
  {
   "cell_type": "markdown",
   "metadata": {},
   "source": [
    "Fitting Random Forest for checking important features"
   ]
  },
  {
   "cell_type": "code",
   "execution_count": 28,
   "metadata": {},
   "outputs": [],
   "source": [
    "clf = RandomForestClassifier()"
   ]
  },
  {
   "cell_type": "code",
   "execution_count": 29,
   "metadata": {},
   "outputs": [
    {
     "data": {
      "text/plain": [
       "RandomForestClassifier(bootstrap=True, class_weight=None, criterion='gini',\n",
       "            max_depth=None, max_features='auto', max_leaf_nodes=None,\n",
       "            min_impurity_decrease=0.0, min_impurity_split=None,\n",
       "            min_samples_leaf=1, min_samples_split=2,\n",
       "            min_weight_fraction_leaf=0.0, n_estimators=10, n_jobs=None,\n",
       "            oob_score=False, random_state=None, verbose=0,\n",
       "            warm_start=False)"
      ]
     },
     "execution_count": 29,
     "metadata": {},
     "output_type": "execute_result"
    }
   ],
   "source": [
    "clf.fit(X,y)"
   ]
  },
  {
   "cell_type": "code",
   "execution_count": 30,
   "metadata": {},
   "outputs": [
    {
     "data": {
      "image/png": "[encoded data removed]",
      "text/plain": [
       "<Figure size 1296x576 with 1 Axes>"
      ]
     },
     "metadata": {
      "needs_background": "light"
     },
     "output_type": "display_data"
    }
   ],
   "source": [
    "feat_names = df.columns\n",
    "importances = clf.feature_importances_\n",
    "# indices = np.argsort(importances)\n",
    "indices = np.concatenate([np.argsort(importances)[::-1][:15],np.argsort(importances)[::-1][-15:]])\n",
    "\n",
    "plt.figure(figsize=(18,8))\n",
    "plt.title(\"Feature the most and the least importance\")\n",
    "plt.bar(range(len(indices)), importances[indices], color=\"g\", align=\"center\")\n",
    "plt.xticks(range(len(indices)), feat_names[indices], rotation='vertical')\n",
    "plt.xlim([-1, len(indices)])\n",
    "plt.show()"
   ]
  },
  {
   "cell_type": "code",
   "execution_count": 31,
   "metadata": {},
   "outputs": [
    {
     "data": {
      "image/png": "[encoded data removed]",
      "text/plain": [
       "<Figure size 864x576 with 1 Axes>"
      ]
     },
     "metadata": {
      "needs_background": "light"
     },
     "output_type": "display_data"
    }
   ],
   "source": [
    "less_important = np.argsort(importances)[::-1][:30]\n",
    "plt.figure(figsize=(12,8))\n",
    "plt.title(\"Feature first 30 importance\")\n",
    "plt.bar(range(len(less_important)), importances[less_important], color=\"g\", align=\"center\")\n",
    "plt.xticks(range(len(less_important)), feat_names[less_important], rotation='vertical')\n",
    "plt.xlim([-1, len(less_important)])\n",
    "plt.show()"
   ]
  },
  {
   "cell_type": "markdown",
   "metadata": {},
   "source": [
    "The most important feature **test_cr_performance**"
   ]
  },
  {
   "cell_type": "code",
   "execution_count": 32,
   "metadata": {},
   "outputs": [
    {
     "data": {
      "text/plain": [
       "OK        14532\n",
       "NPL90+     8313\n",
       "NPL90-      606\n",
       "Name: test_cr_performance, dtype: int64"
      ]
     },
     "execution_count": 32,
     "metadata": {},
     "output_type": "execute_result"
    }
   ],
   "source": [
    "df.test_cr_performance.value_counts()"
   ]
  },
  {
   "cell_type": "code",
   "execution_count": 33,
   "metadata": {},
   "outputs": [],
   "source": [
    "cr_performance_feat = train.test_cr_performance.unique()"
   ]
  },
  {
   "cell_type": "code",
   "execution_count": 34,
   "metadata": {
    "scrolled": true
   },
   "outputs": [
    {
     "data": {
      "image/png": "[encoded data removed]",
      "text/plain": [
       "<Figure size 432x288 with 1 Axes>"
      ]
     },
     "metadata": {
      "needs_background": "light"
     },
     "output_type": "display_data"
    }
   ],
   "source": [
    "sns.scatterplot(x='test_cr_performance', y='dep_var', data=df);\n",
    "plt.title('flats price with children friendly owners');"
   ]
  },
  {
   "cell_type": "code",
   "execution_count": 35,
   "metadata": {},
   "outputs": [
    {
     "name": "stdout",
     "output_type": "stream",
     "text": [
      "0.9911350594568373\n"
     ]
    }
   ],
   "source": [
    "clf1 = RandomForestClassifier()\n",
    "cv_score1 = cross_val_score(clf, X, y, cv=5, scoring='roc_auc')\n",
    "print(np.mean(cv_score1))"
   ]
  },
  {
   "cell_type": "code",
   "execution_count": 36,
   "metadata": {},
   "outputs": [],
   "source": [
    "df_scores = df_scores.append({'model':clf,'score':np.mean(cv_score1), 'metric':'roc_auc',\n",
    "                              'parameters':'raw',\n",
    "                              'commit':'RF for features impotance; CV 5 folds; determinate labels',\n",
    "                              'time':datetime.now(),\n",
    "                             'variables':'clf1,cv_score1'}, ignore_index = True)"
   ]
  },
  {
   "cell_type": "markdown",
   "metadata": {},
   "source": [
    "dependency and leak search"
   ]
  },
  {
   "cell_type": "code",
   "execution_count": 37,
   "metadata": {},
   "outputs": [
    {
     "data": {
      "text/plain": [
       "<matplotlib.axes._subplots.AxesSubplot at 0x7f02e386d908>"
      ]
     },
     "execution_count": 37,
     "metadata": {},
     "output_type": "execute_result"
    },
    {
     "data": {
      "image/png": "[encoded data removed]",
      "text/plain": [
       "<Figure size 432x288 with 1 Axes>"
      ]
     },
     "metadata": {
      "needs_background": "light"
     },
     "output_type": "display_data"
    }
   ],
   "source": [
    "df['test_cr_performance'].value_counts().plot(kind='bar')"
   ]
  },
  {
   "cell_type": "code",
   "execution_count": 38,
   "metadata": {},
   "outputs": [
    {
     "data": {
      "text/html": [
       "<div>\n",
       "<style scoped>\n",
       "    .dataframe tbody tr th:only-of-type {\n",
       "        vertical-align: middle;\n",
       "    }\n",
       "\n",
       "    .dataframe tbody tr th {\n",
       "        vertical-align: top;\n",
       "    }\n",
       "\n",
       "    .dataframe thead th {\n",
       "        text-align: right;\n",
       "    }\n",
       "</style>\n",
       "<table border=\"1\" class=\"dataframe\">\n",
       "  <thead>\n",
       "    <tr style=\"text-align: right;\">\n",
       "      <th>test_cr_performance</th>\n",
       "      <th>NPL90+</th>\n",
       "      <th>NPL90-</th>\n",
       "      <th>OK</th>\n",
       "      <th>All</th>\n",
       "    </tr>\n",
       "    <tr>\n",
       "      <th>dep_var</th>\n",
       "      <th></th>\n",
       "      <th></th>\n",
       "      <th></th>\n",
       "      <th></th>\n",
       "    </tr>\n",
       "  </thead>\n",
       "  <tbody>\n",
       "    <tr>\n",
       "      <th>0.0</th>\n",
       "      <td>0</td>\n",
       "      <td>606</td>\n",
       "      <td>14532</td>\n",
       "      <td>15138</td>\n",
       "    </tr>\n",
       "    <tr>\n",
       "      <th>1.0</th>\n",
       "      <td>8313</td>\n",
       "      <td>0</td>\n",
       "      <td>0</td>\n",
       "      <td>8313</td>\n",
       "    </tr>\n",
       "    <tr>\n",
       "      <th>All</th>\n",
       "      <td>8313</td>\n",
       "      <td>606</td>\n",
       "      <td>14532</td>\n",
       "      <td>23451</td>\n",
       "    </tr>\n",
       "  </tbody>\n",
       "</table>\n",
       "</div>"
      ],
      "text/plain": [
       "test_cr_performance  NPL90+  NPL90-     OK    All\n",
       "dep_var                                          \n",
       "0.0                       0     606  14532  15138\n",
       "1.0                    8313       0      0   8313\n",
       "All                    8313     606  14532  23451"
      ]
     },
     "execution_count": 38,
     "metadata": {},
     "output_type": "execute_result"
    }
   ],
   "source": [
    "pd.crosstab(df['dep_var'], df['test_cr_performance'], margins=True)"
   ]
  },
  {
   "cell_type": "code",
   "execution_count": 39,
   "metadata": {},
   "outputs": [
    {
     "data": {
      "text/plain": [
       "<matplotlib.axes._subplots.AxesSubplot at 0x7f02e3815940>"
      ]
     },
     "execution_count": 39,
     "metadata": {},
     "output_type": "execute_result"
    },
    {
     "data": {
      "image/png": "[encoded data removed]",
      "text/plain": [
       "<Figure size 432x288 with 1 Axes>"
      ]
     },
     "metadata": {
      "needs_background": "light"
     },
     "output_type": "display_data"
    }
   ],
   "source": [
    "pd.crosstab(df['dep_var'], df['test_cr_performance']).plot(kind='bar')"
   ]
  },
  {
   "cell_type": "code",
   "execution_count": 40,
   "metadata": {},
   "outputs": [
    {
     "data": {
      "text/html": [
       "<div>\n",
       "<style scoped>\n",
       "    .dataframe tbody tr th:only-of-type {\n",
       "        vertical-align: middle;\n",
       "    }\n",
       "\n",
       "    .dataframe tbody tr th {\n",
       "        vertical-align: top;\n",
       "    }\n",
       "\n",
       "    .dataframe thead th {\n",
       "        text-align: right;\n",
       "    }\n",
       "</style>\n",
       "<table border=\"1\" class=\"dataframe\">\n",
       "  <thead>\n",
       "    <tr style=\"text-align: right;\">\n",
       "      <th>test_cr_performance</th>\n",
       "      <th>NPL90+</th>\n",
       "      <th>NPL90-</th>\n",
       "      <th>OK</th>\n",
       "      <th>All</th>\n",
       "    </tr>\n",
       "    <tr>\n",
       "      <th>dep_var</th>\n",
       "      <th></th>\n",
       "      <th></th>\n",
       "      <th></th>\n",
       "      <th></th>\n",
       "    </tr>\n",
       "  </thead>\n",
       "  <tbody>\n",
       "    <tr>\n",
       "      <th>0.0</th>\n",
       "      <td>0</td>\n",
       "      <td>606</td>\n",
       "      <td>14532</td>\n",
       "      <td>15138</td>\n",
       "    </tr>\n",
       "    <tr>\n",
       "      <th>1.0</th>\n",
       "      <td>8313</td>\n",
       "      <td>0</td>\n",
       "      <td>0</td>\n",
       "      <td>8313</td>\n",
       "    </tr>\n",
       "    <tr>\n",
       "      <th>All</th>\n",
       "      <td>8313</td>\n",
       "      <td>606</td>\n",
       "      <td>14532</td>\n",
       "      <td>23451</td>\n",
       "    </tr>\n",
       "  </tbody>\n",
       "</table>\n",
       "</div>"
      ],
      "text/plain": [
       "test_cr_performance  NPL90+  NPL90-     OK    All\n",
       "dep_var                                          \n",
       "0.0                       0     606  14532  15138\n",
       "1.0                    8313       0      0   8313\n",
       "All                    8313     606  14532  23451"
      ]
     },
     "execution_count": 40,
     "metadata": {},
     "output_type": "execute_result"
    }
   ],
   "source": [
    "pd.crosstab(train['dep_var'], train['test_cr_performance'], margins=True)"
   ]
  },
  {
   "cell_type": "markdown",
   "metadata": {},
   "source": [
    "The **test_cr_performance** duplicates the target. For objects without a target test_cr_performance is undefined."
   ]
  },
  {
   "cell_type": "markdown",
   "metadata": {},
   "source": [
    "**test_cr_decision** feature"
   ]
  },
  {
   "cell_type": "code",
   "execution_count": 41,
   "metadata": {},
   "outputs": [
    {
     "data": {
      "text/plain": [
       "<matplotlib.axes._subplots.AxesSubplot at 0x7f02e37e97b8>"
      ]
     },
     "execution_count": 41,
     "metadata": {},
     "output_type": "execute_result"
    },
    {
     "data": {
      "image/png": "[encoded data removed]",
      "text/plain": [
       "<Figure size 432x288 with 1 Axes>"
      ]
     },
     "metadata": {
      "needs_background": "light"
     },
     "output_type": "display_data"
    }
   ],
   "source": [
    "pd.crosstab(df['test_cr_decision'],df['dep_var']).plot(kind='bar')"
   ]
  },
  {
   "cell_type": "code",
   "execution_count": 42,
   "metadata": {},
   "outputs": [
    {
     "data": {
      "text/plain": [
       "RJC    60640\n",
       "APR    23490\n",
       "Name: test_cr_decision, dtype: int64"
      ]
     },
     "execution_count": 42,
     "metadata": {},
     "output_type": "execute_result"
    }
   ],
   "source": [
    "df.test_cr_decision.value_counts()"
   ]
  },
  {
   "cell_type": "code",
   "execution_count": 43,
   "metadata": {},
   "outputs": [
    {
     "data": {
      "text/plain": [
       "APR    23490\n",
       "Name: test_cr_decision, dtype: int64"
      ]
     },
     "execution_count": 43,
     "metadata": {},
     "output_type": "execute_result"
    }
   ],
   "source": [
    "train.test_cr_decision.value_counts()"
   ]
  },
  {
   "cell_type": "code",
   "execution_count": 44,
   "metadata": {},
   "outputs": [
    {
     "data": {
      "text/plain": [
       "<matplotlib.axes._subplots.AxesSubplot at 0x7f02e37ab438>"
      ]
     },
     "execution_count": 44,
     "metadata": {},
     "output_type": "execute_result"
    },
    {
     "data": {
      "image/png": "[encoded data removed]",
      "text/plain": [
       "<Figure size 432x288 with 1 Axes>"
      ]
     },
     "metadata": {
      "needs_background": "light"
     },
     "output_type": "display_data"
    }
   ],
   "source": [
    "pd.crosstab(train['dep_var'], train['test_cr_decision']).plot(kind='bar')"
   ]
  },
  {
   "cell_type": "code",
   "execution_count": 45,
   "metadata": {},
   "outputs": [
    {
     "data": {
      "text/html": [
       "<div>\n",
       "<style scoped>\n",
       "    .dataframe tbody tr th:only-of-type {\n",
       "        vertical-align: middle;\n",
       "    }\n",
       "\n",
       "    .dataframe tbody tr th {\n",
       "        vertical-align: top;\n",
       "    }\n",
       "\n",
       "    .dataframe thead th {\n",
       "        text-align: right;\n",
       "    }\n",
       "</style>\n",
       "<table border=\"1\" class=\"dataframe\">\n",
       "  <thead>\n",
       "    <tr style=\"text-align: right;\">\n",
       "      <th>test_cr_decision</th>\n",
       "      <th>APR</th>\n",
       "      <th>All</th>\n",
       "    </tr>\n",
       "    <tr>\n",
       "      <th>dep_var</th>\n",
       "      <th></th>\n",
       "      <th></th>\n",
       "    </tr>\n",
       "  </thead>\n",
       "  <tbody>\n",
       "    <tr>\n",
       "      <th>0.0</th>\n",
       "      <td>15177</td>\n",
       "      <td>15177</td>\n",
       "    </tr>\n",
       "    <tr>\n",
       "      <th>1.0</th>\n",
       "      <td>8313</td>\n",
       "      <td>8313</td>\n",
       "    </tr>\n",
       "    <tr>\n",
       "      <th>All</th>\n",
       "      <td>23490</td>\n",
       "      <td>23490</td>\n",
       "    </tr>\n",
       "  </tbody>\n",
       "</table>\n",
       "</div>"
      ],
      "text/plain": [
       "test_cr_decision    APR    All\n",
       "dep_var                       \n",
       "0.0               15177  15177\n",
       "1.0                8313   8313\n",
       "All               23490  23490"
      ]
     },
     "execution_count": 45,
     "metadata": {},
     "output_type": "execute_result"
    }
   ],
   "source": [
    "pd.crosstab(train['dep_var'], train['test_cr_decision'], margins=True)"
   ]
  },
  {
   "cell_type": "markdown",
   "metadata": {},
   "source": [
    "**test_cr_decision** feature duplicate dep_var"
   ]
  },
  {
   "cell_type": "code",
   "execution_count": 46,
   "metadata": {},
   "outputs": [],
   "source": [
    "# drop test_cr_performance\n",
    "train = train.drop(columns=['test_cr_performance'])"
   ]
  },
  {
   "cell_type": "code",
   "execution_count": 47,
   "metadata": {},
   "outputs": [],
   "source": [
    "object_feat.remove('test_cr_performance')"
   ]
  },
  {
   "cell_type": "code",
   "execution_count": 48,
   "metadata": {},
   "outputs": [],
   "source": [
    "train = train.drop(columns=['test_cr_decision'])"
   ]
  },
  {
   "cell_type": "code",
   "execution_count": 49,
   "metadata": {},
   "outputs": [],
   "source": [
    "object_feat.remove('test_cr_decision')"
   ]
  },
  {
   "cell_type": "code",
   "execution_count": 50,
   "metadata": {},
   "outputs": [],
   "source": [
    "train2 = train"
   ]
  },
  {
   "cell_type": "code",
   "execution_count": 51,
   "metadata": {},
   "outputs": [
    {
     "name": "stdout",
     "output_type": "stream",
     "text": [
      "ROC-AUC: 1.0\n"
     ]
    }
   ],
   "source": [
    "cv_score8 = cv_meth(train, y, LGBMClassifier(), cv=5, scoring='roc_auc')\n",
    "print('ROC-AUC:',np.mean(cv_score8))"
   ]
  },
  {
   "cell_type": "code",
   "execution_count": 52,
   "metadata": {},
   "outputs": [],
   "source": [
    "df_scores = df_scores.append({'model':LGBMClassifier,'score':np.mean(cv_score8), 'metric':'roc_auc',\n",
    "                              'parameters':'raw',\n",
    "                              'commit':'CV 5 folds; determinate labels; drop test_cr_performance, test_cr_decision',\n",
    "                              'time':datetime.now(),\n",
    "                             'variables':'train2'}, ignore_index = True)"
   ]
  },
  {
   "cell_type": "markdown",
   "metadata": {},
   "source": [
    "### Metrics "
   ]
  },
  {
   "cell_type": "code",
   "execution_count": 66,
   "metadata": {},
   "outputs": [],
   "source": [
    "X = train.drop(columns=['dep_var'])"
   ]
  },
  {
   "cell_type": "markdown",
   "metadata": {},
   "source": [
    "\n",
    "\n",
    "Logistic Regression"
   ]
  },
  {
   "cell_type": "code",
   "execution_count": 67,
   "metadata": {},
   "outputs": [],
   "source": [
    "LR = LogisticRegression()\n",
    "\n",
    "scoring = ['accuracy', 'precision_macro', 'recall_macro' , 'f1_weighted', 'roc_auc']\n",
    "scores = cross_validate(LR, X, y, scoring=scoring, cv=20)\n",
    "\n",
    "sorted(scores.keys())\n",
    "LR_fit_time = scores['fit_time'].mean()\n",
    "LR_score_time = scores['score_time'].mean()\n",
    "LR_accuracy = scores['test_accuracy'].mean()\n",
    "LR_precision = scores['test_precision_macro'].mean()\n",
    "LR_recall = scores['test_recall_macro'].mean()\n",
    "LR_f1 = scores['test_f1_weighted'].mean()\n",
    "LR_roc = scores['test_roc_auc'].mean()"
   ]
  },
  {
   "cell_type": "markdown",
   "metadata": {},
   "source": [
    "Decision Tree Classifier"
   ]
  },
  {
   "cell_type": "code",
   "execution_count": 68,
   "metadata": {},
   "outputs": [],
   "source": [
    "decision_tree = DecisionTreeClassifier()\n",
    "\n",
    "scoring = ['accuracy', 'precision_macro', 'recall_macro' , 'f1_weighted', 'roc_auc']\n",
    "scores = cross_validate(decision_tree, X, y, scoring=scoring, cv=20)\n",
    "\n",
    "sorted(scores.keys())\n",
    "dtree_fit_time = scores['fit_time'].mean()\n",
    "dtree_score_time = scores['score_time'].mean()\n",
    "dtree_accuracy = scores['test_accuracy'].mean()\n",
    "dtree_precision = scores['test_precision_macro'].mean()\n",
    "dtree_recall = scores['test_recall_macro'].mean()\n",
    "dtree_f1 = scores['test_f1_weighted'].mean()\n",
    "dtree_roc = scores['test_roc_auc'].mean()"
   ]
  },
  {
   "cell_type": "markdown",
   "metadata": {},
   "source": [
    "Random Forest Classifier"
   ]
  },
  {
   "cell_type": "code",
   "execution_count": 70,
   "metadata": {},
   "outputs": [],
   "source": [
    "random_forest = RandomForestClassifier()\n",
    "\n",
    "scoring = ['accuracy', 'precision_macro', 'recall_macro' , 'f1_weighted', 'roc_auc']\n",
    "scores = cross_validate(random_forest, X, y, scoring=scoring, cv=20)\n",
    "\n",
    "sorted(scores.keys())\n",
    "forest_fit_time = scores['fit_time'].mean()\n",
    "forest_score_time = scores['score_time'].mean()\n",
    "forest_accuracy = scores['test_accuracy'].mean()\n",
    "forest_precision = scores['test_precision_macro'].mean()\n",
    "forest_recall = scores['test_recall_macro'].mean()\n",
    "forest_f1 = scores['test_f1_weighted'].mean()\n",
    "forest_roc = scores['test_roc_auc'].mean()"
   ]
  },
  {
   "cell_type": "markdown",
   "metadata": {},
   "source": [
    "XGBoostClassifier"
   ]
  },
  {
   "cell_type": "code",
   "execution_count": 71,
   "metadata": {},
   "outputs": [],
   "source": [
    "xgb = XGBClassifier()\n",
    "\n",
    "scoring = ['accuracy', 'precision_macro', 'recall_macro' , 'f1_weighted', 'roc_auc']\n",
    "scores = cross_validate(xgb, X, y, scoring=scoring, cv=20)\n",
    "\n",
    "sorted(scores.keys())\n",
    "xgb_fit_time = scores['fit_time'].mean()\n",
    "xgb_score_time = scores['score_time'].mean()\n",
    "xgb_accuracy = scores['test_accuracy'].mean()\n",
    "xgb_precision = scores['test_precision_macro'].mean()\n",
    "xgb_recall = scores['test_recall_macro'].mean()\n",
    "xgb_f1 = scores['test_f1_weighted'].mean()\n",
    "xgb_roc = scores['test_roc_auc'].mean()"
   ]
  },
  {
   "cell_type": "markdown",
   "metadata": {},
   "source": [
    "LGBMClassifier"
   ]
  },
  {
   "cell_type": "code",
   "execution_count": 72,
   "metadata": {},
   "outputs": [],
   "source": [
    "lgbm = LGBMClassifier()\n",
    "\n",
    "scoring = ['accuracy', 'precision_macro', 'recall_macro' , 'f1_weighted', 'roc_auc']\n",
    "scores = cross_validate(lgbm, X, y, scoring=scoring, cv=20)\n",
    "\n",
    "sorted(scores.keys())\n",
    "lgbm_fit_time = scores['fit_time'].mean()\n",
    "lgbm_score_time = scores['score_time'].mean()\n",
    "lgbm_accuracy = scores['test_accuracy'].mean()\n",
    "lgbm_precision = scores['test_precision_macro'].mean()\n",
    "lgbm_recall = scores['test_recall_macro'].mean()\n",
    "lgbm_f1 = scores['test_f1_weighted'].mean()\n",
    "lgbm_roc = scores['test_roc_auc'].mean()"
   ]
  },
  {
   "cell_type": "code",
   "execution_count": 73,
   "metadata": {},
   "outputs": [
    {
     "data": {
      "text/html": [
       "<div>\n",
       "<style scoped>\n",
       "    .dataframe tbody tr th:only-of-type {\n",
       "        vertical-align: middle;\n",
       "    }\n",
       "\n",
       "    .dataframe tbody tr th {\n",
       "        vertical-align: top;\n",
       "    }\n",
       "\n",
       "    .dataframe thead th {\n",
       "        text-align: right;\n",
       "    }\n",
       "</style>\n",
       "<table border=\"1\" class=\"dataframe\">\n",
       "  <thead>\n",
       "    <tr style=\"text-align: right;\">\n",
       "      <th></th>\n",
       "      <th>Model</th>\n",
       "      <th>Fitting time</th>\n",
       "      <th>Scoring time</th>\n",
       "      <th>Accuracy</th>\n",
       "      <th>Precision</th>\n",
       "      <th>Recall</th>\n",
       "      <th>F1_score</th>\n",
       "      <th>AUC_ROC</th>\n",
       "    </tr>\n",
       "  </thead>\n",
       "  <tbody>\n",
       "    <tr>\n",
       "      <th>0</th>\n",
       "      <td>Logistic Regression</td>\n",
       "      <td>0.950739</td>\n",
       "      <td>0.018487</td>\n",
       "      <td>0.648403</td>\n",
       "      <td>0.583366</td>\n",
       "      <td>0.512204</td>\n",
       "      <td>0.534776</td>\n",
       "      <td>0.626196</td>\n",
       "    </tr>\n",
       "    <tr>\n",
       "      <th>3</th>\n",
       "      <td>Random Forest</td>\n",
       "      <td>0.630567</td>\n",
       "      <td>0.039779</td>\n",
       "      <td>0.529288</td>\n",
       "      <td>0.444889</td>\n",
       "      <td>0.450313</td>\n",
       "      <td>0.500941</td>\n",
       "      <td>0.446935</td>\n",
       "    </tr>\n",
       "    <tr>\n",
       "      <th>1</th>\n",
       "      <td>Decision Tree</td>\n",
       "      <td>0.909747</td>\n",
       "      <td>0.013846</td>\n",
       "      <td>0.395352</td>\n",
       "      <td>0.364599</td>\n",
       "      <td>0.364550</td>\n",
       "      <td>0.395075</td>\n",
       "      <td>0.364550</td>\n",
       "    </tr>\n",
       "    <tr>\n",
       "      <th>4</th>\n",
       "      <td>LGBM</td>\n",
       "      <td>2.420447</td>\n",
       "      <td>0.207743</td>\n",
       "      <td>0.321961</td>\n",
       "      <td>0.285450</td>\n",
       "      <td>0.294406</td>\n",
       "      <td>0.311626</td>\n",
       "      <td>0.274423</td>\n",
       "    </tr>\n",
       "    <tr>\n",
       "      <th>2</th>\n",
       "      <td>XGBoost</td>\n",
       "      <td>8.037702</td>\n",
       "      <td>0.051630</td>\n",
       "      <td>0.321617</td>\n",
       "      <td>0.305752</td>\n",
       "      <td>0.282854</td>\n",
       "      <td>0.311762</td>\n",
       "      <td>0.288890</td>\n",
       "    </tr>\n",
       "  </tbody>\n",
       "</table>\n",
       "</div>"
      ],
      "text/plain": [
       "                 Model  Fitting time  Scoring time  Accuracy  Precision  \\\n",
       "0  Logistic Regression      0.950739      0.018487  0.648403   0.583366   \n",
       "3        Random Forest      0.630567      0.039779  0.529288   0.444889   \n",
       "1        Decision Tree      0.909747      0.013846  0.395352   0.364599   \n",
       "4                 LGBM      2.420447      0.207743  0.321961   0.285450   \n",
       "2              XGBoost      8.037702      0.051630  0.321617   0.305752   \n",
       "\n",
       "     Recall  F1_score   AUC_ROC  \n",
       "0  0.512204  0.534776  0.626196  \n",
       "3  0.450313  0.500941  0.446935  \n",
       "1  0.364550  0.395075  0.364550  \n",
       "4  0.294406  0.311626  0.274423  \n",
       "2  0.282854  0.311762  0.288890  "
      ]
     },
     "execution_count": 73,
     "metadata": {},
     "output_type": "execute_result"
    }
   ],
   "source": [
    "models_initial = pd.DataFrame({\n",
    "    'Model'       : ['Logistic Regression', 'Decision Tree', 'XGBoost', 'Random Forest', 'LGBM'],\n",
    "    'Fitting time': [LR_fit_time, dtree_fit_time, xgb_fit_time, forest_fit_time, lgbm_fit_time],\n",
    "    'Scoring time': [LR_score_time, dtree_score_time, xgb_score_time, forest_score_time, lgbm_score_time],\n",
    "    'Accuracy'    : [LR_accuracy, dtree_accuracy, xgb_accuracy, forest_accuracy, lgbm_accuracy],\n",
    "    'Precision'   : [LR_precision, dtree_precision, xgb_precision, forest_precision, lgbm_precision],\n",
    "    'Recall'      : [LR_recall, dtree_recall, xgb_recall, forest_recall, lgbm_recall],\n",
    "    'F1_score'    : [LR_f1, dtree_f1, xgb_f1, forest_f1, lgbm_f1],\n",
    "    'AUC_ROC'     : [LR_roc, dtree_roc, xgb_roc, forest_roc, lgbm_roc],\n",
    "    }, columns = ['Model', 'Fitting time', 'Scoring time', 'Accuracy', 'Precision', 'Recall', 'F1_score', 'AUC_ROC'])\n",
    "\n",
    "models_initial.sort_values(by='Accuracy', ascending=False)"
   ]
  },
  {
   "cell_type": "markdown",
   "metadata": {},
   "source": [
    "In general, the model works very bad in dirty data, but we be able to distinguish models that were better than others on some metrics.\n",
    "\n",
    "**How to evaluate the work model?**\n",
    "\n",
    "We must pay attention to metrics which can prevent potential fraud. If we will check the suspect client and be more careful with him, it can save money for the service provider. However, if the classifier predicts that the client can't cheat and we don't take any action, the client will cheat - this is really bad.\n",
    "\n",
    "An important question is: “What is the ratio of the number of correctly predicted fraud to the total number of fraud?” This metric has the name “recall”.\n",
    "\n",
    "But more often, should use roc_auc score, which contain the two dependencies: FPR and TPR."
   ]
  },
  {
   "cell_type": "markdown",
   "metadata": {},
   "source": [
    "### Hyperparameter Optimization"
   ]
  },
  {
   "cell_type": "code",
   "execution_count": 53,
   "metadata": {},
   "outputs": [],
   "source": [
    "# cross-validation for choosing number of estimators LGBM metod\n",
    "scores_lgbm = []\n",
    "for j in range(10,201,10):\n",
    "    score = cv_meth(train2.drop(columns=['dep_var']),y,LGBMClassifier(n_estimators=j),cv=kfold, scoring='roc_auc')\n",
    "    scores_lgbm.append(score)"
   ]
  },
  {
   "cell_type": "code",
   "execution_count": 204,
   "metadata": {},
   "outputs": [
    {
     "data": {
      "application/vnd.plotly.v1+json": {
       "config": {
        "linkText": "Export to plot.ly",
        "plotlyServerURL": "https://plot.ly",
        "responsive": true,
        "showLink": false
       },
       "data": [
        {
         "type": "scatter",
         "uid": "222e9d27-741e-4a4e-aa6c-8bb7c637d404",
         "x": [
          10,
          20,
          30,
          40,
          50,
          60,
          70,
          80,
          90,
          100,
          110,
          120,
          130,
          140,
          150,
          160,
          170,
          180,
          190,
          200
         ],
         "y": [
          0.6458454140834337,
          0.6495928315017478,
          0.6498006256576563,
          0.6497105976551625,
          0.6496117478077796,
          0.6487325923596323,
          0.6470221318000515,
          0.6462731325647086,
          0.6462619927820331,
          0.6457796403786384,
          0.6442867847098316,
          0.643464862568568,
          0.6427601376518453,
          0.6412799044373483,
          0.6399254488556871,
          0.638378241302041,
          0.6378811415561472,
          0.6368120775067588,
          0.6353678930799458,
          0.6342363516752126
         ]
        }
       ],
       "layout": {
        "title": {
         "text": "Validation curve of quantity trees selection LGBM"
        },
        "xaxis": {
         "title": {
          "text": "quantity"
         }
        },
        "yaxis": {
         "title": {
          "text": "roc-auc"
         }
        }
       }
      },
      "text/html": [
       "<div>\n",
       "        \n",
       "        \n",
       "            <div id=\"abc2c82c-708c-4031-a122-c4d2b01fb576\" class=\"plotly-graph-div\" style=\"height:525px; width:100%;\"></div>\n",
       "            <script type=\"text/javascript\">\n",
       "                require([\"plotly\"], function(Plotly) {\n",
       "                    window.PLOTLYENV=window.PLOTLYENV || {};\n",
       "                    window.PLOTLYENV.BASE_URL='https://plot.ly';\n",
       "                    \n",
       "                if (document.getElementById(\"abc2c82c-708c-4031-a122-c4d2b01fb576\")) {\n",
       "                    Plotly.newPlot(\n",
       "                        'abc2c82c-708c-4031-a122-c4d2b01fb576',\n",
       "                        [{\"type\": \"scatter\", \"uid\": \"2535cae2-8c2b-4ec5-aa23-1d8e0521395e\", \"x\": [10, 20, 30, 40, 50, 60, 70, 80, 90, 100, 110, 120, 130, 140, 150, 160, 170, 180, 190, 200], \"y\": [0.6458454140834337, 0.6495928315017478, 0.6498006256576563, 0.6497105976551625, 0.6496117478077796, 0.6487325923596323, 0.6470221318000515, 0.6462731325647086, 0.6462619927820331, 0.6457796403786384, 0.6442867847098316, 0.643464862568568, 0.6427601376518453, 0.6412799044373483, 0.6399254488556871, 0.638378241302041, 0.6378811415561472, 0.6368120775067588, 0.6353678930799458, 0.6342363516752126]}],\n",
       "                        {\"title\": {\"text\": \"Validation curve of quantity trees selection LGBM\"}, \"xaxis\": {\"title\": {\"text\": \"quantity\"}}, \"yaxis\": {\"title\": {\"text\": \"roc-auc\"}}},\n",
       "                        {\"showLink\": false, \"linkText\": \"Export to plot.ly\", \"plotlyServerURL\": \"https://plot.ly\", \"responsive\": true}\n",
       "                    ).then(function(){\n",
       "                            \n",
       "var gd = document.getElementById('abc2c82c-708c-4031-a122-c4d2b01fb576');\n",
       "var x = new MutationObserver(function (mutations, observer) {{\n",
       "        var display = window.getComputedStyle(gd).display;\n",
       "        if (!display || display === 'none') {{\n",
       "            console.log([gd, 'removed!']);\n",
       "            Plotly.purge(gd);\n",
       "            observer.disconnect();\n",
       "        }}\n",
       "}});\n",
       "\n",
       "// Listen for the removal of the full notebook cells\n",
       "var notebookContainer = gd.closest('#notebook-container');\n",
       "if (notebookContainer) {{\n",
       "    x.observe(notebookContainer, {childList: true});\n",
       "}}\n",
       "\n",
       "// Listen for the clearing of the current output cell\n",
       "var outputEl = gd.closest('.output');\n",
       "if (outputEl) {{\n",
       "    x.observe(outputEl, {childList: true});\n",
       "}}\n",
       "\n",
       "                        })\n",
       "                };\n",
       "                });\n",
       "            </script>\n",
       "        </div>"
      ]
     },
     "metadata": {},
     "output_type": "display_data"
    }
   ],
   "source": [
    "# graphic\n",
    "trace1 = go.Scatter(\n",
    "    x=[i for i in range(10,201,10)],\n",
    "    y=scores_lgbm\n",
    ")\n",
    "data = [trace1]\n",
    "layout = go.Layout(title = 'Validation curve of quantity trees selection LGBM',\n",
    "          yaxis={'title':'roc-auc'}, xaxis={'title':'quantity'})\n",
    "\n",
    "fig = go.Figure(data=data, layout=layout)\n",
    "iplot(fig, show_link=False)"
   ]
  },
  {
   "cell_type": "code",
   "execution_count": 211,
   "metadata": {},
   "outputs": [
    {
     "data": {
      "image/png": "[encoded data removed]",
      "text/plain": [
       "<IPython.core.display.Image object>"
      ]
     },
     "execution_count": 211,
     "metadata": {},
     "output_type": "execute_result"
    }
   ],
   "source": [
    "Image('val_curve_quant_LGBM.png')"
   ]
  },
  {
   "cell_type": "markdown",
   "metadata": {},
   "source": [
    "Can conclude that using **LGBM** model from the box which number of trees is 100 will be overfitting and it cause such low score in base analysis. It works better than LogisticRegression with determinate number of trees."
   ]
  },
  {
   "cell_type": "code",
   "execution_count": 55,
   "metadata": {},
   "outputs": [],
   "source": [
    "# cross-validation for choosing max_depth LGBM metod\n",
    "scores_lgbm_dep = []\n",
    "for j in range(20):\n",
    "    score = cv_meth(train2.drop(columns=['dep_var']),y,LGBMClassifier(n_estimators=30,max_depth=j),cv=kfold, scoring='roc_auc')\n",
    "    scores_lgbm_dep.append(score)"
   ]
  },
  {
   "cell_type": "code",
   "execution_count": 205,
   "metadata": {},
   "outputs": [
    {
     "data": {
      "application/vnd.plotly.v1+json": {
       "config": {
        "linkText": "Export to plot.ly",
        "plotlyServerURL": "https://plot.ly",
        "responsive": true,
        "showLink": false
       },
       "data": [
        {
         "type": "scatter",
         "uid": "96dc4cea-4cc2-4875-aa32-3ce1f5887a8c",
         "x": [
          0,
          1,
          2,
          3,
          4,
          5,
          6,
          7,
          8,
          9,
          10,
          11,
          12,
          13,
          14,
          15,
          16,
          17,
          18,
          19
         ],
         "y": [
          0.6498006256576563,
          0.6385994214818169,
          0.6480099218647536,
          0.6513256888214995,
          0.6516404354016083,
          0.6499085218889133,
          0.6499768507590629,
          0.6498092641506835,
          0.6494333137329229,
          0.651011781143197,
          0.6486302086787001,
          0.6502870136497911,
          0.649203717739329,
          0.6488312522985048,
          0.6499770604175273,
          0.6499529643154803,
          0.6498088635941309,
          0.6498006256576563,
          0.6498006256576563,
          0.6498006256576563
         ]
        }
       ],
       "layout": {
        "title": {
         "text": "Validation curve of depth trees selection LGBM"
        },
        "xaxis": {
         "title": {
          "text": "depth"
         }
        },
        "yaxis": {
         "title": {
          "text": "roc-auc"
         }
        }
       }
      },
      "text/html": [
       "<div>\n",
       "        \n",
       "        \n",
       "            <div id=\"6c50483e-7a4b-47bd-acb5-ad0243aacfb9\" class=\"plotly-graph-div\" style=\"height:525px; width:100%;\"></div>\n",
       "            <script type=\"text/javascript\">\n",
       "                require([\"plotly\"], function(Plotly) {\n",
       "                    window.PLOTLYENV=window.PLOTLYENV || {};\n",
       "                    window.PLOTLYENV.BASE_URL='https://plot.ly';\n",
       "                    \n",
       "                if (document.getElementById(\"6c50483e-7a4b-47bd-acb5-ad0243aacfb9\")) {\n",
       "                    Plotly.newPlot(\n",
       "                        '6c50483e-7a4b-47bd-acb5-ad0243aacfb9',\n",
       "                        [{\"type\": \"scatter\", \"uid\": \"84b8673f-2827-4f89-bbdb-93851a725aaf\", \"x\": [0, 1, 2, 3, 4, 5, 6, 7, 8, 9, 10, 11, 12, 13, 14, 15, 16, 17, 18, 19], \"y\": [0.6498006256576563, 0.6385994214818169, 0.6480099218647536, 0.6513256888214995, 0.6516404354016083, 0.6499085218889133, 0.6499768507590629, 0.6498092641506835, 0.6494333137329229, 0.651011781143197, 0.6486302086787001, 0.6502870136497911, 0.649203717739329, 0.6488312522985048, 0.6499770604175273, 0.6499529643154803, 0.6498088635941309, 0.6498006256576563, 0.6498006256576563, 0.6498006256576563]}],\n",
       "                        {\"title\": {\"text\": \"Validation curve of depth trees selection LGBM\"}, \"xaxis\": {\"title\": {\"text\": \"depth\"}}, \"yaxis\": {\"title\": {\"text\": \"roc-auc\"}}},\n",
       "                        {\"showLink\": false, \"linkText\": \"Export to plot.ly\", \"plotlyServerURL\": \"https://plot.ly\", \"responsive\": true}\n",
       "                    ).then(function(){\n",
       "                            \n",
       "var gd = document.getElementById('6c50483e-7a4b-47bd-acb5-ad0243aacfb9');\n",
       "var x = new MutationObserver(function (mutations, observer) {{\n",
       "        var display = window.getComputedStyle(gd).display;\n",
       "        if (!display || display === 'none') {{\n",
       "            console.log([gd, 'removed!']);\n",
       "            Plotly.purge(gd);\n",
       "            observer.disconnect();\n",
       "        }}\n",
       "}});\n",
       "\n",
       "// Listen for the removal of the full notebook cells\n",
       "var notebookContainer = gd.closest('#notebook-container');\n",
       "if (notebookContainer) {{\n",
       "    x.observe(notebookContainer, {childList: true});\n",
       "}}\n",
       "\n",
       "// Listen for the clearing of the current output cell\n",
       "var outputEl = gd.closest('.output');\n",
       "if (outputEl) {{\n",
       "    x.observe(outputEl, {childList: true});\n",
       "}}\n",
       "\n",
       "                        })\n",
       "                };\n",
       "                });\n",
       "            </script>\n",
       "        </div>"
      ]
     },
     "metadata": {},
     "output_type": "display_data"
    }
   ],
   "source": [
    "trace1 = go.Scatter(\n",
    "    x=[i for i in range(20)],\n",
    "    y=scores_lgbm_dep\n",
    ")\n",
    "data = [trace1]\n",
    "layout = go.Layout(title = 'Validation curve of depth trees selection LGBM',\n",
    "          yaxis={'title':'roc-auc'}, xaxis={'title':'depth'})\n",
    "\n",
    "fig = go.Figure(data=data, layout=layout)\n",
    "iplot(fig, show_link=False)"
   ]
  },
  {
   "cell_type": "code",
   "execution_count": 210,
   "metadata": {},
   "outputs": [
    {
     "data": {
      "image/png": "[encoded data removed]",
      "text/plain": [
       "<IPython.core.display.Image object>"
      ]
     },
     "execution_count": 210,
     "metadata": {},
     "output_type": "execute_result"
    }
   ],
   "source": [
    "Image('val_curve_depth_LGBM.png')"
   ]
  },
  {
   "cell_type": "markdown",
   "metadata": {},
   "source": [
    "The deepth of trees is also must be corrected in order to avoid overfitting."
   ]
  },
  {
   "cell_type": "code",
   "execution_count": 57,
   "metadata": {},
   "outputs": [],
   "source": [
    "# for comparing cross-validation for choosing number of estimators XGB metod\n",
    "scores_xgb = []\n",
    "for j in range(10,201,10):\n",
    "    score = cv_meth(train2.drop(columns=['dep_var']),y,XGBClassifier(n_estimators=j),cv=kfold, scoring='roc_auc')\n",
    "    scores_xgb.append(score)"
   ]
  },
  {
   "cell_type": "code",
   "execution_count": 206,
   "metadata": {},
   "outputs": [
    {
     "data": {
      "application/vnd.plotly.v1+json": {
       "config": {
        "linkText": "Export to plot.ly",
        "plotlyServerURL": "https://plot.ly",
        "responsive": true,
        "showLink": false
       },
       "data": [
        {
         "type": "scatter",
         "uid": "9da9b0ce-df5f-4480-9e3a-c158fb915cf8",
         "x": [
          10,
          20,
          30,
          40,
          50,
          60,
          70,
          80,
          90,
          100,
          110,
          120,
          130,
          140,
          150,
          160,
          170,
          180,
          190,
          200
         ],
         "y": [
          0.6406396547312563,
          0.6470909360579323,
          0.6506278095880559,
          0.6521063611243413,
          0.6520979964635878,
          0.6521196789963646,
          0.6516283362175882,
          0.6515454653735689,
          0.6498505030598241,
          0.6497812021160635,
          0.6487620936515069,
          0.6490189762756133,
          0.6489740817435011,
          0.645711717151363,
          0.6457918580745857,
          0.6458413062885942,
          0.6434610710063206,
          0.6434969772935313,
          0.6429487741093224,
          0.6422998945519172
         ]
        }
       ],
       "layout": {
        "title": {
         "text": "Validation curve of quantity trees selection XGB"
        },
        "xaxis": {
         "title": {
          "text": "depth"
         }
        },
        "yaxis": {
         "title": {
          "text": "roc-auc"
         }
        }
       }
      },
      "text/html": [
       "<div>\n",
       "        \n",
       "        \n",
       "            <div id=\"3ac0fe12-9a55-47d7-93c0-e16588a9487c\" class=\"plotly-graph-div\" style=\"height:525px; width:100%;\"></div>\n",
       "            <script type=\"text/javascript\">\n",
       "                require([\"plotly\"], function(Plotly) {\n",
       "                    window.PLOTLYENV=window.PLOTLYENV || {};\n",
       "                    window.PLOTLYENV.BASE_URL='https://plot.ly';\n",
       "                    \n",
       "                if (document.getElementById(\"3ac0fe12-9a55-47d7-93c0-e16588a9487c\")) {\n",
       "                    Plotly.newPlot(\n",
       "                        '3ac0fe12-9a55-47d7-93c0-e16588a9487c',\n",
       "                        [{\"type\": \"scatter\", \"uid\": \"75e0b25a-fd7e-45a6-b599-f94e8d148f32\", \"x\": [10, 20, 30, 40, 50, 60, 70, 80, 90, 100, 110, 120, 130, 140, 150, 160, 170, 180, 190, 200], \"y\": [0.6406396547312563, 0.6470909360579323, 0.6506278095880559, 0.6521063611243413, 0.6520979964635878, 0.6521196789963646, 0.6516283362175882, 0.6515454653735689, 0.6498505030598241, 0.6497812021160635, 0.6487620936515069, 0.6490189762756133, 0.6489740817435011, 0.645711717151363, 0.6457918580745857, 0.6458413062885942, 0.6434610710063206, 0.6434969772935313, 0.6429487741093224, 0.6422998945519172]}],\n",
       "                        {\"title\": {\"text\": \"Validation curve of quantity trees selection XGB\"}, \"xaxis\": {\"title\": {\"text\": \"depth\"}}, \"yaxis\": {\"title\": {\"text\": \"roc-auc\"}}},\n",
       "                        {\"showLink\": false, \"linkText\": \"Export to plot.ly\", \"plotlyServerURL\": \"https://plot.ly\", \"responsive\": true}\n",
       "                    ).then(function(){\n",
       "                            \n",
       "var gd = document.getElementById('3ac0fe12-9a55-47d7-93c0-e16588a9487c');\n",
       "var x = new MutationObserver(function (mutations, observer) {{\n",
       "        var display = window.getComputedStyle(gd).display;\n",
       "        if (!display || display === 'none') {{\n",
       "            console.log([gd, 'removed!']);\n",
       "            Plotly.purge(gd);\n",
       "            observer.disconnect();\n",
       "        }}\n",
       "}});\n",
       "\n",
       "// Listen for the removal of the full notebook cells\n",
       "var notebookContainer = gd.closest('#notebook-container');\n",
       "if (notebookContainer) {{\n",
       "    x.observe(notebookContainer, {childList: true});\n",
       "}}\n",
       "\n",
       "// Listen for the clearing of the current output cell\n",
       "var outputEl = gd.closest('.output');\n",
       "if (outputEl) {{\n",
       "    x.observe(outputEl, {childList: true});\n",
       "}}\n",
       "\n",
       "                        })\n",
       "                };\n",
       "                });\n",
       "            </script>\n",
       "        </div>"
      ]
     },
     "metadata": {},
     "output_type": "display_data"
    }
   ],
   "source": [
    "trace1 = go.Scatter(\n",
    "    x=[i for i in range(10,201,10)],\n",
    "    y=scores_xgb\n",
    ")\n",
    "data = [trace1]\n",
    "layout = go.Layout(title = 'Validation curve of quantity trees selection XGB',\n",
    "          yaxis={'title':'roc-auc'}, xaxis={'title':'depth'})\n",
    "\n",
    "fig = go.Figure(data=data, layout=layout)\n",
    "iplot(fig, show_link=False)"
   ]
  },
  {
   "cell_type": "code",
   "execution_count": 209,
   "metadata": {},
   "outputs": [
    {
     "data": {
      "image/png": "[encoded data removed]",
      "text/plain": [
       "<IPython.core.display.Image object>"
      ]
     },
     "execution_count": 209,
     "metadata": {},
     "output_type": "execute_result"
    }
   ],
   "source": [
    "Image('val_curve_quant_xgb.png')"
   ]
  },
  {
   "cell_type": "code",
   "execution_count": 59,
   "metadata": {},
   "outputs": [],
   "source": [
    "# cross-validation for choosing C regularization parameter\n",
    "range_C = [0.0001,0.001,0.01,0.1,0.2,0.3,0.4,0.5,0.7,0.9,2,5,10]\n",
    "scores_lg_c = []\n",
    "for j in range_C:\n",
    "    score = cv_meth(train2.drop(columns=['dep_var']),y,LogisticRegression(C=j),cv=kfold, scoring='roc_auc')\n",
    "    scores_lg_c.append(score)"
   ]
  },
  {
   "cell_type": "code",
   "execution_count": 207,
   "metadata": {},
   "outputs": [
    {
     "data": {
      "application/vnd.plotly.v1+json": {
       "config": {
        "linkText": "Export to plot.ly",
        "plotlyServerURL": "https://plot.ly",
        "responsive": true,
        "showLink": false
       },
       "data": [
        {
         "type": "scatter",
         "uid": "c67952c6-2849-4910-ad8d-042555775783",
         "x": [
          0.0001,
          0.001,
          0.01,
          0.1,
          0.2,
          0.3,
          0.4,
          0.5,
          0.7,
          0.9,
          2,
          5,
          10
         ],
         "y": [
          0.6131875394041046,
          0.6129897093287321,
          0.6129822205747197,
          0.6130769283504206,
          0.6130767364788318,
          0.6129895714319076,
          0.6124341703925528,
          0.6120613447986983,
          0.6135832726301722,
          0.6126970069185985,
          0.6129552824258917,
          0.6124385195729805,
          0.6123502266216805
         ]
        }
       ],
       "layout": {
        "title": {
         "text": "Validation curve of C selection LogC"
        },
        "xaxis": {
         "title": {
          "text": "C"
         }
        },
        "yaxis": {
         "title": {
          "text": "roc-auc"
         }
        }
       }
      },
      "text/html": [
       "<div>\n",
       "        \n",
       "        \n",
       "            <div id=\"6f83c656-ac1d-4742-9adb-b5f745406908\" class=\"plotly-graph-div\" style=\"height:525px; width:100%;\"></div>\n",
       "            <script type=\"text/javascript\">\n",
       "                require([\"plotly\"], function(Plotly) {\n",
       "                    window.PLOTLYENV=window.PLOTLYENV || {};\n",
       "                    window.PLOTLYENV.BASE_URL='https://plot.ly';\n",
       "                    \n",
       "                if (document.getElementById(\"6f83c656-ac1d-4742-9adb-b5f745406908\")) {\n",
       "                    Plotly.newPlot(\n",
       "                        '6f83c656-ac1d-4742-9adb-b5f745406908',\n",
       "                        [{\"type\": \"scatter\", \"uid\": \"dbba0634-c19f-4438-adc4-07309da3334f\", \"x\": [0.0001, 0.001, 0.01, 0.1, 0.2, 0.3, 0.4, 0.5, 0.7, 0.9, 2, 5, 10], \"y\": [0.6131875394041046, 0.6129897093287321, 0.6129822205747197, 0.6130769283504206, 0.6130767364788318, 0.6129895714319076, 0.6124341703925528, 0.6120613447986983, 0.6135832726301722, 0.6126970069185985, 0.6129552824258917, 0.6124385195729805, 0.6123502266216805]}],\n",
       "                        {\"title\": {\"text\": \"Validation curve of C selection LogC\"}, \"xaxis\": {\"title\": {\"text\": \"C\"}}, \"yaxis\": {\"title\": {\"text\": \"roc-auc\"}}},\n",
       "                        {\"showLink\": false, \"linkText\": \"Export to plot.ly\", \"plotlyServerURL\": \"https://plot.ly\", \"responsive\": true}\n",
       "                    ).then(function(){\n",
       "                            \n",
       "var gd = document.getElementById('6f83c656-ac1d-4742-9adb-b5f745406908');\n",
       "var x = new MutationObserver(function (mutations, observer) {{\n",
       "        var display = window.getComputedStyle(gd).display;\n",
       "        if (!display || display === 'none') {{\n",
       "            console.log([gd, 'removed!']);\n",
       "            Plotly.purge(gd);\n",
       "            observer.disconnect();\n",
       "        }}\n",
       "}});\n",
       "\n",
       "// Listen for the removal of the full notebook cells\n",
       "var notebookContainer = gd.closest('#notebook-container');\n",
       "if (notebookContainer) {{\n",
       "    x.observe(notebookContainer, {childList: true});\n",
       "}}\n",
       "\n",
       "// Listen for the clearing of the current output cell\n",
       "var outputEl = gd.closest('.output');\n",
       "if (outputEl) {{\n",
       "    x.observe(outputEl, {childList: true});\n",
       "}}\n",
       "\n",
       "                        })\n",
       "                };\n",
       "                });\n",
       "            </script>\n",
       "        </div>"
      ]
     },
     "metadata": {},
     "output_type": "display_data"
    }
   ],
   "source": [
    "trace1 = go.Scatter(\n",
    "    x=range_C,\n",
    "    y=scores_lg_c\n",
    ")\n",
    "data = [trace1]\n",
    "layout = go.Layout(title = 'Validation curve of C selection LogC',\n",
    "          yaxis={'title':'roc-auc'}, xaxis={'title':'C'})\n",
    "\n",
    "fig = go.Figure(data=data, layout=layout)\n",
    "iplot(fig, show_link=False)"
   ]
  },
  {
   "cell_type": "code",
   "execution_count": 208,
   "metadata": {},
   "outputs": [
    {
     "data": {
      "image/png": "[encoded data removed]",
      "text/plain": [
       "<IPython.core.display.Image object>"
      ]
     },
     "execution_count": 208,
     "metadata": {},
     "output_type": "execute_result"
    }
   ],
   "source": [
    "Image('val_curve_c_LR.png')"
   ]
  },
  {
   "cell_type": "code",
   "execution_count": 61,
   "metadata": {},
   "outputs": [
    {
     "data": {
      "text/html": [
       "<div>\n",
       "<style scoped>\n",
       "    .dataframe tbody tr th:only-of-type {\n",
       "        vertical-align: middle;\n",
       "    }\n",
       "\n",
       "    .dataframe tbody tr th {\n",
       "        vertical-align: top;\n",
       "    }\n",
       "\n",
       "    .dataframe thead th {\n",
       "        text-align: right;\n",
       "    }\n",
       "</style>\n",
       "<table border=\"1\" class=\"dataframe\">\n",
       "  <thead>\n",
       "    <tr style=\"text-align: right;\">\n",
       "      <th></th>\n",
       "      <th>account_id</th>\n",
       "      <th>client_id</th>\n",
       "      <th>time_msw</th>\n",
       "      <th>dep_var</th>\n",
       "      <th>month_verif</th>\n",
       "      <th>var1</th>\n",
       "      <th>var3</th>\n",
       "      <th>var4</th>\n",
       "      <th>var5</th>\n",
       "      <th>var6</th>\n",
       "      <th>...</th>\n",
       "      <th>var145</th>\n",
       "      <th>var146</th>\n",
       "      <th>var147</th>\n",
       "      <th>var148</th>\n",
       "      <th>var149</th>\n",
       "      <th>var150</th>\n",
       "      <th>var151</th>\n",
       "      <th>var152</th>\n",
       "      <th>var153</th>\n",
       "      <th>var154</th>\n",
       "    </tr>\n",
       "  </thead>\n",
       "  <tbody>\n",
       "    <tr>\n",
       "      <th>1</th>\n",
       "      <td>0</td>\n",
       "      <td>211807</td>\n",
       "      <td>0</td>\n",
       "      <td>0.0</td>\n",
       "      <td>201609</td>\n",
       "      <td>1.0</td>\n",
       "      <td>1.0</td>\n",
       "      <td>1.0</td>\n",
       "      <td>1</td>\n",
       "      <td>0</td>\n",
       "      <td>...</td>\n",
       "      <td>-1</td>\n",
       "      <td>-1</td>\n",
       "      <td>-1</td>\n",
       "      <td>-1</td>\n",
       "      <td>-1</td>\n",
       "      <td>-1</td>\n",
       "      <td>0</td>\n",
       "      <td>0</td>\n",
       "      <td>0</td>\n",
       "      <td>7</td>\n",
       "    </tr>\n",
       "    <tr>\n",
       "      <th>3</th>\n",
       "      <td>0</td>\n",
       "      <td>193611</td>\n",
       "      <td>1</td>\n",
       "      <td>0.0</td>\n",
       "      <td>201609</td>\n",
       "      <td>0.0</td>\n",
       "      <td>0.0</td>\n",
       "      <td>0.0</td>\n",
       "      <td>1</td>\n",
       "      <td>0</td>\n",
       "      <td>...</td>\n",
       "      <td>-1</td>\n",
       "      <td>-1</td>\n",
       "      <td>-1</td>\n",
       "      <td>-1</td>\n",
       "      <td>-1</td>\n",
       "      <td>-1</td>\n",
       "      <td>0</td>\n",
       "      <td>0</td>\n",
       "      <td>0</td>\n",
       "      <td>3</td>\n",
       "    </tr>\n",
       "    <tr>\n",
       "      <th>10</th>\n",
       "      <td>0</td>\n",
       "      <td>211812</td>\n",
       "      <td>2</td>\n",
       "      <td>0.0</td>\n",
       "      <td>201609</td>\n",
       "      <td>1.0</td>\n",
       "      <td>1.0</td>\n",
       "      <td>1.0</td>\n",
       "      <td>1</td>\n",
       "      <td>0</td>\n",
       "      <td>...</td>\n",
       "      <td>-1</td>\n",
       "      <td>-1</td>\n",
       "      <td>-1</td>\n",
       "      <td>-1</td>\n",
       "      <td>-1</td>\n",
       "      <td>-1</td>\n",
       "      <td>0</td>\n",
       "      <td>0</td>\n",
       "      <td>0</td>\n",
       "      <td>3</td>\n",
       "    </tr>\n",
       "    <tr>\n",
       "      <th>11</th>\n",
       "      <td>0</td>\n",
       "      <td>211814</td>\n",
       "      <td>3</td>\n",
       "      <td>0.0</td>\n",
       "      <td>201609</td>\n",
       "      <td>1.0</td>\n",
       "      <td>1.0</td>\n",
       "      <td>1.0</td>\n",
       "      <td>1</td>\n",
       "      <td>1</td>\n",
       "      <td>...</td>\n",
       "      <td>-1</td>\n",
       "      <td>-1</td>\n",
       "      <td>-1</td>\n",
       "      <td>-1</td>\n",
       "      <td>-1</td>\n",
       "      <td>-1</td>\n",
       "      <td>0</td>\n",
       "      <td>0</td>\n",
       "      <td>0</td>\n",
       "      <td>3</td>\n",
       "    </tr>\n",
       "    <tr>\n",
       "      <th>13</th>\n",
       "      <td>0</td>\n",
       "      <td>56232</td>\n",
       "      <td>4</td>\n",
       "      <td>0.0</td>\n",
       "      <td>201609</td>\n",
       "      <td>1.0</td>\n",
       "      <td>1.0</td>\n",
       "      <td>1.0</td>\n",
       "      <td>1</td>\n",
       "      <td>0</td>\n",
       "      <td>...</td>\n",
       "      <td>-1</td>\n",
       "      <td>-1</td>\n",
       "      <td>-1</td>\n",
       "      <td>-1</td>\n",
       "      <td>-1</td>\n",
       "      <td>-1</td>\n",
       "      <td>0</td>\n",
       "      <td>0</td>\n",
       "      <td>0</td>\n",
       "      <td>3</td>\n",
       "    </tr>\n",
       "  </tbody>\n",
       "</table>\n",
       "<p>5 rows × 155 columns</p>\n",
       "</div>"
      ],
      "text/plain": [
       "    account_id  client_id  time_msw  dep_var  month_verif  var1  var3  var4  \\\n",
       "1            0     211807         0      0.0       201609   1.0   1.0   1.0   \n",
       "3            0     193611         1      0.0       201609   0.0   0.0   0.0   \n",
       "10           0     211812         2      0.0       201609   1.0   1.0   1.0   \n",
       "11           0     211814         3      0.0       201609   1.0   1.0   1.0   \n",
       "13           0      56232         4      0.0       201609   1.0   1.0   1.0   \n",
       "\n",
       "    var5  var6  ...  var145  var146  var147  var148  var149  var150  var151  \\\n",
       "1      1     0  ...      -1      -1      -1      -1      -1      -1       0   \n",
       "3      1     0  ...      -1      -1      -1      -1      -1      -1       0   \n",
       "10     1     0  ...      -1      -1      -1      -1      -1      -1       0   \n",
       "11     1     1  ...      -1      -1      -1      -1      -1      -1       0   \n",
       "13     1     0  ...      -1      -1      -1      -1      -1      -1       0   \n",
       "\n",
       "    var152  var153  var154  \n",
       "1        0       0       7  \n",
       "3        0       0       3  \n",
       "10       0       0       3  \n",
       "11       0       0       3  \n",
       "13       0       0       3  \n",
       "\n",
       "[5 rows x 155 columns]"
      ]
     },
     "execution_count": 61,
     "metadata": {},
     "output_type": "execute_result"
    }
   ],
   "source": [
    "train.head()"
   ]
  },
  {
   "cell_type": "code",
   "execution_count": 62,
   "metadata": {},
   "outputs": [
    {
     "name": "stdout",
     "output_type": "stream",
     "text": [
      "roc_auc: 0.5385578344990868\n"
     ]
    }
   ],
   "source": [
    "cv_score3 = cv_meth(train2.drop(columns=['dep_var']), y,LGBMClassifier(n_estimators=30,max_depth=4), cv=5, scoring='roc_auc')\n",
    "print('roc_auc:',cv_score3)"
   ]
  },
  {
   "cell_type": "code",
   "execution_count": 63,
   "metadata": {},
   "outputs": [],
   "source": [
    "df_scores = df_scores.append({'model':'LGBMClassifier','score':np.mean(cv_score3), 'metric':'roc_auc',\n",
    "                              'parameters':'n_estimators=30,max_depth=4',\n",
    "                              'commit':'CV 5 folds; determinate labels; drop test_cr_decision',\n",
    "                              'time':datetime.now(),\n",
    "                             'variables':'train2,cv_score3'}, ignore_index = True)"
   ]
  },
  {
   "cell_type": "code",
   "execution_count": 64,
   "metadata": {},
   "outputs": [
    {
     "name": "stdout",
     "output_type": "stream",
     "text": [
      "roc_auc: 0.6203912650191047\n"
     ]
    }
   ],
   "source": [
    "cv_score4 = cv_meth(train.drop(columns=['dep_var']), y,LogisticRegression(C=0.9), cv=7, scoring='roc_auc')\n",
    "print('roc_auc:',cv_score4)"
   ]
  },
  {
   "cell_type": "code",
   "execution_count": 65,
   "metadata": {},
   "outputs": [],
   "source": [
    "df_scores = df_scores.append({'model':'LogisticRegression','score':np.mean(cv_score4), 'metric':'roc_auc',\n",
    "                              'parameters':'C=0.9',\n",
    "                              'commit':'CV 5 folds; determinate labels; drop test_cr_decision',\n",
    "                              'time':datetime.now(),\n",
    "                             'variables':'train3,cv_score4'}, ignore_index = True)"
   ]
  },
  {
   "cell_type": "markdown",
   "metadata": {},
   "source": [
    "Time features"
   ]
  },
  {
   "cell_type": "code",
   "execution_count": 74,
   "metadata": {},
   "outputs": [
    {
     "data": {
      "text/html": [
       "<div>\n",
       "<style scoped>\n",
       "    .dataframe tbody tr th:only-of-type {\n",
       "        vertical-align: middle;\n",
       "    }\n",
       "\n",
       "    .dataframe tbody tr th {\n",
       "        vertical-align: top;\n",
       "    }\n",
       "\n",
       "    .dataframe thead th {\n",
       "        text-align: right;\n",
       "    }\n",
       "</style>\n",
       "<table border=\"1\" class=\"dataframe\">\n",
       "  <thead>\n",
       "    <tr style=\"text-align: right;\">\n",
       "      <th></th>\n",
       "      <th>account_id</th>\n",
       "      <th>client_id</th>\n",
       "      <th>time_msw</th>\n",
       "      <th>dep_var</th>\n",
       "      <th>month_verif</th>\n",
       "      <th>var1</th>\n",
       "      <th>var3</th>\n",
       "      <th>var4</th>\n",
       "      <th>var5</th>\n",
       "      <th>var6</th>\n",
       "      <th>...</th>\n",
       "      <th>var145</th>\n",
       "      <th>var146</th>\n",
       "      <th>var147</th>\n",
       "      <th>var148</th>\n",
       "      <th>var149</th>\n",
       "      <th>var150</th>\n",
       "      <th>var151</th>\n",
       "      <th>var152</th>\n",
       "      <th>var153</th>\n",
       "      <th>var154</th>\n",
       "    </tr>\n",
       "  </thead>\n",
       "  <tbody>\n",
       "    <tr>\n",
       "      <th>1</th>\n",
       "      <td>0</td>\n",
       "      <td>211807</td>\n",
       "      <td>0</td>\n",
       "      <td>0.0</td>\n",
       "      <td>201609</td>\n",
       "      <td>1.0</td>\n",
       "      <td>1.0</td>\n",
       "      <td>1.0</td>\n",
       "      <td>1</td>\n",
       "      <td>0</td>\n",
       "      <td>...</td>\n",
       "      <td>-1</td>\n",
       "      <td>-1</td>\n",
       "      <td>-1</td>\n",
       "      <td>-1</td>\n",
       "      <td>-1</td>\n",
       "      <td>-1</td>\n",
       "      <td>0</td>\n",
       "      <td>0</td>\n",
       "      <td>0</td>\n",
       "      <td>7</td>\n",
       "    </tr>\n",
       "    <tr>\n",
       "      <th>3</th>\n",
       "      <td>0</td>\n",
       "      <td>193611</td>\n",
       "      <td>1</td>\n",
       "      <td>0.0</td>\n",
       "      <td>201609</td>\n",
       "      <td>0.0</td>\n",
       "      <td>0.0</td>\n",
       "      <td>0.0</td>\n",
       "      <td>1</td>\n",
       "      <td>0</td>\n",
       "      <td>...</td>\n",
       "      <td>-1</td>\n",
       "      <td>-1</td>\n",
       "      <td>-1</td>\n",
       "      <td>-1</td>\n",
       "      <td>-1</td>\n",
       "      <td>-1</td>\n",
       "      <td>0</td>\n",
       "      <td>0</td>\n",
       "      <td>0</td>\n",
       "      <td>3</td>\n",
       "    </tr>\n",
       "    <tr>\n",
       "      <th>10</th>\n",
       "      <td>0</td>\n",
       "      <td>211812</td>\n",
       "      <td>2</td>\n",
       "      <td>0.0</td>\n",
       "      <td>201609</td>\n",
       "      <td>1.0</td>\n",
       "      <td>1.0</td>\n",
       "      <td>1.0</td>\n",
       "      <td>1</td>\n",
       "      <td>0</td>\n",
       "      <td>...</td>\n",
       "      <td>-1</td>\n",
       "      <td>-1</td>\n",
       "      <td>-1</td>\n",
       "      <td>-1</td>\n",
       "      <td>-1</td>\n",
       "      <td>-1</td>\n",
       "      <td>0</td>\n",
       "      <td>0</td>\n",
       "      <td>0</td>\n",
       "      <td>3</td>\n",
       "    </tr>\n",
       "    <tr>\n",
       "      <th>11</th>\n",
       "      <td>0</td>\n",
       "      <td>211814</td>\n",
       "      <td>3</td>\n",
       "      <td>0.0</td>\n",
       "      <td>201609</td>\n",
       "      <td>1.0</td>\n",
       "      <td>1.0</td>\n",
       "      <td>1.0</td>\n",
       "      <td>1</td>\n",
       "      <td>1</td>\n",
       "      <td>...</td>\n",
       "      <td>-1</td>\n",
       "      <td>-1</td>\n",
       "      <td>-1</td>\n",
       "      <td>-1</td>\n",
       "      <td>-1</td>\n",
       "      <td>-1</td>\n",
       "      <td>0</td>\n",
       "      <td>0</td>\n",
       "      <td>0</td>\n",
       "      <td>3</td>\n",
       "    </tr>\n",
       "    <tr>\n",
       "      <th>13</th>\n",
       "      <td>0</td>\n",
       "      <td>56232</td>\n",
       "      <td>4</td>\n",
       "      <td>0.0</td>\n",
       "      <td>201609</td>\n",
       "      <td>1.0</td>\n",
       "      <td>1.0</td>\n",
       "      <td>1.0</td>\n",
       "      <td>1</td>\n",
       "      <td>0</td>\n",
       "      <td>...</td>\n",
       "      <td>-1</td>\n",
       "      <td>-1</td>\n",
       "      <td>-1</td>\n",
       "      <td>-1</td>\n",
       "      <td>-1</td>\n",
       "      <td>-1</td>\n",
       "      <td>0</td>\n",
       "      <td>0</td>\n",
       "      <td>0</td>\n",
       "      <td>3</td>\n",
       "    </tr>\n",
       "  </tbody>\n",
       "</table>\n",
       "<p>5 rows × 155 columns</p>\n",
       "</div>"
      ],
      "text/plain": [
       "    account_id  client_id  time_msw  dep_var  month_verif  var1  var3  var4  \\\n",
       "1            0     211807         0      0.0       201609   1.0   1.0   1.0   \n",
       "3            0     193611         1      0.0       201609   0.0   0.0   0.0   \n",
       "10           0     211812         2      0.0       201609   1.0   1.0   1.0   \n",
       "11           0     211814         3      0.0       201609   1.0   1.0   1.0   \n",
       "13           0      56232         4      0.0       201609   1.0   1.0   1.0   \n",
       "\n",
       "    var5  var6  ...  var145  var146  var147  var148  var149  var150  var151  \\\n",
       "1      1     0  ...      -1      -1      -1      -1      -1      -1       0   \n",
       "3      1     0  ...      -1      -1      -1      -1      -1      -1       0   \n",
       "10     1     0  ...      -1      -1      -1      -1      -1      -1       0   \n",
       "11     1     1  ...      -1      -1      -1      -1      -1      -1       0   \n",
       "13     1     0  ...      -1      -1      -1      -1      -1      -1       0   \n",
       "\n",
       "    var152  var153  var154  \n",
       "1        0       0       7  \n",
       "3        0       0       3  \n",
       "10       0       0       3  \n",
       "11       0       0       3  \n",
       "13       0       0       3  \n",
       "\n",
       "[5 rows x 155 columns]"
      ]
     },
     "execution_count": 74,
     "metadata": {},
     "output_type": "execute_result"
    }
   ],
   "source": [
    "train.head()"
   ]
  },
  {
   "cell_type": "markdown",
   "metadata": {},
   "source": [
    "Used df with known labels"
   ]
  },
  {
   "cell_type": "code",
   "execution_count": 75,
   "metadata": {},
   "outputs": [],
   "source": [
    "train.time_msw = pd.to_datetime(train.time_msw)\n",
    "train['start_time_s'] = train['time_msw'].apply(lambda ts: \n",
    "                                                      10000 * ts.hour + ts.minute*100 + ts.second).astype('int')\n",
    "train['month_verif'] = train['time_msw'].apply(lambda ts:ts.month).astype('int')\n",
    "train['hour'] = train['time_msw'].apply(lambda ts:ts.hour).astype('int')\n",
    "train = train.drop(columns=['time_msw'])\n",
    "train = train.drop(columns=['month_verif'])"
   ]
  },
  {
   "cell_type": "code",
   "execution_count": 76,
   "metadata": {},
   "outputs": [],
   "source": [
    "object_feat.remove('time_msw')"
   ]
  },
  {
   "cell_type": "code",
   "execution_count": 77,
   "metadata": {},
   "outputs": [
    {
     "name": "stdout",
     "output_type": "stream",
     "text": [
      "roc_auc: 0.5130055714056004\n"
     ]
    }
   ],
   "source": [
    "cv_score5 = cv_meth(train.drop(columns=['dep_var']), y,LGBMClassifier(n_estimators=30,max_depth=4), cv=7, scoring='roc_auc')\n",
    "print('roc_auc:',np.mean(cv_score5))"
   ]
  },
  {
   "cell_type": "code",
   "execution_count": 78,
   "metadata": {},
   "outputs": [],
   "source": [
    "train5 = train"
   ]
  },
  {
   "cell_type": "code",
   "execution_count": 79,
   "metadata": {},
   "outputs": [],
   "source": [
    "df_scores = df_scores.append({'model':'LGBMClassifier','score':np.mean(cv_score5), 'metric':'roc_auc',\n",
    "                              'parameters':'n_estimators=30,max_depth=4',\n",
    "                              'commit':'CV 5 folds; determinate labels; test_cr_performance, drop test_cr_decision; time features',\n",
    "                              'time':datetime.now(),\n",
    "                              'variables':'train5,cv_score5'},ignore_index = True)"
   ]
  },
  {
   "cell_type": "markdown",
   "metadata": {},
   "source": [
    "Used feature_importances_ of LGBM to overlook weight of features"
   ]
  },
  {
   "cell_type": "code",
   "execution_count": 80,
   "metadata": {},
   "outputs": [],
   "source": [
    "clf = LGBMClassifier(n_estimators=30,max_depth=4)"
   ]
  },
  {
   "cell_type": "code",
   "execution_count": 81,
   "metadata": {},
   "outputs": [
    {
     "data": {
      "text/plain": [
       "LGBMClassifier(boosting_type='gbdt', class_weight=None, colsample_bytree=1.0,\n",
       "        importance_type='split', learning_rate=0.1, max_depth=4,\n",
       "        min_child_samples=20, min_child_weight=0.001, min_split_gain=0.0,\n",
       "        n_estimators=30, n_jobs=-1, num_leaves=31, objective=None,\n",
       "        random_state=None, reg_alpha=0.0, reg_lambda=0.0, silent=True,\n",
       "        subsample=1.0, subsample_for_bin=200000, subsample_freq=0)"
      ]
     },
     "execution_count": 81,
     "metadata": {},
     "output_type": "execute_result"
    }
   ],
   "source": [
    "X = train.drop(columns=['dep_var'])\n",
    "object_feat = []\n",
    "for col in train.columns:\n",
    "    if (train[col].dtypes == object):\n",
    "        object_feat.append(col)\n",
    "for i in object_feat:\n",
    "    X[i] = pd.factorize(X[i])[0]\n",
    "clf.fit(X.fillna(-1),y)"
   ]
  },
  {
   "cell_type": "code",
   "execution_count": 82,
   "metadata": {},
   "outputs": [],
   "source": [
    "weights = pd.DataFrame(columns=['name','weight'])\n",
    "weights['name'] = X.columns\n",
    "weights['weight'] = clf.feature_importances_"
   ]
  },
  {
   "cell_type": "code",
   "execution_count": 83,
   "metadata": {},
   "outputs": [
    {
     "data": {
      "text/html": [
       "<div>\n",
       "<style scoped>\n",
       "    .dataframe tbody tr th:only-of-type {\n",
       "        vertical-align: middle;\n",
       "    }\n",
       "\n",
       "    .dataframe tbody tr th {\n",
       "        vertical-align: top;\n",
       "    }\n",
       "\n",
       "    .dataframe thead th {\n",
       "        text-align: right;\n",
       "    }\n",
       "</style>\n",
       "<table border=\"1\" class=\"dataframe\">\n",
       "  <thead>\n",
       "    <tr style=\"text-align: right;\">\n",
       "      <th></th>\n",
       "      <th>name</th>\n",
       "      <th>weight</th>\n",
       "    </tr>\n",
       "  </thead>\n",
       "  <tbody>\n",
       "    <tr>\n",
       "      <th>44</th>\n",
       "      <td>var45</td>\n",
       "      <td>53</td>\n",
       "    </tr>\n",
       "    <tr>\n",
       "      <th>1</th>\n",
       "      <td>client_id</td>\n",
       "      <td>40</td>\n",
       "    </tr>\n",
       "    <tr>\n",
       "      <th>38</th>\n",
       "      <td>var39</td>\n",
       "      <td>35</td>\n",
       "    </tr>\n",
       "    <tr>\n",
       "      <th>73</th>\n",
       "      <td>var74</td>\n",
       "      <td>29</td>\n",
       "    </tr>\n",
       "    <tr>\n",
       "      <th>151</th>\n",
       "      <td>var154</td>\n",
       "      <td>26</td>\n",
       "    </tr>\n",
       "    <tr>\n",
       "      <th>40</th>\n",
       "      <td>var41</td>\n",
       "      <td>23</td>\n",
       "    </tr>\n",
       "    <tr>\n",
       "      <th>148</th>\n",
       "      <td>var151</td>\n",
       "      <td>13</td>\n",
       "    </tr>\n",
       "    <tr>\n",
       "      <th>42</th>\n",
       "      <td>var43</td>\n",
       "      <td>11</td>\n",
       "    </tr>\n",
       "    <tr>\n",
       "      <th>107</th>\n",
       "      <td>var110</td>\n",
       "      <td>11</td>\n",
       "    </tr>\n",
       "    <tr>\n",
       "      <th>17</th>\n",
       "      <td>var17</td>\n",
       "      <td>10</td>\n",
       "    </tr>\n",
       "    <tr>\n",
       "      <th>99</th>\n",
       "      <td>var100</td>\n",
       "      <td>10</td>\n",
       "    </tr>\n",
       "    <tr>\n",
       "      <th>103</th>\n",
       "      <td>var106</td>\n",
       "      <td>9</td>\n",
       "    </tr>\n",
       "    <tr>\n",
       "      <th>102</th>\n",
       "      <td>var105</td>\n",
       "      <td>9</td>\n",
       "    </tr>\n",
       "    <tr>\n",
       "      <th>106</th>\n",
       "      <td>var109</td>\n",
       "      <td>9</td>\n",
       "    </tr>\n",
       "    <tr>\n",
       "      <th>7</th>\n",
       "      <td>var7</td>\n",
       "      <td>8</td>\n",
       "    </tr>\n",
       "    <tr>\n",
       "      <th>60</th>\n",
       "      <td>var61</td>\n",
       "      <td>8</td>\n",
       "    </tr>\n",
       "    <tr>\n",
       "      <th>61</th>\n",
       "      <td>var62</td>\n",
       "      <td>8</td>\n",
       "    </tr>\n",
       "    <tr>\n",
       "      <th>13</th>\n",
       "      <td>var13</td>\n",
       "      <td>7</td>\n",
       "    </tr>\n",
       "    <tr>\n",
       "      <th>83</th>\n",
       "      <td>var84</td>\n",
       "      <td>7</td>\n",
       "    </tr>\n",
       "    <tr>\n",
       "      <th>57</th>\n",
       "      <td>var58</td>\n",
       "      <td>6</td>\n",
       "    </tr>\n",
       "  </tbody>\n",
       "</table>\n",
       "</div>"
      ],
      "text/plain": [
       "          name  weight\n",
       "44       var45      53\n",
       "1    client_id      40\n",
       "38       var39      35\n",
       "73       var74      29\n",
       "151     var154      26\n",
       "40       var41      23\n",
       "148     var151      13\n",
       "42       var43      11\n",
       "107     var110      11\n",
       "17       var17      10\n",
       "99      var100      10\n",
       "103     var106       9\n",
       "102     var105       9\n",
       "106     var109       9\n",
       "7         var7       8\n",
       "60       var61       8\n",
       "61       var62       8\n",
       "13       var13       7\n",
       "83       var84       7\n",
       "57       var58       6"
      ]
     },
     "execution_count": 83,
     "metadata": {},
     "output_type": "execute_result"
    }
   ],
   "source": [
    "weights.sort_values(by='weight',ascending=False)[:20]"
   ]
  },
  {
   "cell_type": "code",
   "execution_count": 84,
   "metadata": {},
   "outputs": [
    {
     "data": {
      "text/html": [
       "\n",
       "    <style>\n",
       "    table.eli5-weights tr:hover {\n",
       "        filter: brightness(85%);\n",
       "    }\n",
       "</style>\n",
       "\n",
       "\n",
       "\n",
       "    \n",
       "\n",
       "    \n",
       "\n",
       "    \n",
       "\n",
       "    \n",
       "\n",
       "    \n",
       "\n",
       "    \n",
       "\n",
       "\n",
       "    \n",
       "\n",
       "    \n",
       "\n",
       "    \n",
       "\n",
       "    \n",
       "\n",
       "    \n",
       "\n",
       "    \n",
       "\n",
       "\n",
       "    \n",
       "\n",
       "    \n",
       "\n",
       "    \n",
       "\n",
       "    \n",
       "\n",
       "    \n",
       "        <table class=\"eli5-weights eli5-feature-importances\" style=\"border-collapse: collapse; border: none; margin-top: 0em; table-layout: auto;\">\n",
       "    <thead>\n",
       "    <tr style=\"border: none;\">\n",
       "        <th style=\"padding: 0 1em 0 0.5em; text-align: right; border: none;\">Weight</th>\n",
       "        <th style=\"padding: 0 0.5em 0 0.5em; text-align: left; border: none;\">Feature</th>\n",
       "    </tr>\n",
       "    </thead>\n",
       "    <tbody>\n",
       "    \n",
       "        <tr style=\"background-color: hsl(120, 100.00%, 80.00%); border: none;\">\n",
       "            <td style=\"padding: 0 1em 0 0.5em; text-align: right; border: none;\">\n",
       "                0.3179\n",
       "                \n",
       "            </td>\n",
       "            <td style=\"padding: 0 0.5em 0 0.5em; text-align: left; border: none;\">\n",
       "                client_id\n",
       "            </td>\n",
       "        </tr>\n",
       "    \n",
       "        <tr style=\"background-color: hsl(120, 100.00%, 89.68%); border: none;\">\n",
       "            <td style=\"padding: 0 1em 0 0.5em; text-align: right; border: none;\">\n",
       "                0.1235\n",
       "                \n",
       "            </td>\n",
       "            <td style=\"padding: 0 0.5em 0 0.5em; text-align: left; border: none;\">\n",
       "                var45\n",
       "            </td>\n",
       "        </tr>\n",
       "    \n",
       "        <tr style=\"background-color: hsl(120, 100.00%, 91.73%); border: none;\">\n",
       "            <td style=\"padding: 0 1em 0 0.5em; text-align: right; border: none;\">\n",
       "                0.0900\n",
       "                \n",
       "            </td>\n",
       "            <td style=\"padding: 0 0.5em 0 0.5em; text-align: left; border: none;\">\n",
       "                var152\n",
       "            </td>\n",
       "        </tr>\n",
       "    \n",
       "        <tr style=\"background-color: hsl(120, 100.00%, 93.48%); border: none;\">\n",
       "            <td style=\"padding: 0 1em 0 0.5em; text-align: right; border: none;\">\n",
       "                0.0641\n",
       "                \n",
       "            </td>\n",
       "            <td style=\"padding: 0 0.5em 0 0.5em; text-align: left; border: none;\">\n",
       "                var74\n",
       "            </td>\n",
       "        </tr>\n",
       "    \n",
       "        <tr style=\"background-color: hsl(120, 100.00%, 94.27%); border: none;\">\n",
       "            <td style=\"padding: 0 1em 0 0.5em; text-align: right; border: none;\">\n",
       "                0.0533\n",
       "                \n",
       "            </td>\n",
       "            <td style=\"padding: 0 0.5em 0 0.5em; text-align: left; border: none;\">\n",
       "                var39\n",
       "            </td>\n",
       "        </tr>\n",
       "    \n",
       "        <tr style=\"background-color: hsl(120, 100.00%, 95.35%); border: none;\">\n",
       "            <td style=\"padding: 0 1em 0 0.5em; text-align: right; border: none;\">\n",
       "                0.0395\n",
       "                \n",
       "            </td>\n",
       "            <td style=\"padding: 0 0.5em 0 0.5em; text-align: left; border: none;\">\n",
       "                var109\n",
       "            </td>\n",
       "        </tr>\n",
       "    \n",
       "        <tr style=\"background-color: hsl(120, 100.00%, 95.36%); border: none;\">\n",
       "            <td style=\"padding: 0 1em 0 0.5em; text-align: right; border: none;\">\n",
       "                0.0395\n",
       "                \n",
       "            </td>\n",
       "            <td style=\"padding: 0 0.5em 0 0.5em; text-align: left; border: none;\">\n",
       "                var41\n",
       "            </td>\n",
       "        </tr>\n",
       "    \n",
       "        <tr style=\"background-color: hsl(120, 100.00%, 96.13%); border: none;\">\n",
       "            <td style=\"padding: 0 1em 0 0.5em; text-align: right; border: none;\">\n",
       "                0.0304\n",
       "                \n",
       "            </td>\n",
       "            <td style=\"padding: 0 0.5em 0 0.5em; text-align: left; border: none;\">\n",
       "                var154\n",
       "            </td>\n",
       "        </tr>\n",
       "    \n",
       "        <tr style=\"background-color: hsl(120, 100.00%, 96.97%); border: none;\">\n",
       "            <td style=\"padding: 0 1em 0 0.5em; text-align: right; border: none;\">\n",
       "                0.0215\n",
       "                \n",
       "            </td>\n",
       "            <td style=\"padding: 0 0.5em 0 0.5em; text-align: left; border: none;\">\n",
       "                var13\n",
       "            </td>\n",
       "        </tr>\n",
       "    \n",
       "        <tr style=\"background-color: hsl(120, 100.00%, 97.00%); border: none;\">\n",
       "            <td style=\"padding: 0 1em 0 0.5em; text-align: right; border: none;\">\n",
       "                0.0211\n",
       "                \n",
       "            </td>\n",
       "            <td style=\"padding: 0 0.5em 0 0.5em; text-align: left; border: none;\">\n",
       "                var151\n",
       "            </td>\n",
       "        </tr>\n",
       "    \n",
       "    \n",
       "        \n",
       "            <tr style=\"background-color: hsl(120, 100.00%, 97.00%); border: none;\">\n",
       "                <td colspan=\"2\" style=\"padding: 0 0.5em 0 0.5em; text-align: center; border: none; white-space: nowrap;\">\n",
       "                    <i>&hellip; 144 more &hellip;</i>\n",
       "                </td>\n",
       "            </tr>\n",
       "        \n",
       "    \n",
       "    </tbody>\n",
       "</table>\n",
       "    \n",
       "\n",
       "    \n",
       "\n",
       "\n",
       "    \n",
       "\n",
       "    \n",
       "\n",
       "    \n",
       "\n",
       "    \n",
       "\n",
       "    \n",
       "\n",
       "    \n",
       "\n",
       "\n",
       "\n"
      ],
      "text/plain": [
       "<IPython.core.display.HTML object>"
      ]
     },
     "execution_count": 84,
     "metadata": {},
     "output_type": "execute_result"
    }
   ],
   "source": [
    "# used eli5\n",
    "eli5.show_weights(clf, top=10,\n",
    "                  feature_filter=lambda x: x != '<BIAS>')"
   ]
  },
  {
   "cell_type": "markdown",
   "metadata": {},
   "source": [
    "Let's check the most important features"
   ]
  },
  {
   "cell_type": "markdown",
   "metadata": {},
   "source": [
    "**var74**"
   ]
  },
  {
   "cell_type": "code",
   "execution_count": 85,
   "metadata": {},
   "outputs": [
    {
     "data": {
      "text/plain": [
       "149"
      ]
     },
     "execution_count": 85,
     "metadata": {},
     "output_type": "execute_result"
    }
   ],
   "source": [
    "len(train.var74.unique())"
   ]
  },
  {
   "cell_type": "code",
   "execution_count": 86,
   "metadata": {},
   "outputs": [
    {
     "data": {
      "text/html": [
       "<div>\n",
       "<style scoped>\n",
       "    .dataframe tbody tr th:only-of-type {\n",
       "        vertical-align: middle;\n",
       "    }\n",
       "\n",
       "    .dataframe tbody tr th {\n",
       "        vertical-align: top;\n",
       "    }\n",
       "\n",
       "    .dataframe thead th {\n",
       "        text-align: right;\n",
       "    }\n",
       "</style>\n",
       "<table border=\"1\" class=\"dataframe\">\n",
       "  <thead>\n",
       "    <tr style=\"text-align: right;\">\n",
       "      <th>var74</th>\n",
       "      <th>AG Neovo</th>\n",
       "      <th>AOL</th>\n",
       "      <th>AT&amp;T</th>\n",
       "      <th>Acer</th>\n",
       "      <th>Adcom</th>\n",
       "      <th>Advan</th>\n",
       "      <th>Advent</th>\n",
       "      <th>Alcatel</th>\n",
       "      <th>Amazon</th>\n",
       "      <th>Apple</th>\n",
       "      <th>...</th>\n",
       "      <th>Wileyfox</th>\n",
       "      <th>Xiaomi</th>\n",
       "      <th>Yandex</th>\n",
       "      <th>Yota Devices</th>\n",
       "      <th>Yuntab</th>\n",
       "      <th>ZTE</th>\n",
       "      <th>Zifro</th>\n",
       "      <th>bq</th>\n",
       "      <th>iNew</th>\n",
       "      <th>iView</th>\n",
       "    </tr>\n",
       "    <tr>\n",
       "      <th>dep_var</th>\n",
       "      <th></th>\n",
       "      <th></th>\n",
       "      <th></th>\n",
       "      <th></th>\n",
       "      <th></th>\n",
       "      <th></th>\n",
       "      <th></th>\n",
       "      <th></th>\n",
       "      <th></th>\n",
       "      <th></th>\n",
       "      <th></th>\n",
       "      <th></th>\n",
       "      <th></th>\n",
       "      <th></th>\n",
       "      <th></th>\n",
       "      <th></th>\n",
       "      <th></th>\n",
       "      <th></th>\n",
       "      <th></th>\n",
       "      <th></th>\n",
       "      <th></th>\n",
       "    </tr>\n",
       "  </thead>\n",
       "  <tbody>\n",
       "    <tr>\n",
       "      <th>0.0</th>\n",
       "      <td>1</td>\n",
       "      <td>78</td>\n",
       "      <td>1</td>\n",
       "      <td>10</td>\n",
       "      <td>2</td>\n",
       "      <td>0</td>\n",
       "      <td>6</td>\n",
       "      <td>228</td>\n",
       "      <td>0</td>\n",
       "      <td>1690</td>\n",
       "      <td>...</td>\n",
       "      <td>8</td>\n",
       "      <td>84</td>\n",
       "      <td>2279</td>\n",
       "      <td>1</td>\n",
       "      <td>0</td>\n",
       "      <td>242</td>\n",
       "      <td>0</td>\n",
       "      <td>2</td>\n",
       "      <td>0</td>\n",
       "      <td>1</td>\n",
       "    </tr>\n",
       "    <tr>\n",
       "      <th>1.0</th>\n",
       "      <td>1</td>\n",
       "      <td>63</td>\n",
       "      <td>1</td>\n",
       "      <td>6</td>\n",
       "      <td>2</td>\n",
       "      <td>2</td>\n",
       "      <td>4</td>\n",
       "      <td>220</td>\n",
       "      <td>1</td>\n",
       "      <td>605</td>\n",
       "      <td>...</td>\n",
       "      <td>5</td>\n",
       "      <td>18</td>\n",
       "      <td>1435</td>\n",
       "      <td>0</td>\n",
       "      <td>2</td>\n",
       "      <td>243</td>\n",
       "      <td>1</td>\n",
       "      <td>4</td>\n",
       "      <td>1</td>\n",
       "      <td>1</td>\n",
       "    </tr>\n",
       "  </tbody>\n",
       "</table>\n",
       "<p>2 rows × 148 columns</p>\n",
       "</div>"
      ],
      "text/plain": [
       "var74    AG Neovo  AOL  AT&T  Acer  Adcom  Advan  Advent  Alcatel  Amazon  \\\n",
       "dep_var                                                                     \n",
       "0.0             1   78     1    10      2      0       6      228       0   \n",
       "1.0             1   63     1     6      2      2       4      220       1   \n",
       "\n",
       "var74    Apple  ...  Wileyfox  Xiaomi  Yandex  Yota Devices  Yuntab  ZTE  \\\n",
       "dep_var         ...                                                        \n",
       "0.0       1690  ...         8      84    2279             1       0  242   \n",
       "1.0        605  ...         5      18    1435             0       2  243   \n",
       "\n",
       "var74    Zifro  bq  iNew  iView  \n",
       "dep_var                          \n",
       "0.0          0   2     0      1  \n",
       "1.0          1   4     1      1  \n",
       "\n",
       "[2 rows x 148 columns]"
      ]
     },
     "execution_count": 86,
     "metadata": {},
     "output_type": "execute_result"
    }
   ],
   "source": [
    "pd.crosstab(df['dep_var'], df['var74'])"
   ]
  },
  {
   "cell_type": "markdown",
   "metadata": {},
   "source": [
    "Made 40 new binary functions for the best 40 var 74 values"
   ]
  },
  {
   "cell_type": "code",
   "execution_count": 87,
   "metadata": {},
   "outputs": [],
   "source": [
    "top_var74 = train.var74.value_counts().head(40).index"
   ]
  },
  {
   "cell_type": "code",
   "execution_count": 88,
   "metadata": {},
   "outputs": [],
   "source": [
    "for v in top_var74:\n",
    "    train['var74_' + str(v).replace(' ','')] = train['var74'].apply(lambda x: 1 if str(v) in str(x) else 0)"
   ]
  },
  {
   "cell_type": "code",
   "execution_count": 89,
   "metadata": {},
   "outputs": [
    {
     "data": {
      "text/html": [
       "<div>\n",
       "<style scoped>\n",
       "    .dataframe tbody tr th:only-of-type {\n",
       "        vertical-align: middle;\n",
       "    }\n",
       "\n",
       "    .dataframe tbody tr th {\n",
       "        vertical-align: top;\n",
       "    }\n",
       "\n",
       "    .dataframe thead th {\n",
       "        text-align: right;\n",
       "    }\n",
       "</style>\n",
       "<table border=\"1\" class=\"dataframe\">\n",
       "  <thead>\n",
       "    <tr style=\"text-align: right;\">\n",
       "      <th></th>\n",
       "      <th>account_id</th>\n",
       "      <th>client_id</th>\n",
       "      <th>dep_var</th>\n",
       "      <th>var1</th>\n",
       "      <th>var3</th>\n",
       "      <th>var4</th>\n",
       "      <th>var5</th>\n",
       "      <th>var6</th>\n",
       "      <th>var7</th>\n",
       "      <th>var8</th>\n",
       "      <th>...</th>\n",
       "      <th>var74_35</th>\n",
       "      <th>var74_17</th>\n",
       "      <th>var74_26</th>\n",
       "      <th>var74_40</th>\n",
       "      <th>var74_71</th>\n",
       "      <th>var74_28</th>\n",
       "      <th>var74_33</th>\n",
       "      <th>var74_22</th>\n",
       "      <th>var74_36</th>\n",
       "      <th>var74_48</th>\n",
       "    </tr>\n",
       "  </thead>\n",
       "  <tbody>\n",
       "    <tr>\n",
       "      <th>1</th>\n",
       "      <td>0</td>\n",
       "      <td>211807</td>\n",
       "      <td>0.0</td>\n",
       "      <td>1.0</td>\n",
       "      <td>1.0</td>\n",
       "      <td>1.0</td>\n",
       "      <td>1</td>\n",
       "      <td>0</td>\n",
       "      <td>1</td>\n",
       "      <td>0</td>\n",
       "      <td>...</td>\n",
       "      <td>0</td>\n",
       "      <td>0</td>\n",
       "      <td>0</td>\n",
       "      <td>0</td>\n",
       "      <td>0</td>\n",
       "      <td>0</td>\n",
       "      <td>0</td>\n",
       "      <td>0</td>\n",
       "      <td>0</td>\n",
       "      <td>0</td>\n",
       "    </tr>\n",
       "    <tr>\n",
       "      <th>3</th>\n",
       "      <td>0</td>\n",
       "      <td>193611</td>\n",
       "      <td>0.0</td>\n",
       "      <td>0.0</td>\n",
       "      <td>0.0</td>\n",
       "      <td>0.0</td>\n",
       "      <td>1</td>\n",
       "      <td>0</td>\n",
       "      <td>1</td>\n",
       "      <td>0</td>\n",
       "      <td>...</td>\n",
       "      <td>0</td>\n",
       "      <td>0</td>\n",
       "      <td>0</td>\n",
       "      <td>0</td>\n",
       "      <td>0</td>\n",
       "      <td>0</td>\n",
       "      <td>0</td>\n",
       "      <td>0</td>\n",
       "      <td>0</td>\n",
       "      <td>0</td>\n",
       "    </tr>\n",
       "    <tr>\n",
       "      <th>10</th>\n",
       "      <td>0</td>\n",
       "      <td>211812</td>\n",
       "      <td>0.0</td>\n",
       "      <td>1.0</td>\n",
       "      <td>1.0</td>\n",
       "      <td>1.0</td>\n",
       "      <td>1</td>\n",
       "      <td>0</td>\n",
       "      <td>1</td>\n",
       "      <td>0</td>\n",
       "      <td>...</td>\n",
       "      <td>0</td>\n",
       "      <td>0</td>\n",
       "      <td>0</td>\n",
       "      <td>0</td>\n",
       "      <td>0</td>\n",
       "      <td>0</td>\n",
       "      <td>0</td>\n",
       "      <td>0</td>\n",
       "      <td>0</td>\n",
       "      <td>0</td>\n",
       "    </tr>\n",
       "    <tr>\n",
       "      <th>11</th>\n",
       "      <td>0</td>\n",
       "      <td>211814</td>\n",
       "      <td>0.0</td>\n",
       "      <td>1.0</td>\n",
       "      <td>1.0</td>\n",
       "      <td>1.0</td>\n",
       "      <td>1</td>\n",
       "      <td>1</td>\n",
       "      <td>1</td>\n",
       "      <td>0</td>\n",
       "      <td>...</td>\n",
       "      <td>0</td>\n",
       "      <td>0</td>\n",
       "      <td>0</td>\n",
       "      <td>0</td>\n",
       "      <td>0</td>\n",
       "      <td>0</td>\n",
       "      <td>0</td>\n",
       "      <td>0</td>\n",
       "      <td>0</td>\n",
       "      <td>0</td>\n",
       "    </tr>\n",
       "    <tr>\n",
       "      <th>13</th>\n",
       "      <td>0</td>\n",
       "      <td>56232</td>\n",
       "      <td>0.0</td>\n",
       "      <td>1.0</td>\n",
       "      <td>1.0</td>\n",
       "      <td>1.0</td>\n",
       "      <td>1</td>\n",
       "      <td>0</td>\n",
       "      <td>1</td>\n",
       "      <td>0</td>\n",
       "      <td>...</td>\n",
       "      <td>0</td>\n",
       "      <td>0</td>\n",
       "      <td>0</td>\n",
       "      <td>0</td>\n",
       "      <td>0</td>\n",
       "      <td>0</td>\n",
       "      <td>0</td>\n",
       "      <td>0</td>\n",
       "      <td>0</td>\n",
       "      <td>0</td>\n",
       "    </tr>\n",
       "  </tbody>\n",
       "</table>\n",
       "<p>5 rows × 195 columns</p>\n",
       "</div>"
      ],
      "text/plain": [
       "    account_id  client_id  dep_var  var1  var3  var4  var5  var6  var7  var8  \\\n",
       "1            0     211807      0.0   1.0   1.0   1.0     1     0     1     0   \n",
       "3            0     193611      0.0   0.0   0.0   0.0     1     0     1     0   \n",
       "10           0     211812      0.0   1.0   1.0   1.0     1     0     1     0   \n",
       "11           0     211814      0.0   1.0   1.0   1.0     1     1     1     0   \n",
       "13           0      56232      0.0   1.0   1.0   1.0     1     0     1     0   \n",
       "\n",
       "    ...  var74_35  var74_17  var74_26  var74_40  var74_71  var74_28  var74_33  \\\n",
       "1   ...         0         0         0         0         0         0         0   \n",
       "3   ...         0         0         0         0         0         0         0   \n",
       "10  ...         0         0         0         0         0         0         0   \n",
       "11  ...         0         0         0         0         0         0         0   \n",
       "13  ...         0         0         0         0         0         0         0   \n",
       "\n",
       "    var74_22  var74_36  var74_48  \n",
       "1          0         0         0  \n",
       "3          0         0         0  \n",
       "10         0         0         0  \n",
       "11         0         0         0  \n",
       "13         0         0         0  \n",
       "\n",
       "[5 rows x 195 columns]"
      ]
     },
     "execution_count": 89,
     "metadata": {},
     "output_type": "execute_result"
    }
   ],
   "source": [
    "train.head()"
   ]
  },
  {
   "cell_type": "code",
   "execution_count": 90,
   "metadata": {},
   "outputs": [],
   "source": [
    "train = train.drop(columns=['var74'])"
   ]
  },
  {
   "cell_type": "code",
   "execution_count": 93,
   "metadata": {},
   "outputs": [],
   "source": [
    "cv_score6 = cv_meth(train.drop(columns=['dep_var']),y,model=LGBMClassifier(n_estimators=30,max_depth=4),fillna=-1)"
   ]
  },
  {
   "cell_type": "code",
   "execution_count": 94,
   "metadata": {},
   "outputs": [],
   "source": [
    "train6 = train"
   ]
  },
  {
   "cell_type": "code",
   "execution_count": 95,
   "metadata": {},
   "outputs": [],
   "source": [
    "df_scores = df_scores.append({'model':'LGBMClassifier','score':np.mean(cv_score6), 'metric':'roc_auc',\n",
    "                              'parameters':'n_estimators=30,max_depth=4',\n",
    "                              'commit':'CV 5 folds; determinate labels; test_cr_performance, drop test_cr_decision; time features; var74; fillna=-1',\n",
    "                              'time':datetime.now(),\n",
    "                              'variables':'train6,cv_score6'},ignore_index = True)"
   ]
  },
  {
   "cell_type": "code",
   "execution_count": 96,
   "metadata": {},
   "outputs": [
    {
     "data": {
      "text/html": [
       "<div>\n",
       "<style scoped>\n",
       "    .dataframe tbody tr th:only-of-type {\n",
       "        vertical-align: middle;\n",
       "    }\n",
       "\n",
       "    .dataframe tbody tr th {\n",
       "        vertical-align: top;\n",
       "    }\n",
       "\n",
       "    .dataframe thead th {\n",
       "        text-align: right;\n",
       "    }\n",
       "</style>\n",
       "<table border=\"1\" class=\"dataframe\">\n",
       "  <thead>\n",
       "    <tr style=\"text-align: right;\">\n",
       "      <th></th>\n",
       "      <th>account_id</th>\n",
       "      <th>client_id</th>\n",
       "      <th>dep_var</th>\n",
       "      <th>var1</th>\n",
       "      <th>var3</th>\n",
       "      <th>var4</th>\n",
       "      <th>var5</th>\n",
       "      <th>var6</th>\n",
       "      <th>var7</th>\n",
       "      <th>var8</th>\n",
       "      <th>...</th>\n",
       "      <th>var74_35</th>\n",
       "      <th>var74_17</th>\n",
       "      <th>var74_26</th>\n",
       "      <th>var74_40</th>\n",
       "      <th>var74_71</th>\n",
       "      <th>var74_28</th>\n",
       "      <th>var74_33</th>\n",
       "      <th>var74_22</th>\n",
       "      <th>var74_36</th>\n",
       "      <th>var74_48</th>\n",
       "    </tr>\n",
       "  </thead>\n",
       "  <tbody>\n",
       "    <tr>\n",
       "      <th>1</th>\n",
       "      <td>0</td>\n",
       "      <td>211807</td>\n",
       "      <td>0.0</td>\n",
       "      <td>1.0</td>\n",
       "      <td>1.0</td>\n",
       "      <td>1.0</td>\n",
       "      <td>1</td>\n",
       "      <td>0</td>\n",
       "      <td>1</td>\n",
       "      <td>0</td>\n",
       "      <td>...</td>\n",
       "      <td>0</td>\n",
       "      <td>0</td>\n",
       "      <td>0</td>\n",
       "      <td>0</td>\n",
       "      <td>0</td>\n",
       "      <td>0</td>\n",
       "      <td>0</td>\n",
       "      <td>0</td>\n",
       "      <td>0</td>\n",
       "      <td>0</td>\n",
       "    </tr>\n",
       "    <tr>\n",
       "      <th>3</th>\n",
       "      <td>0</td>\n",
       "      <td>193611</td>\n",
       "      <td>0.0</td>\n",
       "      <td>0.0</td>\n",
       "      <td>0.0</td>\n",
       "      <td>0.0</td>\n",
       "      <td>1</td>\n",
       "      <td>0</td>\n",
       "      <td>1</td>\n",
       "      <td>0</td>\n",
       "      <td>...</td>\n",
       "      <td>0</td>\n",
       "      <td>0</td>\n",
       "      <td>0</td>\n",
       "      <td>0</td>\n",
       "      <td>0</td>\n",
       "      <td>0</td>\n",
       "      <td>0</td>\n",
       "      <td>0</td>\n",
       "      <td>0</td>\n",
       "      <td>0</td>\n",
       "    </tr>\n",
       "    <tr>\n",
       "      <th>10</th>\n",
       "      <td>0</td>\n",
       "      <td>211812</td>\n",
       "      <td>0.0</td>\n",
       "      <td>1.0</td>\n",
       "      <td>1.0</td>\n",
       "      <td>1.0</td>\n",
       "      <td>1</td>\n",
       "      <td>0</td>\n",
       "      <td>1</td>\n",
       "      <td>0</td>\n",
       "      <td>...</td>\n",
       "      <td>0</td>\n",
       "      <td>0</td>\n",
       "      <td>0</td>\n",
       "      <td>0</td>\n",
       "      <td>0</td>\n",
       "      <td>0</td>\n",
       "      <td>0</td>\n",
       "      <td>0</td>\n",
       "      <td>0</td>\n",
       "      <td>0</td>\n",
       "    </tr>\n",
       "    <tr>\n",
       "      <th>11</th>\n",
       "      <td>0</td>\n",
       "      <td>211814</td>\n",
       "      <td>0.0</td>\n",
       "      <td>1.0</td>\n",
       "      <td>1.0</td>\n",
       "      <td>1.0</td>\n",
       "      <td>1</td>\n",
       "      <td>1</td>\n",
       "      <td>1</td>\n",
       "      <td>0</td>\n",
       "      <td>...</td>\n",
       "      <td>0</td>\n",
       "      <td>0</td>\n",
       "      <td>0</td>\n",
       "      <td>0</td>\n",
       "      <td>0</td>\n",
       "      <td>0</td>\n",
       "      <td>0</td>\n",
       "      <td>0</td>\n",
       "      <td>0</td>\n",
       "      <td>0</td>\n",
       "    </tr>\n",
       "    <tr>\n",
       "      <th>13</th>\n",
       "      <td>0</td>\n",
       "      <td>56232</td>\n",
       "      <td>0.0</td>\n",
       "      <td>1.0</td>\n",
       "      <td>1.0</td>\n",
       "      <td>1.0</td>\n",
       "      <td>1</td>\n",
       "      <td>0</td>\n",
       "      <td>1</td>\n",
       "      <td>0</td>\n",
       "      <td>...</td>\n",
       "      <td>0</td>\n",
       "      <td>0</td>\n",
       "      <td>0</td>\n",
       "      <td>0</td>\n",
       "      <td>0</td>\n",
       "      <td>0</td>\n",
       "      <td>0</td>\n",
       "      <td>0</td>\n",
       "      <td>0</td>\n",
       "      <td>0</td>\n",
       "    </tr>\n",
       "  </tbody>\n",
       "</table>\n",
       "<p>5 rows × 194 columns</p>\n",
       "</div>"
      ],
      "text/plain": [
       "    account_id  client_id  dep_var  var1  var3  var4  var5  var6  var7  var8  \\\n",
       "1            0     211807      0.0   1.0   1.0   1.0     1     0     1     0   \n",
       "3            0     193611      0.0   0.0   0.0   0.0     1     0     1     0   \n",
       "10           0     211812      0.0   1.0   1.0   1.0     1     0     1     0   \n",
       "11           0     211814      0.0   1.0   1.0   1.0     1     1     1     0   \n",
       "13           0      56232      0.0   1.0   1.0   1.0     1     0     1     0   \n",
       "\n",
       "    ...  var74_35  var74_17  var74_26  var74_40  var74_71  var74_28  var74_33  \\\n",
       "1   ...         0         0         0         0         0         0         0   \n",
       "3   ...         0         0         0         0         0         0         0   \n",
       "10  ...         0         0         0         0         0         0         0   \n",
       "11  ...         0         0         0         0         0         0         0   \n",
       "13  ...         0         0         0         0         0         0         0   \n",
       "\n",
       "    var74_22  var74_36  var74_48  \n",
       "1          0         0         0  \n",
       "3          0         0         0  \n",
       "10         0         0         0  \n",
       "11         0         0         0  \n",
       "13         0         0         0  \n",
       "\n",
       "[5 rows x 194 columns]"
      ]
     },
     "execution_count": 96,
     "metadata": {},
     "output_type": "execute_result"
    }
   ],
   "source": [
    "train.head()"
   ]
  },
  {
   "cell_type": "markdown",
   "metadata": {},
   "source": [
    "**VAR41**"
   ]
  },
  {
   "cell_type": "code",
   "execution_count": 97,
   "metadata": {},
   "outputs": [
    {
     "data": {
      "text/plain": [
       "1     19.0\n",
       "3      0.0\n",
       "10    35.0\n",
       "11    75.0\n",
       "13    22.0\n",
       "Name: var41, dtype: float64"
      ]
     },
     "execution_count": 97,
     "metadata": {},
     "output_type": "execute_result"
    }
   ],
   "source": [
    "train.var41.head()"
   ]
  },
  {
   "cell_type": "markdown",
   "metadata": {},
   "source": [
    "Look at value distribution of var41"
   ]
  },
  {
   "cell_type": "code",
   "execution_count": 98,
   "metadata": {},
   "outputs": [
    {
     "data": {
      "text/plain": [
       "<matplotlib.axes._subplots.AxesSubplot at 0x7f0317d32cc0>"
      ]
     },
     "execution_count": 98,
     "metadata": {},
     "output_type": "execute_result"
    },
    {
     "data": {
      "image/png": "[encoded data removed]",
      "text/plain": [
       "<Figure size 432x288 with 1 Axes>"
      ]
     },
     "metadata": {
      "needs_background": "light"
     },
     "output_type": "display_data"
    }
   ],
   "source": [
    "sns.distplot(train.var41.fillna(train.var41.sum()/train.shape[0]))"
   ]
  },
  {
   "cell_type": "code",
   "execution_count": 99,
   "metadata": {},
   "outputs": [
    {
     "data": {
      "text/plain": [
       "<matplotlib.axes._subplots.AxesSubplot at 0x7f0316385b70>"
      ]
     },
     "execution_count": 99,
     "metadata": {},
     "output_type": "execute_result"
    },
    {
     "data": {
      "image/png": "[encoded data removed]",
      "text/plain": [
       "<Figure size 432x288 with 1 Axes>"
      ]
     },
     "metadata": {
      "needs_background": "light"
     },
     "output_type": "display_data"
    }
   ],
   "source": [
    "sns.boxplot(train.var41.fillna(train.var41.sum()/train.shape[0]))"
   ]
  },
  {
   "cell_type": "code",
   "execution_count": 100,
   "metadata": {},
   "outputs": [],
   "source": [
    "ss = StandardScaler()\n",
    "# train.var41 = train.var41.fillna(train.var41.median()) \n",
    "scale_var41 = ss.fit_transform(train.var41.fillna(train.var41.median()).values.reshape(-1,1))"
   ]
  },
  {
   "cell_type": "code",
   "execution_count": 101,
   "metadata": {},
   "outputs": [
    {
     "data": {
      "text/plain": [
       "<matplotlib.axes._subplots.AxesSubplot at 0x7f030e1c4a90>"
      ]
     },
     "execution_count": 101,
     "metadata": {},
     "output_type": "execute_result"
    },
    {
     "data": {
      "image/png": "[encoded data removed]",
      "text/plain": [
       "<Figure size 432x288 with 1 Axes>"
      ]
     },
     "metadata": {
      "needs_background": "light"
     },
     "output_type": "display_data"
    }
   ],
   "source": [
    "sns.distplot(scale_var41)"
   ]
  },
  {
   "cell_type": "code",
   "execution_count": 102,
   "metadata": {},
   "outputs": [
    {
     "data": {
      "text/plain": [
       "(-2606305.7024189997, 2045652.927521)"
      ]
     },
     "execution_count": 102,
     "metadata": {},
     "output_type": "execute_result"
    }
   ],
   "source": [
    "# overshoots\n",
    "train.var41.sort_values().values[0],train.var41.sort_values().values[-1]"
   ]
  },
  {
   "cell_type": "code",
   "execution_count": 103,
   "metadata": {},
   "outputs": [
    {
     "data": {
      "text/plain": [
       "array([24540, 24541, 18248, 43994, 55440])"
      ]
     },
     "execution_count": 103,
     "metadata": {},
     "output_type": "execute_result"
    }
   ],
   "source": [
    "# index of overshoots\n",
    "large_ind = np.concatenate( [train[(train.var41>2000000)].index,train[(train.var41<-2000000)].index])\n",
    "large_ind"
   ]
  },
  {
   "cell_type": "code",
   "execution_count": 104,
   "metadata": {},
   "outputs": [],
   "source": [
    "test_train = train.drop(index=large_ind)"
   ]
  },
  {
   "cell_type": "code",
   "execution_count": 105,
   "metadata": {},
   "outputs": [
    {
     "name": "stdout",
     "output_type": "stream",
     "text": [
      "LGBMClassifier with dropping large_ind; roc_auc: 0.5708584960459302\n",
      "LGBMClassifier without dropping large_ind; roc_auc: 0.5697805601013511\n"
     ]
    }
   ],
   "source": [
    "cv_score7_2 = cv_meth(test_train.drop(columns=['dep_var']),y.drop(\n",
    "    index=large_ind),model=LGBMClassifier(n_estimators=30,max_depth=4),fillna=-1)\n",
    "\n",
    "cv_score7_3 = cv_meth(train.drop(\n",
    "    columns=['dep_var']),y,model=LGBMClassifier(n_estimators=30,max_depth=4),fillna=-1)\n",
    "\n",
    "print('LGBMClassifier with dropping large_ind; roc_auc:',cv_score7_2)\n",
    "print('LGBMClassifier without dropping large_ind; roc_auc:',cv_score7_3)"
   ]
  },
  {
   "cell_type": "code",
   "execution_count": 115,
   "metadata": {},
   "outputs": [
    {
     "name": "stdout",
     "output_type": "stream",
     "text": [
      "LogisticRegression with dropping large_ind; roc_auc: 0.5186635660574485\n",
      "LogisticRegression without dropping large_ind; roc_auc: 0.5206424831089378\n"
     ]
    }
   ],
   "source": [
    "cv_score8_2 = cv_meth(test_train.drop(columns=['dep_var']),y.drop(\n",
    "    index=large_ind),model=LogisticRegression(C=0.9),fillna=X[col].median())\n",
    "\n",
    "cv_score8_3 = cv_meth(train.drop(columns=['dep_var']),y,model=LogisticRegression(C=0.9),fillna=X[col].median())\n",
    "\n",
    "print('LogisticRegression with dropping large_ind; roc_auc:',cv_score8_2)\n",
    "print('LogisticRegression without dropping large_ind; roc_auc:',cv_score8_3)"
   ]
  },
  {
   "cell_type": "markdown",
   "metadata": {},
   "source": [
    "Filled categorical nan by \"unknown\""
   ]
  },
  {
   "cell_type": "code",
   "execution_count": 116,
   "metadata": {},
   "outputs": [],
   "source": [
    "train[object_feat] = train[object_feat].fillna('unknown')"
   ]
  },
  {
   "cell_type": "markdown",
   "metadata": {},
   "source": [
    "The weight of important categorical feats"
   ]
  },
  {
   "cell_type": "code",
   "execution_count": 117,
   "metadata": {},
   "outputs": [],
   "source": [
    "for col in object_feat:\n",
    "    print(\"Weight:\",col,weights[weights['name'] == col]['weight'].values)"
   ]
  },
  {
   "cell_type": "markdown",
   "metadata": {},
   "source": [
    "Analysis **var46**"
   ]
  },
  {
   "cell_type": "code",
   "execution_count": 118,
   "metadata": {},
   "outputs": [
    {
     "data": {
      "text/plain": [
       " 0    9774\n",
       " 1    6122\n",
       " 2    3494\n",
       " 4    3070\n",
       " 3     812\n",
       " 5      88\n",
       " 6      80\n",
       "-1      44\n",
       " 7       5\n",
       " 8       1\n",
       "Name: var46, dtype: int64"
      ]
     },
     "execution_count": 118,
     "metadata": {},
     "output_type": "execute_result"
    }
   ],
   "source": [
    "train.var46.value_counts()"
   ]
  },
  {
   "cell_type": "code",
   "execution_count": 119,
   "metadata": {},
   "outputs": [
    {
     "data": {
      "text/plain": [
       "array([ 0,  1,  2,  3,  4,  5,  6, -1,  7,  8])"
      ]
     },
     "execution_count": 119,
     "metadata": {},
     "output_type": "execute_result"
    }
   ],
   "source": [
    "train.var46.unique()"
   ]
  },
  {
   "cell_type": "code",
   "execution_count": 120,
   "metadata": {},
   "outputs": [],
   "source": [
    "# Made new binary functions for the  var74 values\n",
    "vars46 = train.var46.unique()\n",
    "for v in vars46:\n",
    "    train['var46_' + str(v).replace(' ','')] = train['var46'].apply(lambda x: 1 if str(v) in str(x) else 0)"
   ]
  },
  {
   "cell_type": "code",
   "execution_count": 121,
   "metadata": {},
   "outputs": [],
   "source": [
    "train = train.drop(columns=['var46','var41']);"
   ]
  },
  {
   "cell_type": "code",
   "execution_count": 126,
   "metadata": {},
   "outputs": [],
   "source": [
    "cv_score7 = cv_meth(train.drop(columns=['dep_var']),y,model=LGBMClassifier(n_estimators=30,max_depth=4),fillna=-1)"
   ]
  },
  {
   "cell_type": "code",
   "execution_count": 127,
   "metadata": {},
   "outputs": [],
   "source": [
    "train7 = train"
   ]
  },
  {
   "cell_type": "code",
   "execution_count": 128,
   "metadata": {},
   "outputs": [],
   "source": [
    "df_scores = df_scores.append({'model':'LGBMClassifier','score':np.mean(cv_score7), 'metric':'roc_auc',\n",
    "                              'parameters':'n_estimators=30,max_depth=4',\n",
    "                              'commit':'CV 5 folds; determinate labels; test_cr_performance, drop test_cr_decision; time features; var74; fillna=-1; scale var46; var41',\n",
    "                              'time':datetime.now(),\n",
    "                              'variables':'train7,cv_score7'},ignore_index = True)"
   ]
  },
  {
   "cell_type": "markdown",
   "metadata": {},
   "source": [
    "Analysis **var119**"
   ]
  },
  {
   "cell_type": "code",
   "execution_count": 129,
   "metadata": {},
   "outputs": [
    {
     "data": {
      "text/plain": [
       "-1    13727\n",
       " 0     9762\n",
       " 1        1\n",
       "Name: var119, dtype: int64"
      ]
     },
     "execution_count": 129,
     "metadata": {},
     "output_type": "execute_result"
    }
   ],
   "source": [
    "train.var119.value_counts()"
   ]
  },
  {
   "cell_type": "code",
   "execution_count": 130,
   "metadata": {},
   "outputs": [
    {
     "data": {
      "text/plain": [
       "t    35287\n",
       "f        4\n",
       "Name: var119, dtype: int64"
      ]
     },
     "execution_count": 130,
     "metadata": {},
     "output_type": "execute_result"
    }
   ],
   "source": [
    "df.var119.value_counts()"
   ]
  },
  {
   "cell_type": "code",
   "execution_count": 131,
   "metadata": {},
   "outputs": [
    {
     "data": {
      "text/plain": [
       "t    35287\n",
       "f        4\n",
       "Name: var119, dtype: int64"
      ]
     },
     "execution_count": 131,
     "metadata": {},
     "output_type": "execute_result"
    }
   ],
   "source": [
    "df.var119.value_counts()"
   ]
  },
  {
   "cell_type": "code",
   "execution_count": 132,
   "metadata": {},
   "outputs": [
    {
     "data": {
      "text/plain": [
       "array(['t', nan, 'f'], dtype=object)"
      ]
     },
     "execution_count": 132,
     "metadata": {},
     "output_type": "execute_result"
    }
   ],
   "source": [
    "df.var119.unique()"
   ]
  },
  {
   "cell_type": "code",
   "execution_count": 133,
   "metadata": {},
   "outputs": [
    {
     "data": {
      "text/plain": [
       "116    0\n",
       "Name: weight, dtype: int64"
      ]
     },
     "execution_count": 133,
     "metadata": {},
     "output_type": "execute_result"
    }
   ],
   "source": [
    "weights[(weights.name == 'var119')]['weight']"
   ]
  },
  {
   "cell_type": "code",
   "execution_count": 134,
   "metadata": {},
   "outputs": [
    {
     "data": {
      "text/plain": [
       "array(['var1', 'var3', 'var4', 'var5', 'var8', 'var9', 'var11', 'var12',\n",
       "       'var16', 'var19', 'var23', 'var24', 'var26', 'var27', 'var29',\n",
       "       'var30', 'var33', 'var34', 'var35', 'var37', 'var38', 'var40',\n",
       "       'var42', 'var47', 'var48', 'var49', 'var50', 'var51', 'var59',\n",
       "       'var60', 'var63', 'var64', 'var65', 'var66', 'var67', 'var68',\n",
       "       'var69', 'var70', 'var71', 'var72', 'var73', 'var78', 'var79',\n",
       "       'var80', 'var85', 'var89', 'var90', 'var91', 'var92', 'var93',\n",
       "       'var94', 'var95', 'var96', 'var97', 'var98', 'var99', 'var104',\n",
       "       'var108', 'var112', 'var113', 'var115', 'var116', 'var118',\n",
       "       'var119', 'var120', 'var121', 'var122', 'var123', 'var124',\n",
       "       'var125', 'var126', 'var127', 'var128', 'var130', 'var131',\n",
       "       'var132', 'var133', 'var134', 'var135', 'var136', 'var137',\n",
       "       'var138', 'var139', 'var140', 'var141', 'var142', 'var143',\n",
       "       'var144', 'var145', 'var146', 'var147', 'var148', 'var149',\n",
       "       'var150', 'var153', 'start_time_s', 'hour'], dtype=object)"
      ]
     },
     "execution_count": 134,
     "metadata": {},
     "output_type": "execute_result"
    }
   ],
   "source": [
    "# with the lowest weight feats (0)\n",
    "w_0_feat = weights[weights['weight'] == 0]['name'].values\n",
    "w_0_feat"
   ]
  },
  {
   "cell_type": "markdown",
   "metadata": {},
   "source": [
    "Look at some of w_0_feat"
   ]
  },
  {
   "cell_type": "code",
   "execution_count": 135,
   "metadata": {},
   "outputs": [
    {
     "data": {
      "text/plain": [
       "1.0    57455\n",
       "Name: var1, dtype: int64"
      ]
     },
     "execution_count": 135,
     "metadata": {},
     "output_type": "execute_result"
    }
   ],
   "source": [
    "df.var1.value_counts()"
   ]
  },
  {
   "cell_type": "code",
   "execution_count": 136,
   "metadata": {},
   "outputs": [
    {
     "data": {
      "text/html": [
       "<div>\n",
       "<style scoped>\n",
       "    .dataframe tbody tr th:only-of-type {\n",
       "        vertical-align: middle;\n",
       "    }\n",
       "\n",
       "    .dataframe tbody tr th {\n",
       "        vertical-align: top;\n",
       "    }\n",
       "\n",
       "    .dataframe thead th {\n",
       "        text-align: right;\n",
       "    }\n",
       "</style>\n",
       "<table border=\"1\" class=\"dataframe\">\n",
       "  <thead>\n",
       "    <tr style=\"text-align: right;\">\n",
       "      <th>var3</th>\n",
       "      <th>1.0</th>\n",
       "      <th>All</th>\n",
       "    </tr>\n",
       "    <tr>\n",
       "      <th>dep_var</th>\n",
       "      <th></th>\n",
       "      <th></th>\n",
       "    </tr>\n",
       "  </thead>\n",
       "  <tbody>\n",
       "    <tr>\n",
       "      <th>0.0</th>\n",
       "      <td>10492</td>\n",
       "      <td>10492</td>\n",
       "    </tr>\n",
       "    <tr>\n",
       "      <th>1.0</th>\n",
       "      <td>6721</td>\n",
       "      <td>6721</td>\n",
       "    </tr>\n",
       "    <tr>\n",
       "      <th>All</th>\n",
       "      <td>17213</td>\n",
       "      <td>17213</td>\n",
       "    </tr>\n",
       "  </tbody>\n",
       "</table>\n",
       "</div>"
      ],
      "text/plain": [
       "var3       1.0    All\n",
       "dep_var              \n",
       "0.0      10492  10492\n",
       "1.0       6721   6721\n",
       "All      17213  17213"
      ]
     },
     "execution_count": 136,
     "metadata": {},
     "output_type": "execute_result"
    }
   ],
   "source": [
    "pd.crosstab(df['dep_var'], df['var3'], margins=True)"
   ]
  },
  {
   "cell_type": "code",
   "execution_count": 137,
   "metadata": {},
   "outputs": [],
   "source": [
    "train9  = train.drop(columns=w_0_feat)"
   ]
  },
  {
   "cell_type": "code",
   "execution_count": 138,
   "metadata": {},
   "outputs": [],
   "source": [
    "cv_score9 = cv_meth(train9.drop(columns=['dep_var']),y,LGBMClassifier(n_estimators=30,max_depth=4))"
   ]
  },
  {
   "cell_type": "code",
   "execution_count": 139,
   "metadata": {},
   "outputs": [
    {
     "data": {
      "text/plain": [
       "0.5613839701041122"
      ]
     },
     "execution_count": 139,
     "metadata": {},
     "output_type": "execute_result"
    }
   ],
   "source": [
    "cv_score9"
   ]
  },
  {
   "cell_type": "code",
   "execution_count": 140,
   "metadata": {},
   "outputs": [],
   "source": [
    "df_scores = df_scores.append({'model':'LGBMClassifier','score':cv_score9, 'metric':'roc_auc',\n",
    "                              'parameters':'n_estimators=30,max_depth=4',\n",
    "                              'commit':'CV 5 folds; determinate labels; test_cr_performance, drop test_cr_decision; time features; var74; fillna=-1; scale var46; var41; drop feats with low weight',\n",
    "                              'time':datetime.now(),\n",
    "                              'variables':'train9,cv_score9'},ignore_index = True)"
   ]
  },
  {
   "cell_type": "markdown",
   "metadata": {},
   "source": [
    "Analysis **client_id**"
   ]
  },
  {
   "cell_type": "code",
   "execution_count": 141,
   "metadata": {},
   "outputs": [],
   "source": [
    "# add feature which consists number of one unique client_id activity\n",
    "client_id_val = train.client_id.value_counts().to_dict()\n",
    "train['client_id_num'] = train.client_id.apply(lambda x: client_id_val[x])"
   ]
  },
  {
   "cell_type": "code",
   "execution_count": 142,
   "metadata": {},
   "outputs": [
    {
     "data": {
      "text/plain": [
       "0.5924129261766714"
      ]
     },
     "execution_count": 142,
     "metadata": {},
     "output_type": "execute_result"
    }
   ],
   "source": [
    "train10 = train\n",
    "\n",
    "cv_score10 = cv_meth(train10.drop(columns=['dep_var']),y,LGBMClassifier(n_estimators=30,max_depth=4))\n",
    "cv_score10"
   ]
  },
  {
   "cell_type": "code",
   "execution_count": 143,
   "metadata": {},
   "outputs": [
    {
     "data": {
      "text/html": [
       "<div>\n",
       "<style scoped>\n",
       "    .dataframe tbody tr th:only-of-type {\n",
       "        vertical-align: middle;\n",
       "    }\n",
       "\n",
       "    .dataframe tbody tr th {\n",
       "        vertical-align: top;\n",
       "    }\n",
       "\n",
       "    .dataframe thead th {\n",
       "        text-align: right;\n",
       "    }\n",
       "</style>\n",
       "<table border=\"1\" class=\"dataframe\">\n",
       "  <thead>\n",
       "    <tr style=\"text-align: right;\">\n",
       "      <th></th>\n",
       "      <th>account_id</th>\n",
       "      <th>client_id</th>\n",
       "      <th>dep_var</th>\n",
       "      <th>var1</th>\n",
       "      <th>var3</th>\n",
       "      <th>var4</th>\n",
       "      <th>var5</th>\n",
       "      <th>var6</th>\n",
       "      <th>var7</th>\n",
       "      <th>var8</th>\n",
       "      <th>...</th>\n",
       "      <th>var46_1</th>\n",
       "      <th>var46_2</th>\n",
       "      <th>var46_3</th>\n",
       "      <th>var46_4</th>\n",
       "      <th>var46_5</th>\n",
       "      <th>var46_6</th>\n",
       "      <th>var46_-1</th>\n",
       "      <th>var46_7</th>\n",
       "      <th>var46_8</th>\n",
       "      <th>client_id_num</th>\n",
       "    </tr>\n",
       "  </thead>\n",
       "  <tbody>\n",
       "    <tr>\n",
       "      <th>1</th>\n",
       "      <td>0</td>\n",
       "      <td>211807</td>\n",
       "      <td>0.0</td>\n",
       "      <td>1.0</td>\n",
       "      <td>1.0</td>\n",
       "      <td>1.0</td>\n",
       "      <td>1</td>\n",
       "      <td>0</td>\n",
       "      <td>1</td>\n",
       "      <td>0</td>\n",
       "      <td>...</td>\n",
       "      <td>0</td>\n",
       "      <td>0</td>\n",
       "      <td>0</td>\n",
       "      <td>0</td>\n",
       "      <td>0</td>\n",
       "      <td>0</td>\n",
       "      <td>0</td>\n",
       "      <td>0</td>\n",
       "      <td>0</td>\n",
       "      <td>1</td>\n",
       "    </tr>\n",
       "    <tr>\n",
       "      <th>3</th>\n",
       "      <td>0</td>\n",
       "      <td>193611</td>\n",
       "      <td>0.0</td>\n",
       "      <td>0.0</td>\n",
       "      <td>0.0</td>\n",
       "      <td>0.0</td>\n",
       "      <td>1</td>\n",
       "      <td>0</td>\n",
       "      <td>1</td>\n",
       "      <td>0</td>\n",
       "      <td>...</td>\n",
       "      <td>0</td>\n",
       "      <td>0</td>\n",
       "      <td>0</td>\n",
       "      <td>0</td>\n",
       "      <td>0</td>\n",
       "      <td>0</td>\n",
       "      <td>0</td>\n",
       "      <td>0</td>\n",
       "      <td>0</td>\n",
       "      <td>1</td>\n",
       "    </tr>\n",
       "    <tr>\n",
       "      <th>10</th>\n",
       "      <td>0</td>\n",
       "      <td>211812</td>\n",
       "      <td>0.0</td>\n",
       "      <td>1.0</td>\n",
       "      <td>1.0</td>\n",
       "      <td>1.0</td>\n",
       "      <td>1</td>\n",
       "      <td>0</td>\n",
       "      <td>1</td>\n",
       "      <td>0</td>\n",
       "      <td>...</td>\n",
       "      <td>0</td>\n",
       "      <td>0</td>\n",
       "      <td>0</td>\n",
       "      <td>0</td>\n",
       "      <td>0</td>\n",
       "      <td>0</td>\n",
       "      <td>0</td>\n",
       "      <td>0</td>\n",
       "      <td>0</td>\n",
       "      <td>2</td>\n",
       "    </tr>\n",
       "    <tr>\n",
       "      <th>11</th>\n",
       "      <td>0</td>\n",
       "      <td>211814</td>\n",
       "      <td>0.0</td>\n",
       "      <td>1.0</td>\n",
       "      <td>1.0</td>\n",
       "      <td>1.0</td>\n",
       "      <td>1</td>\n",
       "      <td>1</td>\n",
       "      <td>1</td>\n",
       "      <td>0</td>\n",
       "      <td>...</td>\n",
       "      <td>0</td>\n",
       "      <td>0</td>\n",
       "      <td>0</td>\n",
       "      <td>0</td>\n",
       "      <td>0</td>\n",
       "      <td>0</td>\n",
       "      <td>0</td>\n",
       "      <td>0</td>\n",
       "      <td>0</td>\n",
       "      <td>2</td>\n",
       "    </tr>\n",
       "    <tr>\n",
       "      <th>13</th>\n",
       "      <td>0</td>\n",
       "      <td>56232</td>\n",
       "      <td>0.0</td>\n",
       "      <td>1.0</td>\n",
       "      <td>1.0</td>\n",
       "      <td>1.0</td>\n",
       "      <td>1</td>\n",
       "      <td>0</td>\n",
       "      <td>1</td>\n",
       "      <td>0</td>\n",
       "      <td>...</td>\n",
       "      <td>0</td>\n",
       "      <td>0</td>\n",
       "      <td>0</td>\n",
       "      <td>0</td>\n",
       "      <td>0</td>\n",
       "      <td>0</td>\n",
       "      <td>0</td>\n",
       "      <td>0</td>\n",
       "      <td>0</td>\n",
       "      <td>3</td>\n",
       "    </tr>\n",
       "  </tbody>\n",
       "</table>\n",
       "<p>5 rows × 203 columns</p>\n",
       "</div>"
      ],
      "text/plain": [
       "    account_id  client_id  dep_var  var1  var3  var4  var5  var6  var7  var8  \\\n",
       "1            0     211807      0.0   1.0   1.0   1.0     1     0     1     0   \n",
       "3            0     193611      0.0   0.0   0.0   0.0     1     0     1     0   \n",
       "10           0     211812      0.0   1.0   1.0   1.0     1     0     1     0   \n",
       "11           0     211814      0.0   1.0   1.0   1.0     1     1     1     0   \n",
       "13           0      56232      0.0   1.0   1.0   1.0     1     0     1     0   \n",
       "\n",
       "    ...  var46_1  var46_2  var46_3  var46_4  var46_5  var46_6  var46_-1  \\\n",
       "1   ...        0        0        0        0        0        0         0   \n",
       "3   ...        0        0        0        0        0        0         0   \n",
       "10  ...        0        0        0        0        0        0         0   \n",
       "11  ...        0        0        0        0        0        0         0   \n",
       "13  ...        0        0        0        0        0        0         0   \n",
       "\n",
       "    var46_7  var46_8  client_id_num  \n",
       "1         0        0              1  \n",
       "3         0        0              1  \n",
       "10        0        0              2  \n",
       "11        0        0              2  \n",
       "13        0        0              3  \n",
       "\n",
       "[5 rows x 203 columns]"
      ]
     },
     "execution_count": 143,
     "metadata": {},
     "output_type": "execute_result"
    }
   ],
   "source": [
    "train.head()"
   ]
  },
  {
   "cell_type": "code",
   "execution_count": 144,
   "metadata": {},
   "outputs": [
    {
     "data": {
      "text/html": [
       "<div>\n",
       "<style scoped>\n",
       "    .dataframe tbody tr th:only-of-type {\n",
       "        vertical-align: middle;\n",
       "    }\n",
       "\n",
       "    .dataframe tbody tr th {\n",
       "        vertical-align: top;\n",
       "    }\n",
       "\n",
       "    .dataframe thead th {\n",
       "        text-align: right;\n",
       "    }\n",
       "</style>\n",
       "<table border=\"1\" class=\"dataframe\">\n",
       "  <thead>\n",
       "    <tr style=\"text-align: right;\">\n",
       "      <th>client_id</th>\n",
       "      <th>311</th>\n",
       "      <th>545</th>\n",
       "      <th>715</th>\n",
       "      <th>1363</th>\n",
       "      <th>1462</th>\n",
       "      <th>2007</th>\n",
       "      <th>2895</th>\n",
       "      <th>2922</th>\n",
       "      <th>3466</th>\n",
       "      <th>3593</th>\n",
       "      <th>...</th>\n",
       "      <th>1185666</th>\n",
       "      <th>1185685</th>\n",
       "      <th>1185713</th>\n",
       "      <th>1185726</th>\n",
       "      <th>1185735</th>\n",
       "      <th>1185752</th>\n",
       "      <th>1185753</th>\n",
       "      <th>1185773</th>\n",
       "      <th>1185806</th>\n",
       "      <th>1185812</th>\n",
       "    </tr>\n",
       "    <tr>\n",
       "      <th>dep_var</th>\n",
       "      <th></th>\n",
       "      <th></th>\n",
       "      <th></th>\n",
       "      <th></th>\n",
       "      <th></th>\n",
       "      <th></th>\n",
       "      <th></th>\n",
       "      <th></th>\n",
       "      <th></th>\n",
       "      <th></th>\n",
       "      <th></th>\n",
       "      <th></th>\n",
       "      <th></th>\n",
       "      <th></th>\n",
       "      <th></th>\n",
       "      <th></th>\n",
       "      <th></th>\n",
       "      <th></th>\n",
       "      <th></th>\n",
       "      <th></th>\n",
       "      <th></th>\n",
       "    </tr>\n",
       "  </thead>\n",
       "  <tbody>\n",
       "    <tr>\n",
       "      <th>0.0</th>\n",
       "      <td>1</td>\n",
       "      <td>1</td>\n",
       "      <td>1</td>\n",
       "      <td>1</td>\n",
       "      <td>2</td>\n",
       "      <td>0</td>\n",
       "      <td>1</td>\n",
       "      <td>2</td>\n",
       "      <td>0</td>\n",
       "      <td>4</td>\n",
       "      <td>...</td>\n",
       "      <td>1</td>\n",
       "      <td>0</td>\n",
       "      <td>1</td>\n",
       "      <td>1</td>\n",
       "      <td>0</td>\n",
       "      <td>1</td>\n",
       "      <td>0</td>\n",
       "      <td>0</td>\n",
       "      <td>1</td>\n",
       "      <td>1</td>\n",
       "    </tr>\n",
       "    <tr>\n",
       "      <th>1.0</th>\n",
       "      <td>0</td>\n",
       "      <td>0</td>\n",
       "      <td>0</td>\n",
       "      <td>0</td>\n",
       "      <td>0</td>\n",
       "      <td>1</td>\n",
       "      <td>0</td>\n",
       "      <td>0</td>\n",
       "      <td>1</td>\n",
       "      <td>0</td>\n",
       "      <td>...</td>\n",
       "      <td>0</td>\n",
       "      <td>1</td>\n",
       "      <td>0</td>\n",
       "      <td>0</td>\n",
       "      <td>1</td>\n",
       "      <td>0</td>\n",
       "      <td>1</td>\n",
       "      <td>1</td>\n",
       "      <td>0</td>\n",
       "      <td>0</td>\n",
       "    </tr>\n",
       "  </tbody>\n",
       "</table>\n",
       "<p>2 rows × 19696 columns</p>\n",
       "</div>"
      ],
      "text/plain": [
       "client_id  311      545      715      1363     1462     2007     2895     \\\n",
       "dep_var                                                                    \n",
       "0.0              1        1        1        1        2        0        1   \n",
       "1.0              0        0        0        0        0        1        0   \n",
       "\n",
       "client_id  2922     3466     3593     ...  1185666  1185685  1185713  1185726  \\\n",
       "dep_var                               ...                                       \n",
       "0.0              2        0        4  ...        1        0        1        1   \n",
       "1.0              0        1        0  ...        0        1        0        0   \n",
       "\n",
       "client_id  1185735  1185752  1185753  1185773  1185806  1185812  \n",
       "dep_var                                                          \n",
       "0.0              0        1        0        0        1        1  \n",
       "1.0              1        0        1        1        0        0  \n",
       "\n",
       "[2 rows x 19696 columns]"
      ]
     },
     "execution_count": 144,
     "metadata": {},
     "output_type": "execute_result"
    }
   ],
   "source": [
    "pd.crosstab(df['dep_var'],df['client_id'])"
   ]
  },
  {
   "cell_type": "code",
   "execution_count": 145,
   "metadata": {},
   "outputs": [
    {
     "data": {
      "text/plain": [
       "(array([8.014e+03, 2.090e+02, 5.000e+01, 1.500e+01, 1.200e+01, 0.000e+00,\n",
       "        8.000e+00, 0.000e+00, 0.000e+00, 5.000e+00]),\n",
       " array([ 1. ,  2.1,  3.2,  4.3,  5.4,  6.5,  7.6,  8.7,  9.8, 10.9, 12. ]),\n",
       " <a list of 10 Patch objects>)"
      ]
     },
     "execution_count": 145,
     "metadata": {},
     "output_type": "execute_result"
    },
    {
     "data": {
      "image/png": "[encoded data removed]",
      "text/plain": [
       "<Figure size 432x288 with 1 Axes>"
      ]
     },
     "metadata": {
      "needs_background": "light"
     },
     "output_type": "display_data"
    }
   ],
   "source": [
    "dis_plot_d = train[(train.dep_var == 1)]['client_id_num']\n",
    "plt.hist(dis_plot_d)"
   ]
  },
  {
   "cell_type": "markdown",
   "metadata": {},
   "source": [
    "The case consist hypothesis using client_id which entailed overfitting"
   ]
  },
  {
   "cell_type": "code",
   "execution_count": 146,
   "metadata": {},
   "outputs": [],
   "source": [
    "# # the same before with exact condition\n",
    "# train[(train['client_id_num'] > 1)].groupby(['client_id_num','dep_var'])\\\n",
    "#     .agg({'dep_var' : 'count'})"
   ]
  },
  {
   "cell_type": "code",
   "execution_count": 147,
   "metadata": {},
   "outputs": [
    {
     "data": {
      "text/plain": [
       "\"num_0_1_client = train.groupby(['client_id','dep_var'])['dep_var'].count().to_dict()\\n\\n        client_count_0_dv = train[(train.dep_var == 0)].groupby('client_id')['dep_var'].count().to_dict()\\n\\n        client_count_1_dv = train[(train.dep_var == 1)].groupby('client_id')['dep_var'].count().to_dict()\\n\\n        train['client_count_1_dv'] = train.client_id.apply(\\n            lambda x: client_count_1_dv[x] if x in client_count_1_dv.keys() else 0)\\n\\n        train['client_count_0_dv'] = train.client_id.apply(\\n            lambda x: client_count_0_dv[x] if x in client_count_0_dv.keys() else 0)\\n\\n        train11 = train\\n\\n        cv_score11 = cv_meth(train11.drop(columns=['dep_var']),y,LGBMClassifier(n_estimators=30,max_depth=4))\""
      ]
     },
     "execution_count": 147,
     "metadata": {},
     "output_type": "execute_result"
    }
   ],
   "source": [
    "'''num_0_1_client = train.groupby(['client_id','dep_var'])['dep_var'].count().to_dict()\n",
    "\n",
    "        client_count_0_dv = train[(train.dep_var == 0)].groupby('client_id')['dep_var'].count().to_dict()\n",
    "\n",
    "        client_count_1_dv = train[(train.dep_var == 1)].groupby('client_id')['dep_var'].count().to_dict()\n",
    "\n",
    "        train['client_count_1_dv'] = train.client_id.apply(\n",
    "            lambda x: client_count_1_dv[x] if x in client_count_1_dv.keys() else 0)\n",
    "\n",
    "        train['client_count_0_dv'] = train.client_id.apply(\n",
    "            lambda x: client_count_0_dv[x] if x in client_count_0_dv.keys() else 0)\n",
    "\n",
    "        train11 = train\n",
    "\n",
    "        cv_score11 = cv_meth(train11.drop(columns=['dep_var']),y,LGBMClassifier(n_estimators=30,max_depth=4))'''"
   ]
  },
  {
   "cell_type": "markdown",
   "metadata": {},
   "source": [
    "Analysis **var154**"
   ]
  },
  {
   "cell_type": "code",
   "execution_count": 148,
   "metadata": {},
   "outputs": [
    {
     "data": {
      "text/plain": [
       "<matplotlib.axes._subplots.AxesSubplot at 0x7f02e2d91438>"
      ]
     },
     "execution_count": 148,
     "metadata": {},
     "output_type": "execute_result"
    },
    {
     "data": {
      "image/png": "[encoded data removed]",
      "text/plain": [
       "<Figure size 432x288 with 1 Axes>"
      ]
     },
     "metadata": {
      "needs_background": "light"
     },
     "output_type": "display_data"
    }
   ],
   "source": [
    "sns.distplot(train.var154.value_counts())"
   ]
  },
  {
   "cell_type": "code",
   "execution_count": 149,
   "metadata": {},
   "outputs": [
    {
     "data": {
      "text/plain": [
       "<matplotlib.axes._subplots.AxesSubplot at 0x7f02eb56f9b0>"
      ]
     },
     "execution_count": 149,
     "metadata": {},
     "output_type": "execute_result"
    },
    {
     "data": {
      "image/png": "[encoded data removed]",
      "text/plain": [
       "<Figure size 432x288 with 1 Axes>"
      ]
     },
     "metadata": {
      "needs_background": "light"
     },
     "output_type": "display_data"
    }
   ],
   "source": [
    "sns.distplot(train.var154.values)"
   ]
  },
  {
   "cell_type": "code",
   "execution_count": 150,
   "metadata": {},
   "outputs": [
    {
     "data": {
      "text/plain": [
       "<matplotlib.axes._subplots.AxesSubplot at 0x7f0317593f28>"
      ]
     },
     "execution_count": 150,
     "metadata": {},
     "output_type": "execute_result"
    },
    {
     "data": {
      "image/png": "[encoded data removed]",
      "text/plain": [
       "<Figure size 432x288 with 1 Axes>"
      ]
     },
     "metadata": {
      "needs_background": "light"
     },
     "output_type": "display_data"
    }
   ],
   "source": [
    "sns.boxplot(train.var154.values)"
   ]
  },
  {
   "cell_type": "code",
   "execution_count": 151,
   "metadata": {},
   "outputs": [
    {
     "data": {
      "text/plain": [
       "31"
      ]
     },
     "execution_count": 151,
     "metadata": {},
     "output_type": "execute_result"
    }
   ],
   "source": [
    "len(train.var154.unique())"
   ]
  },
  {
   "cell_type": "code",
   "execution_count": 152,
   "metadata": {},
   "outputs": [
    {
     "data": {
      "text/html": [
       "<div>\n",
       "<style scoped>\n",
       "    .dataframe tbody tr th:only-of-type {\n",
       "        vertical-align: middle;\n",
       "    }\n",
       "\n",
       "    .dataframe tbody tr th {\n",
       "        vertical-align: top;\n",
       "    }\n",
       "\n",
       "    .dataframe thead th {\n",
       "        text-align: right;\n",
       "    }\n",
       "</style>\n",
       "<table border=\"1\" class=\"dataframe\">\n",
       "  <thead>\n",
       "    <tr style=\"text-align: right;\">\n",
       "      <th></th>\n",
       "      <th></th>\n",
       "      <th>dep_var</th>\n",
       "    </tr>\n",
       "    <tr>\n",
       "      <th>var154</th>\n",
       "      <th>dep_var</th>\n",
       "      <th></th>\n",
       "    </tr>\n",
       "  </thead>\n",
       "  <tbody>\n",
       "    <tr>\n",
       "      <th>-19</th>\n",
       "      <th>1.0</th>\n",
       "      <td>1</td>\n",
       "    </tr>\n",
       "    <tr>\n",
       "      <th>-17</th>\n",
       "      <th>1.0</th>\n",
       "      <td>1</td>\n",
       "    </tr>\n",
       "    <tr>\n",
       "      <th>-16</th>\n",
       "      <th>0.0</th>\n",
       "      <td>1</td>\n",
       "    </tr>\n",
       "    <tr>\n",
       "      <th rowspan=\"2\" valign=\"top\">-12</th>\n",
       "      <th>0.0</th>\n",
       "      <td>4</td>\n",
       "    </tr>\n",
       "    <tr>\n",
       "      <th>1.0</th>\n",
       "      <td>3</td>\n",
       "    </tr>\n",
       "    <tr>\n",
       "      <th rowspan=\"2\" valign=\"top\">-11</th>\n",
       "      <th>0.0</th>\n",
       "      <td>13</td>\n",
       "    </tr>\n",
       "    <tr>\n",
       "      <th>1.0</th>\n",
       "      <td>7</td>\n",
       "    </tr>\n",
       "    <tr>\n",
       "      <th>-10</th>\n",
       "      <th>1.0</th>\n",
       "      <td>2</td>\n",
       "    </tr>\n",
       "    <tr>\n",
       "      <th rowspan=\"2\" valign=\"top\">-8</th>\n",
       "      <th>0.0</th>\n",
       "      <td>12</td>\n",
       "    </tr>\n",
       "    <tr>\n",
       "      <th>1.0</th>\n",
       "      <td>10</td>\n",
       "    </tr>\n",
       "    <tr>\n",
       "      <th rowspan=\"2\" valign=\"top\">-7</th>\n",
       "      <th>0.0</th>\n",
       "      <td>16</td>\n",
       "    </tr>\n",
       "    <tr>\n",
       "      <th>1.0</th>\n",
       "      <td>7</td>\n",
       "    </tr>\n",
       "    <tr>\n",
       "      <th rowspan=\"2\" valign=\"top\">-6</th>\n",
       "      <th>0.0</th>\n",
       "      <td>1</td>\n",
       "    </tr>\n",
       "    <tr>\n",
       "      <th>1.0</th>\n",
       "      <td>2</td>\n",
       "    </tr>\n",
       "    <tr>\n",
       "      <th rowspan=\"2\" valign=\"top\">-5</th>\n",
       "      <th>0.0</th>\n",
       "      <td>11</td>\n",
       "    </tr>\n",
       "    <tr>\n",
       "      <th>1.0</th>\n",
       "      <td>3</td>\n",
       "    </tr>\n",
       "    <tr>\n",
       "      <th>-4</th>\n",
       "      <th>0.0</th>\n",
       "      <td>3</td>\n",
       "    </tr>\n",
       "    <tr>\n",
       "      <th rowspan=\"2\" valign=\"top\">-3</th>\n",
       "      <th>0.0</th>\n",
       "      <td>2</td>\n",
       "    </tr>\n",
       "    <tr>\n",
       "      <th>1.0</th>\n",
       "      <td>1</td>\n",
       "    </tr>\n",
       "    <tr>\n",
       "      <th rowspan=\"2\" valign=\"top\">-2</th>\n",
       "      <th>0.0</th>\n",
       "      <td>3</td>\n",
       "    </tr>\n",
       "    <tr>\n",
       "      <th>1.0</th>\n",
       "      <td>2</td>\n",
       "    </tr>\n",
       "    <tr>\n",
       "      <th rowspan=\"2\" valign=\"top\">-1</th>\n",
       "      <th>0.0</th>\n",
       "      <td>2</td>\n",
       "    </tr>\n",
       "    <tr>\n",
       "      <th>1.0</th>\n",
       "      <td>2</td>\n",
       "    </tr>\n",
       "    <tr>\n",
       "      <th rowspan=\"2\" valign=\"top\">1</th>\n",
       "      <th>0.0</th>\n",
       "      <td>22</td>\n",
       "    </tr>\n",
       "    <tr>\n",
       "      <th>1.0</th>\n",
       "      <td>20</td>\n",
       "    </tr>\n",
       "    <tr>\n",
       "      <th rowspan=\"2\" valign=\"top\">2</th>\n",
       "      <th>0.0</th>\n",
       "      <td>110</td>\n",
       "    </tr>\n",
       "    <tr>\n",
       "      <th>1.0</th>\n",
       "      <td>76</td>\n",
       "    </tr>\n",
       "    <tr>\n",
       "      <th rowspan=\"2\" valign=\"top\">3</th>\n",
       "      <th>0.0</th>\n",
       "      <td>9093</td>\n",
       "    </tr>\n",
       "    <tr>\n",
       "      <th>1.0</th>\n",
       "      <td>4477</td>\n",
       "    </tr>\n",
       "    <tr>\n",
       "      <th rowspan=\"2\" valign=\"top\">4</th>\n",
       "      <th>0.0</th>\n",
       "      <td>1055</td>\n",
       "    </tr>\n",
       "    <tr>\n",
       "      <th>1.0</th>\n",
       "      <td>868</td>\n",
       "    </tr>\n",
       "    <tr>\n",
       "      <th rowspan=\"2\" valign=\"top\">5</th>\n",
       "      <th>0.0</th>\n",
       "      <td>1100</td>\n",
       "    </tr>\n",
       "    <tr>\n",
       "      <th>1.0</th>\n",
       "      <td>800</td>\n",
       "    </tr>\n",
       "    <tr>\n",
       "      <th rowspan=\"2\" valign=\"top\">6</th>\n",
       "      <th>0.0</th>\n",
       "      <td>1550</td>\n",
       "    </tr>\n",
       "    <tr>\n",
       "      <th>1.0</th>\n",
       "      <td>642</td>\n",
       "    </tr>\n",
       "    <tr>\n",
       "      <th rowspan=\"2\" valign=\"top\">7</th>\n",
       "      <th>0.0</th>\n",
       "      <td>901</td>\n",
       "    </tr>\n",
       "    <tr>\n",
       "      <th>1.0</th>\n",
       "      <td>634</td>\n",
       "    </tr>\n",
       "    <tr>\n",
       "      <th rowspan=\"2\" valign=\"top\">8</th>\n",
       "      <th>0.0</th>\n",
       "      <td>393</td>\n",
       "    </tr>\n",
       "    <tr>\n",
       "      <th>1.0</th>\n",
       "      <td>260</td>\n",
       "    </tr>\n",
       "    <tr>\n",
       "      <th rowspan=\"2\" valign=\"top\">9</th>\n",
       "      <th>0.0</th>\n",
       "      <td>257</td>\n",
       "    </tr>\n",
       "    <tr>\n",
       "      <th>1.0</th>\n",
       "      <td>143</td>\n",
       "    </tr>\n",
       "    <tr>\n",
       "      <th rowspan=\"2\" valign=\"top\">10</th>\n",
       "      <th>0.0</th>\n",
       "      <td>480</td>\n",
       "    </tr>\n",
       "    <tr>\n",
       "      <th>1.0</th>\n",
       "      <td>262</td>\n",
       "    </tr>\n",
       "    <tr>\n",
       "      <th rowspan=\"2\" valign=\"top\">11</th>\n",
       "      <th>0.0</th>\n",
       "      <td>66</td>\n",
       "    </tr>\n",
       "    <tr>\n",
       "      <th>1.0</th>\n",
       "      <td>48</td>\n",
       "    </tr>\n",
       "    <tr>\n",
       "      <th rowspan=\"2\" valign=\"top\">12</th>\n",
       "      <th>0.0</th>\n",
       "      <td>69</td>\n",
       "    </tr>\n",
       "    <tr>\n",
       "      <th>1.0</th>\n",
       "      <td>36</td>\n",
       "    </tr>\n",
       "    <tr>\n",
       "      <th rowspan=\"2\" valign=\"top\">13</th>\n",
       "      <th>0.0</th>\n",
       "      <td>11</td>\n",
       "    </tr>\n",
       "    <tr>\n",
       "      <th>1.0</th>\n",
       "      <td>3</td>\n",
       "    </tr>\n",
       "    <tr>\n",
       "      <th>14</th>\n",
       "      <th>0.0</th>\n",
       "      <td>1</td>\n",
       "    </tr>\n",
       "    <tr>\n",
       "      <th>18</th>\n",
       "      <th>1.0</th>\n",
       "      <td>1</td>\n",
       "    </tr>\n",
       "    <tr>\n",
       "      <th>25</th>\n",
       "      <th>1.0</th>\n",
       "      <td>1</td>\n",
       "    </tr>\n",
       "    <tr>\n",
       "      <th rowspan=\"2\" valign=\"top\">26</th>\n",
       "      <th>0.0</th>\n",
       "      <td>1</td>\n",
       "    </tr>\n",
       "    <tr>\n",
       "      <th>1.0</th>\n",
       "      <td>1</td>\n",
       "    </tr>\n",
       "  </tbody>\n",
       "</table>\n",
       "</div>"
      ],
      "text/plain": [
       "                dep_var\n",
       "var154 dep_var         \n",
       "-19    1.0            1\n",
       "-17    1.0            1\n",
       "-16    0.0            1\n",
       "-12    0.0            4\n",
       "       1.0            3\n",
       "-11    0.0           13\n",
       "       1.0            7\n",
       "-10    1.0            2\n",
       "-8     0.0           12\n",
       "       1.0           10\n",
       "-7     0.0           16\n",
       "       1.0            7\n",
       "-6     0.0            1\n",
       "       1.0            2\n",
       "-5     0.0           11\n",
       "       1.0            3\n",
       "-4     0.0            3\n",
       "-3     0.0            2\n",
       "       1.0            1\n",
       "-2     0.0            3\n",
       "       1.0            2\n",
       "-1     0.0            2\n",
       "       1.0            2\n",
       " 1     0.0           22\n",
       "       1.0           20\n",
       " 2     0.0          110\n",
       "       1.0           76\n",
       " 3     0.0         9093\n",
       "       1.0         4477\n",
       " 4     0.0         1055\n",
       "       1.0          868\n",
       " 5     0.0         1100\n",
       "       1.0          800\n",
       " 6     0.0         1550\n",
       "       1.0          642\n",
       " 7     0.0          901\n",
       "       1.0          634\n",
       " 8     0.0          393\n",
       "       1.0          260\n",
       " 9     0.0          257\n",
       "       1.0          143\n",
       " 10    0.0          480\n",
       "       1.0          262\n",
       " 11    0.0           66\n",
       "       1.0           48\n",
       " 12    0.0           69\n",
       "       1.0           36\n",
       " 13    0.0           11\n",
       "       1.0            3\n",
       " 14    0.0            1\n",
       " 18    1.0            1\n",
       " 25    1.0            1\n",
       " 26    0.0            1\n",
       "       1.0            1"
      ]
     },
     "execution_count": 152,
     "metadata": {},
     "output_type": "execute_result"
    }
   ],
   "source": [
    "train.groupby(['var154','dep_var'])\\\n",
    "     .agg({'dep_var' : 'count'})"
   ]
  },
  {
   "cell_type": "markdown",
   "metadata": {},
   "source": [
    "In genral, it is normal and doesn't need chenging"
   ]
  },
  {
   "cell_type": "markdown",
   "metadata": {},
   "source": [
    "#### Make a baseline with all searched changings"
   ]
  },
  {
   "cell_type": "code",
   "execution_count": 153,
   "metadata": {},
   "outputs": [],
   "source": [
    "# simple test_train_split\n",
    "def tr_ts_split(data,target):\n",
    "    cv = KFold(random_state=17,n_splits=5,shuffle=True)\n",
    "    for train_ind, val_ind in cv.split(data, target):\n",
    "        X_train_ = data.iloc[train_ind]\n",
    "        y_train_ = target.iloc[train_ind]\n",
    "        X_val_ = data.iloc[val_ind]\n",
    "        y_val_ = target.iloc[val_ind]\n",
    "    return X_train_, y_train_, X_val_, y_val_"
   ]
  },
  {
   "cell_type": "code",
   "execution_count": 154,
   "metadata": {},
   "outputs": [],
   "source": [
    "def my_cross_validation(data, w_0_feat,ind=True,clf=LGBMClassifier(n_estimators=30,max_depth=4)):\n",
    "    \"\"\"\n",
    "    Method of cross-validation which consists all base transformations dirty data\n",
    "    \n",
    "    Parameters\n",
    "    ----------\n",
    "    data : pd.DataFrame \n",
    "        All package of data\n",
    "    clf : metod of classification model\n",
    "        Metod of model like LGBMClassifier()\n",
    "    w_0_feat : list\n",
    "        The list of fetures which will dropped\n",
    "    ind: bool\n",
    "        If it is True divide train and test as data with and without labels\n",
    "    \n",
    "    Returns\n",
    "    -------\n",
    "    score : set(double,double)\n",
    "            mean value of prediction and validation\n",
    "    \"\"\"\n",
    "    data = data.drop(columns=['test_cr_performance','test_cr_decision'])\n",
    "    data.time_msw = pd.to_datetime(data.time_msw)\n",
    "    data['start_time_s'] = data['time_msw'].apply(lambda ts: \n",
    "                                                          10000 * ts.hour + ts.minute*100 + ts.second).astype('int')\n",
    "    data['month_verif'] = data['time_msw'].apply(lambda ts:ts.month).astype('int')\n",
    "    data['hour'] = data['time_msw'].apply(lambda ts:ts.hour).astype('int')\n",
    "    data = data.drop(columns=['time_msw'])\n",
    "    data = data.drop(columns=['month_verif'])\n",
    "    \n",
    "    for v in top_var74:\n",
    "        data['var74_' + str(v).replace(' ','')] = data['var74'].apply(lambda x: 1 if str(v) in str(x) else 0)\n",
    "        \n",
    "    client_id_val = data.client_id.value_counts().to_dict()\n",
    "    data['client_id_num'] = data.client_id.apply(lambda x: client_id_val[x])\n",
    "     \n",
    "    object_feat = []\n",
    "    for col in data.columns:\n",
    "        if (data[col].dtypes == object):\n",
    "            object_feat.append(col)\n",
    "    data[object_feat] = data[object_feat].fillna('unknown')\n",
    "    for i in object_feat:\n",
    "        data[i] = pd.factorize(data[i])[0]\n",
    "\n",
    "        \n",
    "    data = data.drop(columns=['var46']);\n",
    "    data = data.drop(columns=w_0_feat);\n",
    "    \n",
    "    for col in data.drop(columns=['dep_var']).columns:\n",
    "        data[col] = data[col].fillna(data[col].median())\n",
    "    \n",
    "    if ind:\n",
    "        ind = data[data.dep_var.isna() == False ].index\n",
    "        train = data.loc[ind]\n",
    "        valid = data.drop(index=ind)\n",
    "        y_train = train.dep_var\n",
    "    #     не определено\n",
    "        y_val = valid.dep_var.values\n",
    "        X_train = train.drop(columns=['dep_var'])\n",
    "        X_val = valid.drop(columns=['dep_var'])\n",
    "    else:\n",
    "        X_train, y_train, X_val, y_val = tr_ts_split(data.drop(columns=['dep_var']),data.dep_var)\n",
    "        \n",
    "    ss = StandardScaler()\n",
    "    scale_train_var41 = X_train.var41.values.reshape(-1, 1)\n",
    "    scale_train_var41 = ss.fit_transform(scale_train_var41)\n",
    "    \n",
    "    scale_val_var41 = X_val.var41.values.reshape(-1, 1)\n",
    "    scale_val_var41 = ss.transform(scale_val_var41)\n",
    "    \n",
    "    X_train.var41 = scale_train_var41\n",
    "    X_val.var41 = scale_val_var41\n",
    "    \n",
    "    clf = clf\n",
    "    clf.fit(X_train,y_train)\n",
    "    y_pred = clf.predict(X_val)\n",
    "    \n",
    "    return y_pred,y_val"
   ]
  },
  {
   "cell_type": "code",
   "execution_count": 155,
   "metadata": {},
   "outputs": [],
   "source": [
    "# predict values for data without label\n",
    "y_pred,y_val = my_cross_validation(df,w_0_feat)\n",
    "train = df.loc[ind]\n",
    "ind_val = df[df.dep_var.isna() == True].index\n",
    "valid = df.loc[ind_val]"
   ]
  },
  {
   "cell_type": "code",
   "execution_count": 156,
   "metadata": {},
   "outputs": [
    {
     "data": {
      "text/plain": [
       "((60640, 157), 60640)"
      ]
     },
     "execution_count": 156,
     "metadata": {},
     "output_type": "execute_result"
    }
   ],
   "source": [
    "valid.shape, len(y_pred)"
   ]
  },
  {
   "cell_type": "code",
   "execution_count": 157,
   "metadata": {},
   "outputs": [
    {
     "data": {
      "text/plain": [
       "array([0., 0., 0., ..., 0., 0., 0.])"
      ]
     },
     "execution_count": 157,
     "metadata": {},
     "output_type": "execute_result"
    }
   ],
   "source": [
    "y_pred"
   ]
  },
  {
   "cell_type": "code",
   "execution_count": 158,
   "metadata": {},
   "outputs": [],
   "source": [
    "# filled data without label by predicted values\n",
    "valid.dep_var = y_pred"
   ]
  },
  {
   "cell_type": "code",
   "execution_count": 159,
   "metadata": {},
   "outputs": [
    {
     "data": {
      "text/plain": [
       "False"
      ]
     },
     "execution_count": 159,
     "metadata": {},
     "output_type": "execute_result"
    }
   ],
   "source": [
    "valid.dep_var.isna().any()"
   ]
  },
  {
   "cell_type": "code",
   "execution_count": 192,
   "metadata": {},
   "outputs": [],
   "source": [
    "df_full = pd.concat([train,valid])"
   ]
  },
  {
   "cell_type": "code",
   "execution_count": 161,
   "metadata": {},
   "outputs": [
    {
     "data": {
      "text/plain": [
       "False"
      ]
     },
     "execution_count": 161,
     "metadata": {},
     "output_type": "execute_result"
    }
   ],
   "source": [
    "# check\n",
    "df_full.dep_var.isna().any()"
   ]
  },
  {
   "cell_type": "code",
   "execution_count": 162,
   "metadata": {},
   "outputs": [
    {
     "data": {
      "text/plain": [
       "(array([74045.,     0.,     0.,     0.,     0.,     0.,     0.,     0.,\n",
       "            0., 10085.]),\n",
       " array([0. , 0.1, 0.2, 0.3, 0.4, 0.5, 0.6, 0.7, 0.8, 0.9, 1. ]),\n",
       " <a list of 10 Patch objects>)"
      ]
     },
     "execution_count": 162,
     "metadata": {},
     "output_type": "execute_result"
    },
    {
     "data": {
      "image/png": "[encoded data removed]",
      "text/plain": [
       "<Figure size 432x288 with 1 Axes>"
      ]
     },
     "metadata": {
      "needs_background": "light"
     },
     "output_type": "display_data"
    }
   ],
   "source": [
    "plt.hist(df_full.dep_var)"
   ]
  },
  {
   "cell_type": "code",
   "execution_count": 163,
   "metadata": {},
   "outputs": [],
   "source": [
    "def make_pred(X,y,model):\n",
    "    \"\"\"\n",
    "    Method of making prediction\n",
    "    \n",
    "    Parameters\n",
    "    ----------\n",
    "    X : pd.DataFrame \n",
    "        train\n",
    "    y : pd.Series\n",
    "        target\n",
    "    model : method\n",
    "        method of classification\n",
    "    Returns\n",
    "    -------\n",
    "    score : double\n",
    "            prediction\n",
    "    \"\"\"\n",
    "    results = []\n",
    "#     X_train, X_test, y_train, y_test = train_test_split(X,y,test_size=0.3,random_state=17)\n",
    "    model.fit(X,y)\n",
    "    y_pred = model.predict(X_test)\n",
    "    return y_pred"
   ]
  },
  {
   "cell_type": "code",
   "execution_count": 164,
   "metadata": {},
   "outputs": [],
   "source": [
    "def plot_conf_matrix(y_pred,y_test,title):\n",
    "    \"\"\"\n",
    "    Method of plotting confusion matrix diagram\n",
    "    \n",
    "    Parameters\n",
    "    ----------\n",
    "    y_pred : pd.Series \n",
    "        prediction labels\n",
    "    y_test : pd.Series\n",
    "        test labels\n",
    "    title : str\n",
    "        The string which will written under the diagram\n",
    "    \"\"\"\n",
    "    plt.figure()\n",
    "    grad_ens_conf_matrix = confusion_matrix(y_test, y_pred)\n",
    "    sns.heatmap(grad_ens_conf_matrix, annot=True,  fmt='')\n",
    "    plt.title(title)"
   ]
  },
  {
   "cell_type": "code",
   "execution_count": 193,
   "metadata": {},
   "outputs": [
    {
     "name": "stdout",
     "output_type": "stream",
     "text": [
      "LogisticRegression :\n",
      "               precision    recall  f1-score   support\n",
      "\n",
      "         0.0       0.89      0.97      0.93     14823\n",
      "         1.0       0.39      0.14      0.21      2003\n",
      "\n",
      "   micro avg       0.87      0.87      0.87     16826\n",
      "   macro avg       0.64      0.56      0.57     16826\n",
      "weighted avg       0.83      0.87      0.84     16826\n",
      "\n",
      "\n",
      "LGBM :\n",
      "               precision    recall  f1-score   support\n",
      "\n",
      "         0.0       0.89      0.99      0.94     14823\n",
      "         1.0       0.65      0.13      0.22      2003\n",
      "\n",
      "   micro avg       0.89      0.89      0.89     16826\n",
      "   macro avg       0.77      0.56      0.58     16826\n",
      "weighted avg       0.87      0.89      0.85     16826\n",
      "\n",
      "\n"
     ]
    },
    {
     "data": {
      "image/png": "[encoded data removed]",
      "text/plain": [
       "<Figure size 432x288 with 2 Axes>"
      ]
     },
     "metadata": {
      "needs_background": "light"
     },
     "output_type": "display_data"
    },
    {
     "data": {
      "image/png": "[encoded data removed]",
      "text/plain": [
       "<Figure size 432x288 with 2 Axes>"
      ]
     },
     "metadata": {
      "needs_background": "light"
     },
     "output_type": "display_data"
    }
   ],
   "source": [
    "# Spot Check LogisticRegression and LGBMClassifier\n",
    "data = df_full\n",
    "outputs_model = {}\n",
    "elected_models = []\n",
    "elected_models.append(('LogisticRegression', LogisticRegression(C=0.6)))\n",
    "elected_models.append(('LGBM',LGBMClassifier(n_estimators=30,max_depth=4)))\n",
    "for name,model in elected_models:\n",
    "    y_pred_,y_true_ = my_cross_validation(data,w_0_feat,False,clf=model)\n",
    "    print(name,':\\n {}\\n'.format(classification_report(y_true_, y_pred_)))\n",
    "    plot_conf_matrix(y_pred_,y_true_,name)\n",
    "    outputs_model[name] = (y_pred_,y_true_)"
   ]
  },
  {
   "cell_type": "markdown",
   "metadata": {},
   "source": [
    "The LGBM predicts FN less often than LR and more often is right is TP."
   ]
  },
  {
   "cell_type": "code",
   "execution_count": 199,
   "metadata": {},
   "outputs": [
    {
     "name": "stdout",
     "output_type": "stream",
     "text": [
      "roc_auc LR: 0.6427264581512575\n"
     ]
    }
   ],
   "source": [
    "# extract FPR and TPR \n",
    "fpr_lr, tpr_lr, threshold_lr = roc_curve(\n",
    "    outputs_model['LogisticRegression'][0],outputs_model['LogisticRegression'][1])\n",
    "roc_auc_lr = auc(fpr_lr, tpr_lr)\n",
    "print('roc_auc LR:', roc_auc_lr)"
   ]
  },
  {
   "cell_type": "code",
   "execution_count": 200,
   "metadata": {},
   "outputs": [
    {
     "name": "stdout",
     "output_type": "stream",
     "text": [
      "roc_auc LR: 0.7722808949456502\n"
     ]
    }
   ],
   "source": [
    "# extract FPR and TPR \n",
    "fpr_lgbm, tpr_lgbm, threshold_lgbm = roc_curve(\n",
    "    outputs_model['LGBM'][0],outputs_model['LGBM'][1])\n",
    "roc_auc_lgbm = auc(fpr_lgbm, tpr_lgbm)\n",
    "print('roc_auc LR:', roc_auc_lgbm)"
   ]
  },
  {
   "cell_type": "code",
   "execution_count": 194,
   "metadata": {},
   "outputs": [
    {
     "data": {
      "image/png": "[encoded data removed]",
      "text/plain": [
       "<IPython.core.display.Image object>"
      ]
     },
     "execution_count": 194,
     "metadata": {},
     "output_type": "execute_result"
    }
   ],
   "source": [
    "Image(filename='roc1_en.png')"
   ]
  },
  {
   "cell_type": "code",
   "execution_count": 170,
   "metadata": {},
   "outputs": [
    {
     "data": {
      "image/png": "[encoded data removed]",
      "text/plain": [
       "<IPython.core.display.Image object>"
      ]
     },
     "execution_count": 170,
     "metadata": {},
     "output_type": "execute_result"
    }
   ],
   "source": [
    "Image(filename='roc_auc.png')"
   ]
  },
  {
   "cell_type": "code",
   "execution_count": null,
   "metadata": {},
   "outputs": [],
   "source": [
    "fig, ax = plt.subplots(figsize = (16, 6))\n",
    "plt.subplot(1, 2, 1)\n",
    "plt.hist(train['revenue']);\n",
    "plt.title('Distribution of revenue');\n",
    "plt.subplot(1, 2, 2)\n",
    "plt.hist(np.log1p(train['revenue']));\n",
    "plt.title('Distribution of log of revenue');"
   ]
  },
  {
   "cell_type": "code",
   "execution_count": 202,
   "metadata": {},
   "outputs": [
    {
     "data": {
      "image/png": "[encoded data removed]",
      "text/plain": [
       "<Figure size 1152x432 with 2 Axes>"
      ]
     },
     "metadata": {
      "needs_background": "light"
     },
     "output_type": "display_data"
    }
   ],
   "source": [
    "# plotting the own roc_auc grphic\n",
    "fig, ax = plt.subplots(figsize = (16, 6))\n",
    "\n",
    "plt.subplot(1, 2, 1)\n",
    "plt.plot(fpr_lr, tpr_lr, 'b', label = 'AUC = %0.2f' % roc_auc_lr)\n",
    "plt.legend(loc = 'lower right')\n",
    "plt.plot([0, 1], [0, 1],'r--')\n",
    "plt.xlim([0, 1])\n",
    "plt.ylim([0, 1])\n",
    "plt.ylabel('TPR')\n",
    "plt.xlabel('FPR')\n",
    "plt.title('LogisticRegression')\n",
    "\n",
    "plt.subplot(1, 2, 2)\n",
    "plt.plot(fpr_lgbm, tpr_lgbm, 'b', label = 'AUC = %0.2f' % roc_auc_lgbm)\n",
    "plt.legend(loc = 'lower right')\n",
    "plt.plot([0, 1], [0, 1],'r--')\n",
    "plt.xlim([0, 1])\n",
    "plt.ylim([0, 1])\n",
    "plt.ylabel('TPR')\n",
    "plt.xlabel('FPR')\n",
    "plt.title('LGBM')\n",
    "\n",
    "plt.show()"
   ]
  },
  {
   "cell_type": "code",
   "execution_count": 173,
   "metadata": {},
   "outputs": [],
   "source": [
    "def train_model(data,y, w_0_feat,clf=LGBMClassifier(n_estimators=30,max_depth=4)):\n",
    "    \"\"\"\n",
    "    Method of making fitted model from the training set (data, y)\n",
    "    \n",
    "    Parameters\n",
    "    ----------\n",
    "    data : pd.DataFrame \n",
    "        All package of data\n",
    "    y : pd.Series\n",
    "        Target\n",
    "    clf : metod of classification model\n",
    "        Metod of model like LGBMClassifier()\n",
    "    w_0_feat : list\n",
    "        The list of fetures which will dropped\n",
    "\n",
    "    Returns\n",
    "    -------\n",
    "    self : object\n",
    "        Returns self (fitting model).\n",
    "    \"\"\"\n",
    "    data = data.drop(columns=['test_cr_performance','test_cr_decision'])\n",
    "    data.time_msw = pd.to_datetime(data.time_msw)\n",
    "    data['start_time_s'] = data['time_msw'].apply(lambda ts: \n",
    "                                                          10000 * ts.hour + ts.minute*100 + ts.second).astype('int')\n",
    "    data['month_verif'] = data['time_msw'].apply(lambda ts:ts.month).astype('int')\n",
    "    data['hour'] = data['time_msw'].apply(lambda ts:ts.hour).astype('int')\n",
    "    data = data.drop(columns=['time_msw'])\n",
    "    data = data.drop(columns=['month_verif'])\n",
    "    \n",
    "    for v in top_var74:\n",
    "        data['var74_' + str(v).replace(' ','')] = data['var74'].apply(lambda x: 1 if str(v) in str(x) else 0)\n",
    "        \n",
    "    client_id_val = data.client_id.value_counts().to_dict()\n",
    "    data['client_id_num'] = data.client_id.apply(lambda x: client_id_val[x])\n",
    "     \n",
    "    object_feat = []\n",
    "    for col in data.columns:\n",
    "        if (data[col].dtypes == object):\n",
    "            object_feat.append(col)\n",
    "    data[object_feat] = data[object_feat].fillna('unknown')\n",
    "    for i in object_feat:\n",
    "        data[i] = pd.factorize(data[i])[0]\n",
    "\n",
    "    data = data.drop(columns=['var46']);\n",
    "    data = data.drop(columns=w_0_feat);\n",
    "    \n",
    "    for col in data.columns:\n",
    "        data[col] = data[col].fillna(data[col].median())\n",
    "    \n",
    "    ss = StandardScaler()\n",
    "    scale_var41 = data.var41.values.reshape(-1, 1)\n",
    "    scale_var41 = ss.fit_transform(scale_var41)\n",
    "    \n",
    "    data.var41 = scale_var41\n",
    "    \n",
    "    train_model = clf.fit(data,y)\n",
    "                \n",
    "    return train_model"
   ]
  },
  {
   "cell_type": "markdown",
   "metadata": {},
   "source": [
    "### Save model"
   ]
  },
  {
   "cell_type": "code",
   "execution_count": 174,
   "metadata": {},
   "outputs": [],
   "source": [
    "train_model = train_model(df.drop(columns=['dep_var']),df.dep_var,w_0_feat)"
   ]
  },
  {
   "cell_type": "code",
   "execution_count": 175,
   "metadata": {},
   "outputs": [
    {
     "data": {
      "text/plain": [
       "['LGBM_model_1.pkl']"
      ]
     },
     "execution_count": 175,
     "metadata": {},
     "output_type": "execute_result"
    }
   ],
   "source": [
    "# Save the model as a pickle in a file \n",
    "joblib.dump(train_model, 'LGBM_model_1.pkl') \n",
    "  \n",
    "# Load the model from the file \n",
    "# lgbm_from_joblib = joblib.load('LGBM_model_1.pkl')  "
   ]
  }
 ],
 "metadata": {
  "kernelspec": {
   "display_name": "Python 3",
   "language": "python",
   "name": "python3"
  },
  "language_info": {
   "codemirror_mode": {
    "name": "ipython",
    "version": 3
   },
   "file_extension": ".py",
   "mimetype": "text/x-python",
   "name": "python",
   "nbconvert_exporter": "python",
   "pygments_lexer": "ipython3",
   "version": "3.7.3"
  }
 },
 "nbformat": 4,
 "nbformat_minor": 2
}
