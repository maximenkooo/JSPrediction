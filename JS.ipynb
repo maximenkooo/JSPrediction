{
 "cells": [
  {
   "cell_type": "code",
   "execution_count": 1,
   "metadata": {},
   "outputs": [
    {
     "data": {
      "text/html": [
       "        <script type=\"text/javascript\">\n",
       "        window.PlotlyConfig = {MathJaxConfig: 'local'};\n",
       "        if (window.MathJax) {MathJax.Hub.Config({SVG: {font: \"STIX-Web\"}});}\n",
       "        if (typeof require !== 'undefined') {\n",
       "        require.undef(\"plotly\");\n",
       "        requirejs.config({\n",
       "            paths: {\n",
       "                'plotly': ['https://cdn.plot.ly/plotly-latest.min']\n",
       "            }\n",
       "        });\n",
       "        require(['plotly'], function(Plotly) {\n",
       "            window._Plotly = Plotly;\n",
       "        });\n",
       "        }\n",
       "        </script>\n",
       "        "
      ]
     },
     "metadata": {},
     "output_type": "display_data"
    }
   ],
   "source": [
    "import pandas as pd\n",
    "import pandas_profiling\n",
    "import numpy as np\n",
    "import seaborn as sns\n",
    "from sklearn.linear_model import LogisticRegression \n",
    "from sklearn.ensemble import RandomForestClassifier, AdaBoostClassifier,GradientBoostingClassifier\n",
    "from sklearn.model_selection import cross_val_score,KFold,cross_validate,train_test_split\n",
    "from sklearn.manifold import TSNE\n",
    "from sklearn.preprocessing import StandardScaler\n",
    "import matplotlib.pyplot as plt\n",
    "from sklearn.linear_model import LogisticRegression\n",
    "from sklearn.tree import export_graphviz,DecisionTreeClassifier\n",
    "from sklearn.neighbors import KNeighborsClassifier\n",
    "from sklearn.svm import SVC\n",
    "from sklearn.ensemble import BaggingClassifier,AdaBoostClassifier,RandomForestClassifier\n",
    "from lightgbm import LGBMClassifier\n",
    "from xgboost import XGBClassifier  \n",
    "from sklearn.cluster import KMeans\n",
    "from datetime import datetime\n",
    "from sklearn.metrics import confusion_matrix, roc_auc_score, roc_curve, auc\n",
    "\n",
    "import plotly.graph_objs as go#visualization\n",
    "from plotly.offline import download_plotlyjs, init_notebook_mode, plot, iplot\n",
    "import plotly\n",
    "init_notebook_mode(connected=True)\n",
    "\n",
    "import eli5\n",
    "from scipy import hstack\n",
    "from scipy.sparse import csr_matrix"
   ]
  },
  {
   "cell_type": "code",
   "execution_count": 2,
   "metadata": {},
   "outputs": [],
   "source": [
    "import sys\n",
    "import warnings\n",
    "\n",
    "if not sys.warnoptions:\n",
    "    warnings.simplefilter(\"ignore\")"
   ]
  },
  {
   "cell_type": "code",
   "execution_count": 3,
   "metadata": {},
   "outputs": [],
   "source": [
    "df = pd.read_csv('20170504_test_download.csv', sep='\\t',error_bad_lines=False)"
   ]
  },
  {
   "cell_type": "code",
   "execution_count": 4,
   "metadata": {},
   "outputs": [
    {
     "data": {
      "text/plain": [
       "(84130, 161)"
      ]
     },
     "execution_count": 4,
     "metadata": {},
     "output_type": "execute_result"
    }
   ],
   "source": [
    "df.shape"
   ]
  },
  {
   "cell_type": "code",
   "execution_count": 7,
   "metadata": {},
   "outputs": [
    {
     "data": {
      "text/html": [
       "\n",
       "        <iframe\n",
       "            width=\"100%\"\n",
       "            height=\"800px\"\n",
       "            src=\"ipynb_tmp/profile_9724945900.html\"\n",
       "            frameborder=\"0\"\n",
       "            allowfullscreen\n",
       "        ></iframe>\n",
       "        "
      ],
      "text/plain": [
       "<IPython.lib.display.IFrame at 0x7f1680045748>"
      ]
     },
     "metadata": {},
     "output_type": "display_data"
    },
    {
     "data": {
      "text/plain": []
     },
     "execution_count": 7,
     "metadata": {},
     "output_type": "execute_result"
    }
   ],
   "source": [
    "pandas_profiling.ProfileReport(df.sample(1000))"
   ]
  },
  {
   "cell_type": "code",
   "execution_count": 8,
   "metadata": {},
   "outputs": [
    {
     "data": {
      "text/plain": [
       "(84130, 161)"
      ]
     },
     "execution_count": 8,
     "metadata": {},
     "output_type": "execute_result"
    }
   ],
   "source": [
    "df.drop_duplicates(subset=df.columns).shape"
   ]
  },
  {
   "cell_type": "code",
   "execution_count": 9,
   "metadata": {},
   "outputs": [
    {
     "data": {
      "text/html": [
       "<div>\n",
       "<style scoped>\n",
       "    .dataframe tbody tr th:only-of-type {\n",
       "        vertical-align: middle;\n",
       "    }\n",
       "\n",
       "    .dataframe tbody tr th {\n",
       "        vertical-align: top;\n",
       "    }\n",
       "\n",
       "    .dataframe thead th {\n",
       "        text-align: right;\n",
       "    }\n",
       "</style>\n",
       "<table border=\"1\" class=\"dataframe\">\n",
       "  <thead>\n",
       "    <tr style=\"text-align: right;\">\n",
       "      <th></th>\n",
       "      <th>account_id</th>\n",
       "      <th>client_id</th>\n",
       "      <th>time_msw</th>\n",
       "      <th>test_cr_decision</th>\n",
       "      <th>test_cr_performance</th>\n",
       "      <th>dep_var</th>\n",
       "      <th>month_verif</th>\n",
       "      <th>var1</th>\n",
       "      <th>var2</th>\n",
       "      <th>var3</th>\n",
       "      <th>...</th>\n",
       "      <th>var145</th>\n",
       "      <th>var146</th>\n",
       "      <th>var147</th>\n",
       "      <th>var148</th>\n",
       "      <th>var149</th>\n",
       "      <th>var150</th>\n",
       "      <th>var151</th>\n",
       "      <th>var152</th>\n",
       "      <th>var153</th>\n",
       "      <th>var154</th>\n",
       "    </tr>\n",
       "  </thead>\n",
       "  <tbody>\n",
       "    <tr>\n",
       "      <th>0</th>\n",
       "      <td>Company2</td>\n",
       "      <td>211804</td>\n",
       "      <td>2016-09-01 00:11:59</td>\n",
       "      <td>RJC</td>\n",
       "      <td>NaN</td>\n",
       "      <td>NaN</td>\n",
       "      <td>201609</td>\n",
       "      <td>1.0</td>\n",
       "      <td>1</td>\n",
       "      <td>1.0</td>\n",
       "      <td>...</td>\n",
       "      <td>NaN</td>\n",
       "      <td>NaN</td>\n",
       "      <td>NaN</td>\n",
       "      <td>NaN</td>\n",
       "      <td>NaN</td>\n",
       "      <td>NaN</td>\n",
       "      <td>0</td>\n",
       "      <td>0</td>\n",
       "      <td>0</td>\n",
       "      <td>3</td>\n",
       "    </tr>\n",
       "    <tr>\n",
       "      <th>1</th>\n",
       "      <td>Company2</td>\n",
       "      <td>211807</td>\n",
       "      <td>2016-09-01 00:19:46</td>\n",
       "      <td>APR</td>\n",
       "      <td>OK</td>\n",
       "      <td>0.0</td>\n",
       "      <td>201609</td>\n",
       "      <td>1.0</td>\n",
       "      <td>1</td>\n",
       "      <td>1.0</td>\n",
       "      <td>...</td>\n",
       "      <td>NaN</td>\n",
       "      <td>NaN</td>\n",
       "      <td>NaN</td>\n",
       "      <td>NaN</td>\n",
       "      <td>NaN</td>\n",
       "      <td>NaN</td>\n",
       "      <td>0</td>\n",
       "      <td>0</td>\n",
       "      <td>0</td>\n",
       "      <td>7</td>\n",
       "    </tr>\n",
       "    <tr>\n",
       "      <th>2</th>\n",
       "      <td>Company2</td>\n",
       "      <td>211808</td>\n",
       "      <td>2016-09-01 00:25:44</td>\n",
       "      <td>RJC</td>\n",
       "      <td>NaN</td>\n",
       "      <td>NaN</td>\n",
       "      <td>201609</td>\n",
       "      <td>1.0</td>\n",
       "      <td>1</td>\n",
       "      <td>1.0</td>\n",
       "      <td>...</td>\n",
       "      <td>NaN</td>\n",
       "      <td>NaN</td>\n",
       "      <td>NaN</td>\n",
       "      <td>NaN</td>\n",
       "      <td>NaN</td>\n",
       "      <td>NaN</td>\n",
       "      <td>0</td>\n",
       "      <td>0</td>\n",
       "      <td>0</td>\n",
       "      <td>3</td>\n",
       "    </tr>\n",
       "    <tr>\n",
       "      <th>3</th>\n",
       "      <td>Company2</td>\n",
       "      <td>193611</td>\n",
       "      <td>2016-09-01 00:40:53</td>\n",
       "      <td>APR</td>\n",
       "      <td>OK</td>\n",
       "      <td>0.0</td>\n",
       "      <td>201609</td>\n",
       "      <td>NaN</td>\n",
       "      <td>1</td>\n",
       "      <td>NaN</td>\n",
       "      <td>...</td>\n",
       "      <td>NaN</td>\n",
       "      <td>NaN</td>\n",
       "      <td>NaN</td>\n",
       "      <td>NaN</td>\n",
       "      <td>NaN</td>\n",
       "      <td>NaN</td>\n",
       "      <td>0</td>\n",
       "      <td>0</td>\n",
       "      <td>0</td>\n",
       "      <td>3</td>\n",
       "    </tr>\n",
       "    <tr>\n",
       "      <th>4</th>\n",
       "      <td>Company2</td>\n",
       "      <td>7233</td>\n",
       "      <td>2016-09-01 00:49:33</td>\n",
       "      <td>RJC</td>\n",
       "      <td>NaN</td>\n",
       "      <td>NaN</td>\n",
       "      <td>201609</td>\n",
       "      <td>NaN</td>\n",
       "      <td>1</td>\n",
       "      <td>NaN</td>\n",
       "      <td>...</td>\n",
       "      <td>NaN</td>\n",
       "      <td>NaN</td>\n",
       "      <td>NaN</td>\n",
       "      <td>NaN</td>\n",
       "      <td>NaN</td>\n",
       "      <td>NaN</td>\n",
       "      <td>0</td>\n",
       "      <td>0</td>\n",
       "      <td>0</td>\n",
       "      <td>3</td>\n",
       "    </tr>\n",
       "  </tbody>\n",
       "</table>\n",
       "<p>5 rows × 161 columns</p>\n",
       "</div>"
      ],
      "text/plain": [
       "  account_id  client_id             time_msw test_cr_decision  \\\n",
       "0   Company2     211804  2016-09-01 00:11:59              RJC   \n",
       "1   Company2     211807  2016-09-01 00:19:46              APR   \n",
       "2   Company2     211808  2016-09-01 00:25:44              RJC   \n",
       "3   Company2     193611  2016-09-01 00:40:53              APR   \n",
       "4   Company2       7233  2016-09-01 00:49:33              RJC   \n",
       "\n",
       "  test_cr_performance  dep_var  month_verif  var1  var2  var3  ...  var145  \\\n",
       "0                 NaN      NaN       201609   1.0     1   1.0  ...     NaN   \n",
       "1                  OK      0.0       201609   1.0     1   1.0  ...     NaN   \n",
       "2                 NaN      NaN       201609   1.0     1   1.0  ...     NaN   \n",
       "3                  OK      0.0       201609   NaN     1   NaN  ...     NaN   \n",
       "4                 NaN      NaN       201609   NaN     1   NaN  ...     NaN   \n",
       "\n",
       "   var146  var147  var148  var149  var150  var151  var152  var153  var154  \n",
       "0     NaN     NaN     NaN     NaN     NaN       0       0       0       3  \n",
       "1     NaN     NaN     NaN     NaN     NaN       0       0       0       7  \n",
       "2     NaN     NaN     NaN     NaN     NaN       0       0       0       3  \n",
       "3     NaN     NaN     NaN     NaN     NaN       0       0       0       3  \n",
       "4     NaN     NaN     NaN     NaN     NaN       0       0       0       3  \n",
       "\n",
       "[5 rows x 161 columns]"
      ]
     },
     "execution_count": 9,
     "metadata": {},
     "output_type": "execute_result"
    }
   ],
   "source": [
    "df.head()"
   ]
  },
  {
   "cell_type": "code",
   "execution_count": 10,
   "metadata": {},
   "outputs": [
    {
     "data": {
      "image/png": "[encoded data removed]",
      "text/plain": [
       "<Figure size 1440x1080 with 81 Axes>"
      ]
     },
     "metadata": {
      "needs_background": "light"
     },
     "output_type": "display_data"
    }
   ],
   "source": [
    "%matplotlib inline\n",
    "df.hist(bins=50, figsize=(20,15))\n",
    "plt.show()"
   ]
  },
  {
   "cell_type": "code",
   "execution_count": 11,
   "metadata": {},
   "outputs": [
    {
     "data": {
      "text/plain": [
       "True     99\n",
       "False    62\n",
       "dtype: int64"
      ]
     },
     "execution_count": 11,
     "metadata": {},
     "output_type": "execute_result"
    }
   ],
   "source": [
    "(df.isnull() == True).any().value_counts()"
   ]
  },
  {
   "cell_type": "code",
   "execution_count": 14,
   "metadata": {},
   "outputs": [
    {
     "name": "stdout",
     "output_type": "stream",
     "text": [
      "Признак account_id имеет 3 уникальных значений\n",
      "Признак client_id имеет 71455 уникальных значений\n",
      "Признак time_msw имеет 79375 уникальных значений\n",
      "Признак test_cr_decision имеет 2 уникальных значений\n",
      "Признак test_cr_performance имеет 4 уникальных значений\n",
      "Признак dep_var имеет 3 уникальных значений\n",
      "Признак month_verif имеет 4 уникальных значений\n",
      "Признак var1 имеет 2 уникальных значений\n",
      "Признак var2 имеет 1 уникальных значений\n",
      "Признак var3 имеет 2 уникальных значений\n",
      "Признак var4 имеет 3 уникальных значений\n",
      "Признак var5 имеет 2 уникальных значений\n",
      "Признак var6 имеет 2 уникальных значений\n",
      "Признак var7 имеет 2 уникальных значений\n",
      "Признак var8 имеет 2 уникальных значений\n",
      "Признак var9 имеет 2 уникальных значений\n",
      "Признак var10 имеет 2 уникальных значений\n",
      "Признак var11 имеет 2 уникальных значений\n",
      "Признак var12 имеет 2 уникальных значений\n",
      "Признак var13 имеет 2 уникальных значений\n",
      "Признак var14 имеет 2 уникальных значений\n",
      "Признак var15 имеет 2 уникальных значений\n",
      "Признак var16 имеет 2 уникальных значений\n",
      "Признак var17 имеет 595 уникальных значений\n",
      "Признак var18 имеет 623 уникальных значений\n",
      "Признак var19 имеет 469 уникальных значений\n",
      "Признак var20 имеет 9 уникальных значений\n",
      "Признак var21 имеет 18 уникальных значений\n",
      "Признак var22 имеет 382 уникальных значений\n",
      "Признак var23 имеет 2 уникальных значений\n",
      "Признак var24 имеет 2 уникальных значений\n",
      "Признак var25 имеет 1 уникальных значений\n",
      "Признак var26 имеет 2 уникальных значений\n",
      "Признак var27 имеет 2 уникальных значений\n",
      "Признак var28 имеет 2 уникальных значений\n",
      "Признак var29 имеет 2 уникальных значений\n",
      "Признак var30 имеет 2 уникальных значений\n",
      "Признак var31 имеет 2 уникальных значений\n",
      "Признак var32 имеет 2 уникальных значений\n",
      "Признак var33 имеет 2 уникальных значений\n",
      "Признак var34 имеет 2 уникальных значений\n",
      "Признак var35 имеет 2 уникальных значений\n",
      "Признак var36 имеет 2 уникальных значений\n",
      "Признак var37 имеет 2 уникальных значений\n",
      "Признак var38 имеет 2 уникальных значений\n",
      "Признак var39 имеет 32 уникальных значений\n",
      "Признак var40 имеет 2 уникальных значений\n",
      "Признак var41 имеет 6711 уникальных значений\n",
      "Признак var42 имеет 12 уникальных значений\n",
      "Признак var43 имеет 162 уникальных значений\n",
      "Признак var44 имеет 69 уникальных значений\n",
      "Признак var45 имеет 147 уникальных значений\n",
      "Признак var46 имеет 11 уникальных значений\n",
      "Признак var47 имеет 2 уникальных значений\n",
      "Признак var48 имеет 2 уникальных значений\n",
      "Признак var49 имеет 2 уникальных значений\n",
      "Признак var50 имеет 2 уникальных значений\n",
      "Признак var51 имеет 2 уникальных значений\n",
      "Признак var52 имеет 12 уникальных значений\n",
      "Признак var53 имеет 104 уникальных значений\n",
      "Признак var54 имеет 270 уникальных значений\n",
      "Признак var55 имеет 419 уникальных значений\n",
      "Признак var56 имеет 104 уникальных значений\n",
      "Признак var57 имеет 276 уникальных значений\n",
      "Признак var58 имеет 469 уникальных значений\n",
      "Признак var59 имеет 2 уникальных значений\n",
      "Признак var60 имеет 2 уникальных значений\n",
      "Признак var61 имеет 85 уникальных значений\n",
      "Признак var62 имеет 15 уникальных значений\n",
      "Признак var63 имеет 2 уникальных значений\n",
      "Признак var64 имеет 3 уникальных значений\n",
      "Признак var65 имеет 2 уникальных значений\n",
      "Признак var66 имеет 2 уникальных значений\n",
      "Признак var67 имеет 2 уникальных значений\n",
      "Признак var68 имеет 2 уникальных значений\n",
      "Признак var69 имеет 2 уникальных значений\n",
      "Признак var70 имеет 3 уникальных значений\n",
      "Признак var71 имеет 2 уникальных значений\n",
      "Признак var72 имеет 3 уникальных значений\n",
      "Признак var73 имеет 8 уникальных значений\n",
      "Признак var74 имеет 215 уникальных значений\n",
      "Признак var75 имеет 1649 уникальных значений\n",
      "Признак var76 имеет 1116 уникальных значений\n",
      "Признак var77 имеет 145 уникальных значений\n",
      "Признак var78 имеет 12 уникальных значений\n",
      "Признак var79 имеет 3 уникальных значений\n",
      "Признак var80 имеет 3 уникальных значений\n",
      "Признак var81 имеет 28 уникальных значений\n",
      "Признак var82 имеет 30 уникальных значений\n",
      "Признак var83 имеет 89 уникальных значений\n",
      "Признак var84 имеет 150 уникальных значений\n",
      "Признак var85 имеет 6 уникальных значений\n",
      "Признак var86 имеет 3 уникальных значений\n",
      "Признак var87 имеет 40 уникальных значений\n",
      "Признак var88 имеет 3 уникальных значений\n",
      "Признак var89 имеет 3 уникальных значений\n",
      "Признак var90 имеет 3 уникальных значений\n",
      "Признак var91 имеет 3 уникальных значений\n",
      "Признак var92 имеет 3 уникальных значений\n",
      "Признак var93 имеет 3 уникальных значений\n",
      "Признак var94 имеет 3 уникальных значений\n",
      "Признак var95 имеет 3 уникальных значений\n",
      "Признак var96 имеет 3 уникальных значений\n",
      "Признак var97 имеет 3 уникальных значений\n",
      "Признак var98 имеет 3 уникальных значений\n",
      "Признак var99 имеет 3 уникальных значений\n",
      "Признак var100 имеет 3 уникальных значений\n",
      "Признак var101 имеет 3 уникальных значений\n",
      "Признак var102 имеет 1 уникальных значений\n",
      "Признак var103 имеет 1 уникальных значений\n",
      "Признак var104 имеет 3 уникальных значений\n",
      "Признак var105 имеет 26 уникальных значений\n",
      "Признак var106 имеет 132 уникальных значений\n",
      "Признак var107 имеет 11 уникальных значений\n",
      "Признак var108 имеет 9 уникальных значений\n",
      "Признак var109 имеет 28 уникальных значений\n",
      "Признак var110 имеет 877 уникальных значений\n",
      "Признак var111 имеет 8 уникальных значений\n",
      "Признак var112 имеет 3 уникальных значений\n",
      "Признак var113 имеет 2 уникальных значений\n",
      "Признак var114 имеет 3 уникальных значений\n",
      "Признак var115 имеет 3 уникальных значений\n",
      "Признак var116 имеет 2 уникальных значений\n",
      "Признак var117 имеет 2 уникальных значений\n",
      "Признак var118 имеет 3 уникальных значений\n",
      "Признак var119 имеет 3 уникальных значений\n",
      "Признак var120 имеет 3 уникальных значений\n",
      "Признак var121 имеет 3 уникальных значений\n",
      "Признак var122 имеет 3 уникальных значений\n",
      "Признак var123 имеет 3 уникальных значений\n",
      "Признак var124 имеет 3 уникальных значений\n",
      "Признак var125 имеет 3 уникальных значений\n",
      "Признак var126 имеет 3 уникальных значений\n",
      "Признак var127 имеет 3 уникальных значений\n",
      "Признак var128 имеет 3 уникальных значений\n",
      "Признак var129 имеет 3 уникальных значений\n",
      "Признак var130 имеет 3 уникальных значений\n",
      "Признак var131 имеет 3 уникальных значений\n",
      "Признак var132 имеет 3 уникальных значений\n",
      "Признак var133 имеет 3 уникальных значений\n",
      "Признак var134 имеет 3 уникальных значений\n",
      "Признак var135 имеет 3 уникальных значений\n",
      "Признак var136 имеет 3 уникальных значений\n",
      "Признак var137 имеет 3 уникальных значений\n",
      "Признак var138 имеет 3 уникальных значений\n",
      "Признак var139 имеет 3 уникальных значений\n",
      "Признак var140 имеет 3 уникальных значений\n",
      "Признак var141 имеет 3 уникальных значений\n",
      "Признак var142 имеет 3 уникальных значений\n",
      "Признак var143 имеет 3 уникальных значений\n",
      "Признак var144 имеет 3 уникальных значений\n",
      "Признак var145 имеет 3 уникальных значений\n",
      "Признак var146 имеет 3 уникальных значений\n",
      "Признак var147 имеет 3 уникальных значений\n",
      "Признак var148 имеет 3 уникальных значений\n",
      "Признак var149 имеет 3 уникальных значений\n",
      "Признак var150 имеет 3 уникальных значений\n",
      "Признак var151 имеет 147 уникальных значений\n",
      "Признак var152 имеет 124 уникальных значений\n",
      "Признак var153 имеет 6 уникальных значений\n",
      "Признак var154 имеет 47 уникальных значений\n"
     ]
    }
   ],
   "source": [
    "for i in df.columns:\n",
    "    print(\"Признак %s имеет %s уникальных значений\" %(i,len(df[i].unique())))"
   ]
  },
  {
   "cell_type": "code",
   "execution_count": 15,
   "metadata": {},
   "outputs": [],
   "source": [
    "for i in df.columns:\n",
    "    if len(df[i].unique()) == 1:\n",
    "        df = df.drop(columns=[i])"
   ]
  },
  {
   "cell_type": "code",
   "execution_count": 16,
   "metadata": {},
   "outputs": [
    {
     "name": "stdout",
     "output_type": "stream",
     "text": [
      "В столбце account_id: 0 неизвестных (0.0 проц.)\n",
      "В столбце client_id: 0 неизвестных (0.0 проц.)\n",
      "В столбце time_msw: 0 неизвестных (0.0 проц.)\n",
      "В столбце test_cr_decision: 0 неизвестных (0.0 проц.)\n",
      "В столбце test_cr_performance: 60679 неизвестных (0.7212528230120052 проц.)\n",
      "В столбце dep_var: 60640 неизвестных (0.7207892547248306 проц.)\n",
      "В столбце month_verif: 0 неизвестных (0.0 проц.)\n",
      "В столбце var1: 26675 неизвестных (0.31706882206109593 проц.)\n",
      "В столбце var3: 26675 неизвестных (0.31706882206109593 проц.)\n",
      "В столбце var4: 26675 неизвестных (0.31706882206109593 проц.)\n",
      "В столбце var5: 0 неизвестных (0.0 проц.)\n",
      "В столбце var6: 0 неизвестных (0.0 проц.)\n",
      "В столбце var7: 0 неизвестных (0.0 проц.)\n",
      "В столбце var8: 0 неизвестных (0.0 проц.)\n",
      "В столбце var9: 0 неизвестных (0.0 проц.)\n",
      "В столбце var10: 0 неизвестных (0.0 проц.)\n",
      "В столбце var11: 0 неизвестных (0.0 проц.)\n",
      "В столбце var12: 0 неизвестных (0.0 проц.)\n",
      "В столбце var13: 0 неизвестных (0.0 проц.)\n",
      "В столбце var14: 0 неизвестных (0.0 проц.)\n",
      "В столбце var15: 0 неизвестных (0.0 проц.)\n",
      "В столбце var16: 0 неизвестных (0.0 проц.)\n",
      "В столбце var17: 0 неизвестных (0.0 проц.)\n",
      "В столбце var18: 0 неизвестных (0.0 проц.)\n",
      "В столбце var19: 0 неизвестных (0.0 проц.)\n",
      "В столбце var20: 0 неизвестных (0.0 проц.)\n",
      "В столбце var21: 0 неизвестных (0.0 проц.)\n",
      "В столбце var22: 0 неизвестных (0.0 проц.)\n",
      "В столбце var23: 0 неизвестных (0.0 проц.)\n",
      "В столбце var24: 0 неизвестных (0.0 проц.)\n",
      "В столбце var26: 0 неизвестных (0.0 проц.)\n",
      "В столбце var27: 0 неизвестных (0.0 проц.)\n",
      "В столбце var28: 0 неизвестных (0.0 проц.)\n",
      "В столбце var29: 0 неизвестных (0.0 проц.)\n",
      "В столбце var30: 0 неизвестных (0.0 проц.)\n",
      "В столбце var31: 0 неизвестных (0.0 проц.)\n",
      "В столбце var32: 0 неизвестных (0.0 проц.)\n",
      "В столбце var33: 0 неизвестных (0.0 проц.)\n",
      "В столбце var34: 0 неизвестных (0.0 проц.)\n",
      "В столбце var35: 0 неизвестных (0.0 проц.)\n",
      "В столбце var36: 0 неизвестных (0.0 проц.)\n",
      "В столбце var37: 0 неизвестных (0.0 проц.)\n",
      "В столбце var38: 0 неизвестных (0.0 проц.)\n",
      "В столбце var39: 0 неизвестных (0.0 проц.)\n",
      "В столбце var40: 0 неизвестных (0.0 проц.)\n",
      "В столбце var41: 27891 неизвестных (0.33152264352787353 проц.)\n",
      "В столбце var42: 27490 неизвестных (0.3267562106264115 проц.)\n",
      "В столбце var43: 27490 неизвестных (0.3267562106264115 проц.)\n",
      "В столбце var44: 27484 неизвестных (0.32668489242838467 проц.)\n",
      "В столбце var45: 0 неизвестных (0.0 проц.)\n",
      "В столбце var46: 551 неизвестных (0.006549387852133603 проц.)\n",
      "В столбце var47: 0 неизвестных (0.0 проц.)\n",
      "В столбце var48: 0 неизвестных (0.0 проц.)\n",
      "В столбце var49: 0 неизвестных (0.0 проц.)\n",
      "В столбце var50: 0 неизвестных (0.0 проц.)\n",
      "В столбце var51: 0 неизвестных (0.0 проц.)\n",
      "В столбце var52: 0 неизвестных (0.0 проц.)\n",
      "В столбце var53: 0 неизвестных (0.0 проц.)\n",
      "В столбце var54: 0 неизвестных (0.0 проц.)\n",
      "В столбце var55: 0 неизвестных (0.0 проц.)\n",
      "В столбце var56: 0 неизвестных (0.0 проц.)\n",
      "В столбце var57: 0 неизвестных (0.0 проц.)\n",
      "В столбце var58: 0 неизвестных (0.0 проц.)\n",
      "В столбце var59: 83074 неизвестных (0.987447997147272 проц.)\n",
      "В столбце var60: 0 неизвестных (0.0 проц.)\n",
      "В столбце var61: 32098 неизвестных (0.38152858671104245 проц.)\n",
      "В столбце var62: 551 неизвестных (0.006549387852133603 проц.)\n",
      "В столбце var63: 84060 неизвестных (0.9991679543563533 проц.)\n",
      "В столбце var64: 5 неизвестных (5.943183168905266e-05 проц.)\n",
      "В столбце var65: 3 неизвестных (3.5659099013431594e-05 проц.)\n",
      "В столбце var66: 3 неизвестных (3.5659099013431594e-05 проц.)\n",
      "В столбце var67: 3 неизвестных (3.5659099013431594e-05 проц.)\n",
      "В столбце var68: 3 неизвестных (3.5659099013431594e-05 проц.)\n",
      "В столбце var69: 3 неизвестных (3.5659099013431594e-05 проц.)\n",
      "В столбце var70: 4 неизвестных (4.7545465351242125e-05 проц.)\n",
      "В столбце var71: 48290 неизвестных (0.5739926304528705 проц.)\n",
      "В столбце var72: 84119 неизвестных (0.999869249970284 проц.)\n",
      "В столбце var73: 646 неизвестных (0.007678592654225603 проц.)\n",
      "В столбце var74: 1834 неизвестных (0.021799595863544515 проц.)\n",
      "В столбце var75: 3063 неизвестных (0.036407940092713656 проц.)\n",
      "В столбце var76: 50998 неизвестных (0.6061809104956615 проц.)\n",
      "В столбце var77: 46050 неизвестных (0.547367169856175 проц.)\n",
      "В столбце var78: 46376 неизвестных (0.5512421252823012 проц.)\n",
      "В столбце var79: 10 неизвестных (0.00011886366337810531 проц.)\n",
      "В столбце var80: 276 неизвестных (0.0032806371092357067 проц.)\n",
      "В столбце var81: 46614 неизвестных (0.5540710804707001 проц.)\n",
      "В столбце var82: 46667 неизвестных (0.5547010578866041 проц.)\n",
      "В столбце var83: 46296 неизвестных (0.5502912159752763 проц.)\n",
      "В столбце var84: 46703 неизвестных (0.5551289670747652 проц.)\n",
      "В столбце var85: 46038 неизвестных (0.5472245334601212 проц.)\n",
      "В столбце var86: 48239 неизвестных (0.5733864257696423 проц.)\n",
      "В столбце var87: 48162 неизвестных (0.5724711755616309 проц.)\n",
      "В столбце var88: 703 неизвестных (0.008356115535480803 проц.)\n",
      "В столбце var89: 622 неизвестных (0.00739331986211815 проц.)\n",
      "В столбце var90: 144 неизвестных (0.0017116367526447164 проц.)\n",
      "В столбце var91: 122 неизвестных (0.0014501366932128848 проц.)\n",
      "В столбце var92: 150 неизвестных (0.0017829549506715797 проц.)\n",
      "В столбце var93: 208 неизвестных (0.0024723641982645904 проц.)\n",
      "В столбце var94: 155 неизвестных (0.0018423867823606323 проц.)\n",
      "В столбце var95: 45406 неизвестных (0.539712349934625 проц.)\n",
      "В столбце var96: 45473 неизвестных (0.5405087364792583 проц.)\n",
      "В столбце var97: 45707 неизвестных (0.543290146202306 проц.)\n",
      "В столбце var98: 45798 неизвестных (0.5443718055390467 проц.)\n",
      "В столбце var99: 47185 неизвестных (0.5608581956495899 проц.)\n",
      "В столбце var100: 46293 неизвестных (0.5502555568762629 проц.)\n",
      "В столбце var101: 46758 неизвестных (0.5557827172233448 проц.)\n",
      "В столбце var104: 75165 неизвестных (0.8934387257815286 проц.)\n",
      "В столбце var105: 101 неизвестных (0.0012005230001188637 проц.)\n",
      "В столбце var106: 636 неизвестных (0.007559728990847498 проц.)\n",
      "В столбце var107: 77044 неизвестных (0.9157732081302746 проц.)\n",
      "В столбце var108: 83906 неизвестных (0.9973374539403305 проц.)\n",
      "В столбце var109: 931 неизвестных (0.011066207060501605 проц.)\n",
      "В столбце var110: 15492 неизвестных (0.18414358730536076 проц.)\n",
      "В столбце var111: 998 неизвестных (0.01186259360513491 проц.)\n",
      "В столбце var112: 44471 неизвестных (0.5285985974087721 проц.)\n",
      "В столбце var113: 44490 неизвестных (0.5288244383691906 проц.)\n",
      "В столбце var114: 45825 неизвестных (0.5446927374301676 проц.)\n",
      "В столбце var115: 44472 неизвестных (0.52861048377511 проц.)\n",
      "В столбце var116: 0 неизвестных (0.0 проц.)\n",
      "В столбце var117: 0 неизвестных (0.0 проц.)\n",
      "В столбце var118: 48786 неизвестных (0.5798882681564246 проц.)\n",
      "В столбце var119: 48839 неизвестных (0.5805182455723286 проц.)\n",
      "В столбце var120: 50396 неизвестных (0.5990253179602996 проц.)\n",
      "В столбце var121: 48261 неизвестных (0.5736479258290741 проц.)\n",
      "В столбце var122: 48789 неизвестных (0.5799239272554381 проц.)\n",
      "В столбце var123: 49198 неизвестных (0.5847854510876025 проц.)\n",
      "В столбце var124: 58407 неизвестных (0.6942469986924997 проц.)\n",
      "В столбце var125: 49194 неизвестных (0.5847379056222513 проц.)\n",
      "В столбце var126: 49197 неизвестных (0.5847735647212647 проц.)\n",
      "В столбце var127: 49182 неизвестных (0.5845952692261975 проц.)\n",
      "В столбце var128: 49198 неизвестных (0.5847854510876025 проц.)\n",
      "В столбце var129: 52943 неизвестных (0.629299893022703 проц.)\n",
      "В столбце var130: 50867 неизвестных (0.6046237965054083 проц.)\n",
      "В столбце var131: 49420 неизвестных (0.5874242244145964 проц.)\n",
      "В столбце var132: 50274 неизвестных (0.5975751812670866 проц.)\n",
      "В столбце var133: 50175 неизвестных (0.5963984309996434 проц.)\n",
      "В столбце var134: 53243 неизвестных (0.6328658029240462 проц.)\n",
      "В столбце var135: 50796 неизвестных (0.6037798644954238 проц.)\n",
      "В столбце var136: 55204 неизвестных (0.6561749673124926 проц.)\n",
      "В столбце var137: 51868 неизвестных (0.6165220492095567 проц.)\n",
      "В столбце var138: 49573 неизвестных (0.5892428384642815 проц.)\n",
      "В столбце var139: 47662 неизвестных (0.5665279923927256 проц.)\n",
      "В столбце var140: 82038 неизвестных (0.9751337216213004 проц.)\n",
      "В столбце var141: 82112 неизвестных (0.9760133127302983 проц.)\n",
      "В столбце var142: 82107 неизвестных (0.9759538808986093 проц.)\n",
      "В столбце var143: 82112 неизвестных (0.9760133127302983 проц.)\n",
      "В столбце var144: 82224 неизвестных (0.9773445857601332 проц.)\n",
      "В столбце var145: 82225 неизвестных (0.9773564721264709 проц.)\n",
      "В столбце var146: 82200 неизвестных (0.9770593129680257 проц.)\n",
      "В столбце var147: 82148 неизвестных (0.9764412219184595 проц.)\n",
      "В столбце var148: 77997 неизвестных (0.927100915250208 проц.)\n",
      "В столбце var149: 75866 неизвестных (0.9017710685843338 проц.)\n",
      "В столбце var150: 76925 неизвестных (0.9143587305360751 проц.)\n",
      "В столбце var151: 0 неизвестных (0.0 проц.)\n",
      "В столбце var152: 0 неизвестных (0.0 проц.)\n",
      "В столбце var153: 0 неизвестных (0.0 проц.)\n",
      "В столбце var154: 0 неизвестных (0.0 проц.)\n"
     ]
    }
   ],
   "source": [
    "for i in df.columns:\n",
    "    count_nan = df[i].isna().sum()\n",
    "    print(\"В столбце %s: %s неизвестных (%s проц.)\" %(i,count_nan,count_nan/df.shape[0]))"
   ]
  },
  {
   "cell_type": "markdown",
   "metadata": {},
   "source": [
    "VAR151"
   ]
  },
  {
   "cell_type": "code",
   "execution_count": 18,
   "metadata": {},
   "outputs": [
    {
     "data": {
      "text/plain": [
       "array([   0,  768,  900,  534,  480, 1080, 1024,  601,  640,  570,  600,\n",
       "       1050,  568,  976,  960,  800, 1280,  720,  840,  667,  904,  864,\n",
       "        731,  592, 1920,  732,  784, 1188, 1232,  962, 1184,  819, 1187,\n",
       "        642,  854, 1200,  552,  657,  855,  750,  540,  801,  853, 1067,\n",
       "        736,  569,  992,  671,  614,  595,  660,  782, 1138,  320, 1776,\n",
       "        549, 2560,  427,  563,  808,  818,  945,  698,  360,  541,  912,\n",
       "        697, 1440,  786,  347,  391,  598,  752,  762,  512,  490, 1000,\n",
       "        888,  651,  521,  914,  533,  615,  857,  806, 1078, 1029, 1128,\n",
       "       1824,  764, 1216,  745,  787,  522,  585,  559,  690, 1182, 1400,\n",
       "        722,  858,  820,  591,  765,  931,  699,  553,  606,  547,  384,\n",
       "        432,  831,  728, 1019,  961,  675,  635,  684,  627,  285, 1217,\n",
       "        603,  638,  406,  551,  617,  492, 1205,  982,  530, 1208,  664,\n",
       "        700,  712,  628, 1090,  964, 1105, 1152,  943, 1038,  753, 1812,\n",
       "        971,  668,  986,  975])"
      ]
     },
     "execution_count": 18,
     "metadata": {},
     "output_type": "execute_result"
    }
   ],
   "source": [
    "df.var151.unique()"
   ]
  },
  {
   "cell_type": "code",
   "execution_count": 19,
   "metadata": {},
   "outputs": [
    {
     "data": {
      "text/plain": [
       "0.0    15177\n",
       "1.0     8313\n",
       "Name: dep_var, dtype: int64"
      ]
     },
     "execution_count": 19,
     "metadata": {},
     "output_type": "execute_result"
    }
   ],
   "source": [
    "df.dep_var.value_counts()"
   ]
  },
  {
   "cell_type": "code",
   "execution_count": 20,
   "metadata": {},
   "outputs": [
    {
     "data": {
      "text/plain": [
       "(23490, 60640)"
      ]
     },
     "execution_count": 20,
     "metadata": {},
     "output_type": "execute_result"
    }
   ],
   "source": [
    "len(df[df.dep_var.isna() == False ].index),len(df[df.dep_var.isna() == True ].index)"
   ]
  },
  {
   "cell_type": "code",
   "execution_count": 21,
   "metadata": {},
   "outputs": [],
   "source": [
    "ind = df[df.dep_var.isna() == False ].index\n",
    "\n",
    "train = df.loc[ind]"
   ]
  },
  {
   "cell_type": "code",
   "execution_count": 22,
   "metadata": {},
   "outputs": [
    {
     "data": {
      "text/plain": [
       "True     83\n",
       "False    74\n",
       "dtype: int64"
      ]
     },
     "execution_count": 22,
     "metadata": {},
     "output_type": "execute_result"
    }
   ],
   "source": [
    "((df.dtypes == object) == True).value_counts()"
   ]
  },
  {
   "cell_type": "code",
   "execution_count": 23,
   "metadata": {},
   "outputs": [],
   "source": [
    "object_feat = []\n",
    "for col in train.columns:\n",
    "    if (train[col].dtypes == object):\n",
    "        object_feat.append(col)"
   ]
  },
  {
   "cell_type": "markdown",
   "metadata": {},
   "source": [
    "Базовые модели"
   ]
  },
  {
   "cell_type": "code",
   "execution_count": 26,
   "metadata": {},
   "outputs": [],
   "source": [
    "X = train.drop(columns=['dep_var'])\n",
    "y = train.dep_var\n",
    "holdout = df.loc[df[df.dep_var.isna() == True ].index]"
   ]
  },
  {
   "cell_type": "code",
   "execution_count": 27,
   "metadata": {},
   "outputs": [],
   "source": [
    "X = X.fillna(0)"
   ]
  },
  {
   "cell_type": "code",
   "execution_count": 28,
   "metadata": {},
   "outputs": [],
   "source": [
    "for i in object_feat:\n",
    "    X[i] = pd.factorize(X[i])[0]"
   ]
  },
  {
   "cell_type": "code",
   "execution_count": 178,
   "metadata": {},
   "outputs": [],
   "source": [
    "def cv_with_scale(data,target,list_scale):\n",
    "    ss = StandardScaler()\n",
    "    cv = KFold(random_state=17,n_splits=5,shuffle=True)\n",
    "    cv_result = []\n",
    "    for train_ind, val_ind in cv.split(data, target):\n",
    "        X_train_ = data.iloc[train_ind]\n",
    "        y_train_ = target.iloc[train_ind]\n",
    "        X_val_ = data.iloc[val_ind]\n",
    "        y_val_ = target.iloc[val_ind]\n",
    "        \n",
    "        for feat in list_scale:\n",
    "            X_train_[feat] = ss.fit_transform(X_train_[feat].values.reshape(-1, 1))\n",
    "            X_val_[feat] = ss.transform(X_val_[feat].values.reshape(-1, 1))\n",
    "        \n",
    "        model = LGBMClassifier(n_estimators=30,max_depth=4)\n",
    "        model.fit(X_train_,y_train_)\n",
    "        y_pred = model.predict_proba(X_val_)\n",
    "        res = roc_auc_score(y_val_,y_pred)\n",
    "        cv_result.append(res)\n",
    "    return np.mean(cv_result)"
   ]
  },
  {
   "cell_type": "code",
   "execution_count": 174,
   "metadata": {},
   "outputs": [],
   "source": [
    "def cv_meth(X, y, model,cv=5, scoring='roc_auc',fillna=0,transform=None):\n",
    "    for i in object_feat:\n",
    "        X[i] = pd.factorize(X[i])[0]\n",
    "#     X = X.fillna(fillna)\n",
    "    for col in X.columns:\n",
    "        X[col] = X[col].fillna(fillna)\n",
    "    if transform == None:\n",
    "        cv_score = cross_val_score(model, X, y, cv=cv, scoring=scoring,n_jobs=-1) \n",
    "        cv_score = np.mean(cv_score)\n",
    "    else:\n",
    "        cv_score = cv_with_scale(X,y,transform)\n",
    "    return cv_score"
   ]
  },
  {
   "cell_type": "code",
   "execution_count": 30,
   "metadata": {},
   "outputs": [],
   "source": [
    "df_scores = pd.DataFrame(columns=['model','metric','score','parameters','commit','time','variables'])"
   ]
  },
  {
   "cell_type": "code",
   "execution_count": 31,
   "metadata": {},
   "outputs": [
    {
     "name": "stdout",
     "output_type": "stream",
     "text": [
      "LC score:0.613130\n",
      "AdaBoostClassifier score:1.000000\n",
      "KNN score:0.535019\n",
      "CART score:1.000000\n",
      "RandomForest score:0.995560\n",
      "GB score:1.000000\n",
      "LGBM score:1.000000\n",
      "XGB score:1.000000\n"
     ]
    }
   ],
   "source": [
    "# Spot Check Algorithms\n",
    "models = []\n",
    "models.append(('LC', LogisticRegression()))\n",
    "models.append(('AdaBoostClassifier', AdaBoostClassifier()))\n",
    "models.append(('KNN', KNeighborsClassifier()))\n",
    "models.append(('CART', DecisionTreeClassifier()))\n",
    "models.append(('RandomForest', RandomForestClassifier()))\n",
    "models.append(('GB' ,GradientBoostingClassifier()))\n",
    "models.append(('LGBM',LGBMClassifier()))\n",
    "models.append(('XGB', XGBClassifier()))\n",
    "\n",
    "results = []\n",
    "names = []\n",
    "for name, model in models:\n",
    "    kfold = KFold(n_splits=5, random_state=17)\n",
    "    cv_results = cross_val_score(model, X, y, cv=kfold, scoring='roc_auc')\n",
    "    results.append(cv_results)\n",
    "    names.append(name)\n",
    "    msg = \"%s score:%f\" % (name, cv_results.mean())\n",
    "    df_scores = df_scores.append({'model':name,'score':cv_results.mean(), 'metric':'roc_auc',\n",
    "                                  'parameters':'raw','commit':'base model from the box; determinate labels;',\n",
    "                                  'time':datetime.now()}, ignore_index = True)\n",
    "    print(msg)"
   ]
  },
  {
   "cell_type": "code",
   "execution_count": 32,
   "metadata": {},
   "outputs": [],
   "source": [
    "clf = RandomForestClassifier()"
   ]
  },
  {
   "cell_type": "code",
   "execution_count": 33,
   "metadata": {},
   "outputs": [
    {
     "data": {
      "text/plain": [
       "RandomForestClassifier(bootstrap=True, class_weight=None, criterion='gini',\n",
       "            max_depth=None, max_features='auto', max_leaf_nodes=None,\n",
       "            min_impurity_decrease=0.0, min_impurity_split=None,\n",
       "            min_samples_leaf=1, min_samples_split=2,\n",
       "            min_weight_fraction_leaf=0.0, n_estimators=10, n_jobs=None,\n",
       "            oob_score=False, random_state=None, verbose=0,\n",
       "            warm_start=False)"
      ]
     },
     "execution_count": 33,
     "metadata": {},
     "output_type": "execute_result"
    }
   ],
   "source": [
    "clf.fit(X,y)"
   ]
  },
  {
   "cell_type": "code",
   "execution_count": 34,
   "metadata": {},
   "outputs": [
    {
     "data": {
      "image/png": "[encoded data removed]",
      "text/plain": [
       "<Figure size 1296x576 with 1 Axes>"
      ]
     },
     "metadata": {
      "needs_background": "light"
     },
     "output_type": "display_data"
    }
   ],
   "source": [
    "feat_names = df.columns\n",
    "importances = clf.feature_importances_\n",
    "# indices = np.argsort(importances)\n",
    "indices = np.concatenate([np.argsort(importances)[::-1][:15],np.argsort(importances)[::-1][-15:]])\n",
    "\n",
    "plt.figure(figsize=(18,8))\n",
    "plt.title(\"Feature the most and the least importance\")\n",
    "plt.bar(range(len(indices)), importances[indices], color=\"g\", align=\"center\")\n",
    "plt.xticks(range(len(indices)), feat_names[indices], rotation='vertical')\n",
    "plt.xlim([-1, len(indices)])\n",
    "plt.show()"
   ]
  },
  {
   "cell_type": "code",
   "execution_count": 35,
   "metadata": {},
   "outputs": [
    {
     "data": {
      "image/png": "[encoded data removed]",
      "text/plain": [
       "<Figure size 864x576 with 1 Axes>"
      ]
     },
     "metadata": {
      "needs_background": "light"
     },
     "output_type": "display_data"
    }
   ],
   "source": [
    "less_important = np.argsort(importances)[::-1][:30]\n",
    "plt.figure(figsize=(12,8))\n",
    "plt.title(\"Feature first 30 importance\")\n",
    "plt.bar(range(len(less_important)), importances[less_important], color=\"g\", align=\"center\")\n",
    "plt.xticks(range(len(less_important)), feat_names[less_important], rotation='vertical')\n",
    "plt.xlim([-1, len(less_important)])\n",
    "plt.show()"
   ]
  },
  {
   "cell_type": "markdown",
   "metadata": {},
   "source": [
    "The most important feature"
   ]
  },
  {
   "cell_type": "code",
   "execution_count": 42,
   "metadata": {},
   "outputs": [
    {
     "data": {
      "text/plain": [
       "OK        14532\n",
       "NPL90+     8313\n",
       "NPL90-      606\n",
       "Name: test_cr_performance, dtype: int64"
      ]
     },
     "execution_count": 42,
     "metadata": {},
     "output_type": "execute_result"
    }
   ],
   "source": [
    "df.test_cr_performance.value_counts()"
   ]
  },
  {
   "cell_type": "code",
   "execution_count": 43,
   "metadata": {},
   "outputs": [],
   "source": [
    "cr_performance_feat = train.test_cr_performance.unique()"
   ]
  },
  {
   "cell_type": "code",
   "execution_count": 44,
   "metadata": {
    "scrolled": true
   },
   "outputs": [
    {
     "data": {
      "image/png": "[encoded data removed]",
      "text/plain": [
       "<Figure size 432x288 with 1 Axes>"
      ]
     },
     "metadata": {
      "needs_background": "light"
     },
     "output_type": "display_data"
    }
   ],
   "source": [
    "sns.scatterplot(x='test_cr_performance', y='dep_var', data=df);\n",
    "plt.title('flats price with children friendly owners');"
   ]
  },
  {
   "cell_type": "code",
   "execution_count": 45,
   "metadata": {},
   "outputs": [
    {
     "name": "stdout",
     "output_type": "stream",
     "text": [
      "0.9960594418414098\n"
     ]
    }
   ],
   "source": [
    "clf1 = RandomForestClassifier()\n",
    "cv_score1 = cross_val_score(clf, X, y, cv=5, scoring='roc_auc')\n",
    "print(np.mean(cv_score1))"
   ]
  },
  {
   "cell_type": "code",
   "execution_count": 46,
   "metadata": {},
   "outputs": [],
   "source": [
    "df_scores = df_scores.append({'model':clf,'score':np.mean(cv_score1), 'metric':'roc_auc',\n",
    "                              'parameters':'raw',\n",
    "                              'commit':'RF for features impotance; CV 5 folds; determinate labels',\n",
    "                              'time':datetime.now(),\n",
    "                             'variables':'clf1,cv_score1'}, ignore_index = True)"
   ]
  },
  {
   "cell_type": "code",
   "execution_count": 47,
   "metadata": {},
   "outputs": [
    {
     "data": {
      "text/plain": [
       "<matplotlib.axes._subplots.AxesSubplot at 0x7f16a607d0f0>"
      ]
     },
     "execution_count": 47,
     "metadata": {},
     "output_type": "execute_result"
    },
    {
     "data": {
      "image/png": "[encoded data removed]",
      "text/plain": [
       "<Figure size 432x288 with 1 Axes>"
      ]
     },
     "metadata": {
      "needs_background": "light"
     },
     "output_type": "display_data"
    }
   ],
   "source": [
    "df['test_cr_performance'].value_counts().plot(kind='bar')"
   ]
  },
  {
   "cell_type": "code",
   "execution_count": 48,
   "metadata": {},
   "outputs": [
    {
     "data": {
      "text/html": [
       "<div>\n",
       "<style scoped>\n",
       "    .dataframe tbody tr th:only-of-type {\n",
       "        vertical-align: middle;\n",
       "    }\n",
       "\n",
       "    .dataframe tbody tr th {\n",
       "        vertical-align: top;\n",
       "    }\n",
       "\n",
       "    .dataframe thead th {\n",
       "        text-align: right;\n",
       "    }\n",
       "</style>\n",
       "<table border=\"1\" class=\"dataframe\">\n",
       "  <thead>\n",
       "    <tr style=\"text-align: right;\">\n",
       "      <th>test_cr_performance</th>\n",
       "      <th>NPL90+</th>\n",
       "      <th>NPL90-</th>\n",
       "      <th>OK</th>\n",
       "      <th>All</th>\n",
       "    </tr>\n",
       "    <tr>\n",
       "      <th>dep_var</th>\n",
       "      <th></th>\n",
       "      <th></th>\n",
       "      <th></th>\n",
       "      <th></th>\n",
       "    </tr>\n",
       "  </thead>\n",
       "  <tbody>\n",
       "    <tr>\n",
       "      <th>0.0</th>\n",
       "      <td>0</td>\n",
       "      <td>606</td>\n",
       "      <td>14532</td>\n",
       "      <td>15138</td>\n",
       "    </tr>\n",
       "    <tr>\n",
       "      <th>1.0</th>\n",
       "      <td>8313</td>\n",
       "      <td>0</td>\n",
       "      <td>0</td>\n",
       "      <td>8313</td>\n",
       "    </tr>\n",
       "    <tr>\n",
       "      <th>All</th>\n",
       "      <td>8313</td>\n",
       "      <td>606</td>\n",
       "      <td>14532</td>\n",
       "      <td>23451</td>\n",
       "    </tr>\n",
       "  </tbody>\n",
       "</table>\n",
       "</div>"
      ],
      "text/plain": [
       "test_cr_performance  NPL90+  NPL90-     OK    All\n",
       "dep_var                                          \n",
       "0.0                       0     606  14532  15138\n",
       "1.0                    8313       0      0   8313\n",
       "All                    8313     606  14532  23451"
      ]
     },
     "execution_count": 48,
     "metadata": {},
     "output_type": "execute_result"
    }
   ],
   "source": [
    "pd.crosstab(df['dep_var'], df['test_cr_performance'], margins=True)"
   ]
  },
  {
   "cell_type": "code",
   "execution_count": 49,
   "metadata": {},
   "outputs": [
    {
     "data": {
      "text/plain": [
       "<matplotlib.axes._subplots.AxesSubplot at 0x7f168402c5c0>"
      ]
     },
     "execution_count": 49,
     "metadata": {},
     "output_type": "execute_result"
    },
    {
     "data": {
      "image/png": "[encoded data removed]",
      "text/plain": [
       "<Figure size 432x288 with 1 Axes>"
      ]
     },
     "metadata": {
      "needs_background": "light"
     },
     "output_type": "display_data"
    }
   ],
   "source": [
    "pd.crosstab(df['dep_var'], df['test_cr_performance']).plot(kind='bar')"
   ]
  },
  {
   "cell_type": "code",
   "execution_count": 50,
   "metadata": {},
   "outputs": [
    {
     "data": {
      "text/html": [
       "<div>\n",
       "<style scoped>\n",
       "    .dataframe tbody tr th:only-of-type {\n",
       "        vertical-align: middle;\n",
       "    }\n",
       "\n",
       "    .dataframe tbody tr th {\n",
       "        vertical-align: top;\n",
       "    }\n",
       "\n",
       "    .dataframe thead th {\n",
       "        text-align: right;\n",
       "    }\n",
       "</style>\n",
       "<table border=\"1\" class=\"dataframe\">\n",
       "  <thead>\n",
       "    <tr style=\"text-align: right;\">\n",
       "      <th>test_cr_performance</th>\n",
       "      <th>NPL90+</th>\n",
       "      <th>NPL90-</th>\n",
       "      <th>OK</th>\n",
       "      <th>All</th>\n",
       "    </tr>\n",
       "    <tr>\n",
       "      <th>dep_var</th>\n",
       "      <th></th>\n",
       "      <th></th>\n",
       "      <th></th>\n",
       "      <th></th>\n",
       "    </tr>\n",
       "  </thead>\n",
       "  <tbody>\n",
       "    <tr>\n",
       "      <th>0.0</th>\n",
       "      <td>0</td>\n",
       "      <td>606</td>\n",
       "      <td>14532</td>\n",
       "      <td>15138</td>\n",
       "    </tr>\n",
       "    <tr>\n",
       "      <th>1.0</th>\n",
       "      <td>8313</td>\n",
       "      <td>0</td>\n",
       "      <td>0</td>\n",
       "      <td>8313</td>\n",
       "    </tr>\n",
       "    <tr>\n",
       "      <th>All</th>\n",
       "      <td>8313</td>\n",
       "      <td>606</td>\n",
       "      <td>14532</td>\n",
       "      <td>23451</td>\n",
       "    </tr>\n",
       "  </tbody>\n",
       "</table>\n",
       "</div>"
      ],
      "text/plain": [
       "test_cr_performance  NPL90+  NPL90-     OK    All\n",
       "dep_var                                          \n",
       "0.0                       0     606  14532  15138\n",
       "1.0                    8313       0      0   8313\n",
       "All                    8313     606  14532  23451"
      ]
     },
     "execution_count": 50,
     "metadata": {},
     "output_type": "execute_result"
    }
   ],
   "source": [
    "pd.crosstab(train['dep_var'], train['test_cr_performance'], margins=True)"
   ]
  },
  {
   "cell_type": "markdown",
   "metadata": {},
   "source": [
    "Фича test_cr_performance дублирует таргет. Для фичей без таргета test_cr_performance не определена. "
   ]
  },
  {
   "cell_type": "code",
   "execution_count": 51,
   "metadata": {},
   "outputs": [
    {
     "data": {
      "text/plain": [
       "<matplotlib.axes._subplots.AxesSubplot at 0x7f16afc73d68>"
      ]
     },
     "execution_count": 51,
     "metadata": {},
     "output_type": "execute_result"
    },
    {
     "data": {
      "image/png": "[encoded data removed]",
      "text/plain": [
       "<Figure size 432x288 with 1 Axes>"
      ]
     },
     "metadata": {
      "needs_background": "light"
     },
     "output_type": "display_data"
    }
   ],
   "source": [
    "pd.crosstab(df['test_cr_decision'],df['dep_var']).plot(kind='bar')"
   ]
  },
  {
   "cell_type": "code",
   "execution_count": 52,
   "metadata": {},
   "outputs": [
    {
     "data": {
      "text/plain": [
       "RJC    60640\n",
       "APR    23490\n",
       "Name: test_cr_decision, dtype: int64"
      ]
     },
     "execution_count": 52,
     "metadata": {},
     "output_type": "execute_result"
    }
   ],
   "source": [
    "df.test_cr_decision.value_counts()"
   ]
  },
  {
   "cell_type": "code",
   "execution_count": 53,
   "metadata": {},
   "outputs": [
    {
     "data": {
      "text/plain": [
       "APR    23490\n",
       "Name: test_cr_decision, dtype: int64"
      ]
     },
     "execution_count": 53,
     "metadata": {},
     "output_type": "execute_result"
    }
   ],
   "source": [
    "train.test_cr_decision.value_counts()"
   ]
  },
  {
   "cell_type": "code",
   "execution_count": 54,
   "metadata": {},
   "outputs": [
    {
     "data": {
      "text/plain": [
       "<matplotlib.axes._subplots.AxesSubplot at 0x7f16840f4550>"
      ]
     },
     "execution_count": 54,
     "metadata": {},
     "output_type": "execute_result"
    },
    {
     "data": {
      "image/png": "[encoded data removed]",
      "text/plain": [
       "<Figure size 432x288 with 1 Axes>"
      ]
     },
     "metadata": {
      "needs_background": "light"
     },
     "output_type": "display_data"
    }
   ],
   "source": [
    "pd.crosstab(train['dep_var'], train['test_cr_decision']).plot(kind='bar')"
   ]
  },
  {
   "cell_type": "code",
   "execution_count": 55,
   "metadata": {},
   "outputs": [
    {
     "data": {
      "text/html": [
       "<div>\n",
       "<style scoped>\n",
       "    .dataframe tbody tr th:only-of-type {\n",
       "        vertical-align: middle;\n",
       "    }\n",
       "\n",
       "    .dataframe tbody tr th {\n",
       "        vertical-align: top;\n",
       "    }\n",
       "\n",
       "    .dataframe thead th {\n",
       "        text-align: right;\n",
       "    }\n",
       "</style>\n",
       "<table border=\"1\" class=\"dataframe\">\n",
       "  <thead>\n",
       "    <tr style=\"text-align: right;\">\n",
       "      <th>test_cr_decision</th>\n",
       "      <th>APR</th>\n",
       "      <th>All</th>\n",
       "    </tr>\n",
       "    <tr>\n",
       "      <th>dep_var</th>\n",
       "      <th></th>\n",
       "      <th></th>\n",
       "    </tr>\n",
       "  </thead>\n",
       "  <tbody>\n",
       "    <tr>\n",
       "      <th>0.0</th>\n",
       "      <td>15177</td>\n",
       "      <td>15177</td>\n",
       "    </tr>\n",
       "    <tr>\n",
       "      <th>1.0</th>\n",
       "      <td>8313</td>\n",
       "      <td>8313</td>\n",
       "    </tr>\n",
       "    <tr>\n",
       "      <th>All</th>\n",
       "      <td>23490</td>\n",
       "      <td>23490</td>\n",
       "    </tr>\n",
       "  </tbody>\n",
       "</table>\n",
       "</div>"
      ],
      "text/plain": [
       "test_cr_decision    APR    All\n",
       "dep_var                       \n",
       "0.0               15177  15177\n",
       "1.0                8313   8313\n",
       "All               23490  23490"
      ]
     },
     "execution_count": 55,
     "metadata": {},
     "output_type": "execute_result"
    }
   ],
   "source": [
    "pd.crosstab(train['dep_var'], train['test_cr_decision'], margins=True)"
   ]
  },
  {
   "cell_type": "code",
   "execution_count": 105,
   "metadata": {},
   "outputs": [],
   "source": [
    "train = train.drop(columns=['test_cr_performance'])"
   ]
  },
  {
   "cell_type": "code",
   "execution_count": 79,
   "metadata": {},
   "outputs": [],
   "source": [
    "object_feat.remove('test_cr_performance')"
   ]
  },
  {
   "cell_type": "code",
   "execution_count": 106,
   "metadata": {},
   "outputs": [],
   "source": [
    "train = train.drop(columns=['test_cr_decision'])"
   ]
  },
  {
   "cell_type": "code",
   "execution_count": 83,
   "metadata": {},
   "outputs": [],
   "source": [
    "object_feat.remove('test_cr_decision')"
   ]
  },
  {
   "cell_type": "code",
   "execution_count": 107,
   "metadata": {},
   "outputs": [],
   "source": [
    "train2 = train"
   ]
  },
  {
   "cell_type": "code",
   "execution_count": 85,
   "metadata": {},
   "outputs": [
    {
     "name": "stdout",
     "output_type": "stream",
     "text": [
      "ROC-AUC: 1.0\n"
     ]
    }
   ],
   "source": [
    "cv_score8 = cv_meth(train, y, LGBMClassifier(), cv=5, scoring='roc_auc')\n",
    "print('ROC-AUC:',np.mean(cv_score8))"
   ]
  },
  {
   "cell_type": "code",
   "execution_count": 86,
   "metadata": {},
   "outputs": [],
   "source": [
    "df_scores = df_scores.append({'model':LGBMClassifier,'score':np.mean(cv_score8), 'metric':'roc_auc',\n",
    "                              'parameters':'raw',\n",
    "                              'commit':'CV 5 folds; determinate labels; drop test_cr_performance, test_cr_decision',\n",
    "                              'time':datetime.now(),\n",
    "                             'variables':'train2'}, ignore_index = True)"
   ]
  },
  {
   "cell_type": "code",
   "execution_count": 97,
   "metadata": {},
   "outputs": [],
   "source": [
    "scores_lgbm = []\n",
    "for j in range(10,201,10):\n",
    "    score = cv_meth(train2.drop(columns=['dep_var']),y,LGBMClassifier(n_estimators=j),cv=kfold, scoring='roc_auc')\n",
    "    scores_lgbm.append(score)"
   ]
  },
  {
   "cell_type": "code",
   "execution_count": 98,
   "metadata": {},
   "outputs": [
    {
     "data": {
      "application/vnd.plotly.v1+json": {
       "config": {
        "linkText": "Export to plot.ly",
        "plotlyServerURL": "https://plot.ly",
        "responsive": true,
        "showLink": false
       },
       "data": [
        {
         "type": "scatter",
         "uid": "5ead1145-9c09-40ee-83d9-ce62d456f0a8",
         "x": [
          10,
          20,
          30,
          40,
          50,
          60,
          70,
          80,
          90,
          100,
          110,
          120,
          130,
          140,
          150,
          160,
          170,
          180,
          190,
          200
         ],
         "y": [
          0.6458454140834337,
          0.6495928315017478,
          0.6498006256576563,
          0.6497105976551625,
          0.6496117478077796,
          0.6487325923596323,
          0.6470221318000515,
          0.6462731325647086,
          0.6462619927820331,
          0.6457796403786384,
          0.6442867847098316,
          0.643464862568568,
          0.6427601376518453,
          0.6412799044373483,
          0.6399254488556871,
          0.638378241302041,
          0.6378811415561472,
          0.6368120775067588,
          0.6353678930799458,
          0.6342363516752126
         ]
        }
       ],
       "layout": {
        "title": {
         "text": "Кривая валидации по подбору кол-ва деревьев LGBM"
        },
        "xaxis": {
         "title": {
          "text": "Кол-во"
         }
        },
        "yaxis": {
         "title": {
          "text": "roc-auc"
         }
        }
       }
      },
      "text/html": [
       "<div>\n",
       "        \n",
       "        \n",
       "            <div id=\"6e933659-1cab-4576-8597-fb9cafe1fb19\" class=\"plotly-graph-div\" style=\"height:525px; width:100%;\"></div>\n",
       "            <script type=\"text/javascript\">\n",
       "                require([\"plotly\"], function(Plotly) {\n",
       "                    window.PLOTLYENV=window.PLOTLYENV || {};\n",
       "                    window.PLOTLYENV.BASE_URL='https://plot.ly';\n",
       "                    \n",
       "                if (document.getElementById(\"6e933659-1cab-4576-8597-fb9cafe1fb19\")) {\n",
       "                    Plotly.newPlot(\n",
       "                        '6e933659-1cab-4576-8597-fb9cafe1fb19',\n",
       "                        [{\"type\": \"scatter\", \"uid\": \"a95d73d7-b529-4537-8857-8a8940f65172\", \"x\": [10, 20, 30, 40, 50, 60, 70, 80, 90, 100, 110, 120, 130, 140, 150, 160, 170, 180, 190, 200], \"y\": [0.6458454140834337, 0.6495928315017478, 0.6498006256576563, 0.6497105976551625, 0.6496117478077796, 0.6487325923596323, 0.6470221318000515, 0.6462731325647086, 0.6462619927820331, 0.6457796403786384, 0.6442867847098316, 0.643464862568568, 0.6427601376518453, 0.6412799044373483, 0.6399254488556871, 0.638378241302041, 0.6378811415561472, 0.6368120775067588, 0.6353678930799458, 0.6342363516752126]}],\n",
       "                        {\"title\": {\"text\": \"\\u041a\\u0440\\u0438\\u0432\\u0430\\u044f \\u0432\\u0430\\u043b\\u0438\\u0434\\u0430\\u0446\\u0438\\u0438 \\u043f\\u043e \\u043f\\u043e\\u0434\\u0431\\u043e\\u0440\\u0443 \\u043a\\u043e\\u043b-\\u0432\\u0430 \\u0434\\u0435\\u0440\\u0435\\u0432\\u044c\\u0435\\u0432 LGBM\"}, \"xaxis\": {\"title\": {\"text\": \"\\u041a\\u043e\\u043b-\\u0432\\u043e\"}}, \"yaxis\": {\"title\": {\"text\": \"roc-auc\"}}},\n",
       "                        {\"showLink\": false, \"linkText\": \"Export to plot.ly\", \"plotlyServerURL\": \"https://plot.ly\", \"responsive\": true}\n",
       "                    ).then(function(){\n",
       "                            \n",
       "var gd = document.getElementById('6e933659-1cab-4576-8597-fb9cafe1fb19');\n",
       "var x = new MutationObserver(function (mutations, observer) {{\n",
       "        var display = window.getComputedStyle(gd).display;\n",
       "        if (!display || display === 'none') {{\n",
       "            console.log([gd, 'removed!']);\n",
       "            Plotly.purge(gd);\n",
       "            observer.disconnect();\n",
       "        }}\n",
       "}});\n",
       "\n",
       "// Listen for the removal of the full notebook cells\n",
       "var notebookContainer = gd.closest('#notebook-container');\n",
       "if (notebookContainer) {{\n",
       "    x.observe(notebookContainer, {childList: true});\n",
       "}}\n",
       "\n",
       "// Listen for the clearing of the current output cell\n",
       "var outputEl = gd.closest('.output');\n",
       "if (outputEl) {{\n",
       "    x.observe(outputEl, {childList: true});\n",
       "}}\n",
       "\n",
       "                        })\n",
       "                };\n",
       "                });\n",
       "            </script>\n",
       "        </div>"
      ]
     },
     "metadata": {},
     "output_type": "display_data"
    }
   ],
   "source": [
    "trace1 = go.Scatter(\n",
    "    x=[i for i in range(10,201,10)],\n",
    "    y=scores_lgbm\n",
    ")\n",
    "data = [trace1]\n",
    "layout = go.Layout(title = 'Кривая валидации по подбору кол-ва деревьев LGBM',\n",
    "          yaxis={'title':'roc-auc'}, xaxis={'title':'Кол-во'})\n",
    "\n",
    "fig = go.Figure(data=data, layout=layout)\n",
    "iplot(fig, show_link=False)"
   ]
  },
  {
   "cell_type": "code",
   "execution_count": 109,
   "metadata": {},
   "outputs": [],
   "source": [
    "scores_lgbm_dep = []\n",
    "for j in range(20):\n",
    "    score = cv_meth(train2.drop(columns=['dep_var']),y,LGBMClassifier(n_estimators=30,max_depth=j),cv=kfold, scoring='roc_auc')\n",
    "    scores_lgbm_dep.append(score)"
   ]
  },
  {
   "cell_type": "code",
   "execution_count": 110,
   "metadata": {},
   "outputs": [
    {
     "data": {
      "application/vnd.plotly.v1+json": {
       "config": {
        "linkText": "Export to plot.ly",
        "plotlyServerURL": "https://plot.ly",
        "responsive": true,
        "showLink": false
       },
       "data": [
        {
         "type": "scatter",
         "uid": "7c033616-ee9e-4db2-8d09-a2402aa23ce5",
         "x": [
          0,
          1,
          2,
          3,
          4,
          5,
          6,
          7,
          8,
          9,
          10,
          11,
          12,
          13,
          14,
          15,
          16,
          17,
          18,
          19
         ],
         "y": [
          0.6498006256576563,
          0.6385994214818169,
          0.6480099218647536,
          0.6513256888214995,
          0.6516404354016083,
          0.6499085218889133,
          0.6499768507590629,
          0.6498092641506835,
          0.6494333137329229,
          0.651011781143197,
          0.6486302086787001,
          0.6502870136497911,
          0.649203717739329,
          0.6488312522985048,
          0.6499770604175273,
          0.6499529643154803,
          0.6498088635941309,
          0.6498006256576563,
          0.6498006256576563,
          0.6498006256576563
         ]
        }
       ],
       "layout": {
        "title": {
         "text": "Кривая валидации по подбору глубины дерева LGBM"
        },
        "xaxis": {
         "title": {
          "text": "Глубина деревьев"
         }
        },
        "yaxis": {
         "title": {
          "text": "roc-auc"
         }
        }
       }
      },
      "text/html": [
       "<div>\n",
       "        \n",
       "        \n",
       "            <div id=\"6b1b2c9b-a273-4e0f-b716-43ad4f8bbc53\" class=\"plotly-graph-div\" style=\"height:525px; width:100%;\"></div>\n",
       "            <script type=\"text/javascript\">\n",
       "                require([\"plotly\"], function(Plotly) {\n",
       "                    window.PLOTLYENV=window.PLOTLYENV || {};\n",
       "                    window.PLOTLYENV.BASE_URL='https://plot.ly';\n",
       "                    \n",
       "                if (document.getElementById(\"6b1b2c9b-a273-4e0f-b716-43ad4f8bbc53\")) {\n",
       "                    Plotly.newPlot(\n",
       "                        '6b1b2c9b-a273-4e0f-b716-43ad4f8bbc53',\n",
       "                        [{\"type\": \"scatter\", \"uid\": \"d9926d96-755f-4240-9b9c-00b60c14d0aa\", \"x\": [0, 1, 2, 3, 4, 5, 6, 7, 8, 9, 10, 11, 12, 13, 14, 15, 16, 17, 18, 19], \"y\": [0.6498006256576563, 0.6385994214818169, 0.6480099218647536, 0.6513256888214995, 0.6516404354016083, 0.6499085218889133, 0.6499768507590629, 0.6498092641506835, 0.6494333137329229, 0.651011781143197, 0.6486302086787001, 0.6502870136497911, 0.649203717739329, 0.6488312522985048, 0.6499770604175273, 0.6499529643154803, 0.6498088635941309, 0.6498006256576563, 0.6498006256576563, 0.6498006256576563]}],\n",
       "                        {\"title\": {\"text\": \"\\u041a\\u0440\\u0438\\u0432\\u0430\\u044f \\u0432\\u0430\\u043b\\u0438\\u0434\\u0430\\u0446\\u0438\\u0438 \\u043f\\u043e \\u043f\\u043e\\u0434\\u0431\\u043e\\u0440\\u0443 \\u0433\\u043b\\u0443\\u0431\\u0438\\u043d\\u044b \\u0434\\u0435\\u0440\\u0435\\u0432\\u0430 LGBM\"}, \"xaxis\": {\"title\": {\"text\": \"\\u0413\\u043b\\u0443\\u0431\\u0438\\u043d\\u0430 \\u0434\\u0435\\u0440\\u0435\\u0432\\u044c\\u0435\\u0432\"}}, \"yaxis\": {\"title\": {\"text\": \"roc-auc\"}}},\n",
       "                        {\"showLink\": false, \"linkText\": \"Export to plot.ly\", \"plotlyServerURL\": \"https://plot.ly\", \"responsive\": true}\n",
       "                    ).then(function(){\n",
       "                            \n",
       "var gd = document.getElementById('6b1b2c9b-a273-4e0f-b716-43ad4f8bbc53');\n",
       "var x = new MutationObserver(function (mutations, observer) {{\n",
       "        var display = window.getComputedStyle(gd).display;\n",
       "        if (!display || display === 'none') {{\n",
       "            console.log([gd, 'removed!']);\n",
       "            Plotly.purge(gd);\n",
       "            observer.disconnect();\n",
       "        }}\n",
       "}});\n",
       "\n",
       "// Listen for the removal of the full notebook cells\n",
       "var notebookContainer = gd.closest('#notebook-container');\n",
       "if (notebookContainer) {{\n",
       "    x.observe(notebookContainer, {childList: true});\n",
       "}}\n",
       "\n",
       "// Listen for the clearing of the current output cell\n",
       "var outputEl = gd.closest('.output');\n",
       "if (outputEl) {{\n",
       "    x.observe(outputEl, {childList: true});\n",
       "}}\n",
       "\n",
       "                        })\n",
       "                };\n",
       "                });\n",
       "            </script>\n",
       "        </div>"
      ]
     },
     "metadata": {},
     "output_type": "display_data"
    }
   ],
   "source": [
    "trace1 = go.Scatter(\n",
    "    x=[i for i in range(20)],\n",
    "    y=scores_lgbm_dep\n",
    ")\n",
    "data = [trace1]\n",
    "layout = go.Layout(title = 'Кривая валидации по подбору глубины дерева LGBM',\n",
    "          yaxis={'title':'roc-auc'}, xaxis={'title':'Глубина деревьев'})\n",
    "\n",
    "fig = go.Figure(data=data, layout=layout)\n",
    "iplot(fig, show_link=False)"
   ]
  },
  {
   "cell_type": "code",
   "execution_count": 111,
   "metadata": {},
   "outputs": [],
   "source": [
    "scores_xgb = []\n",
    "for j in range(10,201,10):\n",
    "    score = cv_meth(train2.drop(columns=['dep_var']),y,XGBClassifier(n_estimators=j),cv=kfold, scoring='roc_auc')\n",
    "    scores_xgb.append(score)"
   ]
  },
  {
   "cell_type": "code",
   "execution_count": 112,
   "metadata": {},
   "outputs": [
    {
     "data": {
      "application/vnd.plotly.v1+json": {
       "config": {
        "linkText": "Export to plot.ly",
        "plotlyServerURL": "https://plot.ly",
        "responsive": true,
        "showLink": false
       },
       "data": [
        {
         "type": "scatter",
         "uid": "fc879297-71ce-45d8-827e-9b620483be2b",
         "x": [
          10,
          20,
          30,
          40,
          50,
          60,
          70,
          80,
          90,
          100,
          110,
          120,
          130,
          140,
          150,
          160,
          170,
          180,
          190,
          200
         ],
         "y": [
          0.6406396547312563,
          0.6470909360579323,
          0.6506278095880559,
          0.6521063611243413,
          0.6520979964635878,
          0.6521196789963646,
          0.6516283362175882,
          0.6515454653735689,
          0.6498505030598241,
          0.6497812021160635,
          0.6487620936515069,
          0.6490189762756133,
          0.6489740817435011,
          0.645711717151363,
          0.6457918580745857,
          0.6458413062885942,
          0.6434610710063206,
          0.6434969772935313,
          0.6429487741093224,
          0.6422998945519172
         ]
        }
       ],
       "layout": {
        "title": {
         "text": "Кривая валидации по подбору кол-ва деревьев XGB"
        },
        "xaxis": {
         "title": {
          "text": "Глубина деревьев"
         }
        },
        "yaxis": {
         "title": {
          "text": "roc-auc"
         }
        }
       }
      },
      "text/html": [
       "<div>\n",
       "        \n",
       "        \n",
       "            <div id=\"97dd9ff7-2f00-47b6-a855-9c95aa939f94\" class=\"plotly-graph-div\" style=\"height:525px; width:100%;\"></div>\n",
       "            <script type=\"text/javascript\">\n",
       "                require([\"plotly\"], function(Plotly) {\n",
       "                    window.PLOTLYENV=window.PLOTLYENV || {};\n",
       "                    window.PLOTLYENV.BASE_URL='https://plot.ly';\n",
       "                    \n",
       "                if (document.getElementById(\"97dd9ff7-2f00-47b6-a855-9c95aa939f94\")) {\n",
       "                    Plotly.newPlot(\n",
       "                        '97dd9ff7-2f00-47b6-a855-9c95aa939f94',\n",
       "                        [{\"type\": \"scatter\", \"uid\": \"644a024d-2230-4f46-84fa-e01a512846dd\", \"x\": [10, 20, 30, 40, 50, 60, 70, 80, 90, 100, 110, 120, 130, 140, 150, 160, 170, 180, 190, 200], \"y\": [0.6406396547312563, 0.6470909360579323, 0.6506278095880559, 0.6521063611243413, 0.6520979964635878, 0.6521196789963646, 0.6516283362175882, 0.6515454653735689, 0.6498505030598241, 0.6497812021160635, 0.6487620936515069, 0.6490189762756133, 0.6489740817435011, 0.645711717151363, 0.6457918580745857, 0.6458413062885942, 0.6434610710063206, 0.6434969772935313, 0.6429487741093224, 0.6422998945519172]}],\n",
       "                        {\"title\": {\"text\": \"\\u041a\\u0440\\u0438\\u0432\\u0430\\u044f \\u0432\\u0430\\u043b\\u0438\\u0434\\u0430\\u0446\\u0438\\u0438 \\u043f\\u043e \\u043f\\u043e\\u0434\\u0431\\u043e\\u0440\\u0443 \\u043a\\u043e\\u043b-\\u0432\\u0430 \\u0434\\u0435\\u0440\\u0435\\u0432\\u044c\\u0435\\u0432 XGB\"}, \"xaxis\": {\"title\": {\"text\": \"\\u0413\\u043b\\u0443\\u0431\\u0438\\u043d\\u0430 \\u0434\\u0435\\u0440\\u0435\\u0432\\u044c\\u0435\\u0432\"}}, \"yaxis\": {\"title\": {\"text\": \"roc-auc\"}}},\n",
       "                        {\"showLink\": false, \"linkText\": \"Export to plot.ly\", \"plotlyServerURL\": \"https://plot.ly\", \"responsive\": true}\n",
       "                    ).then(function(){\n",
       "                            \n",
       "var gd = document.getElementById('97dd9ff7-2f00-47b6-a855-9c95aa939f94');\n",
       "var x = new MutationObserver(function (mutations, observer) {{\n",
       "        var display = window.getComputedStyle(gd).display;\n",
       "        if (!display || display === 'none') {{\n",
       "            console.log([gd, 'removed!']);\n",
       "            Plotly.purge(gd);\n",
       "            observer.disconnect();\n",
       "        }}\n",
       "}});\n",
       "\n",
       "// Listen for the removal of the full notebook cells\n",
       "var notebookContainer = gd.closest('#notebook-container');\n",
       "if (notebookContainer) {{\n",
       "    x.observe(notebookContainer, {childList: true});\n",
       "}}\n",
       "\n",
       "// Listen for the clearing of the current output cell\n",
       "var outputEl = gd.closest('.output');\n",
       "if (outputEl) {{\n",
       "    x.observe(outputEl, {childList: true});\n",
       "}}\n",
       "\n",
       "                        })\n",
       "                };\n",
       "                });\n",
       "            </script>\n",
       "        </div>"
      ]
     },
     "metadata": {},
     "output_type": "display_data"
    }
   ],
   "source": [
    "trace1 = go.Scatter(\n",
    "    x=[i for i in range(10,201,10)],\n",
    "    y=scores_xgb\n",
    ")\n",
    "data = [trace1]\n",
    "layout = go.Layout(title = 'Кривая валидации по подбору кол-ва деревьев XGB',\n",
    "          yaxis={'title':'roc-auc'}, xaxis={'title':'Глубина деревьев'})\n",
    "\n",
    "fig = go.Figure(data=data, layout=layout)\n",
    "iplot(fig, show_link=False)"
   ]
  },
  {
   "cell_type": "code",
   "execution_count": 113,
   "metadata": {},
   "outputs": [],
   "source": [
    "# range_C = list(np.linspace(0.1,1,10)) + list(range(2, 10))\n",
    "range_C = [0.0001,0.001,0.01,0.1,0.2,0.3,0.4,0.5,0.7,0.9]\n",
    "scores_lg_c = []\n",
    "for j in range_C:\n",
    "    score = cv_meth(train2.drop(columns=['dep_var']),y,LogisticRegression(C=j),cv=kfold, scoring='roc_auc')\n",
    "    scores_lg_c.append(score)"
   ]
  },
  {
   "cell_type": "code",
   "execution_count": 115,
   "metadata": {},
   "outputs": [
    {
     "data": {
      "application/vnd.plotly.v1+json": {
       "config": {
        "linkText": "Export to plot.ly",
        "plotlyServerURL": "https://plot.ly",
        "responsive": true,
        "showLink": false
       },
       "data": [
        {
         "type": "scatter",
         "uid": "38837811-3bce-4810-bef8-adde84b16f9c",
         "x": [
          0.0001,
          0.001,
          0.01,
          0.1,
          0.2,
          0.3,
          0.4,
          0.5,
          0.7,
          0.9
         ],
         "y": [
          0.6131875394041046,
          0.6129897093287321,
          0.6129822205747197,
          0.6130769283504206,
          0.6130767364788318,
          0.6129895714319076,
          0.6124341703925528,
          0.6120613447986983,
          0.6135832726301722,
          0.6126970069185985
         ]
        }
       ],
       "layout": {
        "title": {
         "text": "Кривая валидации по подбору C LogC"
        },
        "xaxis": {
         "title": {
          "text": "C"
         }
        },
        "yaxis": {
         "title": {
          "text": "roc-auc"
         }
        }
       }
      },
      "text/html": [
       "<div>\n",
       "        \n",
       "        \n",
       "            <div id=\"23f89efa-3a46-4e0c-ade5-507c2e42f379\" class=\"plotly-graph-div\" style=\"height:525px; width:100%;\"></div>\n",
       "            <script type=\"text/javascript\">\n",
       "                require([\"plotly\"], function(Plotly) {\n",
       "                    window.PLOTLYENV=window.PLOTLYENV || {};\n",
       "                    window.PLOTLYENV.BASE_URL='https://plot.ly';\n",
       "                    \n",
       "                if (document.getElementById(\"23f89efa-3a46-4e0c-ade5-507c2e42f379\")) {\n",
       "                    Plotly.newPlot(\n",
       "                        '23f89efa-3a46-4e0c-ade5-507c2e42f379',\n",
       "                        [{\"type\": \"scatter\", \"uid\": \"d3b05e0e-11cb-437b-a215-ff710ff302ac\", \"x\": [0.0001, 0.001, 0.01, 0.1, 0.2, 0.3, 0.4, 0.5, 0.7, 0.9], \"y\": [0.6131875394041046, 0.6129897093287321, 0.6129822205747197, 0.6130769283504206, 0.6130767364788318, 0.6129895714319076, 0.6124341703925528, 0.6120613447986983, 0.6135832726301722, 0.6126970069185985]}],\n",
       "                        {\"title\": {\"text\": \"\\u041a\\u0440\\u0438\\u0432\\u0430\\u044f \\u0432\\u0430\\u043b\\u0438\\u0434\\u0430\\u0446\\u0438\\u0438 \\u043f\\u043e \\u043f\\u043e\\u0434\\u0431\\u043e\\u0440\\u0443 C LogC\"}, \"xaxis\": {\"title\": {\"text\": \"C\"}}, \"yaxis\": {\"title\": {\"text\": \"roc-auc\"}}},\n",
       "                        {\"showLink\": false, \"linkText\": \"Export to plot.ly\", \"plotlyServerURL\": \"https://plot.ly\", \"responsive\": true}\n",
       "                    ).then(function(){\n",
       "                            \n",
       "var gd = document.getElementById('23f89efa-3a46-4e0c-ade5-507c2e42f379');\n",
       "var x = new MutationObserver(function (mutations, observer) {{\n",
       "        var display = window.getComputedStyle(gd).display;\n",
       "        if (!display || display === 'none') {{\n",
       "            console.log([gd, 'removed!']);\n",
       "            Plotly.purge(gd);\n",
       "            observer.disconnect();\n",
       "        }}\n",
       "}});\n",
       "\n",
       "// Listen for the removal of the full notebook cells\n",
       "var notebookContainer = gd.closest('#notebook-container');\n",
       "if (notebookContainer) {{\n",
       "    x.observe(notebookContainer, {childList: true});\n",
       "}}\n",
       "\n",
       "// Listen for the clearing of the current output cell\n",
       "var outputEl = gd.closest('.output');\n",
       "if (outputEl) {{\n",
       "    x.observe(outputEl, {childList: true});\n",
       "}}\n",
       "\n",
       "                        })\n",
       "                };\n",
       "                });\n",
       "            </script>\n",
       "        </div>"
      ]
     },
     "metadata": {},
     "output_type": "display_data"
    }
   ],
   "source": [
    "trace1 = go.Scatter(\n",
    "    x=range_C,\n",
    "    y=scores_lg_c\n",
    ")\n",
    "data = [trace1]\n",
    "layout = go.Layout(title = 'Кривая валидации по подбору C LogC',\n",
    "          yaxis={'title':'roc-auc'}, xaxis={'title':'C'})\n",
    "\n",
    "fig = go.Figure(data=data, layout=layout)\n",
    "iplot(fig, show_link=False)"
   ]
  },
  {
   "cell_type": "code",
   "execution_count": 118,
   "metadata": {},
   "outputs": [
    {
     "data": {
      "text/html": [
       "<div>\n",
       "<style scoped>\n",
       "    .dataframe tbody tr th:only-of-type {\n",
       "        vertical-align: middle;\n",
       "    }\n",
       "\n",
       "    .dataframe tbody tr th {\n",
       "        vertical-align: top;\n",
       "    }\n",
       "\n",
       "    .dataframe thead th {\n",
       "        text-align: right;\n",
       "    }\n",
       "</style>\n",
       "<table border=\"1\" class=\"dataframe\">\n",
       "  <thead>\n",
       "    <tr style=\"text-align: right;\">\n",
       "      <th></th>\n",
       "      <th>account_id</th>\n",
       "      <th>client_id</th>\n",
       "      <th>time_msw</th>\n",
       "      <th>dep_var</th>\n",
       "      <th>month_verif</th>\n",
       "      <th>var1</th>\n",
       "      <th>var3</th>\n",
       "      <th>var4</th>\n",
       "      <th>var5</th>\n",
       "      <th>var6</th>\n",
       "      <th>...</th>\n",
       "      <th>var145</th>\n",
       "      <th>var146</th>\n",
       "      <th>var147</th>\n",
       "      <th>var148</th>\n",
       "      <th>var149</th>\n",
       "      <th>var150</th>\n",
       "      <th>var151</th>\n",
       "      <th>var152</th>\n",
       "      <th>var153</th>\n",
       "      <th>var154</th>\n",
       "    </tr>\n",
       "  </thead>\n",
       "  <tbody>\n",
       "    <tr>\n",
       "      <th>1</th>\n",
       "      <td>0</td>\n",
       "      <td>211807</td>\n",
       "      <td>0</td>\n",
       "      <td>0.0</td>\n",
       "      <td>201609</td>\n",
       "      <td>1.0</td>\n",
       "      <td>1.0</td>\n",
       "      <td>1.0</td>\n",
       "      <td>1</td>\n",
       "      <td>0</td>\n",
       "      <td>...</td>\n",
       "      <td>0</td>\n",
       "      <td>0</td>\n",
       "      <td>0</td>\n",
       "      <td>0</td>\n",
       "      <td>0</td>\n",
       "      <td>0</td>\n",
       "      <td>0</td>\n",
       "      <td>0</td>\n",
       "      <td>0</td>\n",
       "      <td>7</td>\n",
       "    </tr>\n",
       "    <tr>\n",
       "      <th>3</th>\n",
       "      <td>0</td>\n",
       "      <td>193611</td>\n",
       "      <td>1</td>\n",
       "      <td>0.0</td>\n",
       "      <td>201609</td>\n",
       "      <td>NaN</td>\n",
       "      <td>NaN</td>\n",
       "      <td>NaN</td>\n",
       "      <td>1</td>\n",
       "      <td>0</td>\n",
       "      <td>...</td>\n",
       "      <td>0</td>\n",
       "      <td>0</td>\n",
       "      <td>0</td>\n",
       "      <td>0</td>\n",
       "      <td>0</td>\n",
       "      <td>0</td>\n",
       "      <td>0</td>\n",
       "      <td>0</td>\n",
       "      <td>0</td>\n",
       "      <td>3</td>\n",
       "    </tr>\n",
       "    <tr>\n",
       "      <th>10</th>\n",
       "      <td>0</td>\n",
       "      <td>211812</td>\n",
       "      <td>2</td>\n",
       "      <td>0.0</td>\n",
       "      <td>201609</td>\n",
       "      <td>1.0</td>\n",
       "      <td>1.0</td>\n",
       "      <td>1.0</td>\n",
       "      <td>1</td>\n",
       "      <td>0</td>\n",
       "      <td>...</td>\n",
       "      <td>0</td>\n",
       "      <td>0</td>\n",
       "      <td>0</td>\n",
       "      <td>0</td>\n",
       "      <td>0</td>\n",
       "      <td>0</td>\n",
       "      <td>0</td>\n",
       "      <td>0</td>\n",
       "      <td>0</td>\n",
       "      <td>3</td>\n",
       "    </tr>\n",
       "    <tr>\n",
       "      <th>11</th>\n",
       "      <td>0</td>\n",
       "      <td>211814</td>\n",
       "      <td>3</td>\n",
       "      <td>0.0</td>\n",
       "      <td>201609</td>\n",
       "      <td>1.0</td>\n",
       "      <td>1.0</td>\n",
       "      <td>1.0</td>\n",
       "      <td>1</td>\n",
       "      <td>1</td>\n",
       "      <td>...</td>\n",
       "      <td>0</td>\n",
       "      <td>0</td>\n",
       "      <td>0</td>\n",
       "      <td>0</td>\n",
       "      <td>0</td>\n",
       "      <td>0</td>\n",
       "      <td>0</td>\n",
       "      <td>0</td>\n",
       "      <td>0</td>\n",
       "      <td>3</td>\n",
       "    </tr>\n",
       "    <tr>\n",
       "      <th>13</th>\n",
       "      <td>0</td>\n",
       "      <td>56232</td>\n",
       "      <td>4</td>\n",
       "      <td>0.0</td>\n",
       "      <td>201609</td>\n",
       "      <td>1.0</td>\n",
       "      <td>1.0</td>\n",
       "      <td>1.0</td>\n",
       "      <td>1</td>\n",
       "      <td>0</td>\n",
       "      <td>...</td>\n",
       "      <td>0</td>\n",
       "      <td>0</td>\n",
       "      <td>0</td>\n",
       "      <td>0</td>\n",
       "      <td>0</td>\n",
       "      <td>0</td>\n",
       "      <td>0</td>\n",
       "      <td>0</td>\n",
       "      <td>0</td>\n",
       "      <td>3</td>\n",
       "    </tr>\n",
       "  </tbody>\n",
       "</table>\n",
       "<p>5 rows × 155 columns</p>\n",
       "</div>"
      ],
      "text/plain": [
       "    account_id  client_id  time_msw  dep_var  month_verif  var1  var3  var4  \\\n",
       "1            0     211807         0      0.0       201609   1.0   1.0   1.0   \n",
       "3            0     193611         1      0.0       201609   NaN   NaN   NaN   \n",
       "10           0     211812         2      0.0       201609   1.0   1.0   1.0   \n",
       "11           0     211814         3      0.0       201609   1.0   1.0   1.0   \n",
       "13           0      56232         4      0.0       201609   1.0   1.0   1.0   \n",
       "\n",
       "    var5  var6  ...  var145  var146  var147  var148  var149  var150  var151  \\\n",
       "1      1     0  ...       0       0       0       0       0       0       0   \n",
       "3      1     0  ...       0       0       0       0       0       0       0   \n",
       "10     1     0  ...       0       0       0       0       0       0       0   \n",
       "11     1     1  ...       0       0       0       0       0       0       0   \n",
       "13     1     0  ...       0       0       0       0       0       0       0   \n",
       "\n",
       "    var152  var153  var154  \n",
       "1        0       0       7  \n",
       "3        0       0       3  \n",
       "10       0       0       3  \n",
       "11       0       0       3  \n",
       "13       0       0       3  \n",
       "\n",
       "[5 rows x 155 columns]"
      ]
     },
     "execution_count": 118,
     "metadata": {},
     "output_type": "execute_result"
    }
   ],
   "source": [
    "train.head()"
   ]
  },
  {
   "cell_type": "code",
   "execution_count": 119,
   "metadata": {},
   "outputs": [
    {
     "name": "stdout",
     "output_type": "stream",
     "text": [
      "roc_auc: 0.5187291383612566\n"
     ]
    }
   ],
   "source": [
    "cv_score3 = cross_val_score(LGBMClassifier(n_estimators=30,max_depth=4), train.drop(columns=['dep_var']), y, cv=7, scoring='roc_auc')\n",
    "print('roc_auc:',np.mean(cv_score3))"
   ]
  },
  {
   "cell_type": "code",
   "execution_count": 120,
   "metadata": {},
   "outputs": [],
   "source": [
    "train3 = train"
   ]
  },
  {
   "cell_type": "code",
   "execution_count": 121,
   "metadata": {},
   "outputs": [],
   "source": [
    "df_scores = df_scores.append({'model':'LGBMClassifier','score':np.mean(cv_score3), 'metric':'roc_auc',\n",
    "                              'parameters':'n_estimators=30,max_depth=4',\n",
    "                              'commit':'CV 5 folds; determinate labels; drop test_cr_decision',\n",
    "                              'time':datetime.now(),\n",
    "                             'variables':'train3,cv_score3'}, ignore_index = True)"
   ]
  },
  {
   "cell_type": "code",
   "execution_count": 122,
   "metadata": {},
   "outputs": [
    {
     "name": "stdout",
     "output_type": "stream",
     "text": [
      "roc_auc: 0.6203912650191047\n"
     ]
    }
   ],
   "source": [
    "cv_score4 = cv_meth(train.drop(columns=['dep_var']), y,LogisticRegression(C=0.9), cv=7, scoring='roc_auc')\n",
    "print('roc_auc:',np.mean(cv_score4))"
   ]
  },
  {
   "cell_type": "code",
   "execution_count": 123,
   "metadata": {},
   "outputs": [],
   "source": [
    "df_scores = df_scores.append({'model':'LogisticRegression','score':np.mean(cv_score4), 'metric':'roc_auc',\n",
    "                              'parameters':'C=0.9',\n",
    "                              'commit':'CV 5 folds; determinate labels; drop test_cr_decision',\n",
    "                              'time':datetime.now(),\n",
    "                             'variables':'train3,cv_score4'}, ignore_index = True)"
   ]
  },
  {
   "cell_type": "markdown",
   "metadata": {},
   "source": [
    "Logistic Regression"
   ]
  },
  {
   "cell_type": "code",
   "execution_count": null,
   "metadata": {},
   "outputs": [],
   "source": [
    "# LR = LogisticRegression()\n",
    "\n",
    "# scoring = ['accuracy', 'precision_macro', 'recall_macro' , 'f1_weighted', 'roc_auc']\n",
    "# scores = cross_validate(LR, X, y, scoring=scoring, cv=20)\n",
    "\n",
    "# sorted(scores.keys())\n",
    "# LR_fit_time = scores['fit_time'].mean()\n",
    "# LR_score_time = scores['score_time'].mean()\n",
    "# LR_accuracy = scores['test_accuracy'].mean()\n",
    "# LR_precision = scores['test_precision_macro'].mean()\n",
    "# LR_recall = scores['test_recall_macro'].mean()\n",
    "# LR_f1 = scores['test_f1_weighted'].mean()\n",
    "# LR_roc = scores['test_roc_auc'].mean()"
   ]
  },
  {
   "cell_type": "markdown",
   "metadata": {},
   "source": [
    "Decision Tree Classifier"
   ]
  },
  {
   "cell_type": "code",
   "execution_count": null,
   "metadata": {},
   "outputs": [],
   "source": [
    "# decision_tree = DecisionTreeClassifier()\n",
    "\n",
    "# scoring = ['accuracy', 'precision_macro', 'recall_macro' , 'f1_weighted', 'roc_auc']\n",
    "# scores = cross_validate(decision_tree, X, y, scoring=scoring, cv=20)\n",
    "\n",
    "# sorted(scores.keys())\n",
    "# dtree_fit_time = scores['fit_time'].mean()\n",
    "# dtree_score_time = scores['score_time'].mean()\n",
    "# dtree_accuracy = scores['test_accuracy'].mean()\n",
    "# dtree_precision = scores['test_precision_macro'].mean()\n",
    "# dtree_recall = scores['test_recall_macro'].mean()\n",
    "# dtree_f1 = scores['test_f1_weighted'].mean()\n",
    "# dtree_roc = scores['test_roc_auc'].mean()"
   ]
  },
  {
   "cell_type": "markdown",
   "metadata": {},
   "source": [
    "Support Vector Machine"
   ]
  },
  {
   "cell_type": "code",
   "execution_count": null,
   "metadata": {},
   "outputs": [],
   "source": [
    "# SVM = SVC(probability = True)\n",
    "\n",
    "# scoring = ['accuracy','precision_macro', 'recall_macro' , 'f1_weighted', 'roc_auc']\n",
    "# scores = cross_validate(SVM, X, y, scoring=scoring, cv=20)\n",
    "\n",
    "# sorted(scores.keys())\n",
    "# SVM_fit_time = scores['fit_time'].mean()\n",
    "# SVM_score_time = scores['score_time'].mean()\n",
    "# SVM_accuracy = scores['test_accuracy'].mean()\n",
    "# SVM_precision = scores['test_precision_macro'].mean()\n",
    "# SVM_recall = scores['test_recall_macro'].mean()\n",
    "# SVM_f1 = scores['test_f1_weighted'].mean()\n",
    "# SVM_roc = scores['test_roc_auc'].mean()"
   ]
  },
  {
   "cell_type": "markdown",
   "metadata": {},
   "source": [
    "Random Forest Classifier"
   ]
  },
  {
   "cell_type": "code",
   "execution_count": null,
   "metadata": {},
   "outputs": [],
   "source": [
    "# random_forest = RandomForestClassifier()\n",
    "\n",
    "# scoring = ['accuracy', 'precision_macro', 'recall_macro' , 'f1_weighted', 'roc_auc']\n",
    "# scores = cross_validate(random_forest, X, y, scoring=scoring, cv=20)\n",
    "\n",
    "# sorted(scores.keys())\n",
    "# forest_fit_time = scores['fit_time'].mean()\n",
    "# forest_score_time = scores['score_time'].mean()\n",
    "# forest_accuracy = scores['test_accuracy'].mean()\n",
    "# forest_precision = scores['test_precision_macro'].mean()\n",
    "# forest_recall = scores['test_recall_macro'].mean()\n",
    "# forest_f1 = scores['test_f1_weighted'].mean()\n",
    "# forest_roc = scores['test_roc_auc'].mean()"
   ]
  },
  {
   "cell_type": "markdown",
   "metadata": {},
   "source": [
    "K-Nearest Neighbors"
   ]
  },
  {
   "cell_type": "code",
   "execution_count": null,
   "metadata": {},
   "outputs": [],
   "source": [
    "# KNN = KNeighborsClassifier()\n",
    "\n",
    "# scoring = ['accuracy', 'precision_macro', 'recall_macro' , 'f1_weighted', 'roc_auc']\n",
    "# scores = cross_validate(KNN, X, y, scoring=scoring, cv=20)\n",
    "\n",
    "# sorted(scores.keys())\n",
    "# KNN_fit_time = scores['fit_time'].mean()\n",
    "# KNN_score_time = scores['score_time'].mean()\n",
    "# KNN_accuracy = scores['test_accuracy'].mean()\n",
    "# KNN_precision = scores['test_precision_macro'].mean()\n",
    "# KNN_recall = scores['test_recall_macro'].mean()\n",
    "# KNN_f1 = scores['test_f1_weighted'].mean()\n",
    "# KNN_roc = scores['test_roc_auc'].mean()"
   ]
  },
  {
   "cell_type": "code",
   "execution_count": null,
   "metadata": {},
   "outputs": [],
   "source": [
    "# models_initial = pd.DataFrame({\n",
    "#     'Model'       : ['Logistic Regression', 'Decision Tree', 'Support Vector Machine', 'Random Forest', 'K-Nearest Neighbors'],\n",
    "#     'Fitting time': [LR_fit_time, dtree_fit_time, SVM_fit_time, forest_fit_time, KNN_fit_time],\n",
    "#     'Scoring time': [LR_score_time, dtree_score_time, SVM_score_time, forest_score_time, KNN_score_time],\n",
    "#     'Accuracy'    : [LR_accuracy, dtree_accuracy, SVM_accuracy, forest_accuracy, KNN_accuracy],\n",
    "#     'Precision'   : [LR_precision, dtree_precision, SVM_precision, forest_precision, KNN_precision],\n",
    "#     'Recall'      : [LR_recall, dtree_recall, SVM_recall, forest_recall, KNN_recall],\n",
    "#     'F1_score'    : [LR_f1, dtree_f1, SVM_f1, forest_f1, KNN_f1],\n",
    "#     'AUC_ROC'     : [LR_roc, dtree_roc, SVM_roc, forest_roc, KNN_roc],\n",
    "#     }, columns = ['Model', 'Fitting time', 'Scoring time', 'Accuracy', 'Precision', 'Recall', 'F1_score', 'AUC_ROC'])\n",
    "\n",
    "# models_initial.sort_values(by='Accuracy', ascending=False)"
   ]
  },
  {
   "cell_type": "markdown",
   "metadata": {},
   "source": [
    "Time"
   ]
  },
  {
   "cell_type": "code",
   "execution_count": 124,
   "metadata": {},
   "outputs": [
    {
     "data": {
      "text/html": [
       "<div>\n",
       "<style scoped>\n",
       "    .dataframe tbody tr th:only-of-type {\n",
       "        vertical-align: middle;\n",
       "    }\n",
       "\n",
       "    .dataframe tbody tr th {\n",
       "        vertical-align: top;\n",
       "    }\n",
       "\n",
       "    .dataframe thead th {\n",
       "        text-align: right;\n",
       "    }\n",
       "</style>\n",
       "<table border=\"1\" class=\"dataframe\">\n",
       "  <thead>\n",
       "    <tr style=\"text-align: right;\">\n",
       "      <th></th>\n",
       "      <th>account_id</th>\n",
       "      <th>client_id</th>\n",
       "      <th>time_msw</th>\n",
       "      <th>dep_var</th>\n",
       "      <th>month_verif</th>\n",
       "      <th>var1</th>\n",
       "      <th>var3</th>\n",
       "      <th>var4</th>\n",
       "      <th>var5</th>\n",
       "      <th>var6</th>\n",
       "      <th>...</th>\n",
       "      <th>var145</th>\n",
       "      <th>var146</th>\n",
       "      <th>var147</th>\n",
       "      <th>var148</th>\n",
       "      <th>var149</th>\n",
       "      <th>var150</th>\n",
       "      <th>var151</th>\n",
       "      <th>var152</th>\n",
       "      <th>var153</th>\n",
       "      <th>var154</th>\n",
       "    </tr>\n",
       "  </thead>\n",
       "  <tbody>\n",
       "    <tr>\n",
       "      <th>1</th>\n",
       "      <td>0</td>\n",
       "      <td>211807</td>\n",
       "      <td>0</td>\n",
       "      <td>0.0</td>\n",
       "      <td>201609</td>\n",
       "      <td>1.0</td>\n",
       "      <td>1.0</td>\n",
       "      <td>1.0</td>\n",
       "      <td>1</td>\n",
       "      <td>0</td>\n",
       "      <td>...</td>\n",
       "      <td>0</td>\n",
       "      <td>0</td>\n",
       "      <td>0</td>\n",
       "      <td>0</td>\n",
       "      <td>0</td>\n",
       "      <td>0</td>\n",
       "      <td>0</td>\n",
       "      <td>0</td>\n",
       "      <td>0</td>\n",
       "      <td>7</td>\n",
       "    </tr>\n",
       "    <tr>\n",
       "      <th>3</th>\n",
       "      <td>0</td>\n",
       "      <td>193611</td>\n",
       "      <td>1</td>\n",
       "      <td>0.0</td>\n",
       "      <td>201609</td>\n",
       "      <td>NaN</td>\n",
       "      <td>NaN</td>\n",
       "      <td>NaN</td>\n",
       "      <td>1</td>\n",
       "      <td>0</td>\n",
       "      <td>...</td>\n",
       "      <td>0</td>\n",
       "      <td>0</td>\n",
       "      <td>0</td>\n",
       "      <td>0</td>\n",
       "      <td>0</td>\n",
       "      <td>0</td>\n",
       "      <td>0</td>\n",
       "      <td>0</td>\n",
       "      <td>0</td>\n",
       "      <td>3</td>\n",
       "    </tr>\n",
       "    <tr>\n",
       "      <th>10</th>\n",
       "      <td>0</td>\n",
       "      <td>211812</td>\n",
       "      <td>2</td>\n",
       "      <td>0.0</td>\n",
       "      <td>201609</td>\n",
       "      <td>1.0</td>\n",
       "      <td>1.0</td>\n",
       "      <td>1.0</td>\n",
       "      <td>1</td>\n",
       "      <td>0</td>\n",
       "      <td>...</td>\n",
       "      <td>0</td>\n",
       "      <td>0</td>\n",
       "      <td>0</td>\n",
       "      <td>0</td>\n",
       "      <td>0</td>\n",
       "      <td>0</td>\n",
       "      <td>0</td>\n",
       "      <td>0</td>\n",
       "      <td>0</td>\n",
       "      <td>3</td>\n",
       "    </tr>\n",
       "    <tr>\n",
       "      <th>11</th>\n",
       "      <td>0</td>\n",
       "      <td>211814</td>\n",
       "      <td>3</td>\n",
       "      <td>0.0</td>\n",
       "      <td>201609</td>\n",
       "      <td>1.0</td>\n",
       "      <td>1.0</td>\n",
       "      <td>1.0</td>\n",
       "      <td>1</td>\n",
       "      <td>1</td>\n",
       "      <td>...</td>\n",
       "      <td>0</td>\n",
       "      <td>0</td>\n",
       "      <td>0</td>\n",
       "      <td>0</td>\n",
       "      <td>0</td>\n",
       "      <td>0</td>\n",
       "      <td>0</td>\n",
       "      <td>0</td>\n",
       "      <td>0</td>\n",
       "      <td>3</td>\n",
       "    </tr>\n",
       "    <tr>\n",
       "      <th>13</th>\n",
       "      <td>0</td>\n",
       "      <td>56232</td>\n",
       "      <td>4</td>\n",
       "      <td>0.0</td>\n",
       "      <td>201609</td>\n",
       "      <td>1.0</td>\n",
       "      <td>1.0</td>\n",
       "      <td>1.0</td>\n",
       "      <td>1</td>\n",
       "      <td>0</td>\n",
       "      <td>...</td>\n",
       "      <td>0</td>\n",
       "      <td>0</td>\n",
       "      <td>0</td>\n",
       "      <td>0</td>\n",
       "      <td>0</td>\n",
       "      <td>0</td>\n",
       "      <td>0</td>\n",
       "      <td>0</td>\n",
       "      <td>0</td>\n",
       "      <td>3</td>\n",
       "    </tr>\n",
       "  </tbody>\n",
       "</table>\n",
       "<p>5 rows × 155 columns</p>\n",
       "</div>"
      ],
      "text/plain": [
       "    account_id  client_id  time_msw  dep_var  month_verif  var1  var3  var4  \\\n",
       "1            0     211807         0      0.0       201609   1.0   1.0   1.0   \n",
       "3            0     193611         1      0.0       201609   NaN   NaN   NaN   \n",
       "10           0     211812         2      0.0       201609   1.0   1.0   1.0   \n",
       "11           0     211814         3      0.0       201609   1.0   1.0   1.0   \n",
       "13           0      56232         4      0.0       201609   1.0   1.0   1.0   \n",
       "\n",
       "    var5  var6  ...  var145  var146  var147  var148  var149  var150  var151  \\\n",
       "1      1     0  ...       0       0       0       0       0       0       0   \n",
       "3      1     0  ...       0       0       0       0       0       0       0   \n",
       "10     1     0  ...       0       0       0       0       0       0       0   \n",
       "11     1     1  ...       0       0       0       0       0       0       0   \n",
       "13     1     0  ...       0       0       0       0       0       0       0   \n",
       "\n",
       "    var152  var153  var154  \n",
       "1        0       0       7  \n",
       "3        0       0       3  \n",
       "10       0       0       3  \n",
       "11       0       0       3  \n",
       "13       0       0       3  \n",
       "\n",
       "[5 rows x 155 columns]"
      ]
     },
     "execution_count": 124,
     "metadata": {},
     "output_type": "execute_result"
    }
   ],
   "source": [
    "train.head()"
   ]
  },
  {
   "cell_type": "markdown",
   "metadata": {},
   "source": [
    "Train"
   ]
  },
  {
   "cell_type": "code",
   "execution_count": 125,
   "metadata": {},
   "outputs": [],
   "source": [
    "train.time_msw = pd.to_datetime(train.time_msw)\n",
    "train['start_time_s'] = train['time_msw'].apply(lambda ts: \n",
    "                                                      10000 * ts.hour + ts.minute*100 + ts.second).astype('int')\n",
    "train['month_verif'] = train['time_msw'].apply(lambda ts:ts.month).astype('int')\n",
    "train['hour'] = train['time_msw'].apply(lambda ts:ts.hour).astype('int')\n",
    "train = train.drop(columns=['time_msw'])\n",
    "train = train.drop(columns=['month_verif'])"
   ]
  },
  {
   "cell_type": "code",
   "execution_count": 126,
   "metadata": {},
   "outputs": [],
   "source": [
    "object_feat.remove('time_msw')"
   ]
  },
  {
   "cell_type": "code",
   "execution_count": 127,
   "metadata": {},
   "outputs": [
    {
     "name": "stdout",
     "output_type": "stream",
     "text": [
      "roc_auc: 0.5130055714056004\n"
     ]
    }
   ],
   "source": [
    "cv_score5 = cv_meth(train.drop(columns=['dep_var']), y,LGBMClassifier(n_estimators=30,max_depth=4), cv=7, scoring='roc_auc')\n",
    "print('roc_auc:',np.mean(cv_score5))"
   ]
  },
  {
   "cell_type": "code",
   "execution_count": 128,
   "metadata": {},
   "outputs": [],
   "source": [
    "train5 = train"
   ]
  },
  {
   "cell_type": "code",
   "execution_count": 129,
   "metadata": {},
   "outputs": [],
   "source": [
    "df_scores = df_scores.append({'model':'LGBMClassifier','score':np.mean(cv_score5), 'metric':'roc_auc',\n",
    "                              'parameters':'n_estimators=30,max_depth=4',\n",
    "                              'commit':'CV 5 folds; determinate labels; test_cr_performance, drop test_cr_decision; time features',\n",
    "                              'time':datetime.now(),\n",
    "                              'variables':'train5,cv_score5'},ignore_index = True)"
   ]
  },
  {
   "cell_type": "markdown",
   "metadata": {},
   "source": [
    "VAR73"
   ]
  },
  {
   "cell_type": "code",
   "execution_count": 130,
   "metadata": {},
   "outputs": [
    {
     "data": {
      "text/plain": [
       "0    12698\n",
       "1     9234\n",
       "2     1380\n",
       "3      158\n",
       "4        9\n",
       "7        7\n",
       "5        3\n",
       "6        1\n",
       "Name: var73, dtype: int64"
      ]
     },
     "execution_count": 130,
     "metadata": {},
     "output_type": "execute_result"
    }
   ],
   "source": [
    "train.var73.value_counts()"
   ]
  },
  {
   "cell_type": "code",
   "execution_count": 131,
   "metadata": {},
   "outputs": [],
   "source": [
    "clf = LGBMClassifier(n_estimators=30,max_depth=4)"
   ]
  },
  {
   "cell_type": "code",
   "execution_count": 132,
   "metadata": {},
   "outputs": [
    {
     "data": {
      "text/plain": [
       "LGBMClassifier(boosting_type='gbdt', class_weight=None, colsample_bytree=1.0,\n",
       "        importance_type='split', learning_rate=0.1, max_depth=4,\n",
       "        min_child_samples=20, min_child_weight=0.001, min_split_gain=0.0,\n",
       "        n_estimators=30, n_jobs=-1, num_leaves=31, objective=None,\n",
       "        random_state=None, reg_alpha=0.0, reg_lambda=0.0, silent=True,\n",
       "        subsample=1.0, subsample_for_bin=200000, subsample_freq=0)"
      ]
     },
     "execution_count": 132,
     "metadata": {},
     "output_type": "execute_result"
    }
   ],
   "source": [
    "X = train.drop(columns=['dep_var'])\n",
    "object_feat = []\n",
    "for col in train.columns:\n",
    "    if (train[col].dtypes == object):\n",
    "        object_feat.append(col)\n",
    "for i in object_feat:\n",
    "    X[i] = pd.factorize(X[i])[0]\n",
    "clf.fit(X.fillna(-1),y)"
   ]
  },
  {
   "cell_type": "code",
   "execution_count": 133,
   "metadata": {},
   "outputs": [
    {
     "data": {
      "text/plain": [
       "((23490, 154), 156)"
      ]
     },
     "execution_count": 133,
     "metadata": {},
     "output_type": "execute_result"
    }
   ],
   "source": [
    "X.shape, len(importances)"
   ]
  },
  {
   "cell_type": "code",
   "execution_count": 134,
   "metadata": {},
   "outputs": [],
   "source": [
    "weights = pd.DataFrame(columns=['name','weight'])\n",
    "weights['name'] = X.columns\n",
    "weights['weight'] = clf.feature_importances_"
   ]
  },
  {
   "cell_type": "code",
   "execution_count": 135,
   "metadata": {},
   "outputs": [
    {
     "data": {
      "text/html": [
       "<div>\n",
       "<style scoped>\n",
       "    .dataframe tbody tr th:only-of-type {\n",
       "        vertical-align: middle;\n",
       "    }\n",
       "\n",
       "    .dataframe tbody tr th {\n",
       "        vertical-align: top;\n",
       "    }\n",
       "\n",
       "    .dataframe thead th {\n",
       "        text-align: right;\n",
       "    }\n",
       "</style>\n",
       "<table border=\"1\" class=\"dataframe\">\n",
       "  <thead>\n",
       "    <tr style=\"text-align: right;\">\n",
       "      <th></th>\n",
       "      <th>name</th>\n",
       "      <th>weight</th>\n",
       "    </tr>\n",
       "  </thead>\n",
       "  <tbody>\n",
       "    <tr>\n",
       "      <th>44</th>\n",
       "      <td>var45</td>\n",
       "      <td>54</td>\n",
       "    </tr>\n",
       "    <tr>\n",
       "      <th>1</th>\n",
       "      <td>client_id</td>\n",
       "      <td>40</td>\n",
       "    </tr>\n",
       "    <tr>\n",
       "      <th>38</th>\n",
       "      <td>var39</td>\n",
       "      <td>38</td>\n",
       "    </tr>\n",
       "    <tr>\n",
       "      <th>73</th>\n",
       "      <td>var74</td>\n",
       "      <td>33</td>\n",
       "    </tr>\n",
       "    <tr>\n",
       "      <th>40</th>\n",
       "      <td>var41</td>\n",
       "      <td>24</td>\n",
       "    </tr>\n",
       "    <tr>\n",
       "      <th>151</th>\n",
       "      <td>var154</td>\n",
       "      <td>21</td>\n",
       "    </tr>\n",
       "    <tr>\n",
       "      <th>107</th>\n",
       "      <td>var110</td>\n",
       "      <td>12</td>\n",
       "    </tr>\n",
       "    <tr>\n",
       "      <th>148</th>\n",
       "      <td>var151</td>\n",
       "      <td>12</td>\n",
       "    </tr>\n",
       "    <tr>\n",
       "      <th>17</th>\n",
       "      <td>var17</td>\n",
       "      <td>11</td>\n",
       "    </tr>\n",
       "    <tr>\n",
       "      <th>102</th>\n",
       "      <td>var105</td>\n",
       "      <td>11</td>\n",
       "    </tr>\n",
       "    <tr>\n",
       "      <th>86</th>\n",
       "      <td>var87</td>\n",
       "      <td>9</td>\n",
       "    </tr>\n",
       "    <tr>\n",
       "      <th>7</th>\n",
       "      <td>var7</td>\n",
       "      <td>9</td>\n",
       "    </tr>\n",
       "    <tr>\n",
       "      <th>103</th>\n",
       "      <td>var106</td>\n",
       "      <td>9</td>\n",
       "    </tr>\n",
       "    <tr>\n",
       "      <th>149</th>\n",
       "      <td>var152</td>\n",
       "      <td>9</td>\n",
       "    </tr>\n",
       "    <tr>\n",
       "      <th>60</th>\n",
       "      <td>var61</td>\n",
       "      <td>8</td>\n",
       "    </tr>\n",
       "    <tr>\n",
       "      <th>83</th>\n",
       "      <td>var84</td>\n",
       "      <td>8</td>\n",
       "    </tr>\n",
       "    <tr>\n",
       "      <th>99</th>\n",
       "      <td>var100</td>\n",
       "      <td>8</td>\n",
       "    </tr>\n",
       "    <tr>\n",
       "      <th>42</th>\n",
       "      <td>var43</td>\n",
       "      <td>8</td>\n",
       "    </tr>\n",
       "    <tr>\n",
       "      <th>57</th>\n",
       "      <td>var58</td>\n",
       "      <td>8</td>\n",
       "    </tr>\n",
       "    <tr>\n",
       "      <th>61</th>\n",
       "      <td>var62</td>\n",
       "      <td>8</td>\n",
       "    </tr>\n",
       "  </tbody>\n",
       "</table>\n",
       "</div>"
      ],
      "text/plain": [
       "          name  weight\n",
       "44       var45      54\n",
       "1    client_id      40\n",
       "38       var39      38\n",
       "73       var74      33\n",
       "40       var41      24\n",
       "151     var154      21\n",
       "107     var110      12\n",
       "148     var151      12\n",
       "17       var17      11\n",
       "102     var105      11\n",
       "86       var87       9\n",
       "7         var7       9\n",
       "103     var106       9\n",
       "149     var152       9\n",
       "60       var61       8\n",
       "83       var84       8\n",
       "99      var100       8\n",
       "42       var43       8\n",
       "57       var58       8\n",
       "61       var62       8"
      ]
     },
     "execution_count": 135,
     "metadata": {},
     "output_type": "execute_result"
    }
   ],
   "source": [
    "weights.sort_values(by='weight',ascending=False)[:20]"
   ]
  },
  {
   "cell_type": "code",
   "execution_count": 136,
   "metadata": {},
   "outputs": [
    {
     "data": {
      "text/html": [
       "\n",
       "    <style>\n",
       "    table.eli5-weights tr:hover {\n",
       "        filter: brightness(85%);\n",
       "    }\n",
       "</style>\n",
       "\n",
       "\n",
       "\n",
       "    \n",
       "\n",
       "    \n",
       "\n",
       "    \n",
       "\n",
       "    \n",
       "\n",
       "    \n",
       "\n",
       "    \n",
       "\n",
       "\n",
       "    \n",
       "\n",
       "    \n",
       "\n",
       "    \n",
       "\n",
       "    \n",
       "\n",
       "    \n",
       "\n",
       "    \n",
       "\n",
       "\n",
       "    \n",
       "\n",
       "    \n",
       "\n",
       "    \n",
       "\n",
       "    \n",
       "\n",
       "    \n",
       "        <table class=\"eli5-weights eli5-feature-importances\" style=\"border-collapse: collapse; border: none; margin-top: 0em; table-layout: auto;\">\n",
       "    <thead>\n",
       "    <tr style=\"border: none;\">\n",
       "        <th style=\"padding: 0 1em 0 0.5em; text-align: right; border: none;\">Weight</th>\n",
       "        <th style=\"padding: 0 0.5em 0 0.5em; text-align: left; border: none;\">Feature</th>\n",
       "    </tr>\n",
       "    </thead>\n",
       "    <tbody>\n",
       "    \n",
       "        <tr style=\"background-color: hsl(120, 100.00%, 80.00%); border: none;\">\n",
       "            <td style=\"padding: 0 1em 0 0.5em; text-align: right; border: none;\">\n",
       "                0.3028\n",
       "                \n",
       "            </td>\n",
       "            <td style=\"padding: 0 0.5em 0 0.5em; text-align: left; border: none;\">\n",
       "                client_id\n",
       "            </td>\n",
       "        </tr>\n",
       "    \n",
       "        <tr style=\"background-color: hsl(120, 100.00%, 89.30%); border: none;\">\n",
       "            <td style=\"padding: 0 1em 0 0.5em; text-align: right; border: none;\">\n",
       "                0.1240\n",
       "                \n",
       "            </td>\n",
       "            <td style=\"padding: 0 0.5em 0 0.5em; text-align: left; border: none;\">\n",
       "                var45\n",
       "            </td>\n",
       "        </tr>\n",
       "    \n",
       "        <tr style=\"background-color: hsl(120, 100.00%, 90.47%); border: none;\">\n",
       "            <td style=\"padding: 0 1em 0 0.5em; text-align: right; border: none;\">\n",
       "                0.1051\n",
       "                \n",
       "            </td>\n",
       "            <td style=\"padding: 0 0.5em 0 0.5em; text-align: left; border: none;\">\n",
       "                var152\n",
       "            </td>\n",
       "        </tr>\n",
       "    \n",
       "        <tr style=\"background-color: hsl(120, 100.00%, 91.93%); border: none;\">\n",
       "            <td style=\"padding: 0 1em 0 0.5em; text-align: right; border: none;\">\n",
       "                0.0828\n",
       "                \n",
       "            </td>\n",
       "            <td style=\"padding: 0 0.5em 0 0.5em; text-align: left; border: none;\">\n",
       "                var74\n",
       "            </td>\n",
       "        </tr>\n",
       "    \n",
       "        <tr style=\"background-color: hsl(120, 100.00%, 93.93%); border: none;\">\n",
       "            <td style=\"padding: 0 1em 0 0.5em; text-align: right; border: none;\">\n",
       "                0.0552\n",
       "                \n",
       "            </td>\n",
       "            <td style=\"padding: 0 0.5em 0 0.5em; text-align: left; border: none;\">\n",
       "                var39\n",
       "            </td>\n",
       "        </tr>\n",
       "    \n",
       "        <tr style=\"background-color: hsl(120, 100.00%, 95.07%); border: none;\">\n",
       "            <td style=\"padding: 0 1em 0 0.5em; text-align: right; border: none;\">\n",
       "                0.0410\n",
       "                \n",
       "            </td>\n",
       "            <td style=\"padding: 0 0.5em 0 0.5em; text-align: left; border: none;\">\n",
       "                var41\n",
       "            </td>\n",
       "        </tr>\n",
       "    \n",
       "        <tr style=\"background-color: hsl(120, 100.00%, 96.33%); border: none;\">\n",
       "            <td style=\"padding: 0 1em 0 0.5em; text-align: right; border: none;\">\n",
       "                0.0269\n",
       "                \n",
       "            </td>\n",
       "            <td style=\"padding: 0 0.5em 0 0.5em; text-align: left; border: none;\">\n",
       "                var154\n",
       "            </td>\n",
       "        </tr>\n",
       "    \n",
       "        <tr style=\"background-color: hsl(120, 100.00%, 96.52%); border: none;\">\n",
       "            <td style=\"padding: 0 1em 0 0.5em; text-align: right; border: none;\">\n",
       "                0.0249\n",
       "                \n",
       "            </td>\n",
       "            <td style=\"padding: 0 0.5em 0 0.5em; text-align: left; border: none;\">\n",
       "                var13\n",
       "            </td>\n",
       "        </tr>\n",
       "    \n",
       "        <tr style=\"background-color: hsl(120, 100.00%, 97.05%); border: none;\">\n",
       "            <td style=\"padding: 0 1em 0 0.5em; text-align: right; border: none;\">\n",
       "                0.0197\n",
       "                \n",
       "            </td>\n",
       "            <td style=\"padding: 0 0.5em 0 0.5em; text-align: left; border: none;\">\n",
       "                var151\n",
       "            </td>\n",
       "        </tr>\n",
       "    \n",
       "        <tr style=\"background-color: hsl(120, 100.00%, 97.13%); border: none;\">\n",
       "            <td style=\"padding: 0 1em 0 0.5em; text-align: right; border: none;\">\n",
       "                0.0189\n",
       "                \n",
       "            </td>\n",
       "            <td style=\"padding: 0 0.5em 0 0.5em; text-align: left; border: none;\">\n",
       "                var109\n",
       "            </td>\n",
       "        </tr>\n",
       "    \n",
       "    \n",
       "        \n",
       "            <tr style=\"background-color: hsl(120, 100.00%, 97.13%); border: none;\">\n",
       "                <td colspan=\"2\" style=\"padding: 0 0.5em 0 0.5em; text-align: center; border: none; white-space: nowrap;\">\n",
       "                    <i>&hellip; 144 more &hellip;</i>\n",
       "                </td>\n",
       "            </tr>\n",
       "        \n",
       "    \n",
       "    </tbody>\n",
       "</table>\n",
       "    \n",
       "\n",
       "    \n",
       "\n",
       "\n",
       "    \n",
       "\n",
       "    \n",
       "\n",
       "    \n",
       "\n",
       "    \n",
       "\n",
       "    \n",
       "\n",
       "    \n",
       "\n",
       "\n",
       "\n"
      ],
      "text/plain": [
       "<IPython.core.display.HTML object>"
      ]
     },
     "execution_count": 136,
     "metadata": {},
     "output_type": "execute_result"
    }
   ],
   "source": [
    "eli5.show_weights(clf, top=10,\n",
    "                  feature_filter=lambda x: x != '<BIAS>')"
   ]
  },
  {
   "cell_type": "code",
   "execution_count": 137,
   "metadata": {},
   "outputs": [
    {
     "data": {
      "text/plain": [
       "149"
      ]
     },
     "execution_count": 137,
     "metadata": {},
     "output_type": "execute_result"
    }
   ],
   "source": [
    "len(train.var74.unique())"
   ]
  },
  {
   "cell_type": "code",
   "execution_count": 138,
   "metadata": {},
   "outputs": [
    {
     "data": {
      "text/html": [
       "<div>\n",
       "<style scoped>\n",
       "    .dataframe tbody tr th:only-of-type {\n",
       "        vertical-align: middle;\n",
       "    }\n",
       "\n",
       "    .dataframe tbody tr th {\n",
       "        vertical-align: top;\n",
       "    }\n",
       "\n",
       "    .dataframe thead th {\n",
       "        text-align: right;\n",
       "    }\n",
       "</style>\n",
       "<table border=\"1\" class=\"dataframe\">\n",
       "  <thead>\n",
       "    <tr style=\"text-align: right;\">\n",
       "      <th>var74</th>\n",
       "      <th>AG Neovo</th>\n",
       "      <th>AOL</th>\n",
       "      <th>AT&amp;T</th>\n",
       "      <th>Acer</th>\n",
       "      <th>Adcom</th>\n",
       "      <th>Advan</th>\n",
       "      <th>Advent</th>\n",
       "      <th>Alcatel</th>\n",
       "      <th>Amazon</th>\n",
       "      <th>Apple</th>\n",
       "      <th>...</th>\n",
       "      <th>Wileyfox</th>\n",
       "      <th>Xiaomi</th>\n",
       "      <th>Yandex</th>\n",
       "      <th>Yota Devices</th>\n",
       "      <th>Yuntab</th>\n",
       "      <th>ZTE</th>\n",
       "      <th>Zifro</th>\n",
       "      <th>bq</th>\n",
       "      <th>iNew</th>\n",
       "      <th>iView</th>\n",
       "    </tr>\n",
       "    <tr>\n",
       "      <th>dep_var</th>\n",
       "      <th></th>\n",
       "      <th></th>\n",
       "      <th></th>\n",
       "      <th></th>\n",
       "      <th></th>\n",
       "      <th></th>\n",
       "      <th></th>\n",
       "      <th></th>\n",
       "      <th></th>\n",
       "      <th></th>\n",
       "      <th></th>\n",
       "      <th></th>\n",
       "      <th></th>\n",
       "      <th></th>\n",
       "      <th></th>\n",
       "      <th></th>\n",
       "      <th></th>\n",
       "      <th></th>\n",
       "      <th></th>\n",
       "      <th></th>\n",
       "      <th></th>\n",
       "    </tr>\n",
       "  </thead>\n",
       "  <tbody>\n",
       "    <tr>\n",
       "      <th>0.0</th>\n",
       "      <td>1</td>\n",
       "      <td>78</td>\n",
       "      <td>1</td>\n",
       "      <td>10</td>\n",
       "      <td>2</td>\n",
       "      <td>0</td>\n",
       "      <td>6</td>\n",
       "      <td>228</td>\n",
       "      <td>0</td>\n",
       "      <td>1690</td>\n",
       "      <td>...</td>\n",
       "      <td>8</td>\n",
       "      <td>84</td>\n",
       "      <td>2279</td>\n",
       "      <td>1</td>\n",
       "      <td>0</td>\n",
       "      <td>242</td>\n",
       "      <td>0</td>\n",
       "      <td>2</td>\n",
       "      <td>0</td>\n",
       "      <td>1</td>\n",
       "    </tr>\n",
       "    <tr>\n",
       "      <th>1.0</th>\n",
       "      <td>1</td>\n",
       "      <td>63</td>\n",
       "      <td>1</td>\n",
       "      <td>6</td>\n",
       "      <td>2</td>\n",
       "      <td>2</td>\n",
       "      <td>4</td>\n",
       "      <td>220</td>\n",
       "      <td>1</td>\n",
       "      <td>605</td>\n",
       "      <td>...</td>\n",
       "      <td>5</td>\n",
       "      <td>18</td>\n",
       "      <td>1435</td>\n",
       "      <td>0</td>\n",
       "      <td>2</td>\n",
       "      <td>243</td>\n",
       "      <td>1</td>\n",
       "      <td>4</td>\n",
       "      <td>1</td>\n",
       "      <td>1</td>\n",
       "    </tr>\n",
       "  </tbody>\n",
       "</table>\n",
       "<p>2 rows × 148 columns</p>\n",
       "</div>"
      ],
      "text/plain": [
       "var74    AG Neovo  AOL  AT&T  Acer  Adcom  Advan  Advent  Alcatel  Amazon  \\\n",
       "dep_var                                                                     \n",
       "0.0             1   78     1    10      2      0       6      228       0   \n",
       "1.0             1   63     1     6      2      2       4      220       1   \n",
       "\n",
       "var74    Apple  ...  Wileyfox  Xiaomi  Yandex  Yota Devices  Yuntab  ZTE  \\\n",
       "dep_var         ...                                                        \n",
       "0.0       1690  ...         8      84    2279             1       0  242   \n",
       "1.0        605  ...         5      18    1435             0       2  243   \n",
       "\n",
       "var74    Zifro  bq  iNew  iView  \n",
       "dep_var                          \n",
       "0.0          0   2     0      1  \n",
       "1.0          1   4     1      1  \n",
       "\n",
       "[2 rows x 148 columns]"
      ]
     },
     "execution_count": 138,
     "metadata": {},
     "output_type": "execute_result"
    }
   ],
   "source": [
    "pd.crosstab(df['dep_var'], df['var74'])"
   ]
  },
  {
   "cell_type": "code",
   "execution_count": 139,
   "metadata": {},
   "outputs": [],
   "source": [
    "top_var74 = train.var74.value_counts().head(40).index"
   ]
  },
  {
   "cell_type": "code",
   "execution_count": 140,
   "metadata": {},
   "outputs": [],
   "source": [
    "for v in top_var74:\n",
    "    train['var74_' + str(v).replace(' ','')] = train['var74'].apply(lambda x: 1 if str(v) in str(x) else 0)"
   ]
  },
  {
   "cell_type": "code",
   "execution_count": 141,
   "metadata": {},
   "outputs": [
    {
     "data": {
      "text/html": [
       "<div>\n",
       "<style scoped>\n",
       "    .dataframe tbody tr th:only-of-type {\n",
       "        vertical-align: middle;\n",
       "    }\n",
       "\n",
       "    .dataframe tbody tr th {\n",
       "        vertical-align: top;\n",
       "    }\n",
       "\n",
       "    .dataframe thead th {\n",
       "        text-align: right;\n",
       "    }\n",
       "</style>\n",
       "<table border=\"1\" class=\"dataframe\">\n",
       "  <thead>\n",
       "    <tr style=\"text-align: right;\">\n",
       "      <th></th>\n",
       "      <th>account_id</th>\n",
       "      <th>client_id</th>\n",
       "      <th>dep_var</th>\n",
       "      <th>var1</th>\n",
       "      <th>var3</th>\n",
       "      <th>var4</th>\n",
       "      <th>var5</th>\n",
       "      <th>var6</th>\n",
       "      <th>var7</th>\n",
       "      <th>var8</th>\n",
       "      <th>...</th>\n",
       "      <th>var74_36</th>\n",
       "      <th>var74_18</th>\n",
       "      <th>var74_27</th>\n",
       "      <th>var74_41</th>\n",
       "      <th>var74_72</th>\n",
       "      <th>var74_29</th>\n",
       "      <th>var74_34</th>\n",
       "      <th>var74_23</th>\n",
       "      <th>var74_37</th>\n",
       "      <th>var74_49</th>\n",
       "    </tr>\n",
       "  </thead>\n",
       "  <tbody>\n",
       "    <tr>\n",
       "      <th>1</th>\n",
       "      <td>0</td>\n",
       "      <td>211807</td>\n",
       "      <td>0.0</td>\n",
       "      <td>1.0</td>\n",
       "      <td>1.0</td>\n",
       "      <td>1.0</td>\n",
       "      <td>1</td>\n",
       "      <td>0</td>\n",
       "      <td>1</td>\n",
       "      <td>0</td>\n",
       "      <td>...</td>\n",
       "      <td>0</td>\n",
       "      <td>0</td>\n",
       "      <td>0</td>\n",
       "      <td>0</td>\n",
       "      <td>0</td>\n",
       "      <td>0</td>\n",
       "      <td>0</td>\n",
       "      <td>0</td>\n",
       "      <td>0</td>\n",
       "      <td>0</td>\n",
       "    </tr>\n",
       "    <tr>\n",
       "      <th>3</th>\n",
       "      <td>0</td>\n",
       "      <td>193611</td>\n",
       "      <td>0.0</td>\n",
       "      <td>NaN</td>\n",
       "      <td>NaN</td>\n",
       "      <td>NaN</td>\n",
       "      <td>1</td>\n",
       "      <td>0</td>\n",
       "      <td>1</td>\n",
       "      <td>0</td>\n",
       "      <td>...</td>\n",
       "      <td>0</td>\n",
       "      <td>0</td>\n",
       "      <td>0</td>\n",
       "      <td>0</td>\n",
       "      <td>0</td>\n",
       "      <td>0</td>\n",
       "      <td>0</td>\n",
       "      <td>0</td>\n",
       "      <td>0</td>\n",
       "      <td>0</td>\n",
       "    </tr>\n",
       "    <tr>\n",
       "      <th>10</th>\n",
       "      <td>0</td>\n",
       "      <td>211812</td>\n",
       "      <td>0.0</td>\n",
       "      <td>1.0</td>\n",
       "      <td>1.0</td>\n",
       "      <td>1.0</td>\n",
       "      <td>1</td>\n",
       "      <td>0</td>\n",
       "      <td>1</td>\n",
       "      <td>0</td>\n",
       "      <td>...</td>\n",
       "      <td>0</td>\n",
       "      <td>0</td>\n",
       "      <td>0</td>\n",
       "      <td>0</td>\n",
       "      <td>0</td>\n",
       "      <td>0</td>\n",
       "      <td>0</td>\n",
       "      <td>0</td>\n",
       "      <td>0</td>\n",
       "      <td>0</td>\n",
       "    </tr>\n",
       "    <tr>\n",
       "      <th>11</th>\n",
       "      <td>0</td>\n",
       "      <td>211814</td>\n",
       "      <td>0.0</td>\n",
       "      <td>1.0</td>\n",
       "      <td>1.0</td>\n",
       "      <td>1.0</td>\n",
       "      <td>1</td>\n",
       "      <td>1</td>\n",
       "      <td>1</td>\n",
       "      <td>0</td>\n",
       "      <td>...</td>\n",
       "      <td>0</td>\n",
       "      <td>0</td>\n",
       "      <td>0</td>\n",
       "      <td>0</td>\n",
       "      <td>0</td>\n",
       "      <td>0</td>\n",
       "      <td>0</td>\n",
       "      <td>0</td>\n",
       "      <td>0</td>\n",
       "      <td>0</td>\n",
       "    </tr>\n",
       "    <tr>\n",
       "      <th>13</th>\n",
       "      <td>0</td>\n",
       "      <td>56232</td>\n",
       "      <td>0.0</td>\n",
       "      <td>1.0</td>\n",
       "      <td>1.0</td>\n",
       "      <td>1.0</td>\n",
       "      <td>1</td>\n",
       "      <td>0</td>\n",
       "      <td>1</td>\n",
       "      <td>0</td>\n",
       "      <td>...</td>\n",
       "      <td>0</td>\n",
       "      <td>0</td>\n",
       "      <td>0</td>\n",
       "      <td>0</td>\n",
       "      <td>0</td>\n",
       "      <td>0</td>\n",
       "      <td>0</td>\n",
       "      <td>0</td>\n",
       "      <td>0</td>\n",
       "      <td>0</td>\n",
       "    </tr>\n",
       "  </tbody>\n",
       "</table>\n",
       "<p>5 rows × 195 columns</p>\n",
       "</div>"
      ],
      "text/plain": [
       "    account_id  client_id  dep_var  var1  var3  var4  var5  var6  var7  var8  \\\n",
       "1            0     211807      0.0   1.0   1.0   1.0     1     0     1     0   \n",
       "3            0     193611      0.0   NaN   NaN   NaN     1     0     1     0   \n",
       "10           0     211812      0.0   1.0   1.0   1.0     1     0     1     0   \n",
       "11           0     211814      0.0   1.0   1.0   1.0     1     1     1     0   \n",
       "13           0      56232      0.0   1.0   1.0   1.0     1     0     1     0   \n",
       "\n",
       "    ...  var74_36  var74_18  var74_27  var74_41  var74_72  var74_29  var74_34  \\\n",
       "1   ...         0         0         0         0         0         0         0   \n",
       "3   ...         0         0         0         0         0         0         0   \n",
       "10  ...         0         0         0         0         0         0         0   \n",
       "11  ...         0         0         0         0         0         0         0   \n",
       "13  ...         0         0         0         0         0         0         0   \n",
       "\n",
       "    var74_23  var74_37  var74_49  \n",
       "1          0         0         0  \n",
       "3          0         0         0  \n",
       "10         0         0         0  \n",
       "11         0         0         0  \n",
       "13         0         0         0  \n",
       "\n",
       "[5 rows x 195 columns]"
      ]
     },
     "execution_count": 141,
     "metadata": {},
     "output_type": "execute_result"
    }
   ],
   "source": [
    "train.head()"
   ]
  },
  {
   "cell_type": "code",
   "execution_count": 142,
   "metadata": {},
   "outputs": [],
   "source": [
    "train = train.drop(columns=['var74'])"
   ]
  },
  {
   "cell_type": "code",
   "execution_count": 143,
   "metadata": {},
   "outputs": [],
   "source": [
    "cv_score6 = cv_meth(train.drop(columns=['dep_var']),y,model=LGBMClassifier(n_estimators=30,max_depth=4),fillna=-1)"
   ]
  },
  {
   "cell_type": "code",
   "execution_count": 144,
   "metadata": {},
   "outputs": [],
   "source": [
    "train6 = train"
   ]
  },
  {
   "cell_type": "code",
   "execution_count": 145,
   "metadata": {},
   "outputs": [],
   "source": [
    "df_scores = df_scores.append({'model':'LGBMClassifier','score':np.mean(cv_score6), 'metric':'roc_auc',\n",
    "                              'parameters':'n_estimators=30,max_depth=4',\n",
    "                              'commit':'CV 5 folds; determinate labels; test_cr_performance, drop test_cr_decision; time features; var74; fillna=-1',\n",
    "                              'time':datetime.now(),\n",
    "                              'variables':'train6,cv_score6'},ignore_index = True)"
   ]
  },
  {
   "cell_type": "code",
   "execution_count": 146,
   "metadata": {},
   "outputs": [
    {
     "data": {
      "text/html": [
       "<div>\n",
       "<style scoped>\n",
       "    .dataframe tbody tr th:only-of-type {\n",
       "        vertical-align: middle;\n",
       "    }\n",
       "\n",
       "    .dataframe tbody tr th {\n",
       "        vertical-align: top;\n",
       "    }\n",
       "\n",
       "    .dataframe thead th {\n",
       "        text-align: right;\n",
       "    }\n",
       "</style>\n",
       "<table border=\"1\" class=\"dataframe\">\n",
       "  <thead>\n",
       "    <tr style=\"text-align: right;\">\n",
       "      <th></th>\n",
       "      <th>account_id</th>\n",
       "      <th>client_id</th>\n",
       "      <th>dep_var</th>\n",
       "      <th>var1</th>\n",
       "      <th>var3</th>\n",
       "      <th>var4</th>\n",
       "      <th>var5</th>\n",
       "      <th>var6</th>\n",
       "      <th>var7</th>\n",
       "      <th>var8</th>\n",
       "      <th>...</th>\n",
       "      <th>var74_36</th>\n",
       "      <th>var74_18</th>\n",
       "      <th>var74_27</th>\n",
       "      <th>var74_41</th>\n",
       "      <th>var74_72</th>\n",
       "      <th>var74_29</th>\n",
       "      <th>var74_34</th>\n",
       "      <th>var74_23</th>\n",
       "      <th>var74_37</th>\n",
       "      <th>var74_49</th>\n",
       "    </tr>\n",
       "  </thead>\n",
       "  <tbody>\n",
       "    <tr>\n",
       "      <th>1</th>\n",
       "      <td>0</td>\n",
       "      <td>211807</td>\n",
       "      <td>0.0</td>\n",
       "      <td>1.0</td>\n",
       "      <td>1.0</td>\n",
       "      <td>1.0</td>\n",
       "      <td>1</td>\n",
       "      <td>0</td>\n",
       "      <td>1</td>\n",
       "      <td>0</td>\n",
       "      <td>...</td>\n",
       "      <td>0</td>\n",
       "      <td>0</td>\n",
       "      <td>0</td>\n",
       "      <td>0</td>\n",
       "      <td>0</td>\n",
       "      <td>0</td>\n",
       "      <td>0</td>\n",
       "      <td>0</td>\n",
       "      <td>0</td>\n",
       "      <td>0</td>\n",
       "    </tr>\n",
       "    <tr>\n",
       "      <th>3</th>\n",
       "      <td>0</td>\n",
       "      <td>193611</td>\n",
       "      <td>0.0</td>\n",
       "      <td>NaN</td>\n",
       "      <td>NaN</td>\n",
       "      <td>NaN</td>\n",
       "      <td>1</td>\n",
       "      <td>0</td>\n",
       "      <td>1</td>\n",
       "      <td>0</td>\n",
       "      <td>...</td>\n",
       "      <td>0</td>\n",
       "      <td>0</td>\n",
       "      <td>0</td>\n",
       "      <td>0</td>\n",
       "      <td>0</td>\n",
       "      <td>0</td>\n",
       "      <td>0</td>\n",
       "      <td>0</td>\n",
       "      <td>0</td>\n",
       "      <td>0</td>\n",
       "    </tr>\n",
       "    <tr>\n",
       "      <th>10</th>\n",
       "      <td>0</td>\n",
       "      <td>211812</td>\n",
       "      <td>0.0</td>\n",
       "      <td>1.0</td>\n",
       "      <td>1.0</td>\n",
       "      <td>1.0</td>\n",
       "      <td>1</td>\n",
       "      <td>0</td>\n",
       "      <td>1</td>\n",
       "      <td>0</td>\n",
       "      <td>...</td>\n",
       "      <td>0</td>\n",
       "      <td>0</td>\n",
       "      <td>0</td>\n",
       "      <td>0</td>\n",
       "      <td>0</td>\n",
       "      <td>0</td>\n",
       "      <td>0</td>\n",
       "      <td>0</td>\n",
       "      <td>0</td>\n",
       "      <td>0</td>\n",
       "    </tr>\n",
       "    <tr>\n",
       "      <th>11</th>\n",
       "      <td>0</td>\n",
       "      <td>211814</td>\n",
       "      <td>0.0</td>\n",
       "      <td>1.0</td>\n",
       "      <td>1.0</td>\n",
       "      <td>1.0</td>\n",
       "      <td>1</td>\n",
       "      <td>1</td>\n",
       "      <td>1</td>\n",
       "      <td>0</td>\n",
       "      <td>...</td>\n",
       "      <td>0</td>\n",
       "      <td>0</td>\n",
       "      <td>0</td>\n",
       "      <td>0</td>\n",
       "      <td>0</td>\n",
       "      <td>0</td>\n",
       "      <td>0</td>\n",
       "      <td>0</td>\n",
       "      <td>0</td>\n",
       "      <td>0</td>\n",
       "    </tr>\n",
       "    <tr>\n",
       "      <th>13</th>\n",
       "      <td>0</td>\n",
       "      <td>56232</td>\n",
       "      <td>0.0</td>\n",
       "      <td>1.0</td>\n",
       "      <td>1.0</td>\n",
       "      <td>1.0</td>\n",
       "      <td>1</td>\n",
       "      <td>0</td>\n",
       "      <td>1</td>\n",
       "      <td>0</td>\n",
       "      <td>...</td>\n",
       "      <td>0</td>\n",
       "      <td>0</td>\n",
       "      <td>0</td>\n",
       "      <td>0</td>\n",
       "      <td>0</td>\n",
       "      <td>0</td>\n",
       "      <td>0</td>\n",
       "      <td>0</td>\n",
       "      <td>0</td>\n",
       "      <td>0</td>\n",
       "    </tr>\n",
       "  </tbody>\n",
       "</table>\n",
       "<p>5 rows × 194 columns</p>\n",
       "</div>"
      ],
      "text/plain": [
       "    account_id  client_id  dep_var  var1  var3  var4  var5  var6  var7  var8  \\\n",
       "1            0     211807      0.0   1.0   1.0   1.0     1     0     1     0   \n",
       "3            0     193611      0.0   NaN   NaN   NaN     1     0     1     0   \n",
       "10           0     211812      0.0   1.0   1.0   1.0     1     0     1     0   \n",
       "11           0     211814      0.0   1.0   1.0   1.0     1     1     1     0   \n",
       "13           0      56232      0.0   1.0   1.0   1.0     1     0     1     0   \n",
       "\n",
       "    ...  var74_36  var74_18  var74_27  var74_41  var74_72  var74_29  var74_34  \\\n",
       "1   ...         0         0         0         0         0         0         0   \n",
       "3   ...         0         0         0         0         0         0         0   \n",
       "10  ...         0         0         0         0         0         0         0   \n",
       "11  ...         0         0         0         0         0         0         0   \n",
       "13  ...         0         0         0         0         0         0         0   \n",
       "\n",
       "    var74_23  var74_37  var74_49  \n",
       "1          0         0         0  \n",
       "3          0         0         0  \n",
       "10         0         0         0  \n",
       "11         0         0         0  \n",
       "13         0         0         0  \n",
       "\n",
       "[5 rows x 194 columns]"
      ]
     },
     "execution_count": 146,
     "metadata": {},
     "output_type": "execute_result"
    }
   ],
   "source": [
    "train.head()"
   ]
  },
  {
   "cell_type": "markdown",
   "metadata": {},
   "source": [
    "VAR41"
   ]
  },
  {
   "cell_type": "code",
   "execution_count": 147,
   "metadata": {},
   "outputs": [
    {
     "data": {
      "text/plain": [
       "1     19.0\n",
       "3      NaN\n",
       "10    35.0\n",
       "11    75.0\n",
       "13    22.0\n",
       "Name: var41, dtype: float64"
      ]
     },
     "execution_count": 147,
     "metadata": {},
     "output_type": "execute_result"
    }
   ],
   "source": [
    "train.var41.head()"
   ]
  },
  {
   "cell_type": "code",
   "execution_count": 148,
   "metadata": {},
   "outputs": [
    {
     "data": {
      "text/plain": [
       "<matplotlib.axes._subplots.AxesSubplot at 0x7f167585c1d0>"
      ]
     },
     "execution_count": 148,
     "metadata": {},
     "output_type": "execute_result"
    },
    {
     "data": {
      "image/png": "[encoded data removed]",
      "text/plain": [
       "<Figure size 432x288 with 1 Axes>"
      ]
     },
     "metadata": {
      "needs_background": "light"
     },
     "output_type": "display_data"
    }
   ],
   "source": [
    "sns.distplot(train.var41.fillna(train.var41.sum()/train.shape[0]))"
   ]
  },
  {
   "cell_type": "code",
   "execution_count": 149,
   "metadata": {},
   "outputs": [
    {
     "data": {
      "text/plain": [
       "<matplotlib.axes._subplots.AxesSubplot at 0x7f1675bdc710>"
      ]
     },
     "execution_count": 149,
     "metadata": {},
     "output_type": "execute_result"
    },
    {
     "data": {
      "image/png": "[encoded data removed]",
      "text/plain": [
       "<Figure size 432x288 with 1 Axes>"
      ]
     },
     "metadata": {
      "needs_background": "light"
     },
     "output_type": "display_data"
    }
   ],
   "source": [
    "sns.boxplot(train.var41.fillna(train.var41.sum()/train.shape[0]))"
   ]
  },
  {
   "cell_type": "code",
   "execution_count": 185,
   "metadata": {},
   "outputs": [],
   "source": [
    "ss =StandardScaler()\n",
    "train.var41 = train.var41.fillna(train.var41.median()) \n",
    "scale_var41 = ss.fit_transform(train.var41.values.reshape(-1,1))"
   ]
  },
  {
   "cell_type": "code",
   "execution_count": 151,
   "metadata": {},
   "outputs": [
    {
     "data": {
      "text/plain": [
       "(-2606305.7024189997, 2045652.927521)"
      ]
     },
     "execution_count": 151,
     "metadata": {},
     "output_type": "execute_result"
    }
   ],
   "source": [
    "train.var41.sort_values().values[0],train.var41.sort_values().values[-1]"
   ]
  },
  {
   "cell_type": "code",
   "execution_count": 163,
   "metadata": {},
   "outputs": [],
   "source": [
    "large_ind = np.concatenate( [train[(train.var41>2000000)].index,train[(train.var41<-2000000)].index])"
   ]
  },
  {
   "cell_type": "code",
   "execution_count": 161,
   "metadata": {},
   "outputs": [],
   "source": [
    "test_train = train.drop(index=large_ind)"
   ]
  },
  {
   "cell_type": "code",
   "execution_count": 164,
   "metadata": {},
   "outputs": [
    {
     "name": "stdout",
     "output_type": "stream",
     "text": [
      "0.5656101994976379\n"
     ]
    }
   ],
   "source": [
    "cv_score7_2 = cv_meth(test_train.drop(\n",
    "    columns=['dep_var']),y.drop(index=large_ind),model=LGBMClassifier(n_estimators=30,max_depth=4),fillna=-1)\n",
    "print(cv_score7_2)"
   ]
  },
  {
   "cell_type": "code",
   "execution_count": 167,
   "metadata": {},
   "outputs": [
    {
     "name": "stdout",
     "output_type": "stream",
     "text": [
      "0.5656101994976379\n"
     ]
    }
   ],
   "source": [
    "cv_score7_3 = cv_meth(test_train.drop(columns=['dep_var']),y.drop(\n",
    "    index=large_ind),model=LGBMClassifier(n_estimators=30,max_depth=4),fillna=X[col].median())\n",
    "print(cv_score7_3)"
   ]
  },
  {
   "cell_type": "code",
   "execution_count": 183,
   "metadata": {},
   "outputs": [],
   "source": [
    "cv_score7_4 = cv_with_scale(test_train,y.drop(index=large_ind),['var41'])"
   ]
  },
  {
   "cell_type": "code",
   "execution_count": 186,
   "metadata": {},
   "outputs": [
    {
     "data": {
      "text/plain": [
       "<matplotlib.axes._subplots.AxesSubplot at 0x7f1673ae28d0>"
      ]
     },
     "execution_count": 186,
     "metadata": {},
     "output_type": "execute_result"
    },
    {
     "data": {
      "image/png": "[encoded data removed]",
      "text/plain": [
       "<Figure size 432x288 with 1 Axes>"
      ]
     },
     "metadata": {
      "needs_background": "light"
     },
     "output_type": "display_data"
    }
   ],
   "source": [
    "sns.distplot(scale_var41)"
   ]
  },
  {
   "cell_type": "markdown",
   "metadata": {},
   "source": [
    "Categorical"
   ]
  },
  {
   "cell_type": "code",
   "execution_count": 187,
   "metadata": {},
   "outputs": [],
   "source": [
    "train[object_feat] = train[object_feat].fillna('unknown')"
   ]
  },
  {
   "cell_type": "code",
   "execution_count": 188,
   "metadata": {},
   "outputs": [],
   "source": [
    "for col in object_feat:\n",
    "    print(\"Weight:\",col,weights[weights['name'] == col]['weight'].values)"
   ]
  },
  {
   "cell_type": "code",
   "execution_count": 189,
   "metadata": {},
   "outputs": [
    {
     "data": {
      "text/plain": [
       "0    9774\n",
       "1    6122\n",
       "2    3494\n",
       "4    3070\n",
       "3     812\n",
       "5      88\n",
       "6      80\n",
       "7      44\n",
       "8       5\n",
       "9       1\n",
       "Name: var46, dtype: int64"
      ]
     },
     "execution_count": 189,
     "metadata": {},
     "output_type": "execute_result"
    }
   ],
   "source": [
    "train.var46.value_counts()"
   ]
  },
  {
   "cell_type": "code",
   "execution_count": 190,
   "metadata": {},
   "outputs": [
    {
     "data": {
      "text/plain": [
       "array([0, 1, 2, 3, 4, 5, 6, 7, 8, 9])"
      ]
     },
     "execution_count": 190,
     "metadata": {},
     "output_type": "execute_result"
    }
   ],
   "source": [
    "train.var46.unique()"
   ]
  },
  {
   "cell_type": "code",
   "execution_count": 191,
   "metadata": {},
   "outputs": [],
   "source": [
    "vars46 = train.var46.unique()\n",
    "for v in vars46:\n",
    "    train['var46_' + str(v).replace(' ','')] = train['var46'].apply(lambda x: 1 if str(v) in str(x) else 0)"
   ]
  },
  {
   "cell_type": "code",
   "execution_count": 192,
   "metadata": {},
   "outputs": [],
   "source": [
    "train = train.drop(columns=['var46','var41']);"
   ]
  },
  {
   "cell_type": "code",
   "execution_count": 193,
   "metadata": {},
   "outputs": [],
   "source": [
    "cv_score7 = cv_meth(train.drop(columns=['dep_var']),y,model=LGBMClassifier(n_estimators=30,max_depth=4),fillna=-1)"
   ]
  },
  {
   "cell_type": "code",
   "execution_count": 194,
   "metadata": {},
   "outputs": [],
   "source": [
    "train7 = train"
   ]
  },
  {
   "cell_type": "code",
   "execution_count": 195,
   "metadata": {},
   "outputs": [],
   "source": [
    "df_scores = df_scores.append({'model':'LGBMClassifier','score':np.mean(cv_score7), 'metric':'roc_auc',\n",
    "                              'parameters':'n_estimators=30,max_depth=4',\n",
    "                              'commit':'CV 5 folds; determinate labels; test_cr_performance, drop test_cr_decision; time features; var74; fillna=-1; scale var46; var41',\n",
    "                              'time':datetime.now(),\n",
    "                              'variables':'train7,cv_score7'},ignore_index = True)"
   ]
  },
  {
   "cell_type": "markdown",
   "metadata": {},
   "source": [
    "VAR62"
   ]
  },
  {
   "cell_type": "code",
   "execution_count": 197,
   "metadata": {},
   "outputs": [],
   "source": [
    "train = train5"
   ]
  },
  {
   "cell_type": "code",
   "execution_count": 198,
   "metadata": {},
   "outputs": [
    {
     "data": {
      "text/plain": [
       "0    13727\n",
       "1     9762\n",
       "2        1\n",
       "Name: var119, dtype: int64"
      ]
     },
     "execution_count": 198,
     "metadata": {},
     "output_type": "execute_result"
    }
   ],
   "source": [
    "train.var119.value_counts()"
   ]
  },
  {
   "cell_type": "code",
   "execution_count": 199,
   "metadata": {},
   "outputs": [
    {
     "data": {
      "text/plain": [
       "t    35287\n",
       "f        4\n",
       "Name: var119, dtype: int64"
      ]
     },
     "execution_count": 199,
     "metadata": {},
     "output_type": "execute_result"
    }
   ],
   "source": [
    "df.var119.value_counts()"
   ]
  },
  {
   "cell_type": "code",
   "execution_count": 200,
   "metadata": {},
   "outputs": [
    {
     "data": {
      "text/plain": [
       "t    35287\n",
       "f        4\n",
       "Name: var119, dtype: int64"
      ]
     },
     "execution_count": 200,
     "metadata": {},
     "output_type": "execute_result"
    }
   ],
   "source": [
    "df.var119.value_counts()"
   ]
  },
  {
   "cell_type": "code",
   "execution_count": 201,
   "metadata": {},
   "outputs": [
    {
     "data": {
      "text/plain": [
       "array(['t', nan, 'f'], dtype=object)"
      ]
     },
     "execution_count": 201,
     "metadata": {},
     "output_type": "execute_result"
    }
   ],
   "source": [
    "df.var119.unique()"
   ]
  },
  {
   "cell_type": "code",
   "execution_count": 202,
   "metadata": {},
   "outputs": [
    {
     "data": {
      "text/plain": [
       "116    0\n",
       "Name: weight, dtype: int64"
      ]
     },
     "execution_count": 202,
     "metadata": {},
     "output_type": "execute_result"
    }
   ],
   "source": [
    "weights[(weights.name == 'var119')]['weight']"
   ]
  },
  {
   "cell_type": "code",
   "execution_count": 203,
   "metadata": {},
   "outputs": [],
   "source": [
    "w_0_feat = weights[weights['weight'] == 0]['name'].values"
   ]
  },
  {
   "cell_type": "code",
   "execution_count": 204,
   "metadata": {},
   "outputs": [
    {
     "data": {
      "text/plain": [
       "1.0    57455\n",
       "Name: var1, dtype: int64"
      ]
     },
     "execution_count": 204,
     "metadata": {},
     "output_type": "execute_result"
    }
   ],
   "source": [
    "df.var1.value_counts()"
   ]
  },
  {
   "cell_type": "code",
   "execution_count": 205,
   "metadata": {},
   "outputs": [
    {
     "data": {
      "text/html": [
       "<div>\n",
       "<style scoped>\n",
       "    .dataframe tbody tr th:only-of-type {\n",
       "        vertical-align: middle;\n",
       "    }\n",
       "\n",
       "    .dataframe tbody tr th {\n",
       "        vertical-align: top;\n",
       "    }\n",
       "\n",
       "    .dataframe thead th {\n",
       "        text-align: right;\n",
       "    }\n",
       "</style>\n",
       "<table border=\"1\" class=\"dataframe\">\n",
       "  <thead>\n",
       "    <tr style=\"text-align: right;\">\n",
       "      <th>var3</th>\n",
       "      <th>1.0</th>\n",
       "      <th>All</th>\n",
       "    </tr>\n",
       "    <tr>\n",
       "      <th>dep_var</th>\n",
       "      <th></th>\n",
       "      <th></th>\n",
       "    </tr>\n",
       "  </thead>\n",
       "  <tbody>\n",
       "    <tr>\n",
       "      <th>0.0</th>\n",
       "      <td>10492</td>\n",
       "      <td>10492</td>\n",
       "    </tr>\n",
       "    <tr>\n",
       "      <th>1.0</th>\n",
       "      <td>6721</td>\n",
       "      <td>6721</td>\n",
       "    </tr>\n",
       "    <tr>\n",
       "      <th>All</th>\n",
       "      <td>17213</td>\n",
       "      <td>17213</td>\n",
       "    </tr>\n",
       "  </tbody>\n",
       "</table>\n",
       "</div>"
      ],
      "text/plain": [
       "var3       1.0    All\n",
       "dep_var              \n",
       "0.0      10492  10492\n",
       "1.0       6721   6721\n",
       "All      17213  17213"
      ]
     },
     "execution_count": 205,
     "metadata": {},
     "output_type": "execute_result"
    }
   ],
   "source": [
    "pd.crosstab(df['dep_var'], df['var3'], margins=True)"
   ]
  },
  {
   "cell_type": "code",
   "execution_count": 206,
   "metadata": {},
   "outputs": [],
   "source": [
    "train9  = train.drop(columns=w_0_feat)"
   ]
  },
  {
   "cell_type": "code",
   "execution_count": 207,
   "metadata": {},
   "outputs": [],
   "source": [
    "cv_score9 = cv_meth(train9.drop(columns=['dep_var']),y,LGBMClassifier(n_estimators=30,max_depth=4))"
   ]
  },
  {
   "cell_type": "code",
   "execution_count": 208,
   "metadata": {},
   "outputs": [
    {
     "data": {
      "text/plain": [
       "0.5667750120810959"
      ]
     },
     "execution_count": 208,
     "metadata": {},
     "output_type": "execute_result"
    }
   ],
   "source": [
    "cv_score9"
   ]
  },
  {
   "cell_type": "code",
   "execution_count": 209,
   "metadata": {},
   "outputs": [],
   "source": [
    "df_scores = df_scores.append({'model':'LGBMClassifier','score':cv_score9, 'metric':'roc_auc',\n",
    "                              'parameters':'n_estimators=30,max_depth=4',\n",
    "                              'commit':'CV 5 folds; determinate labels; test_cr_performance, drop test_cr_decision; time features; var74; fillna=-1; scale var46; var41; drop feats with low weight',\n",
    "                              'time':datetime.now(),\n",
    "                              'variables':'train9,cv_score9'},ignore_index = True)"
   ]
  },
  {
   "cell_type": "code",
   "execution_count": 210,
   "metadata": {},
   "outputs": [
    {
     "data": {
      "text/html": [
       "<div>\n",
       "<style scoped>\n",
       "    .dataframe tbody tr th:only-of-type {\n",
       "        vertical-align: middle;\n",
       "    }\n",
       "\n",
       "    .dataframe tbody tr th {\n",
       "        vertical-align: top;\n",
       "    }\n",
       "\n",
       "    .dataframe thead th {\n",
       "        text-align: right;\n",
       "    }\n",
       "</style>\n",
       "<table border=\"1\" class=\"dataframe\">\n",
       "  <thead>\n",
       "    <tr style=\"text-align: right;\">\n",
       "      <th></th>\n",
       "      <th>name</th>\n",
       "      <th>weight</th>\n",
       "    </tr>\n",
       "  </thead>\n",
       "  <tbody>\n",
       "    <tr>\n",
       "      <th>44</th>\n",
       "      <td>var45</td>\n",
       "      <td>54</td>\n",
       "    </tr>\n",
       "    <tr>\n",
       "      <th>1</th>\n",
       "      <td>client_id</td>\n",
       "      <td>40</td>\n",
       "    </tr>\n",
       "    <tr>\n",
       "      <th>38</th>\n",
       "      <td>var39</td>\n",
       "      <td>38</td>\n",
       "    </tr>\n",
       "    <tr>\n",
       "      <th>73</th>\n",
       "      <td>var74</td>\n",
       "      <td>33</td>\n",
       "    </tr>\n",
       "    <tr>\n",
       "      <th>40</th>\n",
       "      <td>var41</td>\n",
       "      <td>24</td>\n",
       "    </tr>\n",
       "    <tr>\n",
       "      <th>151</th>\n",
       "      <td>var154</td>\n",
       "      <td>21</td>\n",
       "    </tr>\n",
       "    <tr>\n",
       "      <th>107</th>\n",
       "      <td>var110</td>\n",
       "      <td>12</td>\n",
       "    </tr>\n",
       "    <tr>\n",
       "      <th>148</th>\n",
       "      <td>var151</td>\n",
       "      <td>12</td>\n",
       "    </tr>\n",
       "    <tr>\n",
       "      <th>17</th>\n",
       "      <td>var17</td>\n",
       "      <td>11</td>\n",
       "    </tr>\n",
       "    <tr>\n",
       "      <th>102</th>\n",
       "      <td>var105</td>\n",
       "      <td>11</td>\n",
       "    </tr>\n",
       "  </tbody>\n",
       "</table>\n",
       "</div>"
      ],
      "text/plain": [
       "          name  weight\n",
       "44       var45      54\n",
       "1    client_id      40\n",
       "38       var39      38\n",
       "73       var74      33\n",
       "40       var41      24\n",
       "151     var154      21\n",
       "107     var110      12\n",
       "148     var151      12\n",
       "17       var17      11\n",
       "102     var105      11"
      ]
     },
     "execution_count": 210,
     "metadata": {},
     "output_type": "execute_result"
    }
   ],
   "source": [
    "weights.sort_values(by='weight',ascending=False).head(10)"
   ]
  },
  {
   "cell_type": "markdown",
   "metadata": {},
   "source": [
    "Client_id"
   ]
  },
  {
   "cell_type": "code",
   "execution_count": 211,
   "metadata": {},
   "outputs": [],
   "source": [
    "client_id_val = train.client_id.value_counts().to_dict()\n",
    "train['client_id_num'] = train.client_id.apply(lambda x: client_id_val[x])"
   ]
  },
  {
   "cell_type": "code",
   "execution_count": 212,
   "metadata": {},
   "outputs": [
    {
     "data": {
      "text/plain": [
       "0.5980992765912385"
      ]
     },
     "execution_count": 212,
     "metadata": {},
     "output_type": "execute_result"
    }
   ],
   "source": [
    "train10 = train\n",
    "\n",
    "cv_score10 = cv_meth(train10.drop(columns=['dep_var']),y,LGBMClassifier(n_estimators=30,max_depth=4))\n",
    "\n",
    "cv_score10"
   ]
  },
  {
   "cell_type": "code",
   "execution_count": 213,
   "metadata": {},
   "outputs": [
    {
     "data": {
      "text/html": [
       "<div>\n",
       "<style scoped>\n",
       "    .dataframe tbody tr th:only-of-type {\n",
       "        vertical-align: middle;\n",
       "    }\n",
       "\n",
       "    .dataframe tbody tr th {\n",
       "        vertical-align: top;\n",
       "    }\n",
       "\n",
       "    .dataframe thead th {\n",
       "        text-align: right;\n",
       "    }\n",
       "</style>\n",
       "<table border=\"1\" class=\"dataframe\">\n",
       "  <thead>\n",
       "    <tr style=\"text-align: right;\">\n",
       "      <th></th>\n",
       "      <th>account_id</th>\n",
       "      <th>client_id</th>\n",
       "      <th>dep_var</th>\n",
       "      <th>var1</th>\n",
       "      <th>var3</th>\n",
       "      <th>var4</th>\n",
       "      <th>var5</th>\n",
       "      <th>var6</th>\n",
       "      <th>var7</th>\n",
       "      <th>var8</th>\n",
       "      <th>...</th>\n",
       "      <th>var74_18</th>\n",
       "      <th>var74_27</th>\n",
       "      <th>var74_41</th>\n",
       "      <th>var74_72</th>\n",
       "      <th>var74_29</th>\n",
       "      <th>var74_34</th>\n",
       "      <th>var74_23</th>\n",
       "      <th>var74_37</th>\n",
       "      <th>var74_49</th>\n",
       "      <th>client_id_num</th>\n",
       "    </tr>\n",
       "  </thead>\n",
       "  <tbody>\n",
       "    <tr>\n",
       "      <th>1</th>\n",
       "      <td>0</td>\n",
       "      <td>211807</td>\n",
       "      <td>0.0</td>\n",
       "      <td>1.0</td>\n",
       "      <td>1.0</td>\n",
       "      <td>1.0</td>\n",
       "      <td>1</td>\n",
       "      <td>0</td>\n",
       "      <td>1</td>\n",
       "      <td>0</td>\n",
       "      <td>...</td>\n",
       "      <td>0</td>\n",
       "      <td>0</td>\n",
       "      <td>0</td>\n",
       "      <td>0</td>\n",
       "      <td>0</td>\n",
       "      <td>0</td>\n",
       "      <td>0</td>\n",
       "      <td>0</td>\n",
       "      <td>0</td>\n",
       "      <td>1</td>\n",
       "    </tr>\n",
       "    <tr>\n",
       "      <th>3</th>\n",
       "      <td>0</td>\n",
       "      <td>193611</td>\n",
       "      <td>0.0</td>\n",
       "      <td>NaN</td>\n",
       "      <td>NaN</td>\n",
       "      <td>NaN</td>\n",
       "      <td>1</td>\n",
       "      <td>0</td>\n",
       "      <td>1</td>\n",
       "      <td>0</td>\n",
       "      <td>...</td>\n",
       "      <td>0</td>\n",
       "      <td>0</td>\n",
       "      <td>0</td>\n",
       "      <td>0</td>\n",
       "      <td>0</td>\n",
       "      <td>0</td>\n",
       "      <td>0</td>\n",
       "      <td>0</td>\n",
       "      <td>0</td>\n",
       "      <td>1</td>\n",
       "    </tr>\n",
       "    <tr>\n",
       "      <th>10</th>\n",
       "      <td>0</td>\n",
       "      <td>211812</td>\n",
       "      <td>0.0</td>\n",
       "      <td>1.0</td>\n",
       "      <td>1.0</td>\n",
       "      <td>1.0</td>\n",
       "      <td>1</td>\n",
       "      <td>0</td>\n",
       "      <td>1</td>\n",
       "      <td>0</td>\n",
       "      <td>...</td>\n",
       "      <td>0</td>\n",
       "      <td>0</td>\n",
       "      <td>0</td>\n",
       "      <td>0</td>\n",
       "      <td>0</td>\n",
       "      <td>0</td>\n",
       "      <td>0</td>\n",
       "      <td>0</td>\n",
       "      <td>0</td>\n",
       "      <td>2</td>\n",
       "    </tr>\n",
       "    <tr>\n",
       "      <th>11</th>\n",
       "      <td>0</td>\n",
       "      <td>211814</td>\n",
       "      <td>0.0</td>\n",
       "      <td>1.0</td>\n",
       "      <td>1.0</td>\n",
       "      <td>1.0</td>\n",
       "      <td>1</td>\n",
       "      <td>1</td>\n",
       "      <td>1</td>\n",
       "      <td>0</td>\n",
       "      <td>...</td>\n",
       "      <td>0</td>\n",
       "      <td>0</td>\n",
       "      <td>0</td>\n",
       "      <td>0</td>\n",
       "      <td>0</td>\n",
       "      <td>0</td>\n",
       "      <td>0</td>\n",
       "      <td>0</td>\n",
       "      <td>0</td>\n",
       "      <td>2</td>\n",
       "    </tr>\n",
       "    <tr>\n",
       "      <th>13</th>\n",
       "      <td>0</td>\n",
       "      <td>56232</td>\n",
       "      <td>0.0</td>\n",
       "      <td>1.0</td>\n",
       "      <td>1.0</td>\n",
       "      <td>1.0</td>\n",
       "      <td>1</td>\n",
       "      <td>0</td>\n",
       "      <td>1</td>\n",
       "      <td>0</td>\n",
       "      <td>...</td>\n",
       "      <td>0</td>\n",
       "      <td>0</td>\n",
       "      <td>0</td>\n",
       "      <td>0</td>\n",
       "      <td>0</td>\n",
       "      <td>0</td>\n",
       "      <td>0</td>\n",
       "      <td>0</td>\n",
       "      <td>0</td>\n",
       "      <td>3</td>\n",
       "    </tr>\n",
       "  </tbody>\n",
       "</table>\n",
       "<p>5 rows × 196 columns</p>\n",
       "</div>"
      ],
      "text/plain": [
       "    account_id  client_id  dep_var  var1  var3  var4  var5  var6  var7  var8  \\\n",
       "1            0     211807      0.0   1.0   1.0   1.0     1     0     1     0   \n",
       "3            0     193611      0.0   NaN   NaN   NaN     1     0     1     0   \n",
       "10           0     211812      0.0   1.0   1.0   1.0     1     0     1     0   \n",
       "11           0     211814      0.0   1.0   1.0   1.0     1     1     1     0   \n",
       "13           0      56232      0.0   1.0   1.0   1.0     1     0     1     0   \n",
       "\n",
       "    ...  var74_18  var74_27  var74_41  var74_72  var74_29  var74_34  var74_23  \\\n",
       "1   ...         0         0         0         0         0         0         0   \n",
       "3   ...         0         0         0         0         0         0         0   \n",
       "10  ...         0         0         0         0         0         0         0   \n",
       "11  ...         0         0         0         0         0         0         0   \n",
       "13  ...         0         0         0         0         0         0         0   \n",
       "\n",
       "    var74_37  var74_49  client_id_num  \n",
       "1          0         0              1  \n",
       "3          0         0              1  \n",
       "10         0         0              2  \n",
       "11         0         0              2  \n",
       "13         0         0              3  \n",
       "\n",
       "[5 rows x 196 columns]"
      ]
     },
     "execution_count": 213,
     "metadata": {},
     "output_type": "execute_result"
    }
   ],
   "source": [
    "train.head()"
   ]
  },
  {
   "cell_type": "code",
   "execution_count": 214,
   "metadata": {},
   "outputs": [
    {
     "data": {
      "text/html": [
       "<div>\n",
       "<style scoped>\n",
       "    .dataframe tbody tr th:only-of-type {\n",
       "        vertical-align: middle;\n",
       "    }\n",
       "\n",
       "    .dataframe tbody tr th {\n",
       "        vertical-align: top;\n",
       "    }\n",
       "\n",
       "    .dataframe thead th {\n",
       "        text-align: right;\n",
       "    }\n",
       "</style>\n",
       "<table border=\"1\" class=\"dataframe\">\n",
       "  <thead>\n",
       "    <tr style=\"text-align: right;\">\n",
       "      <th>client_id</th>\n",
       "      <th>311</th>\n",
       "      <th>545</th>\n",
       "      <th>715</th>\n",
       "      <th>1363</th>\n",
       "      <th>1462</th>\n",
       "      <th>2007</th>\n",
       "      <th>2895</th>\n",
       "      <th>2922</th>\n",
       "      <th>3466</th>\n",
       "      <th>3593</th>\n",
       "      <th>...</th>\n",
       "      <th>1185666</th>\n",
       "      <th>1185685</th>\n",
       "      <th>1185713</th>\n",
       "      <th>1185726</th>\n",
       "      <th>1185735</th>\n",
       "      <th>1185752</th>\n",
       "      <th>1185753</th>\n",
       "      <th>1185773</th>\n",
       "      <th>1185806</th>\n",
       "      <th>1185812</th>\n",
       "    </tr>\n",
       "    <tr>\n",
       "      <th>dep_var</th>\n",
       "      <th></th>\n",
       "      <th></th>\n",
       "      <th></th>\n",
       "      <th></th>\n",
       "      <th></th>\n",
       "      <th></th>\n",
       "      <th></th>\n",
       "      <th></th>\n",
       "      <th></th>\n",
       "      <th></th>\n",
       "      <th></th>\n",
       "      <th></th>\n",
       "      <th></th>\n",
       "      <th></th>\n",
       "      <th></th>\n",
       "      <th></th>\n",
       "      <th></th>\n",
       "      <th></th>\n",
       "      <th></th>\n",
       "      <th></th>\n",
       "      <th></th>\n",
       "    </tr>\n",
       "  </thead>\n",
       "  <tbody>\n",
       "    <tr>\n",
       "      <th>0.0</th>\n",
       "      <td>1</td>\n",
       "      <td>1</td>\n",
       "      <td>1</td>\n",
       "      <td>1</td>\n",
       "      <td>2</td>\n",
       "      <td>0</td>\n",
       "      <td>1</td>\n",
       "      <td>2</td>\n",
       "      <td>0</td>\n",
       "      <td>4</td>\n",
       "      <td>...</td>\n",
       "      <td>1</td>\n",
       "      <td>0</td>\n",
       "      <td>1</td>\n",
       "      <td>1</td>\n",
       "      <td>0</td>\n",
       "      <td>1</td>\n",
       "      <td>0</td>\n",
       "      <td>0</td>\n",
       "      <td>1</td>\n",
       "      <td>1</td>\n",
       "    </tr>\n",
       "    <tr>\n",
       "      <th>1.0</th>\n",
       "      <td>0</td>\n",
       "      <td>0</td>\n",
       "      <td>0</td>\n",
       "      <td>0</td>\n",
       "      <td>0</td>\n",
       "      <td>1</td>\n",
       "      <td>0</td>\n",
       "      <td>0</td>\n",
       "      <td>1</td>\n",
       "      <td>0</td>\n",
       "      <td>...</td>\n",
       "      <td>0</td>\n",
       "      <td>1</td>\n",
       "      <td>0</td>\n",
       "      <td>0</td>\n",
       "      <td>1</td>\n",
       "      <td>0</td>\n",
       "      <td>1</td>\n",
       "      <td>1</td>\n",
       "      <td>0</td>\n",
       "      <td>0</td>\n",
       "    </tr>\n",
       "  </tbody>\n",
       "</table>\n",
       "<p>2 rows × 19696 columns</p>\n",
       "</div>"
      ],
      "text/plain": [
       "client_id  311      545      715      1363     1462     2007     2895     \\\n",
       "dep_var                                                                    \n",
       "0.0              1        1        1        1        2        0        1   \n",
       "1.0              0        0        0        0        0        1        0   \n",
       "\n",
       "client_id  2922     3466     3593     ...  1185666  1185685  1185713  1185726  \\\n",
       "dep_var                               ...                                       \n",
       "0.0              2        0        4  ...        1        0        1        1   \n",
       "1.0              0        1        0  ...        0        1        0        0   \n",
       "\n",
       "client_id  1185735  1185752  1185753  1185773  1185806  1185812  \n",
       "dep_var                                                          \n",
       "0.0              0        1        0        0        1        1  \n",
       "1.0              1        0        1        1        0        0  \n",
       "\n",
       "[2 rows x 19696 columns]"
      ]
     },
     "execution_count": 214,
     "metadata": {},
     "output_type": "execute_result"
    }
   ],
   "source": [
    "pd.crosstab(df['dep_var'],df['client_id'])"
   ]
  },
  {
   "cell_type": "code",
   "execution_count": 215,
   "metadata": {},
   "outputs": [
    {
     "data": {
      "text/plain": [
       "(array([8.014e+03, 2.090e+02, 5.000e+01, 1.500e+01, 1.200e+01, 0.000e+00,\n",
       "        8.000e+00, 0.000e+00, 0.000e+00, 5.000e+00]),\n",
       " array([ 1. ,  2.1,  3.2,  4.3,  5.4,  6.5,  7.6,  8.7,  9.8, 10.9, 12. ]),\n",
       " <a list of 10 Patch objects>)"
      ]
     },
     "execution_count": 215,
     "metadata": {},
     "output_type": "execute_result"
    },
    {
     "data": {
      "image/png": "[encoded data removed]",
      "text/plain": [
       "<Figure size 432x288 with 1 Axes>"
      ]
     },
     "metadata": {
      "needs_background": "light"
     },
     "output_type": "display_data"
    }
   ],
   "source": [
    "dis_plot_d = train[(train.dep_var == 1)]['client_id_num']\n",
    "plt.hist(dis_plot_d)"
   ]
  },
  {
   "cell_type": "markdown",
   "metadata": {},
   "source": [
    "оверфит"
   ]
  },
  {
   "cell_type": "code",
   "execution_count": 216,
   "metadata": {},
   "outputs": [],
   "source": [
    "# # the same before with exact condition\n",
    "# train[(train['client_id_num'] > 1)].groupby(['client_id_num','dep_var'])\\\n",
    "#     .agg({'dep_var' : 'count'})"
   ]
  },
  {
   "cell_type": "code",
   "execution_count": 217,
   "metadata": {},
   "outputs": [
    {
     "data": {
      "text/plain": [
       "\"num_0_1_client = train.groupby(['client_id','dep_var'])['dep_var'].count().to_dict()\\n\\n        client_count_0_dv = train[(train.dep_var == 0)].groupby('client_id')['dep_var'].count().to_dict()\\n\\n        client_count_1_dv = train[(train.dep_var == 1)].groupby('client_id')['dep_var'].count().to_dict()\\n\\n        train['client_count_1_dv'] = train.client_id.apply(\\n            lambda x: client_count_1_dv[x] if x in client_count_1_dv.keys() else 0)\\n\\n        train['client_count_0_dv'] = train.client_id.apply(\\n            lambda x: client_count_0_dv[x] if x in client_count_0_dv.keys() else 0)\\n\\n        train11 = train\\n\\n        cv_score11 = cv_meth(train11.drop(columns=['dep_var']),y,LGBMClassifier(n_estimators=30,max_depth=4))\""
      ]
     },
     "execution_count": 217,
     "metadata": {},
     "output_type": "execute_result"
    }
   ],
   "source": [
    "'''num_0_1_client = train.groupby(['client_id','dep_var'])['dep_var'].count().to_dict()\n",
    "\n",
    "        client_count_0_dv = train[(train.dep_var == 0)].groupby('client_id')['dep_var'].count().to_dict()\n",
    "\n",
    "        client_count_1_dv = train[(train.dep_var == 1)].groupby('client_id')['dep_var'].count().to_dict()\n",
    "\n",
    "        train['client_count_1_dv'] = train.client_id.apply(\n",
    "            lambda x: client_count_1_dv[x] if x in client_count_1_dv.keys() else 0)\n",
    "\n",
    "        train['client_count_0_dv'] = train.client_id.apply(\n",
    "            lambda x: client_count_0_dv[x] if x in client_count_0_dv.keys() else 0)\n",
    "\n",
    "        train11 = train\n",
    "\n",
    "        cv_score11 = cv_meth(train11.drop(columns=['dep_var']),y,LGBMClassifier(n_estimators=30,max_depth=4))'''"
   ]
  },
  {
   "cell_type": "markdown",
   "metadata": {},
   "source": [
    "train.var154"
   ]
  },
  {
   "cell_type": "code",
   "execution_count": 218,
   "metadata": {},
   "outputs": [
    {
     "data": {
      "text/plain": [
       "<matplotlib.axes._subplots.AxesSubplot at 0x7f167ff5d5f8>"
      ]
     },
     "execution_count": 218,
     "metadata": {},
     "output_type": "execute_result"
    },
    {
     "data": {
      "image/png": "[encoded data removed]",
      "text/plain": [
       "<Figure size 432x288 with 1 Axes>"
      ]
     },
     "metadata": {
      "needs_background": "light"
     },
     "output_type": "display_data"
    }
   ],
   "source": [
    "sns.distplot(train.var154.value_counts())"
   ]
  },
  {
   "cell_type": "code",
   "execution_count": 219,
   "metadata": {},
   "outputs": [
    {
     "data": {
      "text/plain": [
       "<matplotlib.axes._subplots.AxesSubplot at 0x7f1674b7d668>"
      ]
     },
     "execution_count": 219,
     "metadata": {},
     "output_type": "execute_result"
    },
    {
     "data": {
      "image/png": "[encoded data removed]",
      "text/plain": [
       "<Figure size 432x288 with 1 Axes>"
      ]
     },
     "metadata": {
      "needs_background": "light"
     },
     "output_type": "display_data"
    }
   ],
   "source": [
    "sns.distplot(train[train.dep_var == 0].var154.value_counts())"
   ]
  },
  {
   "cell_type": "code",
   "execution_count": 220,
   "metadata": {},
   "outputs": [
    {
     "data": {
      "text/plain": [
       " 3     9093\n",
       " 6     1550\n",
       " 5     1100\n",
       " 4     1055\n",
       " 7      901\n",
       " 10     480\n",
       " 8      393\n",
       " 9      257\n",
       " 2      110\n",
       " 12      69\n",
       " 11      66\n",
       " 1       22\n",
       "-7       16\n",
       "-11      13\n",
       "-8       12\n",
       "-5       11\n",
       " 13      11\n",
       "-12       4\n",
       "-4        3\n",
       "-2        3\n",
       "-1        2\n",
       "-3        2\n",
       " 26       1\n",
       "-6        1\n",
       "-16       1\n",
       " 14       1\n",
       "Name: var154, dtype: int64"
      ]
     },
     "execution_count": 220,
     "metadata": {},
     "output_type": "execute_result"
    }
   ],
   "source": [
    "train[train.dep_var == 0].var154.value_counts()"
   ]
  },
  {
   "cell_type": "code",
   "execution_count": 221,
   "metadata": {},
   "outputs": [
    {
     "data": {
      "text/plain": [
       "31"
      ]
     },
     "execution_count": 221,
     "metadata": {},
     "output_type": "execute_result"
    }
   ],
   "source": [
    "len(train.var154.unique())"
   ]
  },
  {
   "cell_type": "code",
   "execution_count": 222,
   "metadata": {},
   "outputs": [
    {
     "data": {
      "text/plain": [
       "1         7\n",
       "3         3\n",
       "10        3\n",
       "11        3\n",
       "13        3\n",
       "23        3\n",
       "31        9\n",
       "34        6\n",
       "37        6\n",
       "38        7\n",
       "47       10\n",
       "51        3\n",
       "52        3\n",
       "55        3\n",
       "58        6\n",
       "59        6\n",
       "70        3\n",
       "77       10\n",
       "83        3\n",
       "93        9\n",
       "101       3\n",
       "107       3\n",
       "114       3\n",
       "116       3\n",
       "121       3\n",
       "133       3\n",
       "160       6\n",
       "163       3\n",
       "172       3\n",
       "174       6\n",
       "         ..\n",
       "83661     5\n",
       "83681     3\n",
       "83700     3\n",
       "83716     3\n",
       "83718     3\n",
       "83741     3\n",
       "83766     3\n",
       "83770     3\n",
       "83788     4\n",
       "83818     3\n",
       "83820     7\n",
       "83828     3\n",
       "83830     3\n",
       "83857     5\n",
       "83874     3\n",
       "83898     3\n",
       "83905     3\n",
       "83978     3\n",
       "84002     3\n",
       "84015     3\n",
       "84022     3\n",
       "84030     3\n",
       "84032     3\n",
       "84039     3\n",
       "84048     3\n",
       "84061     5\n",
       "84066     3\n",
       "84106     3\n",
       "84121     3\n",
       "84126     3\n",
       "Name: var154, Length: 23490, dtype: int64"
      ]
     },
     "execution_count": 222,
     "metadata": {},
     "output_type": "execute_result"
    }
   ],
   "source": [
    "train.var154"
   ]
  },
  {
   "cell_type": "code",
   "execution_count": 223,
   "metadata": {},
   "outputs": [
    {
     "data": {
      "text/html": [
       "<div>\n",
       "<style scoped>\n",
       "    .dataframe tbody tr th:only-of-type {\n",
       "        vertical-align: middle;\n",
       "    }\n",
       "\n",
       "    .dataframe tbody tr th {\n",
       "        vertical-align: top;\n",
       "    }\n",
       "\n",
       "    .dataframe thead th {\n",
       "        text-align: right;\n",
       "    }\n",
       "</style>\n",
       "<table border=\"1\" class=\"dataframe\">\n",
       "  <thead>\n",
       "    <tr style=\"text-align: right;\">\n",
       "      <th></th>\n",
       "      <th></th>\n",
       "      <th>dep_var</th>\n",
       "    </tr>\n",
       "    <tr>\n",
       "      <th>var154</th>\n",
       "      <th>dep_var</th>\n",
       "      <th></th>\n",
       "    </tr>\n",
       "  </thead>\n",
       "  <tbody>\n",
       "    <tr>\n",
       "      <th>-19</th>\n",
       "      <th>1.0</th>\n",
       "      <td>1</td>\n",
       "    </tr>\n",
       "    <tr>\n",
       "      <th>-17</th>\n",
       "      <th>1.0</th>\n",
       "      <td>1</td>\n",
       "    </tr>\n",
       "    <tr>\n",
       "      <th>-16</th>\n",
       "      <th>0.0</th>\n",
       "      <td>1</td>\n",
       "    </tr>\n",
       "    <tr>\n",
       "      <th rowspan=\"2\" valign=\"top\">-12</th>\n",
       "      <th>0.0</th>\n",
       "      <td>4</td>\n",
       "    </tr>\n",
       "    <tr>\n",
       "      <th>1.0</th>\n",
       "      <td>3</td>\n",
       "    </tr>\n",
       "    <tr>\n",
       "      <th rowspan=\"2\" valign=\"top\">-11</th>\n",
       "      <th>0.0</th>\n",
       "      <td>13</td>\n",
       "    </tr>\n",
       "    <tr>\n",
       "      <th>1.0</th>\n",
       "      <td>7</td>\n",
       "    </tr>\n",
       "    <tr>\n",
       "      <th>-10</th>\n",
       "      <th>1.0</th>\n",
       "      <td>2</td>\n",
       "    </tr>\n",
       "    <tr>\n",
       "      <th rowspan=\"2\" valign=\"top\">-8</th>\n",
       "      <th>0.0</th>\n",
       "      <td>12</td>\n",
       "    </tr>\n",
       "    <tr>\n",
       "      <th>1.0</th>\n",
       "      <td>10</td>\n",
       "    </tr>\n",
       "    <tr>\n",
       "      <th rowspan=\"2\" valign=\"top\">-7</th>\n",
       "      <th>0.0</th>\n",
       "      <td>16</td>\n",
       "    </tr>\n",
       "    <tr>\n",
       "      <th>1.0</th>\n",
       "      <td>7</td>\n",
       "    </tr>\n",
       "    <tr>\n",
       "      <th rowspan=\"2\" valign=\"top\">-6</th>\n",
       "      <th>0.0</th>\n",
       "      <td>1</td>\n",
       "    </tr>\n",
       "    <tr>\n",
       "      <th>1.0</th>\n",
       "      <td>2</td>\n",
       "    </tr>\n",
       "    <tr>\n",
       "      <th rowspan=\"2\" valign=\"top\">-5</th>\n",
       "      <th>0.0</th>\n",
       "      <td>11</td>\n",
       "    </tr>\n",
       "    <tr>\n",
       "      <th>1.0</th>\n",
       "      <td>3</td>\n",
       "    </tr>\n",
       "    <tr>\n",
       "      <th>-4</th>\n",
       "      <th>0.0</th>\n",
       "      <td>3</td>\n",
       "    </tr>\n",
       "    <tr>\n",
       "      <th rowspan=\"2\" valign=\"top\">-3</th>\n",
       "      <th>0.0</th>\n",
       "      <td>2</td>\n",
       "    </tr>\n",
       "    <tr>\n",
       "      <th>1.0</th>\n",
       "      <td>1</td>\n",
       "    </tr>\n",
       "    <tr>\n",
       "      <th rowspan=\"2\" valign=\"top\">-2</th>\n",
       "      <th>0.0</th>\n",
       "      <td>3</td>\n",
       "    </tr>\n",
       "    <tr>\n",
       "      <th>1.0</th>\n",
       "      <td>2</td>\n",
       "    </tr>\n",
       "    <tr>\n",
       "      <th rowspan=\"2\" valign=\"top\">-1</th>\n",
       "      <th>0.0</th>\n",
       "      <td>2</td>\n",
       "    </tr>\n",
       "    <tr>\n",
       "      <th>1.0</th>\n",
       "      <td>2</td>\n",
       "    </tr>\n",
       "    <tr>\n",
       "      <th rowspan=\"2\" valign=\"top\">1</th>\n",
       "      <th>0.0</th>\n",
       "      <td>22</td>\n",
       "    </tr>\n",
       "    <tr>\n",
       "      <th>1.0</th>\n",
       "      <td>20</td>\n",
       "    </tr>\n",
       "    <tr>\n",
       "      <th rowspan=\"2\" valign=\"top\">2</th>\n",
       "      <th>0.0</th>\n",
       "      <td>110</td>\n",
       "    </tr>\n",
       "    <tr>\n",
       "      <th>1.0</th>\n",
       "      <td>76</td>\n",
       "    </tr>\n",
       "    <tr>\n",
       "      <th rowspan=\"2\" valign=\"top\">3</th>\n",
       "      <th>0.0</th>\n",
       "      <td>9093</td>\n",
       "    </tr>\n",
       "    <tr>\n",
       "      <th>1.0</th>\n",
       "      <td>4477</td>\n",
       "    </tr>\n",
       "    <tr>\n",
       "      <th rowspan=\"2\" valign=\"top\">4</th>\n",
       "      <th>0.0</th>\n",
       "      <td>1055</td>\n",
       "    </tr>\n",
       "    <tr>\n",
       "      <th>1.0</th>\n",
       "      <td>868</td>\n",
       "    </tr>\n",
       "    <tr>\n",
       "      <th rowspan=\"2\" valign=\"top\">5</th>\n",
       "      <th>0.0</th>\n",
       "      <td>1100</td>\n",
       "    </tr>\n",
       "    <tr>\n",
       "      <th>1.0</th>\n",
       "      <td>800</td>\n",
       "    </tr>\n",
       "    <tr>\n",
       "      <th rowspan=\"2\" valign=\"top\">6</th>\n",
       "      <th>0.0</th>\n",
       "      <td>1550</td>\n",
       "    </tr>\n",
       "    <tr>\n",
       "      <th>1.0</th>\n",
       "      <td>642</td>\n",
       "    </tr>\n",
       "    <tr>\n",
       "      <th rowspan=\"2\" valign=\"top\">7</th>\n",
       "      <th>0.0</th>\n",
       "      <td>901</td>\n",
       "    </tr>\n",
       "    <tr>\n",
       "      <th>1.0</th>\n",
       "      <td>634</td>\n",
       "    </tr>\n",
       "    <tr>\n",
       "      <th rowspan=\"2\" valign=\"top\">8</th>\n",
       "      <th>0.0</th>\n",
       "      <td>393</td>\n",
       "    </tr>\n",
       "    <tr>\n",
       "      <th>1.0</th>\n",
       "      <td>260</td>\n",
       "    </tr>\n",
       "    <tr>\n",
       "      <th rowspan=\"2\" valign=\"top\">9</th>\n",
       "      <th>0.0</th>\n",
       "      <td>257</td>\n",
       "    </tr>\n",
       "    <tr>\n",
       "      <th>1.0</th>\n",
       "      <td>143</td>\n",
       "    </tr>\n",
       "    <tr>\n",
       "      <th rowspan=\"2\" valign=\"top\">10</th>\n",
       "      <th>0.0</th>\n",
       "      <td>480</td>\n",
       "    </tr>\n",
       "    <tr>\n",
       "      <th>1.0</th>\n",
       "      <td>262</td>\n",
       "    </tr>\n",
       "    <tr>\n",
       "      <th rowspan=\"2\" valign=\"top\">11</th>\n",
       "      <th>0.0</th>\n",
       "      <td>66</td>\n",
       "    </tr>\n",
       "    <tr>\n",
       "      <th>1.0</th>\n",
       "      <td>48</td>\n",
       "    </tr>\n",
       "    <tr>\n",
       "      <th rowspan=\"2\" valign=\"top\">12</th>\n",
       "      <th>0.0</th>\n",
       "      <td>69</td>\n",
       "    </tr>\n",
       "    <tr>\n",
       "      <th>1.0</th>\n",
       "      <td>36</td>\n",
       "    </tr>\n",
       "    <tr>\n",
       "      <th rowspan=\"2\" valign=\"top\">13</th>\n",
       "      <th>0.0</th>\n",
       "      <td>11</td>\n",
       "    </tr>\n",
       "    <tr>\n",
       "      <th>1.0</th>\n",
       "      <td>3</td>\n",
       "    </tr>\n",
       "    <tr>\n",
       "      <th>14</th>\n",
       "      <th>0.0</th>\n",
       "      <td>1</td>\n",
       "    </tr>\n",
       "    <tr>\n",
       "      <th>18</th>\n",
       "      <th>1.0</th>\n",
       "      <td>1</td>\n",
       "    </tr>\n",
       "    <tr>\n",
       "      <th>25</th>\n",
       "      <th>1.0</th>\n",
       "      <td>1</td>\n",
       "    </tr>\n",
       "    <tr>\n",
       "      <th rowspan=\"2\" valign=\"top\">26</th>\n",
       "      <th>0.0</th>\n",
       "      <td>1</td>\n",
       "    </tr>\n",
       "    <tr>\n",
       "      <th>1.0</th>\n",
       "      <td>1</td>\n",
       "    </tr>\n",
       "  </tbody>\n",
       "</table>\n",
       "</div>"
      ],
      "text/plain": [
       "                dep_var\n",
       "var154 dep_var         \n",
       "-19    1.0            1\n",
       "-17    1.0            1\n",
       "-16    0.0            1\n",
       "-12    0.0            4\n",
       "       1.0            3\n",
       "-11    0.0           13\n",
       "       1.0            7\n",
       "-10    1.0            2\n",
       "-8     0.0           12\n",
       "       1.0           10\n",
       "-7     0.0           16\n",
       "       1.0            7\n",
       "-6     0.0            1\n",
       "       1.0            2\n",
       "-5     0.0           11\n",
       "       1.0            3\n",
       "-4     0.0            3\n",
       "-3     0.0            2\n",
       "       1.0            1\n",
       "-2     0.0            3\n",
       "       1.0            2\n",
       "-1     0.0            2\n",
       "       1.0            2\n",
       " 1     0.0           22\n",
       "       1.0           20\n",
       " 2     0.0          110\n",
       "       1.0           76\n",
       " 3     0.0         9093\n",
       "       1.0         4477\n",
       " 4     0.0         1055\n",
       "       1.0          868\n",
       " 5     0.0         1100\n",
       "       1.0          800\n",
       " 6     0.0         1550\n",
       "       1.0          642\n",
       " 7     0.0          901\n",
       "       1.0          634\n",
       " 8     0.0          393\n",
       "       1.0          260\n",
       " 9     0.0          257\n",
       "       1.0          143\n",
       " 10    0.0          480\n",
       "       1.0          262\n",
       " 11    0.0           66\n",
       "       1.0           48\n",
       " 12    0.0           69\n",
       "       1.0           36\n",
       " 13    0.0           11\n",
       "       1.0            3\n",
       " 14    0.0            1\n",
       " 18    1.0            1\n",
       " 25    1.0            1\n",
       " 26    0.0            1\n",
       "       1.0            1"
      ]
     },
     "execution_count": 223,
     "metadata": {},
     "output_type": "execute_result"
    }
   ],
   "source": [
    "train.groupby(['var154','dep_var'])\\\n",
    "     .agg({'dep_var' : 'count'})"
   ]
  },
  {
   "cell_type": "code",
   "execution_count": 224,
   "metadata": {},
   "outputs": [],
   "source": [
    "def tr_ts_split(data,target):\n",
    "    cv = KFold(random_state=17,n_splits=5,shuffle=True)\n",
    "    for train_ind, val_ind in cv.split(data, target):\n",
    "        X_train_ = data.iloc[train_ind]\n",
    "        y_train_ = target.iloc[train_ind]\n",
    "        X_val_ = data.iloc[val_ind]\n",
    "        y_val_ = target.iloc[val_ind]\n",
    "    return X_train_, y_train_, X_val_, y_val_"
   ]
  },
  {
   "cell_type": "code",
   "execution_count": 263,
   "metadata": {},
   "outputs": [],
   "source": [
    "def make_prediction(data, w_0_feat,ind=True,clf=None):\n",
    "\n",
    "    data = data.drop(columns=['test_cr_performance','test_cr_decision'])\n",
    "    data.time_msw = pd.to_datetime(data.time_msw)\n",
    "    data['start_time_s'] = data['time_msw'].apply(lambda ts: \n",
    "                                                          10000 * ts.hour + ts.minute*100 + ts.second).astype('int')\n",
    "    data['month_verif'] = data['time_msw'].apply(lambda ts:ts.month).astype('int')\n",
    "    data['hour'] = data['time_msw'].apply(lambda ts:ts.hour).astype('int')\n",
    "    data = data.drop(columns=['time_msw'])\n",
    "    data = data.drop(columns=['month_verif'])\n",
    "    \n",
    "    for v in top_var74:\n",
    "        data['var74_' + str(v).replace(' ','')] = data['var74'].apply(lambda x: 1 if str(v) in str(x) else 0)\n",
    "        \n",
    "    client_id_val = data.client_id.value_counts().to_dict()\n",
    "    data['client_id_num'] = data.client_id.apply(lambda x: client_id_val[x])\n",
    "     \n",
    "    object_feat = []\n",
    "    for col in data.columns:\n",
    "        if (data[col].dtypes == object):\n",
    "            object_feat.append(col)\n",
    "    data[object_feat] = data[object_feat].fillna('unknown')\n",
    "    for i in object_feat:\n",
    "        data[i] = pd.factorize(data[i])[0]\n",
    "\n",
    "        \n",
    "    data = data.drop(columns=['var46']);\n",
    "    data = data.drop(columns=w_0_feat);\n",
    "    \n",
    "    for col in data.drop(columns=['dep_var']).columns:\n",
    "        data[col] = data[col].fillna(data[col].median())\n",
    "    \n",
    "    if ind:\n",
    "        ind = data[data.dep_var.isna() == False ].index\n",
    "        train = data.loc[ind]\n",
    "        valid = data.drop(index=ind)\n",
    "        y_train = train.dep_var\n",
    "    #     не определено\n",
    "        y_val = valid.dep_var.values\n",
    "        X_train = train.drop(columns=['dep_var'])\n",
    "        X_val = valid.drop(columns=['dep_var'])\n",
    "    else:\n",
    "        X_train, y_train, X_val, y_val = tr_ts_split(data.drop(columns=['dep_var']),data.dep_var)\n",
    "        \n",
    "    ss = StandardScaler()\n",
    "    scale_train_var41 = X_train.var41.values.reshape(-1, 1)\n",
    "    scale_train_var41 = ss.fit_transform(scale_train_var41)\n",
    "    \n",
    "    scale_val_var41 = X_val.var41.values.reshape(-1, 1)\n",
    "    scale_val_var41 = ss.transform(scale_val_var41)\n",
    "    \n",
    "    X_train.var41 = scale_train_var41\n",
    "    X_val.var41 = scale_val_var41\n",
    "    \n",
    "    if clf==None:\n",
    "        clf = LGBMClassifier(n_estimators=30,max_depth=4)\n",
    "    else:\n",
    "        clf = clf\n",
    "    clf.fit(X_train,y_train)\n",
    "    y_pred = clf.predict(X_val)\n",
    "    \n",
    "    return y_pred,y_val"
   ]
  },
  {
   "cell_type": "code",
   "execution_count": 239,
   "metadata": {},
   "outputs": [],
   "source": [
    "y_pred,y_val = make_prediction(df,w_0_feat)\n",
    "train = df.loc[ind]\n",
    "ind_val = df[df.dep_var.isna() == True].index\n",
    "valid = df.loc[ind_val]"
   ]
  },
  {
   "cell_type": "code",
   "execution_count": 243,
   "metadata": {},
   "outputs": [
    {
     "data": {
      "text/plain": [
       "((60640, 157), 60640)"
      ]
     },
     "execution_count": 243,
     "metadata": {},
     "output_type": "execute_result"
    }
   ],
   "source": [
    "valid.shape, len(y_pred)"
   ]
  },
  {
   "cell_type": "code",
   "execution_count": 244,
   "metadata": {},
   "outputs": [
    {
     "data": {
      "text/plain": [
       "array([0., 0., 0., ..., 0., 0., 0.])"
      ]
     },
     "execution_count": 244,
     "metadata": {},
     "output_type": "execute_result"
    }
   ],
   "source": [
    "y_pred"
   ]
  },
  {
   "cell_type": "code",
   "execution_count": 245,
   "metadata": {},
   "outputs": [],
   "source": [
    "valid.dep_var = y_pred"
   ]
  },
  {
   "cell_type": "code",
   "execution_count": 246,
   "metadata": {},
   "outputs": [
    {
     "data": {
      "text/plain": [
       "False"
      ]
     },
     "execution_count": 246,
     "metadata": {},
     "output_type": "execute_result"
    }
   ],
   "source": [
    "valid.dep_var.isna().any()"
   ]
  },
  {
   "cell_type": "code",
   "execution_count": 247,
   "metadata": {},
   "outputs": [],
   "source": [
    "df = pd.concat([train,valid])"
   ]
  },
  {
   "cell_type": "code",
   "execution_count": 248,
   "metadata": {},
   "outputs": [
    {
     "data": {
      "text/plain": [
       "False"
      ]
     },
     "execution_count": 248,
     "metadata": {},
     "output_type": "execute_result"
    }
   ],
   "source": [
    "df.dep_var.isna().any()"
   ]
  },
  {
   "cell_type": "code",
   "execution_count": 249,
   "metadata": {},
   "outputs": [
    {
     "data": {
      "text/plain": [
       "(array([73751.,     0.,     0.,     0.,     0.,     0.,     0.,     0.,\n",
       "            0., 10379.]),\n",
       " array([0. , 0.1, 0.2, 0.3, 0.4, 0.5, 0.6, 0.7, 0.8, 0.9, 1. ]),\n",
       " <a list of 10 Patch objects>)"
      ]
     },
     "execution_count": 249,
     "metadata": {},
     "output_type": "execute_result"
    },
    {
     "data": {
      "image/png": "[encoded data removed]",
      "text/plain": [
       "<Figure size 432x288 with 1 Axes>"
      ]
     },
     "metadata": {
      "needs_background": "light"
     },
     "output_type": "display_data"
    }
   ],
   "source": [
    "plt.hist(df.dep_var)"
   ]
  },
  {
   "cell_type": "code",
   "execution_count": 250,
   "metadata": {},
   "outputs": [],
   "source": [
    "def make_pred(X,y,model):\n",
    "    results = []\n",
    "    X_train, X_test, y_train, y_test = train_test_split(X,y,test_size=0.3,random_state=17)\n",
    "    model.fit(X_train,y_train)\n",
    "    y_pred = model.predict(X_test)\n",
    "    return y_test, y_pred"
   ]
  },
  {
   "cell_type": "code",
   "execution_count": 251,
   "metadata": {},
   "outputs": [],
   "source": [
    "def plot_conf_matrix(y_pred,y_test,title):\n",
    "    plt.figure()\n",
    "    grad_ens_conf_matrix = confusion_matrix(y_test, y_pred)\n",
    "    sns.heatmap(grad_ens_conf_matrix, annot=True,  fmt='')\n",
    "    plt.title(title)"
   ]
  },
  {
   "cell_type": "code",
   "execution_count": 252,
   "metadata": {},
   "outputs": [],
   "source": [
    "data = df"
   ]
  },
  {
   "cell_type": "code",
   "execution_count": 253,
   "metadata": {},
   "outputs": [],
   "source": [
    "y_pred,y_test = make_prediction(data,w_0_feat,False)"
   ]
  },
  {
   "cell_type": "code",
   "execution_count": 254,
   "metadata": {},
   "outputs": [
    {
     "data": {
      "image/png": "[encoded data removed]",
      "text/plain": [
       "<Figure size 432x288 with 2 Axes>"
      ]
     },
     "metadata": {
      "needs_background": "light"
     },
     "output_type": "display_data"
    }
   ],
   "source": [
    "plot_conf_matrix(y_pred,y_test,'LGBM confusion matrix')"
   ]
  },
  {
   "cell_type": "code",
   "execution_count": 255,
   "metadata": {},
   "outputs": [
    {
     "name": "stdout",
     "output_type": "stream",
     "text": [
      "ROC-AUC = 0.5617427519247443\n"
     ]
    }
   ],
   "source": [
    "roc_auc = roc_auc_score(y_test,y_pred)\n",
    "print('ROC-AUC =',roc_auc)"
   ]
  },
  {
   "cell_type": "code",
   "execution_count": 256,
   "metadata": {},
   "outputs": [],
   "source": [
    "fpr, tpr, threshold = roc_curve(y_test, y_pred)\n",
    "roc_auc = auc(fpr, tpr)"
   ]
  },
  {
   "cell_type": "code",
   "execution_count": 257,
   "metadata": {},
   "outputs": [
    {
     "data": {
      "image/png": "[encoded data removed]",
      "text/plain": [
       "<Figure size 432x288 with 1 Axes>"
      ]
     },
     "metadata": {
      "needs_background": "light"
     },
     "output_type": "display_data"
    }
   ],
   "source": [
    "plt.plot(fpr, tpr, 'b', label = 'AUC = %0.2f' % roc_auc)\n",
    "plt.legend(loc = 'lower right')\n",
    "plt.plot([0, 1], [0, 1],'r--')\n",
    "plt.xlim([0, 1])\n",
    "plt.ylim([0, 1])\n",
    "plt.ylabel('TPR')\n",
    "plt.xlabel('FPR')\n",
    "plt.show()"
   ]
  }
 ],
 "metadata": {
  "kernelspec": {
   "display_name": "Python 3",
   "language": "python",
   "name": "python3"
  }
 },
 "nbformat": 4,
 "nbformat_minor": 2
}
